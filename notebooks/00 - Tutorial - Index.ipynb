{
 "cells": [
  {
   "cell_type": "markdown",
   "metadata": {},
   "source": [
    "**Source of the materials**: Biopython cookbook (adapted)\n",
    "<font color='red'>Status: Draft</font>"
   ]
  },
  {
   "cell_type": "markdown",
   "metadata": {},
   "source": [
    "<img src=\"biopython.jpg\">"
   ]
  },
  {
   "cell_type": "markdown",
   "metadata": {},
   "source": [
    "# Biopython\n",
    "Tutorial and Cookbook\n",
    "--------------------\n",
    "[1 - Introduction](01 - Introduction.ipynb)\n",
    "\n",
    "[2 - Quick Start](02 - Quick Start.ipynb)\n",
    "\n",
    "[3 - Sequence Objects.ipynb](Sequence Objects.ipynb)\n",
    "\n",
    "[4 - Sequence Annotation objects](04 - Sequence Annotation objects.ipynb)\n",
    "\n",
    "[5 - Sequence Input and Output](05 - Sequence Input and Output.ipynb)\n",
    "\n",
    "[6 - Multiple Sequence Alignment objects](06 - Multiple Sequence Alignment objects.ipynb)\n",
    "\n",
    "[7 - Blast](07 - Blast.ipynb)\n",
    "\n",
    "[8 - BLAST and other sequence search tools (experimental code)](08 - BLAST and other sequence search tools - experimental code.ipynb)\n",
    "\n",
    "[9 - Accessing NCBI’s Entrez databases](09 - Accessing NCBI’s Entrez databases.ipynb)\n",
    "\n",
    "[10 - Swiss-Prot and ExPASy](10 - Swiss-Prot and ExPASy.ipynb)\n",
    "\n",
    "[11 - Bio.PopGen - Population Genetics](11 - Bio.PopGen - Population Genetics.ipynb)\n",
    "\n",
    "[12 - Phylogenetics with Bio.Phylo](12 - Phylogenetics with Bio.Phylo.ipynb)\n",
    "\n",
    "[13 - Sequence motif analysis using Bio.motifs](13 - Sequence motif analysis using Bio.motifs.ipynb)\n",
    "\n",
    "[14 - Cluster Analysis](14 - Cluster Analysis.ipynb)\n",
    "\n",
    "[15 - Supervised learning methods](15 - Supervised learning methods.ipynb)\n",
    "\n",
    "[16 - Graphics including GenomeDiagram](16 - Graphics including GenomeDiagram.ipynb)\n",
    "\n",
    "[17 - KEGG](17 - KEGG.ipynb)\n",
    "\n",
    "[18 - Cookbook – Cool things to do with it](18 - Cookbook – Cool things to do with it.ipynb)\n",
    "\n",
    "[19 - The Biopython testing](19 - The Biopython testing.ipynb)\n",
    "\n",
    "[20 - Advanced](20 - Advanced.ipynb)\n",
    "\n",
    "[21 - Where to go from here – contributing to Biopython](21 - Where to go from here – contributing to Biopython.ipynb)\n",
    "\n",
    "[22 - Appendix, Useful stuff about Python](22 - Appendix, Useful stuff about Python.ipynb)\n",
    "\n",
    "[Credits](99 - Credits.ipynb)\n",
    "\n",
    "[References](99 - References.ipynb)\n"
   ]
  }
 ],
 "metadata": {
  "kernelspec": {
   "display_name": "Python 3",
   "language": "python",
   "name": "python3"
  },
  "language_info": {
   "codemirror_mode": {
    "name": "ipython",
    "version": 3
   },
   "file_extension": ".py",
   "mimetype": "text/x-python",
   "name": "python",
   "nbconvert_exporter": "python",
   "pygments_lexer": "ipython3",
   "version": "3.5.1"
  }
 },
 "nbformat": 4,
 "nbformat_minor": 0
}
