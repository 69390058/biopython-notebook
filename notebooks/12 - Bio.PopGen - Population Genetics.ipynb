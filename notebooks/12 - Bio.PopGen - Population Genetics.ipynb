{
 "metadata": {
  "name": "",
  "signature": "sha256:f34f15ddf8f68b6be0d7cdfbaa7122aaeaca2cdbfc8901e00c8b9f777a280dee"
 },
 "nbformat": 3,
 "nbformat_minor": 0,
 "worksheets": [
  {
   "cells": [
    {
     "cell_type": "heading",
     "level": 1,
     "metadata": {},
     "source": [
      "Bio.PopGen: Population genetics"
     ]
    },
    {
     "cell_type": "code",
     "collapsed": false,
     "input": [],
     "language": "python",
     "metadata": {},
     "outputs": []
    }
   ],
   "metadata": {}
  }
 ]
}