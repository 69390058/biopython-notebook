{
 "metadata": {
  "name": "",
  "signature": "sha256:30474850ce3ebe0aaab4e814026819d4721b159d668600b705c97b7d79c4fff6"
 },
 "nbformat": 3,
 "nbformat_minor": 0,
 "worksheets": [
  {
   "cells": [
    {
     "cell_type": "markdown",
     "metadata": {},
     "source": [
      "**Source of the materials**: Biopython cookbook (adapted)"
     ]
    },
    {
     "cell_type": "heading",
     "level": 1,
     "metadata": {},
     "source": [
      "Quick Start"
     ]
    },
    {
     "cell_type": "markdown",
     "metadata": {},
     "source": [
      "This section is designed to get you started quickly with Biopython, and to give a general overview of what is available and how to use it. All of the examples in this section assume that you have some general working knowledge of Python, and that you have successfully installed Biopython on your system. If you think you need to brush up on your Python, the main Python web site provides quite a bit of free documentation to get started with (http://www.python.org/doc/).\n",
      "\n",
      "Since much biological work on the computer involves connecting with databases on the internet, some of the examples will also require a working internet connection in order to run.\n",
      "\n",
      "Now that that is all out of the way, let\u2019s get into what we can do with Biopython."
     ]
    },
    {
     "cell_type": "heading",
     "level": 2,
     "metadata": {},
     "source": [
      "General overview of what Biopython provides"
     ]
    },
    {
     "cell_type": "markdown",
     "metadata": {},
     "source": [
      "As mentioned in the introduction, Biopython is a set of libraries to provide the ability to deal with \u201cthings\u201d of interest to biologists working on the computer. In general this means that you will need to have at least some programming experience (in Python, of course!) or at least an interest in learning to program. Biopython\u2019s job is to make your job easier as a programmer by supplying reusable libraries so that you can focus on answering your specific question of interest, instead of focusing on the internals of parsing a particular file format (of course, if you want to help by writing a parser that doesn\u2019t exist and contributing it to Biopython, please go ahead!). So Biopython\u2019s job is to make you happy!\n",
      "\n",
      "One thing to note about Biopython is that it often provides multiple ways of \u201cdoing the same thing.\u201d Things have improved in recent releases, but this can still be frustrating as in Python there should ideally be one right way to do something. However, this can also be a real benefit because it gives you lots of flexibility and control over the libraries. The tutorial helps to show you the common or easy ways to do things so that you can just make things work. To learn more about the alternative possibilities, look in the Cookbook, the Advanced section, the built in \u201cdocstrings\u201d (via the Python help command, or the API documentation) or ultimately the code itself."
     ]
    },
    {
     "cell_type": "heading",
     "level": 2,
     "metadata": {},
     "source": [
      "Working with sequences"
     ]
    },
    {
     "cell_type": "markdown",
     "metadata": {},
     "source": [
      "We\u2019ll start with a quick introduction to the Biopython mechanisms for dealing with sequences, the Seq object, which we\u2019ll discuss in more detail later.\n",
      "\n",
      "Most of the time when we think about sequences we have in my mind a string of letters like \u2018AGTACACTGGT\u2019. You can create such Seq object with this sequence as follows:"
     ]
    },
    {
     "cell_type": "code",
     "collapsed": false,
     "input": [
      "from Bio.Seq import Seq\n",
      "my_seq = Seq(\"AGTACACTGGT\")\n",
      "my_seq"
     ],
     "language": "python",
     "metadata": {},
     "outputs": [
      {
       "metadata": {},
       "output_type": "pyout",
       "prompt_number": 1,
       "text": [
        "Seq('AGTACACTGGT', Alphabet())"
       ]
      }
     ],
     "prompt_number": 1
    },
    {
     "cell_type": "code",
     "collapsed": false,
     "input": [
      "print(my_seq)"
     ],
     "language": "python",
     "metadata": {},
     "outputs": [
      {
       "output_type": "stream",
       "stream": "stdout",
       "text": [
        "AGTACACTGGT\n"
       ]
      }
     ],
     "prompt_number": 2
    },
    {
     "cell_type": "code",
     "collapsed": false,
     "input": [
      "my_seq.alphabet"
     ],
     "language": "python",
     "metadata": {},
     "outputs": [
      {
       "metadata": {},
       "output_type": "pyout",
       "prompt_number": 3,
       "text": [
        "Alphabet()"
       ]
      }
     ],
     "prompt_number": 3
    },
    {
     "cell_type": "markdown",
     "metadata": {},
     "source": [
      "What we have here is a sequence object with a _generic_ alphabet - reflecting the fact we have _not_ specified if this is a DNA or protein sequence (okay, a protein with a lot of Alanines, Glycines, Cysteines and Threonines!).\n",
      "\n",
      "In addition to having an alphabet, the Seq object differs from the Python string in the methods it supports. You can\u2019t do this with a plain string:"
     ]
    },
    {
     "cell_type": "code",
     "collapsed": false,
     "input": [
      "my_seq.complement()"
     ],
     "language": "python",
     "metadata": {},
     "outputs": [
      {
       "metadata": {},
       "output_type": "pyout",
       "prompt_number": 4,
       "text": [
        "Seq('TCATGTGACCA', Alphabet())"
       ]
      }
     ],
     "prompt_number": 4
    },
    {
     "cell_type": "code",
     "collapsed": false,
     "input": [
      "my_seq.reverse_complement()"
     ],
     "language": "python",
     "metadata": {},
     "outputs": [
      {
       "metadata": {},
       "output_type": "pyout",
       "prompt_number": 5,
       "text": [
        "Seq('ACCAGTGTACT', Alphabet())"
       ]
      }
     ],
     "prompt_number": 5
    },
    {
     "cell_type": "markdown",
     "metadata": {},
     "source": [
      "The next most important class is the **SeqRecord** or Sequence Record. This holds a sequence (as a **Seq** object) with additional annotation including an identifier, name and description. The **Bio.SeqIO** module for reading and writing sequence file formats works with SeqRecord objects, which will be introduced below and covered in more detail later.\n",
      "\n",
      "This covers the basic features and uses of the Biopython sequence class. Now that you\u2019ve got some idea of what it is like to interact with the Biopython libraries, it\u2019s time to delve into the fun, fun world of dealing with biological file formats!"
     ]
    },
    {
     "cell_type": "heading",
     "level": 2,
     "metadata": {},
     "source": [
      "A usage example"
     ]
    },
    {
     "cell_type": "markdown",
     "metadata": {},
     "source": [
      "Before we jump right into parsers and everything else to do with Biopython, let\u2019s set up an example to motivate everything we do and make life more interesting. After all, if there wasn\u2019t any biology in this tutorial, why would you want you read it?\n",
      "\n",
      "Since I love plants, I think we\u2019re just going to have to have a plant based example (sorry to all the fans of other organisms out there!). Having just completed a recent trip to our local greenhouse, we\u2019ve suddenly developed an incredible obsession with Lady Slipper Orchids.\n",
      "\n",
      "Of course, orchids are not only beautiful to look at, they are also extremely interesting for people studying evolution and systematics. So let\u2019s suppose we\u2019re thinking about writing a funding proposal to do a molecular study of Lady Slipper evolution, and would like to see what kind of research has already been done and how we can add to that.\n",
      "\n",
      "After a little bit of reading up we discover that the Lady Slipper Orchids are in the Orchidaceae family and the Cypripedioideae sub-family and are made up of 5 genera: _Cypripedium_, _Paphiopedilum_, _Phragmipedium_, _Selenipedium_ and _Mexipedium_.\n",
      "\n",
      "That gives us enough to get started delving for more information. So, let\u2019s look at how the Biopython tools can help us. We\u2019ll start with sequence parsing, but the orchids will be back later on as well - for example we\u2019ll search PubMed for papers about orchids and extract sequence data from GenBank, extract data from Swiss-Prot from certain orchid proteins and work with ClustalW multiple sequence alignments of orchid proteins."
     ]
    },
    {
     "cell_type": "heading",
     "level": 2,
     "metadata": {},
     "source": [
      "Parsing sequence file formats"
     ]
    },
    {
     "cell_type": "markdown",
     "metadata": {},
     "source": [
      "A large part of much bioinformatics work involves dealing with the many types of file formats designed to hold biological data. These files are loaded with interesting biological data, and a special challenge is parsing these files into a format so that you can manipulate them with some kind of programming language. However the task of parsing these files can be frustrated by the fact that the formats can change quite regularly, and that formats may contain small subtleties which can break even the most well designed parsers.\n",
      "\n",
      "We are now going to briefly introduce the **Bio.SeqIO** module \u2013 you can find out later. We\u2019ll start with an online search for our friends, the lady slipper orchids. To keep this introduction simple, we\u2019re just using the NCBI website by hand. Let\u2019s just take a look through the nucleotide databases at NCBI, using an Entrez online search (http://www.ncbi.nlm.nih.gov:80/entrez/query.fcgi?db=Nucleotide) for everything mentioning the text _Cypripedioideae_ (this is the subfamily of lady slipper orchids).\n",
      "\n",
      "When this tutorial was originally written, this search gave us only 94 hits, which we saved as a FASTA formatted text file and as a GenBank formatted text file (files ls_orchid.fasta and ls_orchid.gbk, also included with the Biopython source code under docs/tutorial/examples/).\n",
      "\n",
      "If you run the search today, you\u2019ll get hundreds of results! When following the tutorial, if you want to see the same list of genes, just download the two files above or copy them from docs/examples/ in the Biopython source code. Below we will look at how to do a search like this from within Python."
     ]
    },
    {
     "cell_type": "heading",
     "level": 3,
     "metadata": {},
     "source": [
      "Simple FASTA parsing example"
     ]
    },
    {
     "cell_type": "markdown",
     "metadata": {},
     "source": [
      "If you open the lady slipper orchids FASTA file <a href=\"../data/ls_orchid.fasta\">ls_orchid.fasta</a> in your favourite text editor, you\u2019ll see that the file starts like this:\n",
      "\n",
      "> \\>gi|2765658|emb|Z78533.1|CIZ78533 C.irapeanum 5.8S rRNA gene and ITS1 and ITS2 DNA\n",
      "CGTAACAAGGTTTCCGTAGGTGAACCTGCGGAAGGATCATTGATGAGACCGTGGAATAAACGATCGAGTG\n",
      "AATCCGGAGGACCGGTGTACTCAGCTCACCGGGGGCATTGCTCCCGTGGTGACCCTGATTTGTTGTTGGG\n",
      "...\n",
      "\n",
      "It contains 94 records, each has a line starting with \u201c>\u201d (greater-than symbol) followed by the sequence on one or more lines. Now try this in Python (printing the first 5 records):"
     ]
    },
    {
     "cell_type": "code",
     "collapsed": false,
     "input": [
      "from Bio import SeqIO\n",
      "for seq_record in list(SeqIO.parse(\"data/ls_orchid.fasta\", \"fasta\"))[:5]:\n",
      "    print(seq_record.id)\n",
      "    print(repr(seq_record.seq))\n",
      "    print(len(seq_record))"
     ],
     "language": "python",
     "metadata": {},
     "outputs": [
      {
       "output_type": "stream",
       "stream": "stdout",
       "text": [
        "gi|2765658|emb|Z78533.1|CIZ78533\n",
        "Seq('CGTAACAAGGTTTCCGTAGGTGAACCTGCGGAAGGATCATTGATGAGACCGTGG...CGC', SingleLetterAlphabet())\n",
        "740\n",
        "gi|2765657|emb|Z78532.1|CCZ78532\n",
        "Seq('CGTAACAAGGTTTCCGTAGGTGAACCTGCGGAAGGATCATTGTTGAGACAACAG...GGC', SingleLetterAlphabet())\n",
        "753\n",
        "gi|2765656|emb|Z78531.1|CFZ78531\n",
        "Seq('CGTAACAAGGTTTCCGTAGGTGAACCTGCGGAAGGATCATTGTTGAGACAGCAG...TAA', SingleLetterAlphabet())\n",
        "748\n",
        "gi|2765655|emb|Z78530.1|CMZ78530\n",
        "Seq('CGTAACAAGGTTTCCGTAGGTGAACCTGCGGAAGGATCATTGTTGAAACAACAT...CAT', SingleLetterAlphabet())\n",
        "744\n",
        "gi|2765654|emb|Z78529.1|CLZ78529\n",
        "Seq('ACGGCGAGCTGCCGAAGGACATTGTTGAGACAGCAGAATATACGATTGAGTGAA...AAA', SingleLetterAlphabet())\n",
        "733\n"
       ]
      }
     ],
     "prompt_number": 6
    },
    {
     "cell_type": "markdown",
     "metadata": {},
     "source": [
      "Notice that the FASTA format does not specify the alphabet, so **Bio.SeqIO** has defaulted to the rather generic **SingleLetterAlphabet()** rather than something DNA specific."
     ]
    },
    {
     "cell_type": "heading",
     "level": 3,
     "metadata": {},
     "source": [
      "Simple GenBank parsing example"
     ]
    },
    {
     "cell_type": "markdown",
     "metadata": {},
     "source": [
      "Now let\u2019s load the GenBank file <a href=\"../data/ls_orchid.gbk\">ls_orchid.gbk</a> instead - notice that the code to do this is almost identical to the snippet used above for the FASTA file - the only difference is we change the filename and the format string:"
     ]
    },
    {
     "cell_type": "code",
     "collapsed": false,
     "input": [
      "from Bio import SeqIO\n",
      "for seq_record in list(SeqIO.parse(\"data/ls_orchid.gbk\", \"genbank\"))[:5]:\n",
      "    print(seq_record.id)\n",
      "    print(repr(seq_record.seq))\n",
      "    print(len(seq_record))"
     ],
     "language": "python",
     "metadata": {},
     "outputs": [
      {
       "output_type": "stream",
       "stream": "stdout",
       "text": [
        "Z78533.1\n",
        "Seq('CGTAACAAGGTTTCCGTAGGTGAACCTGCGGAAGGATCATTGATGAGACCGTGG...CGC', IUPACAmbiguousDNA())\n",
        "740\n",
        "Z78532.1\n",
        "Seq('CGTAACAAGGTTTCCGTAGGTGAACCTGCGGAAGGATCATTGTTGAGACAACAG...GGC', IUPACAmbiguousDNA())\n",
        "753\n",
        "Z78531.1\n",
        "Seq('CGTAACAAGGTTTCCGTAGGTGAACCTGCGGAAGGATCATTGTTGAGACAGCAG...TAA', IUPACAmbiguousDNA())\n",
        "748\n",
        "Z78530.1\n",
        "Seq('CGTAACAAGGTTTCCGTAGGTGAACCTGCGGAAGGATCATTGTTGAAACAACAT...CAT', IUPACAmbiguousDNA())\n",
        "744\n",
        "Z78529.1\n",
        "Seq('ACGGCGAGCTGCCGAAGGACATTGTTGAGACAGCAGAATATACGATTGAGTGAA...AAA', IUPACAmbiguousDNA())\n",
        "733\n"
       ]
      }
     ],
     "prompt_number": 7
    },
    {
     "cell_type": "markdown",
     "metadata": {},
     "source": [
      "This time **Bio.SeqIO** has been able to choose a sensible alphabet, IUPAC Ambiguous DNA. You\u2019ll also notice that a shorter string has been used as the **seq_record.id** in this case."
     ]
    },
    {
     "cell_type": "heading",
     "level": 3,
     "metadata": {},
     "source": [
      "I love parsing \u2013 please don\u2019t stop talking about it!"
     ]
    },
    {
     "cell_type": "markdown",
     "metadata": {},
     "source": [
      "Biopython has a lot of parsers, and each has its own little special niches based on the sequence format it is parsing and all of that.\n",
      "\n",
      "While the most popular file formats have parsers integrated into *Bio.SeqIO* and/or *Bio.AlignIO*, for some of the rarer and unloved file formats there is either no parser at all, or an old parser which has not been linked in yet. Please also check the wiki pages http://biopython.org/wiki/SeqIO and http://biopython.org/wiki/AlignIO for the latest information, or ask on the mailing list. The wiki pages should include an up to date list of supported file types, and some additional examples.\n",
      "\n",
      "The next place to look for information about specific parsers and how to do cool things with them is in the Cookbook. If you don\u2019t find the information you are looking for, please consider helping out your poor overworked documentors and submitting a cookbook entry about it! (once you figure out how to do it, that is!)"
     ]
    },
    {
     "cell_type": "heading",
     "level": 2,
     "metadata": {},
     "source": [
      "Connecting with biological databases"
     ]
    },
    {
     "cell_type": "markdown",
     "metadata": {},
     "source": [
      "One of the very common things that you need to do in bioinformatics is extract information from biological databases. It can be quite tedious to access these databases manually, especially if you have a lot of repetitive work to do. Biopython attempts to save you time and energy by making some on-line databases available from Python scripts. Currently, Biopython has code to extract information from the following databases:\n",
      "\n",
      "- Entrez (and PubMed) from the NCBI\n",
      "- ExPASy\n",
      "- SCOP\n",
      "\n",
      "The code in these modules basically makes it easy to write Python code that interact with the CGI scripts on these pages, so that you can get results in an easy to deal with format. In some cases, the results can be tightly integrated with the Biopython parsers to make it even easier to extract information."
     ]
    },
    {
     "cell_type": "heading",
     "level": 2,
     "metadata": {},
     "source": [
      "What to do next"
     ]
    },
    {
     "cell_type": "markdown",
     "metadata": {},
     "source": [
      "Now that you\u2019ve made it this far, you hopefully have a good understanding of the basics of Biopython and are ready to start using it for doing useful work. The best thing to do now is finish reading this tutorial, and then if you want start snooping around in the source code, and looking at the automatically generated documentation.\n",
      "\n",
      "Once you get a picture of what you want to do, and what libraries in Biopython will do it, you should take a peak at the Cookbook (Chapter 18), which may have example code to do something similar to what you want to do.\n",
      "\n",
      "If you know what you want to do, but can\u2019t figure out how to do it, please feel free to post questions to the main Biopython list (see http://biopython.org/wiki/Mailing_lists). This will not only help us answer your question, it will also allow us to improve the documentation so it can help the next person do what you want to do.\n",
      "\n",
      "Enjoy the code!"
     ]
    },
    {
     "cell_type": "code",
     "collapsed": false,
     "input": [],
     "language": "python",
     "metadata": {},
     "outputs": []
    }
   ],
   "metadata": {}
  }
 ]
}