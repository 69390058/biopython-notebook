{
 "metadata": {
  "name": "",
  "signature": "sha256:9fa60726670c7e7875e9cac106cbcc99e7b83ec20b08232123df2f9e669e2548"
 },
 "nbformat": 3,
 "nbformat_minor": 0,
 "worksheets": [
  {
   "cells": [
    {
     "cell_type": "heading",
     "level": 1,
     "metadata": {},
     "source": [
      "About the contents"
     ]
    },
    {
     "cell_type": "markdown",
     "metadata": {},
     "source": [
      "The contents of these notebooks have several sources (mostly the Biopython Tutorial and Peter Cock's workshop). Credit to the source of will be given at the start of the notebook.\n",
      "\n",
      "The current version of these notebooks losely follows the structure of the Tutorial.\n",
      "\n",
      "As IPython Notebook is generaly available with matplotlib, NumPy and SciPy I will make use of these if I found it relevant."
     ]
    },
    {
     "cell_type": "heading",
     "level": 2,
     "metadata": {},
     "source": [
      "Authorship"
     ]
    },
    {
     "cell_type": "markdown",
     "metadata": {},
     "source": [
      "The authors of the Biopython tutorial and cookbook are: Jeff Chang, Brad Chapman, Iddo Friedberg, Thomas Hamelryck,\n",
      "Michiel de Hoon, Peter Cock, Tiago Antao, Eric Talevich, Bartek Wilczynski"
     ]
    },
    {
     "cell_type": "markdown",
     "metadata": {},
     "source": [
      "The person doing the conversion to IPython Notebook format is: Tiago Antao"
     ]
    },
    {
     "cell_type": "code",
     "collapsed": false,
     "input": [],
     "language": "python",
     "metadata": {},
     "outputs": []
    }
   ],
   "metadata": {}
  }
 ]
}