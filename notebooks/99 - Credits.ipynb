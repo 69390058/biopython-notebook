{
 "metadata": {
  "name": "",
  "signature": "sha256:86e2b9d965db2376e5f1c849e20dfb82d15c366e043d378b23b82741da9b6bd6"
 },
 "nbformat": 3,
 "nbformat_minor": 0,
 "worksheets": [
  {
   "cells": [
    {
     "cell_type": "heading",
     "level": 1,
     "metadata": {},
     "source": [
      "About the contents"
     ]
    },
    {
     "cell_type": "markdown",
     "metadata": {},
     "source": [
      "The contents of these notebooks have several sources (mostly the Biopython Tutorial and Peter Cock's workshop). Credit to the source of will be given at the start of the notebook.\n",
      "\n",
      "The current version of these notebooks losely follows the structure of the Tutorial.\n",
      "\n",
      "As ipython notebook is generaly available with matplotlib, NumPy and SciPy I will make use of these if I found it relevant."
     ]
    }
   ],
   "metadata": {}
  }
 ]
}