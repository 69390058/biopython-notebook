{
 "metadata": {
  "name": "",
  "signature": "sha256:f88a55b022d0fd2ff7cd3cb9f80bf59cc9c5efce07d9eb4428a878c7c8eb290e"
 },
 "nbformat": 3,
 "nbformat_minor": 0,
 "worksheets": [
  {
   "cells": [
    {
     "cell_type": "markdown",
     "metadata": {},
     "source": [
      "**Source of the materials**: Biopython Tutorial and Cookbook (adapted)"
     ]
    },
    {
     "cell_type": "heading",
     "level": 1,
     "metadata": {},
     "source": [
      "Sequence Objects"
     ]
    },
    {
     "cell_type": "markdown",
     "metadata": {},
     "source": [
      "Biological sequences are arguably the central object in Bioinformatics, and in this chapter we'll introduce the Biopython mechanism for dealing with sequences, the \\verb|Seq| object.\n",
      "Chapter~\\ref{chapter:SeqRecord} will introduce the related \\verb|SeqRecord| object, which combines the sequence information with any annotation, used again in Chapter~\\ref{chapter:Bio.SeqIO} for Sequence Input/Output.\n",
      "\n",
      "Sequences are essentially strings of letters like \\verb|AGTACACTGGT|, which seems very natural since this is the most common way that sequences are seen in biological file formats.\n",
      "\n",
      "There are two important differences between \\verb|Seq| objects and standard Python strings.\n",
      "First of all, they have different methods.  Although the \\verb|Seq| object supports many of the same methods as a plain string, its \\verb|translate()| method differs by doing biological translation, and there are also additional biologically relevant methods like \\verb|reverse_complement()|.\n",
      "Secondly, the \\verb|Seq| object has an important attribute, \\verb|alphabet|, which is an object describing what the individual characters making up the sequence string ``mean'', and how they should be interpreted.  For example, is \\verb|AGTACACTGGT| a DNA sequence, or just a protein sequence that happens to be rich in Alanines, Glycines, Cysteines\n",
      "and Threonines?"
     ]
    },
    {
     "cell_type": "heading",
     "level": 2,
     "metadata": {},
     "source": [
      "Sequences and Alphabets"
     ]
    },
    {
     "cell_type": "markdown",
     "metadata": {},
     "source": [
      "The alphabet object is perhaps the important thing that makes the \\verb|Seq| object more than just a string. The currently available alphabets for Biopython are defined in the \\verb|Bio.Alphabet| module. We'll use the IUPAC alphabets (\\url{http://www.chem.qmw.ac.uk/iupac/}) here to deal with some of our favorite objects: DNA, RNA and Proteins.\n",
      "\n",
      "\\verb|Bio.Alphabet.IUPAC| provides basic definitions for proteins, DNA and RNA, but additionally provides the ability to extend and customize the basic definitions. For instance, for proteins, there is a basic IUPACProtein class, but there is an additional ExtendedIUPACProtein class providing for the additional elements ``U'' (or ``Sec'' for selenocysteine) and ``O'' (or ``Pyl'' for pyrrolysine), plus the ambiguous symbols ``B'' (or ``Asx'' for asparagine or aspartic acid), ``Z'' (or ``Glx'' for glutamine or glutamic acid), ``J'' (or ``Xle'' for leucine isoleucine) and ``X'' (or ``Xxx'' for an unknown amino acid). For DNA you've got choices of IUPACUnambiguousDNA, which provides for just the basic letters, IUPACAmbiguousDNA (which provides for ambiguity letters for every possible situation) and ExtendedIUPACDNA, which allows letters for modified bases. Similarly, RNA can be represented by IUPACAmbiguousRNA or IUPACUnambiguousRNA.\n",
      "\n",
      "The advantages of having an alphabet class are two fold. First, this gives an idea of the type of information the Seq object contains. Secondly, this provides a means of constraining the information, as a means of type checking.\n",
      "\n",
      "Now that we know what we are dealing with, let's look at how to utilize this class to do interesting work.\n",
      "You can create an ambiguous sequence with the default generic alphabet like this:\n"
     ]
    },
    {
     "cell_type": "code",
     "collapsed": false,
     "input": [
      ">>> from Bio.Seq import Seq\n",
      ">>> my_seq = Seq(\"AGTACACTGGT\")\n",
      ">>> my_seq\n",
      "Seq('AGTACACTGGT', Alphabet())\n",
      ">>> my_seq.alphabet\n",
      "Alphabet()"
     ],
     "language": "python",
     "metadata": {},
     "outputs": []
    },
    {
     "cell_type": "markdown",
     "metadata": {},
     "source": [
      "However, where possible you should specify the alphabet explicitly when creating your sequence objects - in this case an unambiguous DNA alphabet object:"
     ]
    },
    {
     "cell_type": "code",
     "collapsed": false,
     "input": [
      ">>> from Bio.Seq import Seq\n",
      ">>> from Bio.Alphabet import IUPAC\n",
      ">>> my_seq = Seq(\"AGTACACTGGT\", IUPAC.unambiguous_dna)\n",
      ">>> my_seq\n",
      "Seq('AGTACACTGGT', IUPACUnambiguousDNA())\n",
      ">>> my_seq.alphabet\n",
      "IUPACUnambiguousDNA()\n"
     ],
     "language": "python",
     "metadata": {},
     "outputs": []
    },
    {
     "cell_type": "markdown",
     "metadata": {},
     "source": [
      "Unless of course, this really is an amino acid sequence:"
     ]
    },
    {
     "cell_type": "code",
     "collapsed": false,
     "input": [
      ">>> from Bio.Seq import Seq\n",
      ">>> from Bio.Alphabet import IUPAC\n",
      ">>> my_prot = Seq(\"AGTACACTGGT\", IUPAC.protein)\n",
      ">>> my_prot\n",
      "Seq('AGTACACTGGT', IUPACProtein())\n",
      ">>> my_prot.alphabet\n",
      "IUPACProtein()"
     ],
     "language": "python",
     "metadata": {},
     "outputs": []
    },
    {
     "cell_type": "heading",
     "level": 2,
     "metadata": {},
     "source": [
      "Sequences act like strings"
     ]
    },
    {
     "cell_type": "markdown",
     "metadata": {},
     "source": [
      "In many ways, we can deal with Seq objects as if they were normal Python strings, for example getting the length, or iterating over the elements:"
     ]
    },
    {
     "cell_type": "code",
     "collapsed": false,
     "input": [
      ">>> from Bio.Seq import Seq\n",
      ">>> from Bio.Alphabet import IUPAC\n",
      ">>> my_seq = Seq(\"GATCG\", IUPAC.unambiguous_dna)\n",
      ">>> for index, letter in enumerate(my_seq):\n",
      "...     print(\"%i %s\" % (index, letter))\n",
      "0 G\n",
      "1 A\n",
      "2 T\n",
      "3 C\n",
      "4 G\n",
      ">>> print(len(my_seq))\n",
      "5"
     ],
     "language": "python",
     "metadata": {},
     "outputs": []
    },
    {
     "cell_type": "markdown",
     "metadata": {},
     "source": [
      "You can access elements of the sequence in the same way as for strings (but remember, Python counts from zero!):"
     ]
    },
    {
     "cell_type": "code",
     "collapsed": false,
     "input": [
      ">>> print(my_seq[0]) #first letter\n",
      "G\n",
      ">>> print(my_seq[2]) #third letter\n",
      "T\n",
      ">>> print(my_seq[-1]) #last letter\n",
      "G"
     ],
     "language": "python",
     "metadata": {},
     "outputs": []
    },
    {
     "cell_type": "markdown",
     "metadata": {},
     "source": [
      "The \\verb|Seq| object has a \\verb|.count()| method, just like a string.\n",
      "Note that this means that like a Python string, this gives a\n",
      "\\emph{non-overlapping} count:\n"
     ]
    },
    {
     "cell_type": "code",
     "collapsed": false,
     "input": [
      ">>> from Bio.Seq import Seq\n",
      ">>> \"AAAA\".count(\"AA\")\n",
      "2\n",
      ">>> Seq(\"AAAA\").count(\"AA\")\n",
      "2"
     ],
     "language": "python",
     "metadata": {},
     "outputs": []
    },
    {
     "cell_type": "markdown",
     "metadata": {},
     "source": [
      "For some biological uses, you may actually want an overlapping count\n",
      "(i.e. $3$ in this trivial example). When searching for single letters, this\n",
      "makes no difference:"
     ]
    },
    {
     "cell_type": "code",
     "collapsed": false,
     "input": [
      ">>> from Bio.Seq import Seq\n",
      ">>> from Bio.Alphabet import IUPAC\n",
      ">>> my_seq = Seq('GATCGATGGGCCTATATAGGATCGAAAATCGC', IUPAC.unambiguous_dna)\n",
      ">>> len(my_seq)\n",
      "32\n",
      ">>> my_seq.count(\"G\")\n",
      "9\n",
      ">>> 100 * float(my_seq.count(\"G\") + my_seq.count(\"C\")) / len(my_seq)\n",
      "46.875"
     ],
     "language": "python",
     "metadata": {},
     "outputs": []
    },
    {
     "cell_type": "markdown",
     "metadata": {},
     "source": [
      "While you could use the above snippet of code to calculate a GC\\%, note that  the \\verb|Bio.SeqUtils| module has several GC functions already built.  For example:\n"
     ]
    },
    {
     "cell_type": "code",
     "collapsed": false,
     "input": [
      ">>> from Bio.Seq import Seq\n",
      ">>> from Bio.Alphabet import IUPAC\n",
      ">>> from Bio.SeqUtils import GC\n",
      ">>> my_seq = Seq('GATCGATGGGCCTATATAGGATCGAAAATCGC', IUPAC.unambiguous_dna)\n",
      ">>> GC(my_seq)\n",
      "46.875"
     ],
     "language": "python",
     "metadata": {},
     "outputs": []
    },
    {
     "cell_type": "markdown",
     "metadata": {},
     "source": [
      "Note that using the \\verb|Bio.SeqUtils.GC()| function should automatically cope with mixed case sequences and the ambiguous nucleotide S which means G or C.\n",
      "\n",
      "Also note that just like a normal Python string, the \\verb|Seq| object is in some ways ``read-only''.  If you need to edit your sequence, for example simulating a point mutation, look at the Section~\\ref{sec:mutable-seq} below which talks about the \\verb|MutableSeq| object."
     ]
    },
    {
     "cell_type": "heading",
     "level": 2,
     "metadata": {},
     "source": [
      "Slicing a sequence"
     ]
    },
    {
     "cell_type": "code",
     "collapsed": false,
     "input": [
      "A more complicated example, let's get a slice of the sequence:"
     ],
     "language": "python",
     "metadata": {},
     "outputs": []
    },
    {
     "cell_type": "code",
     "collapsed": false,
     "input": [
      ">>> from Bio.Seq import Seq\n",
      ">>> from Bio.Alphabet import IUPAC\n",
      ">>> my_seq = Seq(\"GATCGATGGGCCTATATAGGATCGAAAATCGC\", IUPAC.unambiguous_dna)\n",
      ">>> my_seq[4:12]\n",
      "Seq('GATGGGCC', IUPACUnambiguousDNA())"
     ],
     "language": "python",
     "metadata": {},
     "outputs": []
    },
    {
     "cell_type": "markdown",
     "metadata": {},
     "source": [
      "Two things are interesting to note. First, this follows the normal conventions for Python strings.  So the first element of the sequence is 0 (which is normal for computer science, but not so normal for biology). When you do a slice the first item is included (i.e.~4 in this case) and the last is excluded (12 in this case), which is the way things work in Python, but of course not necessarily the way everyone in the world would expect. The main goal is to stay consistent with what Python does.\n",
      "\n",
      "The second thing to notice is that the slice is performed on the sequence data string, but the new object produced is another \\verb|Seq| object which retains the alphabet information from the original \\verb|Seq| object.\n",
      "\n",
      "Also like a Python string, you can do slices with a start, stop and \\emph{stride} (the step size, which defaults to one).  For example, we can get the first, second and third codon positions of this DNA sequence:"
     ]
    },
    {
     "cell_type": "code",
     "collapsed": false,
     "input": [
      ">>> my_seq[0::3]\n",
      "Seq('GCTGTAGTAAG', IUPACUnambiguousDNA())\n",
      ">>> my_seq[1::3]\n",
      "Seq('AGGCATGCATC', IUPACUnambiguousDNA())\n",
      ">>> my_seq[2::3]\n",
      "Seq('TAGCTAAGAC', IUPACUnambiguousDNA())"
     ],
     "language": "python",
     "metadata": {},
     "outputs": []
    },
    {
     "cell_type": "markdown",
     "metadata": {},
     "source": [
      "Another stride trick you might have seen with a Python string is the use of a -1 stride to reverse the string.  You can do this with a \\verb|Seq| object too:\n"
     ]
    },
    {
     "cell_type": "code",
     "collapsed": false,
     "input": [
      ">>> my_seq[::-1]\n",
      "Seq('CGCTAAAAGCTAGGATATATCCGGGTAGCTAG', IUPACUnambiguousDNA())"
     ],
     "language": "python",
     "metadata": {},
     "outputs": []
    },
    {
     "cell_type": "heading",
     "level": 2,
     "metadata": {},
     "source": [
      "Turning Seq objects into strings"
     ]
    },
    {
     "cell_type": "markdown",
     "metadata": {},
     "source": [
      "If you really do just need a plain string, for example to write to a file, or insert into a database, then this is very easy to get:"
     ]
    },
    {
     "cell_type": "code",
     "collapsed": false,
     "input": [
      ">>> str(my_seq)\n",
      "'GATCGATGGGCCTATATAGGATCGAAAATCGC'"
     ],
     "language": "python",
     "metadata": {},
     "outputs": []
    },
    {
     "cell_type": "markdown",
     "metadata": {},
     "source": [
      "Since calling \\verb|str()| on a \\verb|Seq| object returns the full sequence as a string,\n",
      "you often don't actually have to do this conversion explicitly.\n",
      "Python does this automatically in the print function\n",
      "(and the print statement under Python 2):"
     ]
    },
    {
     "cell_type": "code",
     "collapsed": false,
     "input": [
      ">>> print(my_seq)\n",
      "GATCGATGGGCCTATATAGGATCGAAAATCGC"
     ],
     "language": "python",
     "metadata": {},
     "outputs": [],
     "prompt_number": 0
    },
    {
     "cell_type": "markdown",
     "metadata": {},
     "source": [
      "You can also use the \\verb|Seq| object directly with a \\verb|%s| placeholder when using the Python string formatting or interpolation operator (\\verb|%|):"
     ]
    },
    {
     "cell_type": "code",
     "collapsed": false,
     "input": [
      ">>> fasta_format_string = \">Name\\n%s\\n\" % my_seq\n",
      ">>> print(fasta_format_string)\n",
      ">Name\n",
      "GATCGATGGGCCTATATAGGATCGAAAATCGC\n",
      "<BLANKLINE>"
     ],
     "language": "python",
     "metadata": {},
     "outputs": []
    },
    {
     "cell_type": "markdown",
     "metadata": {},
     "source": [
      "This line of code constructs a simple FASTA format record (without worrying about line wrapping).\n",
      "Section~\\ref{sec:SeqRecord-format} describes a neat way to get a FASTA formatted\n",
      "string from a \\verb|SeqRecord| object, while the more general topic of reading and\n",
      "writing FASTA format sequence files is covered in Chapter~\\ref{chapter:Bio.SeqIO}."
     ]
    },
    {
     "cell_type": "markdown",
     "metadata": {},
     "source": [
      "\\emph{NOTE:} If you are using Biopython 1.44 or older, using \\verb|str(my_seq)|\n",
      "will give just a truncated representation.  Instead use \\verb|my_seq.tostring()|\n",
      "(which is still available in the current Biopython releases for backwards compatibility)"
     ]
    },
    {
     "cell_type": "code",
     "collapsed": false,
     "input": [
      "\\begin{verbatim}\n",
      ">>> my_seq.tostring()\n",
      "'GATCGATGGGCCTATATAGGATCGAAAATCGC"
     ],
     "language": "python",
     "metadata": {},
     "outputs": []
    },
    {
     "cell_type": "heading",
     "level": 2,
     "metadata": {},
     "source": [
      "Concatenating or adding sequences"
     ]
    },
    {
     "cell_type": "markdown",
     "metadata": {},
     "source": [
      "Naturally, you can in principle add any two Seq objects together - just like you can with Python strings to concatenate them.  However, you can't add sequences with incompatible alphabets, such as a protein sequence and a DNA sequence:"
     ]
    },
    {
     "cell_type": "code",
     "collapsed": false,
     "input": [
      ">>> from Bio.Alphabet import IUPAC\n",
      ">>> from Bio.Seq import Seq\n",
      ">>> protein_seq = Seq(\"EVRNAK\", IUPAC.protein)\n",
      ">>> dna_seq = Seq(\"ACGT\", IUPAC.unambiguous_dna)\n",
      ">>> protein_seq + dna_seq\n",
      "Traceback (most recent call last):\n",
      "...\n",
      "TypeError: Incompatible alphabets IUPACProtein() and IUPACUnambiguousDNA()"
     ],
     "language": "python",
     "metadata": {},
     "outputs": []
    },
    {
     "cell_type": "markdown",
     "metadata": {},
     "source": [
      "If you \\emph{really} wanted to do this, you'd have to first give both sequences generic alphabets:"
     ]
    },
    {
     "cell_type": "code",
     "collapsed": false,
     "input": [
      ">>> from Bio.Alphabet import generic_alphabet\n",
      ">>> protein_seq.alphabet = generic_alphabet\n",
      ">>> dna_seq.alphabet = generic_alphabet\n",
      ">>> protein_seq + dna_seq\n",
      "Seq('EVRNAKACGT', Alphabet())"
     ],
     "language": "python",
     "metadata": {},
     "outputs": []
    },
    {
     "cell_type": "markdown",
     "metadata": {},
     "source": [
      "Here is an example of adding a generic nucleotide sequence to an unambiguous IUPAC DNA sequence, resulting in an ambiguous nucleotide sequence:"
     ]
    },
    {
     "cell_type": "code",
     "collapsed": false,
     "input": [
      ">>> from Bio.Seq import Seq\n",
      ">>> from Bio.Alphabet import generic_nucleotide\n",
      ">>> from Bio.Alphabet import IUPAC\n",
      ">>> nuc_seq = Seq(\"GATCGATGC\", generic_nucleotide)\n",
      ">>> dna_seq = Seq(\"ACGT\", IUPAC.unambiguous_dna)\n",
      ">>> nuc_seq\n",
      "Seq('GATCGATGC', NucleotideAlphabet())\n",
      ">>> dna_seq\n",
      "Seq('ACGT', IUPACUnambiguousDNA())\n",
      ">>> nuc_seq + dna_seq\n",
      "Seq('GATCGATGCACGT', NucleotideAlphabet())"
     ],
     "language": "python",
     "metadata": {},
     "outputs": []
    },
    {
     "cell_type": "markdown",
     "metadata": {},
     "source": [
      "You may often have many sequences to add together, which can be done with a for loop like this:"
     ]
    },
    {
     "cell_type": "code",
     "collapsed": false,
     "input": [
      ">>> from Bio.Seq import Seq\n",
      ">>> from Bio.Alphabet import generic_dna\n",
      ">>> list_of_seqs = [Seq(\"ACGT\", generic_dna), Seq(\"AACC\", generic_dna), Seq(\"GGTT\", generic_dna)]\n",
      ">>> concatenated = Seq(\"\", generic_dna)\n",
      ">>> for s in list_of_seqs:\n",
      "...      concatenated += s\n",
      "...\n",
      ">>> concatenated\n",
      "Seq('ACGTAACCGGTT', DNAAlphabet())"
     ],
     "language": "python",
     "metadata": {},
     "outputs": []
    },
    {
     "cell_type": "markdown",
     "metadata": {},
     "source": [
      "Or, a more elegant approach is to the use built in \\verb|sum| function with its optional start value argument (which otherwise defaults to zero):\n"
     ]
    },
    {
     "cell_type": "code",
     "collapsed": false,
     "input": [
      ">>> from Bio.Seq import Seq\n",
      ">>> from Bio.Alphabet import generic_dna\n",
      ">>> list_of_seqs = [Seq(\"ACGT\", generic_dna), Seq(\"AACC\", generic_dna), Seq(\"GGTT\", generic_dna)]\n",
      ">>> sum(list_of_seqs, Seq(\"\", generic_dna))\n",
      "Seq('ACGTAACCGGTT', DNAAlphabet())\n"
     ],
     "language": "python",
     "metadata": {},
     "outputs": []
    },
    {
     "cell_type": "markdown",
     "metadata": {},
     "source": [
      "Unlike the Python string, the Biopython \\verb|Seq| does not (currently) have a \\verb|.join| method."
     ]
    },
    {
     "cell_type": "heading",
     "level": 2,
     "metadata": {},
     "source": [
      "Changing case"
     ]
    },
    {
     "cell_type": "markdown",
     "metadata": {},
     "source": [
      "Python strings have very useful \\verb|upper| and \\verb|lower| methods for changing the case.\n",
      "As of Biopython 1.53, the \\verb|Seq| object gained similar methods which are alphabet aware.\n",
      "For example,"
     ]
    },
    {
     "cell_type": "code",
     "collapsed": false,
     "input": [
      ">>> from Bio.Seq import Seq\n",
      ">>> from Bio.Alphabet import generic_dna\n",
      ">>> dna_seq = Seq(\"acgtACGT\", generic_dna)\n",
      ">>> dna_seq\n",
      "Seq('acgtACGT', DNAAlphabet())\n",
      ">>> dna_seq.upper()\n",
      "Seq('ACGTACGT', DNAAlphabet())\n",
      ">>> dna_seq.lower()\n",
      "Seq('acgtacgt', DNAAlphabet())"
     ],
     "language": "python",
     "metadata": {},
     "outputs": []
    },
    {
     "cell_type": "markdown",
     "metadata": {},
     "source": [
      "These are useful for doing case insensitive matching:"
     ]
    },
    {
     "cell_type": "code",
     "collapsed": false,
     "input": [
      ">>> \"GTAC\" in dna_seq\n",
      "False\n",
      ">>> \"GTAC\" in dna_seq.upper()\n",
      "True"
     ],
     "language": "python",
     "metadata": {},
     "outputs": []
    },
    {
     "cell_type": "markdown",
     "metadata": {},
     "source": [
      "\n",
      "Note that strictly speaking the IUPAC alphabets are for upper case\n",
      "sequences only, thus:"
     ]
    },
    {
     "cell_type": "code",
     "collapsed": false,
     "input": [
      ">>> from Bio.Seq import Seq\n",
      ">>> from Bio.Alphabet import IUPAC\n",
      ">>> dna_seq = Seq(\"ACGT\", IUPAC.unambiguous_dna)\n",
      ">>> dna_seq\n",
      "Seq('ACGT', IUPACUnambiguousDNA())\n",
      ">>> dna_seq.lower()\n",
      "Seq('acgt', DNAAlphabet())"
     ],
     "language": "python",
     "metadata": {},
     "outputs": []
    },
    {
     "cell_type": "heading",
     "level": 2,
     "metadata": {},
     "source": [
      "Nucleotide sequences and (reverse) complements"
     ]
    },
    {
     "cell_type": "markdown",
     "metadata": {},
     "source": [
      "For nucleotide sequences, you can easily obtain the complement or reverse\n",
      "complement of a \\verb|Seq| object using its built-in methods:"
     ]
    },
    {
     "cell_type": "code",
     "collapsed": false,
     "input": [
      ">>> from Bio.Seq import Seq\n",
      ">>> from Bio.Alphabet import IUPAC\n",
      ">>> my_seq = Seq(\"GATCGATGGGCCTATATAGGATCGAAAATCGC\", IUPAC.unambiguous_dna)\n",
      ">>> my_seq\n",
      "Seq('GATCGATGGGCCTATATAGGATCGAAAATCGC', IUPACUnambiguousDNA())\n",
      ">>> my_seq.complement()\n",
      "Seq('CTAGCTACCCGGATATATCCTAGCTTTTAGCG', IUPACUnambiguousDNA())\n",
      ">>> my_seq.reverse_complement()\n",
      "Seq('GCGATTTTCGATCCTATATAGGCCCATCGATC', IUPACUnambiguousDNA())"
     ],
     "language": "python",
     "metadata": {},
     "outputs": []
    },
    {
     "cell_type": "markdown",
     "metadata": {},
     "source": [
      "As mentioned earlier, an easy way to just reverse a \\verb|Seq| object (or a\n",
      "Python string) is slice it with -1 step:"
     ]
    },
    {
     "cell_type": "code",
     "collapsed": false,
     "input": [
      ">>> my_seq[::-1]\n",
      "Seq('CGCTAAAAGCTAGGATATATCCGGGTAGCTAG', IUPACUnambiguousDNA())"
     ],
     "language": "python",
     "metadata": {},
     "outputs": []
    },
    {
     "cell_type": "markdown",
     "metadata": {},
     "source": [
      "In all of these operations, the alphabet property is maintained. This is very\n",
      "useful in case you accidentally end up trying to do something weird like take\n",
      "the (reverse)complement of a protein sequence:"
     ]
    },
    {
     "cell_type": "code",
     "collapsed": false,
     "input": [
      ">>> from Bio.Seq import Seq\n",
      ">>> from Bio.Alphabet import IUPAC\n",
      ">>> protein_seq = Seq(\"EVRNAK\", IUPAC.protein)\n",
      ">>> protein_seq.complement()\n",
      "Traceback (most recent call last):\n",
      "...\n",
      "ValueError: Proteins do not have complements!"
     ],
     "language": "python",
     "metadata": {},
     "outputs": []
    },
    {
     "cell_type": "markdown",
     "metadata": {},
     "source": [
      "The example in Section~\\ref{sec:SeqIO-reverse-complement} combines the \\verb|Seq|\n",
      "object's reverse complement method with \\verb|Bio.SeqIO| for sequence input/output."
     ]
    },
    {
     "cell_type": "heading",
     "level": 2,
     "metadata": {},
     "source": [
      "Transcription"
     ]
    },
    {
     "cell_type": "markdown",
     "metadata": {},
     "source": [
      "Before talking about transcription, I want to try and clarify the strand issue.\n",
      "Consider the following (made up) stretch of double stranded DNA which\n",
      "encodes a short peptide:"
     ]
    },
    {
     "cell_type": "markdown",
     "metadata": {},
     "source": [
      "\\begin{tabular}{rcl}\n",
      "\\\\\n",
      "   & {\\small DNA coding strand (aka Crick strand, strand $+1$)} & \\\\\n",
      "5' & \\texttt{ATGGCCATTGTAATGGGCCGCTGAAAGGGTGCCCGATAG} & 3' \\\\\n",
      "   & \\texttt{|||||||||||||||||||||||||||||||||||||||} & \\\\\n",
      "3' & \\texttt{TACCGGTAACATTACCCGGCGACTTTCCCACGGGCTATC} & 5' \\\\\n",
      "   & {\\small DNA template strand (aka Watson strand, strand $-1$)} & \\\\\n",
      "\\\\\n",
      "   & {\\LARGE $|$} &\\\\\n",
      "   & Transcription & \\\\\n",
      "   & {\\LARGE $\\downarrow$} &\\\\\n",
      "\\\\\n",
      "5' & \\texttt{AUGGCCAUUGUAAUGGGCCGCUGAAAGGGUGCCCGAUAG} & 3' \\\\\n",
      "   & {\\small Single stranded messenger RNA} & \\\\\n",
      "\\\\\n",
      "\\end{tabular}"
     ]
    },
    {
     "cell_type": "markdown",
     "metadata": {},
     "source": [
      "\n",
      "The actual biological transcription process works from the template strand, doing a reverse complement (TCAG $\\rightarrow$ CUGA) to give the mRNA.  However, in Biopython and bioinformatics in general, we typically work directly with the coding strand because this means we can get the mRNA sequence just by switching T $\\rightarrow$ U.\n",
      "\n",
      "Now let's actually get down to doing a transcription in Biopython.  First, let's create \\verb|Seq| objects for the coding and template DNA strands:"
     ]
    },
    {
     "cell_type": "code",
     "collapsed": false,
     "input": [
      ">>> from Bio.Seq import Seq\n",
      ">>> from Bio.Alphabet import IUPAC\n",
      ">>> coding_dna = Seq(\"ATGGCCATTGTAATGGGCCGCTGAAAGGGTGCCCGATAG\", IUPAC.unambiguous_dna)\n",
      ">>> coding_dna\n",
      "Seq('ATGGCCATTGTAATGGGCCGCTGAAAGGGTGCCCGATAG', IUPACUnambiguousDNA())\n",
      ">>> template_dna = coding_dna.reverse_complement()\n",
      ">>> template_dna\n",
      "Seq('CTATCGGGCACCCTTTCAGCGGCCCATTACAATGGCCAT', IUPACUnambiguousDNA())"
     ],
     "language": "python",
     "metadata": {},
     "outputs": []
    },
    {
     "cell_type": "markdown",
     "metadata": {},
     "source": [
      "These should match the figure above - remember by convention nucleotide sequences are normally read from the 5' to 3' direction, while in the figure the template strand is shown reversed.\n",
      "\n",
      "Now let's transcribe the coding strand into the corresponding mRNA, using the \\verb|Seq| object's built in \\verb|transcribe| method:"
     ]
    },
    {
     "cell_type": "code",
     "collapsed": false,
     "input": [
      ">>> coding_dna\n",
      "Seq('ATGGCCATTGTAATGGGCCGCTGAAAGGGTGCCCGATAG', IUPACUnambiguousDNA())\n",
      ">>> messenger_rna = coding_dna.transcribe()\n",
      ">>> messenger_rna\n",
      "Seq('AUGGCCAUUGUAAUGGGCCGCUGAAAGGGUGCCCGAUAG', IUPACUnambiguousRNA())"
     ],
     "language": "python",
     "metadata": {},
     "outputs": []
    },
    {
     "cell_type": "markdown",
     "metadata": {},
     "source": [
      "As you can see, all this does is switch T $\\rightarrow$ U, and adjust the alphabet.\n",
      "\n",
      "If you do want to do a true biological transcription starting with the template strand, then this becomes a two-step process:"
     ]
    },
    {
     "cell_type": "code",
     "collapsed": false,
     "input": [
      "template_dna.reverse_complement().transcribe()\n",
      "Seq('AUGGCCAUUGUAAUGGGCCGCUGAAAGGGUGCCCGAUAG', IUPACUnambiguousRNA())"
     ],
     "language": "python",
     "metadata": {},
     "outputs": []
    },
    {
     "cell_type": "markdown",
     "metadata": {},
     "source": [
      "The \\verb|Seq| object also includes a back-transcription method for going from the mRNA to the coding strand of the DNA.  Again, this is a simple U $\\rightarrow$ T substitution and associated change of alphabet:"
     ]
    },
    {
     "cell_type": "code",
     "collapsed": false,
     "input": [
      "from Bio.Seq import Seq\n",
      ">>> from Bio.Alphabet import IUPAC\n",
      ">>> messenger_rna = Seq(\"AUGGCCAUUGUAAUGGGCCGCUGAAAGGGUGCCCGAUAG\", IUPAC.unambiguous_rna)\n",
      ">>> messenger_rna\n",
      "Seq('AUGGCCAUUGUAAUGGGCCGCUGAAAGGGUGCCCGAUAG', IUPACUnambiguousRNA())\n",
      ">>> messenger_rna.back_transcribe()\n",
      "Seq('ATGGCCATTGTAATGGGCCGCTGAAAGGGTGCCCGATAG', IUPACUnambiguousDNA())"
     ],
     "language": "python",
     "metadata": {},
     "outputs": []
    },
    {
     "cell_type": "markdown",
     "metadata": {},
     "source": [
      "The \\verb|Seq| object's \\verb|transcribe| and \\verb|back_transcribe| methods\n",
      "were added in Biopython 1.49.  For older releases you would have to use the \\verb|Bio.Seq|\n",
      "module's functions instead, see Section~\\ref{sec:seq-module-functions}."
     ]
    },
    {
     "cell_type": "heading",
     "level": 2,
     "metadata": {},
     "source": [
      "Translation"
     ]
    },
    {
     "cell_type": "markdown",
     "metadata": {},
     "source": [
      "Sticking with the same example discussed in the transcription section above,\n",
      "now let's translate this mRNA into the corresponding protein sequence - again taking\n",
      "advantage of one of the \\verb|Seq| object's biological methods:"
     ]
    },
    {
     "cell_type": "code",
     "collapsed": false,
     "input": [
      ">>> from Bio.Seq import Seq\n",
      ">>> from Bio.Alphabet import IUPAC\n",
      ">>> messenger_rna = Seq(\"AUGGCCAUUGUAAUGGGCCGCUGAAAGGGUGCCCGAUAG\", IUPAC.unambiguous_rna)\n",
      ">>> messenger_rna\n",
      "Seq('AUGGCCAUUGUAAUGGGCCGCUGAAAGGGUGCCCGAUAG', IUPACUnambiguousRNA())\n",
      ">>> messenger_rna.translate()\n",
      "Seq('MAIVMGR*KGAR*', HasStopCodon(IUPACProtein(), '*'))"
     ],
     "language": "python",
     "metadata": {},
     "outputs": []
    },
    {
     "cell_type": "markdown",
     "metadata": {},
     "source": [
      "You can also translate directly from the coding strand DNA sequence:"
     ]
    },
    {
     "cell_type": "code",
     "collapsed": false,
     "input": [
      ">>> from Bio.Seq import Seq\n",
      ">>> from Bio.Alphabet import IUPAC\n",
      ">>> coding_dna = Seq(\"ATGGCCATTGTAATGGGCCGCTGAAAGGGTGCCCGATAG\", IUPAC.unambiguous_dna)\n",
      ">>> coding_dna\n",
      "Seq('ATGGCCATTGTAATGGGCCGCTGAAAGGGTGCCCGATAG', IUPACUnambiguousDNA())\n",
      ">>> coding_dna.translate()\n",
      "Seq('MAIVMGR*KGAR*', HasStopCodon(IUPACProtein(), '*'))"
     ],
     "language": "python",
     "metadata": {},
     "outputs": []
    },
    {
     "cell_type": "markdown",
     "metadata": {},
     "source": [
      "You should notice in the above protein sequences that in addition to the end stop character, there is an internal stop as well.  This was a deliberate choice of example, as it gives an excuse to talk about some optional arguments, including different translation tables (Genetic Codes).\n",
      "\n",
      "The translation tables available in Biopython are based on those \\href{http://www.ncbi.nlm.nih.gov/Taxonomy/Utils/wprintgc.cgi}{from the NCBI} (see the next section of this tutorial).  By default, translation will use the \\emph{standard} genetic code (NCBI table id 1).\n",
      "Suppose we are dealing with a mitochondrial sequence.  We need to tell the translation function to use the relevant genetic code instead:"
     ]
    },
    {
     "cell_type": "code",
     "collapsed": false,
     "input": [
      ">>> coding_dna.translate(table=\"Vertebrate Mitochondrial\")\n",
      "Seq('MAIVMGRWKGAR*', HasStopCodon(IUPACProtein(), '*'))"
     ],
     "language": "python",
     "metadata": {},
     "outputs": []
    },
    {
     "cell_type": "markdown",
     "metadata": {},
     "source": [
      "You can also specify the table using the NCBI table number which is shorter, and often included in the feature annotation of GenBank files:\n"
     ]
    },
    {
     "cell_type": "code",
     "collapsed": false,
     "input": [
      ">>> coding_dna.translate(table=2)\n",
      "Seq('MAIVMGRWKGAR*', HasStopCodon(IUPACProtein(), '*'))"
     ],
     "language": "python",
     "metadata": {},
     "outputs": []
    },
    {
     "cell_type": "markdown",
     "metadata": {},
     "source": [
      "Now, you may want to translate the nucleotides up to the first in frame stop codon,\n",
      "and then stop (as happens in nature):"
     ]
    },
    {
     "cell_type": "code",
     "collapsed": false,
     "input": [
      ">>> coding_dna.translate()\n",
      "Seq('MAIVMGR*KGAR*', HasStopCodon(IUPACProtein(), '*'))\n",
      ">>> coding_dna.translate(to_stop=True)\n",
      "Seq('MAIVMGR', IUPACProtein())\n",
      ">>> coding_dna.translate(table=2)\n",
      "Seq('MAIVMGRWKGAR*', HasStopCodon(IUPACProtein(), '*'))\n",
      ">>> coding_dna.translate(table=2, to_stop=True)\n",
      "Seq('MAIVMGRWKGAR', IUPACProtein())"
     ],
     "language": "python",
     "metadata": {},
     "outputs": []
    },
    {
     "cell_type": "markdown",
     "metadata": {},
     "source": [
      "Notice that when you use the \\verb|to_stop| argument, the stop codon itself\n",
      "is not translated - and the stop symbol is not included at the end of your protein\n",
      "sequence.\n",
      "\n",
      "You can even specify the stop symbol if you don't like the default asterisk:"
     ]
    },
    {
     "cell_type": "code",
     "collapsed": false,
     "input": [
      ">>> coding_dna.translate(table=2, stop_symbol=\"@\")\n",
      "Seq('MAIVMGRWKGAR@', HasStopCodon(IUPACProtein(), '@'))\n"
     ],
     "language": "python",
     "metadata": {},
     "outputs": []
    },
    {
     "cell_type": "markdown",
     "metadata": {},
     "source": [
      "Now, suppose you have a complete coding sequence CDS, which is to say a\n",
      "nucleotide sequence (e.g. mRNA -- after any splicing) which is a whole number\n",
      "of codons (i.e. the length is a multiple of three), commences with a start\n",
      "codon, ends with a stop codon, and has no internal in-frame stop codons.\n",
      "In general, given a complete CDS, the default translate method will do what\n",
      "you want (perhaps with the \\verb|to_stop| option). However, what if your\n",
      "sequence uses a non-standard start codon? This happens a lot in bacteria --\n",
      "for example the gene yaaX in \\texttt{E. coli} K12:"
     ]
    },
    {
     "cell_type": "code",
     "collapsed": false,
     "input": [
      ">>> from Bio.Seq import Seq\n",
      ">>> from Bio.Alphabet import generic_dna\n",
      ">>> gene = Seq(\"GTGAAAAAGATGCAATCTATCGTACTCGCACTTTCCCTGGTTCTGGTCGCTCCCATGGCA\" + \\\n",
      "...            \"GCACAGGCTGCGGAAATTACGTTAGTCCCGTCAGTAAAATTACAGATAGGCGATCGTGAT\" + \\\n",
      "...            \"AATCGTGGCTATTACTGGGATGGAGGTCACTGGCGCGACCACGGCTGGTGGAAACAACAT\" + \\\n",
      "...            \"TATGAATGGCGAGGCAATCGCTGGCACCTACACGGACCGCCGCCACCGCCGCGCCACCAT\" + \\\n",
      "...            \"AAGAAAGCTCCTCATGATCATCACGGCGGTCATGGTCCAGGCAAACATCACCGCTAA\",\n",
      "...            generic_dna)\n",
      ">>> gene.translate(table=\"Bacterial\")\n",
      "Seq('VKKMQSIVLALSLVLVAPMAAQAAEITLVPSVKLQIGDRDNRGYYWDGGHWRDH...HR*',\n",
      "HasStopCodon(ExtendedIUPACProtein(), '*')\n",
      ">>> gene.translate(table=\"Bacterial\", to_stop=True)\n",
      "Seq('VKKMQSIVLALSLVLVAPMAAQAAEITLVPSVKLQIGDRDNRGYYWDGGHWRDH...HHR',\n",
      "ExtendedIUPACProtein())"
     ],
     "language": "python",
     "metadata": {},
     "outputs": []
    },
    {
     "cell_type": "markdown",
     "metadata": {},
     "source": [
      "In the bacterial genetic code \\texttt{GTG} is a valid start codon,\n",
      "and while it does \\emph{normally} encode Valine, if used as a start codon it\n",
      "should be translated as methionine. This happens if you tell Biopython your\n",
      "sequence is a complete CDS:"
     ]
    },
    {
     "cell_type": "code",
     "collapsed": false,
     "input": [
      ">>> gene.translate(table=\"Bacterial\", cds=True)\n",
      "Seq('MKKMQSIVLALSLVLVAPMAAQAAEITLVPSVKLQIGDRDNRGYYWDGGHWRDH...HHR',\n",
      "ExtendedIUPACProtein())"
     ],
     "language": "python",
     "metadata": {},
     "outputs": []
    },
    {
     "cell_type": "markdown",
     "metadata": {},
     "source": [
      "In addition to telling Biopython to translate an alternative start codon as\n",
      "methionine, using this option also makes sure your sequence really is a valid\n",
      "CDS (you'll get an exception if not).\n",
      "\n",
      "The example in Section~\\ref{sec:SeqIO-translate} combines the \\verb|Seq| object's\n",
      "translate method with \\verb|Bio.SeqIO| for sequence input/output."
     ]
    },
    {
     "cell_type": "heading",
     "level": 2,
     "metadata": {},
     "source": [
      "Translation Tables"
     ]
    },
    {
     "cell_type": "markdown",
     "metadata": {},
     "source": [
      "In the previous sections we talked about the \\verb|Seq| object translation method (and mentioned the equivalent function in the \\verb|Bio.Seq| module -- see\n",
      "Section~\\ref{sec:seq-module-functions}).\n",
      "Internally these use codon table objects derived from the NCBI information at\n",
      "\\url{ftp://ftp.ncbi.nlm.nih.gov/entrez/misc/data/gc.prt}, also shown on\n",
      "\\url{http://www.ncbi.nlm.nih.gov/Taxonomy/Utils/wprintgc.cgi} in a much more readable layout.\n",
      "\n",
      "As before, let's just focus on two choices: the Standard translation table, and the\n",
      "translation table for Vertebrate Mitochondrial DNA."
     ]
    },
    {
     "cell_type": "code",
     "collapsed": false,
     "input": [
      ">>> from Bio.Data import CodonTable\n",
      ">>> standard_table = CodonTable.unambiguous_dna_by_name[\"Standard\"]\n",
      ">>> mito_table = CodonTable.unambiguous_dna_by_name[\"Vertebrate Mitochondrial\"]"
     ],
     "language": "python",
     "metadata": {},
     "outputs": []
    },
    {
     "cell_type": "markdown",
     "metadata": {},
     "source": [
      "Alternatively, these tables are labeled with ID numbers 1 and 2, respectively:"
     ]
    },
    {
     "cell_type": "code",
     "collapsed": false,
     "input": [
      ">>> from Bio.Data import CodonTable\n",
      ">>> standard_table = CodonTable.unambiguous_dna_by_id[1]\n",
      ">>> mito_table = CodonTable.unambiguous_dna_by_id[2]"
     ],
     "language": "python",
     "metadata": {},
     "outputs": []
    },
    {
     "cell_type": "markdown",
     "metadata": {},
     "source": [
      "You can compare the actual tables visually by printing them:"
     ]
    },
    {
     "cell_type": "code",
     "collapsed": false,
     "input": [
      "print(standard_table)"
     ],
     "language": "python",
     "metadata": {},
     "outputs": []
    },
    {
     "cell_type": "code",
     "collapsed": false,
     "input": [
      "print(mito_table)"
     ],
     "language": "python",
     "metadata": {},
     "outputs": []
    },
    {
     "cell_type": "markdown",
     "metadata": {},
     "source": [
      "You may find these following properties useful -- for example if you are trying\n",
      "to do your own gene finding:"
     ]
    },
    {
     "cell_type": "code",
     "collapsed": false,
     "input": [
      ">>> mito_table.stop_codons\n",
      "['TAA', 'TAG', 'AGA', 'AGG']\n",
      ">>> mito_table.start_codons\n",
      "['ATT', 'ATC', 'ATA', 'ATG', 'GTG']\n",
      ">>> mito_table.forward_table[\"ACG\"]\n",
      "'T'"
     ],
     "language": "python",
     "metadata": {},
     "outputs": []
    },
    {
     "cell_type": "heading",
     "level": 2,
     "metadata": {},
     "source": [
      "Comparing Seq objects"
     ]
    },
    {
     "cell_type": "markdown",
     "metadata": {},
     "source": [
      "Sequence comparison is actually a very complicated topic, and there is no easy\n",
      "way to decide if two sequences are equal. The basic problem is the meaning of\n",
      "the letters in a sequence are context dependent - the letter ``A'' could be part\n",
      "of a DNA, RNA or protein sequence. Biopython uses alphabet objects as part of\n",
      "each \\verb|Seq| object to try and capture this information - so comparing two\n",
      "\\verb|Seq| objects means considering both the sequence strings \\emph{and} the\n",
      "alphabets.\n",
      "\n",
      "For example, you might argue that the two DNA \\verb|Seq| objects\n",
      "\\texttt{Seq(\"ACGT\", IUPAC.unambiguous\\_dna)} and\n",
      "\\texttt{Seq(\"ACGT\", IUPAC.ambiguous\\_dna)} should be equal, even though\n",
      "they do have different alphabets. Depending on the context this could be\n",
      "important.\n",
      "\n",
      "This gets worse -- suppose you think \\texttt{Seq(\"ACGT\",\n",
      "IUPAC.unambiguous\\_dna)} and \\texttt{Seq(\"ACGT\")} (i.e. the default generic\n",
      "alphabet) should be equal. Then, logically, \\texttt{Seq(\"ACGT\", IUPAC.protein)}\n",
      "and \\texttt{Seq(\"ACGT\")} should also be equal. Now, in logic if $A=B$ and\n",
      "$B=C$, by transitivity we expect $A=C$. So for logical consistency we'd\n",
      "require \\texttt{Seq(\"ACGT\", IUPAC.unambiguous\\_dna)} and \\texttt{Seq(\"ACGT\",\n",
      "IUPAC.protein)} to be equal -- which most people would agree is just not right.\n",
      "This transitivity problem would also have implications for using \\verb|Seq|\n",
      "objects as Python dictionary keys."
     ]
    },
    {
     "cell_type": "code",
     "collapsed": false,
     "input": [
      "from Bio.Seq import Seq\n",
      ">>> from Bio.Alphabet import IUPAC\n",
      ">>> seq1 = Seq(\"ACGT\", IUPAC.unambiguous_dna)\n",
      ">>> seq2 = Seq(\"ACGT\", IUPAC.unambiguous_dna)"
     ],
     "language": "python",
     "metadata": {},
     "outputs": []
    },
    {
     "cell_type": "markdown",
     "metadata": {},
     "source": [
      "So, what does Biopython do? Well, the equality test is the default for Python\n",
      "objects -- it tests to see if they are the same object in memory. This is a\n",
      "very strict test:"
     ]
    },
    {
     "cell_type": "code",
     "collapsed": false,
     "input": [
      "seq1 == seq2\n",
      "False\n",
      ">>> seq1 == seq1\n",
      "True\n"
     ],
     "language": "python",
     "metadata": {},
     "outputs": []
    },
    {
     "cell_type": "markdown",
     "metadata": {},
     "source": [
      "If you actually want to do this, you can be more explicit by using the Python\n",
      "\\verb|id| function,"
     ]
    },
    {
     "cell_type": "code",
     "collapsed": false,
     "input": [
      "id(seq1) == id(seq2)\n",
      "False\n",
      ">>> id(seq1) == id(seq1)\n",
      "True"
     ],
     "language": "python",
     "metadata": {},
     "outputs": []
    },
    {
     "cell_type": "markdown",
     "metadata": {},
     "source": [
      "Now, in every day use, your sequences will probably all have the same\n",
      "alphabet, or at least all be the same type of sequence (all DNA, all RNA, or\n",
      "all protein). What you probably want is to just compare the sequences as\n",
      "strings -- so do this explicitly:\n"
     ]
    },
    {
     "cell_type": "code",
     "collapsed": false,
     "input": [
      "str(seq1) == str(seq2)\n",
      "True\n",
      ">>> str(seq1) == str(seq1)"
     ],
     "language": "python",
     "metadata": {},
     "outputs": []
    },
    {
     "cell_type": "markdown",
     "metadata": {},
     "source": [
      "As an extension to this, while you can use a Python dictionary with\n",
      "\\verb|Seq| objects as keys, it is generally more useful to use the sequence a\n",
      "string for the key. See also Section~\\ref{sec:seq-to-string}."
     ]
    },
    {
     "cell_type": "heading",
     "level": 2,
     "metadata": {},
     "source": [
      "MutableSeq Objects"
     ]
    },
    {
     "cell_type": "markdown",
     "metadata": {},
     "source": [
      "Just like the normal Python string, the \\verb|Seq| object is ``read only'', or in Python terminology, immutable.  Apart from wanting the \\verb|Seq| object to act like a string, this is also a useful default since in many biological applications you want to ensure you are not changing your sequence data:"
     ]
    },
    {
     "cell_type": "code",
     "collapsed": false,
     "input": [
      "from Bio.Seq import Seq\n",
      ">>> from Bio.Alphabet import IUPAC\n",
      ">>> my_seq = Seq(\"GCCATTGTAATGGGCCGCTGAAAGGGTGCCCGA\", IUPAC.unambiguous_dna)"
     ],
     "language": "python",
     "metadata": {},
     "outputs": []
    },
    {
     "cell_type": "markdown",
     "metadata": {},
     "source": [
      "Observe what happens if you try to edit the sequence:"
     ]
    },
    {
     "cell_type": "code",
     "collapsed": false,
     "input": [
      ">>> my_seq[5] = \"G\"\n",
      "Traceback (most recent call last):\n",
      "...\n",
      "TypeError: 'Seq' object does not support item assignment"
     ],
     "language": "python",
     "metadata": {},
     "outputs": []
    },
    {
     "cell_type": "markdown",
     "metadata": {},
     "source": [
      "However, you can convert it into a mutable sequence (a \\verb|MutableSeq| object) and do pretty much anything you want with it"
     ]
    },
    {
     "cell_type": "code",
     "collapsed": false,
     "input": [
      ">>> mutable_seq = my_seq.tomutable()\n",
      ">>> mutable_seq\n",
      "MutableSeq('GCCATTGTAATGGGCCGCTGAAAGGGTGCCCGA', IUPACUnambiguousDNA())"
     ],
     "language": "python",
     "metadata": {},
     "outputs": []
    },
    {
     "cell_type": "markdown",
     "metadata": {},
     "source": [
      "Alternatively, you can create a \\verb|MutableSeq| object directly from a string:"
     ]
    },
    {
     "cell_type": "code",
     "collapsed": false,
     "input": [
      ">>> from Bio.Seq import MutableSeq\n",
      ">>> from Bio.Alphabet import IUPAC\n",
      ">>> mutable_seq = MutableSeq(\"GCCATTGTAATGGGCCGCTGAAAGGGTGCCCGA\", IUPAC.unambiguous_dna)\n"
     ],
     "language": "python",
     "metadata": {},
     "outputs": []
    },
    {
     "cell_type": "markdown",
     "metadata": {},
     "source": [
      "Either way will give you a sequence object which can be changed:\n"
     ]
    },
    {
     "cell_type": "code",
     "collapsed": false,
     "input": [
      ">>> mutable_seq\n",
      "MutableSeq('GCCATTGTAATGGGCCGCTGAAAGGGTGCCCGA', IUPACUnambiguousDNA())\n",
      ">>> mutable_seq[5] = \"C\"\n",
      ">>> mutable_seq\n",
      "MutableSeq('GCCATCGTAATGGGCCGCTGAAAGGGTGCCCGA', IUPACUnambiguousDNA())\n",
      ">>> mutable_seq.remove(\"T\")\n",
      ">>> mutable_seq\n",
      "MutableSeq('GCCACGTAATGGGCCGCTGAAAGGGTGCCCGA', IUPACUnambiguousDNA())\n",
      ">>> mutable_seq.reverse()\n",
      ">>> mutable_seq\n",
      "MutableSeq('AGCCCGTGGGAAAGTCGCCGGGTAATGCACCG', IUPACUnambiguousDNA())\n"
     ],
     "language": "python",
     "metadata": {},
     "outputs": []
    },
    {
     "cell_type": "markdown",
     "metadata": {},
     "source": [
      "Do note that unlike the \\verb|Seq| object, the \\verb|MutableSeq| object's methods like \\verb|reverse_complement()| and \\verb|reverse()| act in-situ!\n",
      "\n",
      "An important technical difference between mutable and immutable objects in Python means that you can't use a \\verb|MutableSeq| object as a dictionary key, but you can use a Python string or \n",
      "a \\verb|Seq| object in this way.\n",
      "\n",
      "Once you have finished editing your a \\verb|MutableSeq| object, it's easy to get back to a read-only \\verb|Seq| object should you need to:"
     ]
    },
    {
     "cell_type": "code",
     "collapsed": false,
     "input": [
      ">>> new_seq = mutable_seq.toseq()\n",
      ">>> new_seq\n",
      "Seq('AGCCCGTGGGAAAGTCGCCGGGTAATGCACCG', IUPACUnambiguousDNA())"
     ],
     "language": "python",
     "metadata": {},
     "outputs": []
    },
    {
     "cell_type": "markdown",
     "metadata": {},
     "source": [
      "You can also get a string from a \\verb|MutableSeq| object just like from a \\verb|Seq| object (Section~\\ref{sec:seq-to-string})."
     ]
    },
    {
     "cell_type": "heading",
     "level": 2,
     "metadata": {},
     "source": [
      "UnknownSeq Objects"
     ]
    },
    {
     "cell_type": "markdown",
     "metadata": {},
     "source": [
      "The \\verb|UnknownSeq| object is a subclass of the basic \\verb|Seq| object\n",
      "and its purpose is to represent a\n",
      "sequence where we know the length, but not the actual letters making it up.\n",
      "You could of course use a normal \\verb|Seq| object in this situation, but it wastes\n",
      "rather a lot of memory to hold a string of a million ``N'' characters when you could\n",
      "just store a single letter ``N'' and the desired length as an integer.\n"
     ]
    },
    {
     "cell_type": "code",
     "collapsed": false,
     "input": [
      ">>> from Bio.Seq import UnknownSeq\n",
      ">>> unk = UnknownSeq(20)\n",
      ">>> unk\n",
      "UnknownSeq(20, alphabet = Alphabet(), character = '?')\n",
      ">>> print(unk)\n",
      "????????????????????\n",
      ">>> len(unk)\n",
      "20"
     ],
     "language": "python",
     "metadata": {},
     "outputs": []
    },
    {
     "cell_type": "markdown",
     "metadata": {},
     "source": [
      "You can of course specify an alphabet, meaning for nucleotide sequences\n",
      "the letter defaults to ``N'' and for proteins ``X'', rather than just ``?''.\n"
     ]
    },
    {
     "cell_type": "code",
     "collapsed": false,
     "input": [
      ">>> from Bio.Seq import UnknownSeq\n",
      ">>> from Bio.Alphabet import IUPAC\n",
      ">>> unk_dna = UnknownSeq(20, alphabet=IUPAC.ambiguous_dna)\n",
      ">>> unk_dna\n",
      "UnknownSeq(20, alphabet = IUPACAmbiguousDNA(), character = 'N')\n",
      ">>> print(unk_dna)\n",
      "NNNNNNNNNNNNNNNNNNNN\n"
     ],
     "language": "python",
     "metadata": {},
     "outputs": []
    },
    {
     "cell_type": "markdown",
     "metadata": {},
     "source": [
      "You can use all the usual \\verb|Seq| object methods too, note these give back\n",
      "memory saving \\verb|UnknownSeq| objects where appropriate as you might expect:\n"
     ]
    },
    {
     "cell_type": "code",
     "collapsed": false,
     "input": [
      ">>> unk_dna\n",
      "UnknownSeq(20, alphabet = IUPACAmbiguousDNA(), character = 'N')\n",
      ">>> unk_dna.complement()\n",
      "UnknownSeq(20, alphabet = IUPACAmbiguousDNA(), character = 'N')\n",
      ">>> unk_dna.reverse_complement()\n",
      "UnknownSeq(20, alphabet = IUPACAmbiguousDNA(), character = 'N')\n",
      ">>> unk_dna.transcribe()\n",
      "UnknownSeq(20, alphabet = IUPACAmbiguousRNA(), character = 'N')\n",
      ">>> unk_protein = unk_dna.translate()\n",
      ">>> unk_protein\n",
      "UnknownSeq(6, alphabet = ProteinAlphabet(), character = 'X')\n",
      ">>> print(unk_protein)\n",
      "XXXXXX\n",
      ">>> len(unk_protein)\n",
      "6"
     ],
     "language": "python",
     "metadata": {},
     "outputs": []
    },
    {
     "cell_type": "markdown",
     "metadata": {},
     "source": [
      "You may be able to find a use for the \\verb|UnknownSeq| object in your own\n",
      "code, but it is more likely that you will first come across them in a\n",
      "\\verb|SeqRecord| object created by \\verb|Bio.SeqIO|\n",
      "(see Chapter~\\ref{chapter:Bio.SeqIO}).\n",
      "Some sequence file formats don't always include the actual sequence, for\n",
      "example GenBank and EMBL files may include a list of features but for the\n",
      "sequence just present the contig information.  Alternatively, the QUAL files\n",
      "used in sequencing work hold quality scores but they \\emph{never} contain a\n",
      "sequence -- instead there is a partner FASTA file which \\emph{does} have the\n",
      "sequence."
     ]
    },
    {
     "cell_type": "heading",
     "level": 2,
     "metadata": {},
     "source": [
      "Working with strings directly"
     ]
    },
    {
     "cell_type": "markdown",
     "metadata": {},
     "source": [
      "To close this chapter, for those you who \\emph{really} don't want to use the sequence\n",
      "objects (or who prefer a functional programming style to an object orientated one),\n",
      "there are module level functions in \\verb|Bio.Seq| will accept plain Python strings,\n",
      "\\verb|Seq| objects (including \\verb|UnknownSeq| objects) or \\verb|MutableSeq| objects:\n"
     ]
    },
    {
     "cell_type": "code",
     "collapsed": false,
     "input": [
      ">>> from Bio.Seq import reverse_complement, transcribe, back_transcribe, translate\n",
      ">>> my_string = \"GCTGTTATGGGTCGTTGGAAGGGTGGTCGTGCTGCTGGTTAG\"\n",
      ">>> reverse_complement(my_string)\n",
      "'CTAACCAGCAGCACGACCACCCTTCCAACGACCCATAACAGC'\n",
      ">>> transcribe(my_string)\n",
      "'GCUGUUAUGGGUCGUUGGAAGGGUGGUCGUGCUGCUGGUUAG'\n",
      ">>> back_transcribe(my_string)\n",
      "'GCTGTTATGGGTCGTTGGAAGGGTGGTCGTGCTGCTGGTTAG'\n",
      ">>> translate(my_string)\n",
      "'AVMGRWKGGRAAG*'"
     ],
     "language": "python",
     "metadata": {},
     "outputs": []
    },
    {
     "cell_type": "markdown",
     "metadata": {},
     "source": [
      "You are, however, encouraged to work with \\verb|Seq| objects by default."
     ]
    },
    {
     "cell_type": "code",
     "collapsed": false,
     "input": [],
     "language": "python",
     "metadata": {},
     "outputs": []
    }
   ],
   "metadata": {}
  }
 ]
}