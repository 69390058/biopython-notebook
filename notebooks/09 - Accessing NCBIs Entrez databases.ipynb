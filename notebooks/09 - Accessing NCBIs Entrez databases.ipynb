{
 "cells": [
  {
   "cell_type": "markdown",
   "metadata": {},
   "source": [
    "**Source of the materials**: Biopython cookbook (adapted)\n",
    "<font color='red'>Status: Draft</font>"
   ]
  },
  {
   "cell_type": "markdown",
   "metadata": {},
   "source": [
    "Accessing NCBI’s Entrez databases\n",
    "==================\n",
    "\n",
    "[Entrez Guidelines](Entrez Guidelines)\n",
    "\n",
    "[EInfo: Obtaining information about the Entrez databases](#EInfo:-Obtaining-information-about-the-Entrez-databases)\n",
    "\n",
    "[ESearch: Searching the Entrez databases](#ESearch:-Searching-the-Entrez-databases)\n",
    "\n",
    "[EPost: Uploading a list of identifiers](#EPost:-Uploading-a-list-of-identifiers)\n",
    "\n",
    "[EFetch: Downloading full records from Entrez](#EFetch:-Downloading-full-records-from-Entrez)\n",
    "\n",
    "[Specialized parsers](#Specialized-parsers)\n",
    "\n",
    "\n",
    "Entrez (<http://www.ncbi.nlm.nih.gov/Entrez>) is a data retrieval system\n",
    "that provides users access to NCBI’s databases such as PubMed, GenBank,\n",
    "GEO, and many others. You can access Entrez from a web browser to\n",
    "manually enter queries, or you can use Biopython’s `Bio.Entrez` module\n",
    "for programmatic access to Entrez. The latter allows you for example to\n",
    "search PubMed or download GenBank records from within a Python script.\n",
    "\n",
    "The `Bio.Entrez` module makes use of the Entrez Programming Utilities\n",
    "(also known as EUtils), consisting of eight tools that are described in\n",
    "detail on NCBI’s page at <http://www.ncbi.nlm.nih.gov/entrez/utils/>.\n",
    "Each of these tools corresponds to one Python function in the\n",
    "`Bio.Entrez` module, as described in the sections below. This module\n",
    "makes sure that the correct URL is used for the queries, and that not\n",
    "more than one request is made every three seconds, as required by NCBI.\n",
    "\n",
    "The output returned by the Entrez Programming Utilities is typically in\n",
    "XML format. To parse such output, you have several options:\n",
    "\n",
    "1.  Use `Bio.Entrez`’s parser to parse the XML output into a Python\n",
    "    object;\n",
    "\n",
    "2.  Use the DOM (Document Object Model) parser in Python’s standard\n",
    "    library;\n",
    "\n",
    "3.  Use the SAX (Simple API for XML) parser in Python’s standard\n",
    "    library;\n",
    "\n",
    "4.  Read the XML output as raw text, and parse it by string searching\n",
    "    and manipulation.\n",
    "\n",
    "For the DOM and SAX parsers, see the Python documentation. The parser in\n",
    "`Bio.Entrez` is discussed below.\n",
    "\n",
    "NCBI uses DTD (Document Type Definition) files to describe the structure\n",
    "of the information contained in XML files. Most of the DTD files used by\n",
    "NCBI are included in the Biopython distribution. The `Bio.Entrez` parser\n",
    "makes use of the DTD files when parsing an XML file returned by NCBI\n",
    "Entrez.\n",
    "\n",
    "Occasionally, you may find that the DTD file associated with a specific\n",
    "XML file is missing in the Biopython distribution. In particular, this\n",
    "may happen when NCBI updates its DTD files. If this happens,\n",
    "`Entrez.read` will show a warning message with the name and URL of the\n",
    "missing DTD file. The parser will proceed to access the missing DTD file\n",
    "through the internet, allowing the parsing of the XML file to continue.\n",
    "However, the parser is much faster if the DTD file is available locally.\n",
    "For this purpose, please download the DTD file from the URL in the\n",
    "warning message and place it in the directory\n",
    "`...site-packages/Bio/Entrez/DTDs`, containing the other DTD files. If\n",
    "you don’t have write access to this directory, you can also place the\n",
    "DTD file in `~/.biopython/Bio/Entrez/DTDs`, where `~` represents your\n",
    "home directory. Since this directory is read before the directory\n",
    "`...site-packages/Bio/Entrez/DTDs`, you can also put newer versions of\n",
    "DTD files there if the ones in `...site-packages/Bio/Entrez/DTDs` become\n",
    "outdated. Alternatively, if you installed Biopython from source, you can\n",
    "add the DTD file to the source code’s `Bio/Entrez/DTDs` directory, and\n",
    "reinstall Biopython. This will install the new DTD file in the correct\n",
    "location together with the other DTD files.\n",
    "\n",
    "The Entrez Programming Utilities can also generate output in other\n",
    "formats, such as the Fasta or GenBank file formats for sequence\n",
    "databases, or the MedLine format for the literature database, discussed\n",
    "in Section \\[sec:entrez-specialized-parsers\\].\n",
    "\n",
    "Entrez Guidelines\n",
    "----------------\n",
    "\n",
    "Before using Biopython to access the NCBI’s online resources (via\n",
    "`Bio.Entrez` or some of the other modules), please read the [NCBI’s Entrez User Requirements](http://www.ncbi.nlm.nih.gov/books/NBK25497/#chapter2.Usage_Guidelines_and_Requiremen).\n",
    "If the NCBI finds you are abusing their systems, they can and will ban\n",
    "your access!\n",
    "\n",
    "To paraphrase:\n",
    "\n",
    "-   For any series of more than 100 requests, do this at weekends or\n",
    "    outside USA peak times. This is up to you to obey.\n",
    "\n",
    "-   Use the <http://eutils.ncbi.nlm.nih.gov> address, not the standard\n",
    "    NCBI Web address. Biopython uses this web address.\n",
    "\n",
    "-   Make no more than three requests every seconds (relaxed from at most\n",
    "    one request every three seconds in early 2009). This is\n",
    "    automatically enforced by Biopython.\n",
    "\n",
    "-   Use the optional email parameter so the NCBI can contact you if\n",
    "    there is a problem. You can either explicitly set this as a\n",
    "    parameter with each call to Entrez (e.g. include\n",
    "    <span>email=“A.N.Other@example.com”</span> in the argument list), or\n",
    "    you can set a global email address:\n",
    "\n"
   ]
  },
  {
   "cell_type": "code",
   "execution_count": 68,
   "metadata": {
    "collapsed": true
   },
   "outputs": [],
   "source": [
    "from Bio import Entrez\n",
    "Entrez.email = \"A.N.Other@example.com\""
   ]
  },
  {
   "cell_type": "markdown",
   "metadata": {},
   "source": [
    "\n",
    "<span>Bio.Entrez</span> will then use this email address with each\n",
    "call to Entrez. The <span>example.com</span> address is a reserved\n",
    "domain name specifically for documentation (RFC 2606). Please DO NOT\n",
    "use a random email – it’s better not to give an email at all. The\n",
    "email parameter will be mandatory from June 1, 2010. In case of\n",
    "excessive usage, NCBI will attempt to contact a user at the e-mail\n",
    "address provided prior to blocking access to the E-utilities.\n",
    "\n",
    "If you are using Biopython within some larger software suite, use\n",
    "the tool parameter to specify this. You can either explicitly set\n",
    "the tool name as a parameter with each call to Entrez (e.g. include\n",
    "<span>tool=“MyLocalScript”</span> in the argument list), or you can\n",
    "set a global tool name:\n",
    "\n"
   ]
  },
  {
   "cell_type": "code",
   "execution_count": 20,
   "metadata": {
    "collapsed": true
   },
   "outputs": [],
   "source": [
    "from Bio import Entrez\n",
    "Entrez.tool = \"MyLocalScript\""
   ]
  },
  {
   "cell_type": "markdown",
   "metadata": {},
   "source": [
    "\n",
    "    The tool parameter will default to Biopython.\n",
    "\n",
    "-   For large queries, the NCBI also recommend using their session\n",
    "    history feature (the WebEnv session cookie string,\n",
    "    see Section \\[sec:entrez-webenv\\]). This is only slightly\n",
    "    more complicated.\n",
    "\n",
    "In conclusion, be sensible with your usage levels. If you plan to\n",
    "download lots of data, consider other options. For example, if you want\n",
    "easy access to all the human genes, consider fetching each chromosome by\n",
    "FTP as a GenBank file, and importing these into your own BioSQL database\n",
    "(see Section \\[sec:BioSQL\\]).\n",
    "\n",
    "EInfo: Obtaining information about the Entrez databases\n",
    "----------------------------------------------------\n",
    "\n",
    "- [einfo source](http://biopython.org/DIST/docs/api/Bio.Entrez-pysrc.html#einfo)\n",
    "\n",
    "EInfo provides field index term counts, last update, and available links\n",
    "for each of NCBI’s databases. In addition, you can use EInfo to obtain a\n",
    "list of all database names accessible through the Entrez utilities. The variable `result` now contains a list of databases in XML format:\n"
   ]
  },
  {
   "cell_type": "code",
   "execution_count": 4,
   "metadata": {
    "collapsed": false
   },
   "outputs": [
    {
     "name": "stdout",
     "output_type": "stream",
     "text": [
      "<?xml version=\"1.0\" encoding=\"UTF-8\"?>\n",
      "<!DOCTYPE eInfoResult PUBLIC \"-//NLM//DTD einfo 20130322//EN\" \"http://eutils.ncbi.nlm.nih.gov/eutils/dtd/20130322/einfo.dtd\">\n",
      "<eInfoResult>\n",
      "<DbList>\n",
      "\n",
      "\t<DbName>pubmed</DbName>\n",
      "\t<DbName>protein</DbName>\n",
      "\t<DbName>nuccore</DbName>\n",
      "\t<DbName>nucleotide</DbName>\n",
      "\t<DbName>nucgss</DbName>\n",
      "\t<DbName>nucest</DbName>\n",
      "\t<DbName>structure</DbName>\n",
      "\t<DbName>genome</DbName>\n",
      "\t<DbName>annotinfo</DbName>\n",
      "\t<DbName>assembly</DbName>\n",
      "\t<DbName>bioproject</DbName>\n",
      "\t<DbName>biosample</DbName>\n",
      "\t<DbName>blastdbinfo</DbName>\n",
      "\t<DbName>books</DbName>\n",
      "\t<DbName>cdd</DbName>\n",
      "\t<DbName>clinvar</DbName>\n",
      "\t<DbName>clone</DbName>\n",
      "\t<DbName>gap</DbName>\n",
      "\t<DbName>gapplus</DbName>\n",
      "\t<DbName>grasp</DbName>\n",
      "\t<DbName>dbvar</DbName>\n",
      "\t<DbName>epigenomics</DbName>\n",
      "\t<DbName>gene</DbName>\n",
      "\t<DbName>gds</DbName>\n",
      "\t<DbName>geoprofiles</DbName>\n",
      "\t<DbName>homologene</DbName>\n",
      "\t<DbName>medgen</DbName>\n",
      "\t<DbName>mesh</DbName>\n",
      "\t<DbName>ncbisearch</DbName>\n",
      "\t<DbName>nlmcatalog</DbName>\n",
      "\t<DbName>omim</DbName>\n",
      "\t<DbName>orgtrack</DbName>\n",
      "\t<DbName>pmc</DbName>\n",
      "\t<DbName>popset</DbName>\n",
      "\t<DbName>probe</DbName>\n",
      "\t<DbName>proteinclusters</DbName>\n",
      "\t<DbName>pcassay</DbName>\n",
      "\t<DbName>biosystems</DbName>\n",
      "\t<DbName>pccompound</DbName>\n",
      "\t<DbName>pcsubstance</DbName>\n",
      "\t<DbName>pubmedhealth</DbName>\n",
      "\t<DbName>seqannot</DbName>\n",
      "\t<DbName>snp</DbName>\n",
      "\t<DbName>sra</DbName>\n",
      "\t<DbName>taxonomy</DbName>\n",
      "\t<DbName>unigene</DbName>\n",
      "\t<DbName>gencoll</DbName>\n",
      "\t<DbName>gtr</DbName>\n",
      "</DbList>\n",
      "\n",
      "</eInfoResult>\n",
      "\n"
     ]
    }
   ],
   "source": [
    "from Bio import Entrez\n",
    "Entrez.email = \"A.N.Other@example.com\"     # Always tell NCBI who you are\n",
    "handle = Entrez.einfo()\n",
    "result = handle.read()\n",
    "print(result)\n"
   ]
  },
  {
   "cell_type": "markdown",
   "metadata": {},
   "source": [
    "\n",
    "Since this is a fairly simple XML file, we could extract the information\n",
    "it contains simply by string searching. Using `Bio.Entrez`’s parser\n",
    "instead, we can directly parse this XML file into a Python object:\n",
    "\n"
   ]
  },
  {
   "cell_type": "code",
   "execution_count": 31,
   "metadata": {
    "collapsed": false
   },
   "outputs": [],
   "source": [
    "from Bio import Entrez\n",
    "handle = Entrez.einfo()\n",
    "record = Entrez.read(handle)"
   ]
  },
  {
   "cell_type": "markdown",
   "metadata": {},
   "source": [
    "\n",
    "Now `record` is a dictionary with exactly one key:\n",
    "\n"
   ]
  },
  {
   "cell_type": "code",
   "execution_count": 32,
   "metadata": {
    "collapsed": false
   },
   "outputs": [
    {
     "data": {
      "text/plain": [
       "dict_keys(['DbList'])"
      ]
     },
     "execution_count": 32,
     "metadata": {},
     "output_type": "execute_result"
    }
   ],
   "source": [
    "record.keys()"
   ]
  },
  {
   "cell_type": "markdown",
   "metadata": {},
   "source": [
    "\n",
    "The values stored in this key is the list of database names shown in the\n",
    "XML above:\n",
    "\n"
   ]
  },
  {
   "cell_type": "code",
   "execution_count": 33,
   "metadata": {
    "collapsed": false
   },
   "outputs": [
    {
     "data": {
      "text/plain": [
       "['pubmed', 'protein', 'nuccore', 'nucleotide', 'nucgss', 'nucest', 'structure', 'genome', 'annotinfo', 'assembly', 'bioproject', 'biosample', 'blastdbinfo', 'books', 'cdd', 'clinvar', 'clone', 'gap', 'gapplus', 'grasp', 'dbvar', 'epigenomics', 'gene', 'gds', 'geoprofiles', 'homologene', 'medgen', 'mesh', 'ncbisearch', 'nlmcatalog', 'omim', 'orgtrack', 'pmc', 'popset', 'probe', 'proteinclusters', 'pcassay', 'biosystems', 'pccompound', 'pcsubstance', 'pubmedhealth', 'seqannot', 'snp', 'sra', 'taxonomy', 'unigene', 'gencoll', 'gtr']"
      ]
     },
     "execution_count": 33,
     "metadata": {},
     "output_type": "execute_result"
    }
   ],
   "source": [
    "record[\"DbList\"]"
   ]
  },
  {
   "cell_type": "markdown",
   "metadata": {},
   "source": [
    "\n",
    "For each of these databases, we can use EInfo again to obtain more\n",
    "information:\n",
    "\n"
   ]
  },
  {
   "cell_type": "code",
   "execution_count": 46,
   "metadata": {
    "collapsed": false
   },
   "outputs": [
    {
     "data": {
      "text/plain": [
       "'PubMed bibliographic record'"
      ]
     },
     "execution_count": 46,
     "metadata": {},
     "output_type": "execute_result"
    }
   ],
   "source": [
    "from Bio import Entrez\n",
    "handle = Entrez.einfo(db=\"pubmed\")\n",
    "record = Entrez.read(handle)\n",
    "record[\"DbInfo\"][\"Description\"]"
   ]
  },
  {
   "cell_type": "code",
   "execution_count": 47,
   "metadata": {
    "collapsed": false
   },
   "outputs": [
    {
     "data": {
      "text/plain": [
       "dict_keys(['FieldList', 'MenuName', 'DbBuild', 'LastUpdate', 'DbName', 'Count', 'LinkList', 'Description'])"
      ]
     },
     "execution_count": 47,
     "metadata": {},
     "output_type": "execute_result"
    }
   ],
   "source": [
    "record['DbInfo'].keys()"
   ]
  },
  {
   "cell_type": "code",
   "execution_count": 26,
   "metadata": {
    "collapsed": false
   },
   "outputs": [
    {
     "data": {
      "text/plain": [
       "'PubMed bibliographic record'"
      ]
     },
     "execution_count": 26,
     "metadata": {},
     "output_type": "execute_result"
    }
   ],
   "source": [
    "handle = Entrez.einfo(db=\"pubmed\")\n",
    "record = Entrez.read(handle)\n",
    "record[\"DbInfo\"][\"Description\"]"
   ]
  },
  {
   "cell_type": "code",
   "execution_count": 48,
   "metadata": {
    "collapsed": false
   },
   "outputs": [
    {
     "data": {
      "text/plain": [
       "'25581115'"
      ]
     },
     "execution_count": 48,
     "metadata": {},
     "output_type": "execute_result"
    }
   ],
   "source": [
    "record[\"DbInfo\"][\"Count\"]"
   ]
  },
  {
   "cell_type": "code",
   "execution_count": 49,
   "metadata": {
    "collapsed": false
   },
   "outputs": [
    {
     "data": {
      "text/plain": [
       "'2015/12/20 08:07'"
      ]
     },
     "execution_count": 49,
     "metadata": {},
     "output_type": "execute_result"
    }
   ],
   "source": [
    "record[\"DbInfo\"][\"LastUpdate\"]"
   ]
  },
  {
   "cell_type": "markdown",
   "metadata": {},
   "source": [
    "\n",
    "Try `record[\"DbInfo\"].keys()` for other information stored in this\n",
    "record. One of the most useful is a list of possible search fields for\n",
    "use with ESearch:\n",
    "\n"
   ]
  },
  {
   "cell_type": "code",
   "execution_count": 50,
   "metadata": {
    "collapsed": false
   },
   "outputs": [
    {
     "name": "stdout",
     "output_type": "stream",
     "text": [
      "ALL, All Fields, All terms from all searchable fields\n",
      "UID, UID, Unique number assigned to publication\n",
      "FILT, Filter, Limits the records\n",
      "TITL, Title, Words in title of publication\n",
      "WORD, Text Word, Free text associated with publication\n",
      "MESH, MeSH Terms, Medical Subject Headings assigned to publication\n",
      "MAJR, MeSH Major Topic, MeSH terms of major importance to publication\n",
      "AUTH, Author, Author(s) of publication\n",
      "JOUR, Journal, Journal abbreviation of publication\n",
      "AFFL, Affiliation, Author's institutional affiliation and address\n",
      "ECNO, EC/RN Number, EC number for enzyme or CAS registry number\n",
      "SUBS, Supplementary Concept, CAS chemical name or MEDLINE Substance Name\n",
      "PDAT, Date - Publication, Date of publication\n",
      "EDAT, Date - Entrez, Date publication first accessible through Entrez\n",
      "VOL, Volume, Volume number of publication\n",
      "PAGE, Pagination, Page number(s) of publication\n",
      "PTYP, Publication Type, Type of publication (e.g., review)\n",
      "LANG, Language, Language of publication\n",
      "ISS, Issue, Issue number of publication\n",
      "SUBH, MeSH Subheading, Additional specificity for MeSH term\n",
      "SI, Secondary Source ID, Cross-reference from publication to other databases\n",
      "MHDA, Date - MeSH, Date publication was indexed with MeSH terms\n",
      "TIAB, Title/Abstract, Free text associated with Abstract/Title\n",
      "OTRM, Other Term, Other terms associated with publication\n",
      "INVR, Investigator, Investigator\n",
      "COLN, Author - Corporate, Corporate Author of publication\n",
      "CNTY, Place of Publication, Country of publication\n",
      "PAPX, Pharmacological Action, MeSH pharmacological action pre-explosions\n",
      "GRNT, Grant Number, NIH Grant Numbers\n",
      "MDAT, Date - Modification, Date of last modification\n",
      "CDAT, Date - Completion, Date of completion\n",
      "PID, Publisher ID, Publisher ID\n",
      "FAUT, Author - First, First Author of publication\n",
      "FULL, Author - Full, Full Author Name(s) of publication\n",
      "FINV, Investigator - Full, Full name of investigator\n",
      "TT, Transliterated Title, Words in transliterated title of publication\n",
      "LAUT, Author - Last, Last Author of publication\n",
      "PPDT, Print Publication Date, Date of print publication\n",
      "EPDT, Electronic Publication Date, Date of Electronic publication\n",
      "LID, Location ID, ELocation ID\n",
      "CRDT, Date - Create, Date publication first accessible through Entrez\n",
      "BOOK, Book, ID of the book that contains the document\n",
      "ED, Editor, Section's Editor\n",
      "ISBN, ISBN, ISBN\n",
      "PUBN, Publisher, Publisher's name\n",
      "AUCL, Author Cluster ID, Author Cluster ID\n",
      "EID, Extended PMID, Extended PMID\n",
      "DSO, DSO, Additional text from the summary\n",
      "AUID, Author - Identifier, Author Identifier\n",
      "PS, Subject - Personal Name, Personal Name as Subject\n"
     ]
    }
   ],
   "source": [
    "for field in record[\"DbInfo\"][\"FieldList\"]:\n",
    "    print(\"%(Name)s, %(FullName)s, %(Description)s\" % field)"
   ]
  },
  {
   "cell_type": "markdown",
   "metadata": {},
   "source": [
    "\n",
    "That’s a long list, but indirectly this tells you that for the PubMed\n",
    "database, you can do things like `Jones[AUTH]` to search the author\n",
    "field, or `Sanger[AFFL]` to restrict to authors at the Sanger Centre.\n",
    "This can be very handy - especially if you are not so familiar with a\n",
    "particular database.\n",
    "\n",
    "ESearch: Searching the Entrez databases\n",
    "-------------------------------------\n",
    "\n",
    "To search any of these databases, we use `Bio.Entrez.esearch()`. For\n",
    "example, let’s search in PubMed for publications related to Biopython:\n",
    "\n"
   ]
  },
  {
   "cell_type": "code",
   "execution_count": 52,
   "metadata": {
    "collapsed": false
   },
   "outputs": [
    {
     "data": {
      "text/plain": [
       "['24929426', '24497503', '24267035', '24194598', '23842806', '23157543', '22909249', '22399473', '21666252', '21210977', '20015970', '19811691', '19773334', '19304878', '18606172', '21585724', '16403221', '16377612', '14871861', '14630660']"
      ]
     },
     "execution_count": 52,
     "metadata": {},
     "output_type": "execute_result"
    }
   ],
   "source": [
    "from Bio import Entrez\n",
    "Entrez.email = \"A.N.Other@example.com\"     # Always tell NCBI who you are\n",
    "handle = Entrez.esearch(db=\"pubmed\", term=\"biopython\")\n",
    "record = Entrez.read(handle)\n",
    "record[\"IdList\"]"
   ]
  },
  {
   "cell_type": "code",
   "execution_count": 53,
   "metadata": {
    "collapsed": false
   },
   "outputs": [
    {
     "data": {
      "text/plain": [
       "{'TranslationStack': [{'Explode': 'N', 'Field': 'All Fields', 'Count': '21', 'Term': 'biopython[All Fields]'}, 'GROUP'], 'RetStart': '0', 'IdList': ['24929426', '24497503', '24267035', '24194598', '23842806', '23157543', '22909249', '22399473', '21666252', '21210977', '20015970', '19811691', '19773334', '19304878', '18606172', '21585724', '16403221', '16377612', '14871861', '14630660'], 'QueryTranslation': 'biopython[All Fields]', 'Count': '21', 'TranslationSet': [], 'RetMax': '20'}"
      ]
     },
     "execution_count": 53,
     "metadata": {},
     "output_type": "execute_result"
    }
   ],
   "source": [
    "record"
   ]
  },
  {
   "cell_type": "markdown",
   "metadata": {},
   "source": [
    "\n",
    "In this output, you see seven PubMed IDs (including 19304878 which is\n",
    "the PMID for the Biopython application), which can be retrieved by\n",
    "EFetch (see section [EFetch: Downloading full records from Entrez](#EFetch:-Downloading-full-records-from-Entrez)).\n",
    "\n",
    "You can also use ESearch to search GenBank. Here we’ll do a quick search\n",
    "for the *matK* gene in *Cypripedioideae* orchids (see\n",
    "Section \\[sec:entrez-einfo\\] about EInfo for one way to find out which\n",
    "fields you can search in each Entrez database):\n",
    "\n"
   ]
  },
  {
   "cell_type": "code",
   "execution_count": 32,
   "metadata": {
    "collapsed": false
   },
   "outputs": [
    {
     "data": {
      "text/plain": [
       "'334'"
      ]
     },
     "execution_count": 32,
     "metadata": {},
     "output_type": "execute_result"
    }
   ],
   "source": [
    "handle = Entrez.esearch(db=\"nucleotide\", term=\"Cypripedioideae[Orgn] AND matK[Gene]\")\n",
    "record = Entrez.read(handle)\n",
    "record[\"Count\"]"
   ]
  },
  {
   "cell_type": "code",
   "execution_count": 33,
   "metadata": {
    "collapsed": false
   },
   "outputs": [
    {
     "data": {
      "text/plain": [
       "['844174433', '937957673', '694174838', '944541375', '575524123', '575524121', '575524119', '575524117', '575524115', '575524113', '575524111', '575524109', '575524107', '575524105', '575524103', '575524101', '575524099', '575524097', '575524095', '575524093']"
      ]
     },
     "execution_count": 33,
     "metadata": {},
     "output_type": "execute_result"
    }
   ],
   "source": [
    "record[\"IdList\"]"
   ]
  },
  {
   "cell_type": "markdown",
   "metadata": {},
   "source": [
    "\n",
    "Each of the IDs (126789333, 37222967, 37222966, …) is a GenBank\n",
    "identifier. See section [EFetch: Downloading full records from Entrez](#EFetch:-Downloading-full-records-from-Entrez) for information on how to\n",
    "actually download these GenBank records.\n",
    "\n",
    "Note that instead of a species name like `Cypripedioideae[Orgn]`, you\n",
    "can restrict the search using an NCBI taxon identifier, here this would\n",
    "be `txid158330[Orgn]`. This isn’t currently documented on the ESearch\n",
    "help page - the NCBI explained this in reply to an email query. You can\n",
    "often deduce the search term formatting by playing with the Entrez web\n",
    "interface. For example, including `complete[prop]` in a genome search\n",
    "restricts to just completed genomes.\n",
    "\n",
    "As a final example, let’s get a list of computational journal titles:\n",
    "\n"
   ]
  },
  {
   "cell_type": "code",
   "execution_count": 35,
   "metadata": {
    "collapsed": false
   },
   "outputs": [
    {
     "data": {
      "text/plain": [
       "'146246'"
      ]
     },
     "execution_count": 35,
     "metadata": {},
     "output_type": "execute_result"
    }
   ],
   "source": [
    "handle = Entrez.esearch(db=\"PubMed\", term=\"computational\")\n",
    "record = Entrez.read(handle)\n",
    "record[\"Count\"]"
   ]
  },
  {
   "cell_type": "code",
   "execution_count": 36,
   "metadata": {
    "collapsed": false
   },
   "outputs": [
    {
     "data": {
      "text/plain": [
       "['26677402', '26677398', '26677339', '26677194', '26677192', '26677190', '26677188', '26677187', '26677184', '26677182', '26677181', '26677178', '26677100', '26676968', '26676967', '26676944', '26676880', '26676875', '26676823', '26676817']"
      ]
     },
     "execution_count": 36,
     "metadata": {},
     "output_type": "execute_result"
    }
   ],
   "source": [
    "record[\"IdList\"]"
   ]
  },
  {
   "cell_type": "markdown",
   "metadata": {},
   "source": [
    "\n",
    "Again, we could use EFetch to obtain more information for each of these\n",
    "journal IDs.\n",
    "\n",
    "ESearch has many useful options — see the [ESearch help\n",
    "page](http://www.ncbi.nlm.nih.gov/entrez/query/static/esearch_help.html)\n",
    "for more information.\n",
    "\n",
    "EPost: Uploading a list of identifiers\n",
    "------------------------------------\n",
    "\n",
    "EPost uploads a list of UIs for use in subsequent search strategies; see\n",
    "the [EPost help\n",
    "page](http://www.ncbi.nlm.nih.gov/entrez/query/static/epost_help.html)\n",
    "for more information. It is available from Biopython through the\n",
    "`Bio.Entrez.epost()` function.\n",
    "\n",
    "To give an example of when this is useful, suppose you have a long list\n",
    "of IDs you want to download using EFetch (maybe sequences, maybe\n",
    "citations – anything). When you make a request with EFetch your list of\n",
    "IDs, the database etc, are all turned into a long URL sent to the\n",
    "server. If your list of IDs is long, this URL gets long, and long URLs\n",
    "can break (e.g. some proxies don’t cope well).\n",
    "\n",
    "Instead, you can break this up into two steps, first uploading the list\n",
    "of IDs using EPost (this uses an “HTML post” internally, rather than an\n",
    "“HTML get”, getting round the long URL problem). With the history\n",
    "support, you can then refer to this long list of IDs, and download the\n",
    "associated data with EFetch.\n",
    "\n",
    "Let’s look at a simple example to see how EPost works – uploading some\n",
    "PubMed identifiers:\n",
    "\n"
   ]
  },
  {
   "cell_type": "code",
   "execution_count": 37,
   "metadata": {
    "collapsed": false
   },
   "outputs": [
    {
     "name": "stdout",
     "output_type": "stream",
     "text": [
      "<?xml version=\"1.0\"?>\n",
      "<!DOCTYPE ePostResult PUBLIC \"-//NLM//DTD ePostResult, 11 May 2002//EN\" \"http://www.ncbi.nlm.nih.gov/entrez/query/DTD/ePost_020511.dtd\">\n",
      "<ePostResult>\n",
      "\t<QueryKey>1</QueryKey>\n",
      "\t<WebEnv>NCID_1_64576659_130.14.22.215_9001_1450464930_1273691292_0MetA0_S_MegaStore_F_1</WebEnv>\n",
      "</ePostResult>\n",
      "\n"
     ]
    }
   ],
   "source": [
    "from Bio import Entrez\n",
    "Entrez.email = \"A.N.Other@example.com\"     # Always tell NCBI who you are\n",
    "id_list = [\"19304878\", \"18606172\", \"16403221\", \"16377612\", \"14871861\", \"14630660\"]\n",
    "print(Entrez.epost(\"pubmed\", id=\",\".join(id_list)).read())"
   ]
  },
  {
   "cell_type": "markdown",
   "metadata": {},
   "source": [
    "\n",
    "The returned XML includes two important strings, `QueryKey` and `WebEnv`\n",
    "which together define your history session. You would extract these\n",
    "values for use with another Entrez call such as EFetch:\n",
    "\n"
   ]
  },
  {
   "cell_type": "code",
   "execution_count": 2,
   "metadata": {
    "collapsed": true
   },
   "outputs": [],
   "source": [
    "from Bio import Entrez\n",
    "Entrez.email = \"A.N.Other@example.com\"     # Always tell NCBI who you are\n",
    "id_list = [\"19304878\", \"18606172\", \"16403221\", \"16377612\", \"14871861\", \"14630660\"]\n",
    "search_results = Entrez.read(Entrez.epost(\"pubmed\", id=\",\".join(id_list)))\n",
    "webenv = search_results[\"WebEnv\"]\n",
    "query_key = search_results[\"QueryKey\"]"
   ]
  },
  {
   "cell_type": "markdown",
   "metadata": {},
   "source": [
    "\n",
    "Section \\[sec:entrez-webenv\\] shows how to use the history feature.\n",
    "\n",
    "ESummary: Retrieving summaries from primary IDs\n",
    "-----------------------------------------------\n",
    "\n",
    "ESummary retrieves document summaries from a list of primary IDs (see\n",
    "the [ESummary help\n",
    "page](http://www.ncbi.nlm.nih.gov/entrez/query/static/esummary_help.html)\n",
    "for more information). In Biopython, ESummary is available as\n",
    "`Bio.Entrez.esummary()`. Using the search result above, we can for\n",
    "example find out more about the journal with ID 30367:\n",
    "\n"
   ]
  },
  {
   "cell_type": "code",
   "execution_count": 40,
   "metadata": {
    "collapsed": false
   },
   "outputs": [
    {
     "data": {
      "text/plain": [
       "'30367'"
      ]
     },
     "execution_count": 40,
     "metadata": {},
     "output_type": "execute_result"
    }
   ],
   "source": [
    "from Bio import Entrez\n",
    "Entrez.email = \"A.N.Other@example.com\"     # Always tell NCBI who you are\n",
    "handle = Entrez.esummary(db=\"PubMed\", id=\"30367\")\n",
    "record = Entrez.read(handle)\n",
    "record[0][\"Id\"]"
   ]
  },
  {
   "cell_type": "code",
   "execution_count": 41,
   "metadata": {
    "collapsed": false
   },
   "outputs": [
    {
     "data": {
      "text/plain": [
       "'[Effect of drugs on gamma-glutamyltransferase (proceedings)].'"
      ]
     },
     "execution_count": 41,
     "metadata": {},
     "output_type": "execute_result"
    }
   ],
   "source": [
    "record[0][\"Title\"]"
   ]
  },
  {
   "cell_type": "code",
   "execution_count": 44,
   "metadata": {
    "collapsed": false
   },
   "outputs": [
    {
     "data": {
      "text/plain": [
       "'Annales de biologie clinique'"
      ]
     },
     "execution_count": 44,
     "metadata": {},
     "output_type": "execute_result"
    }
   ],
   "source": [
    "record[0][\"FullJournalName\"]"
   ]
  },
  {
   "cell_type": "markdown",
   "metadata": {},
   "source": [
    "\n",
    "EFetch: Downloading full records from Entrez\n",
    "-----------------------------------------\n",
    "\n",
    "EFetch is what you use when you want to retrieve a full record from\n",
    "Entrez. This covers several possible databases, as described on the main\n",
    "[EFetch Help\n",
    "page](http://eutils.ncbi.nlm.nih.gov/entrez/query/static/efetch_help.html).\n",
    "\n",
    "For most of their databases, the NCBI support several different file\n",
    "formats. Requesting a specific file format from Entrez using\n",
    "`Bio.Entrez.efetch()` requires specifying the `rettype` and/or `retmode`\n",
    "optional arguments. The different combinations are described for each\n",
    "database type on the pages linked to on [NCBI efetch\n",
    "webpage](http://www.ncbi.nlm.nih.gov/entrez/query/static/efetch_help.html)\n",
    "(e.g.\n",
    "[literature](http://eutils.ncbi.nlm.nih.gov/corehtml/query/static/efetchlit_help.html),\n",
    "[sequences](http://eutils.ncbi.nlm.nih.gov/corehtml/query/static/efetchseq_help.html)\n",
    "and\n",
    "[taxonomy](http://eutils.ncbi.nlm.nih.gov/corehtml/query/static/efetchtax_help.html)).\n",
    "\n",
    "One common usage is downloading sequences in the FASTA or\n",
    "GenBank/GenPept plain text formats (which can then be parsed with\n",
    "`Bio.SeqIO`, see Sections \\[sec:SeqIO\\_GenBank\\_Online\\]\n",
    "and [EFetch: Downloading full records from Entrez](#EFetch:-Downloading-full-records-from-Entrez)). From the *Cypripedioideae* example above, we can\n",
    "download GenBank record 186972394 using `Bio.Entrez.efetch`:\n",
    "\n"
   ]
  },
  {
   "cell_type": "code",
   "execution_count": 1,
   "metadata": {
    "collapsed": false
   },
   "outputs": [
    {
     "name": "stdout",
     "output_type": "stream",
     "text": [
      "LOCUS       EU490707                1302 bp    DNA     linear   PLN 15-JAN-2009\n",
      "DEFINITION  Selenipedium aequinoctiale maturase K (matK) gene, partial cds;\n",
      "            chloroplast.\n",
      "ACCESSION   EU490707\n",
      "VERSION     EU490707.1  GI:186972394\n",
      "KEYWORDS    .\n",
      "SOURCE      chloroplast Selenipedium aequinoctiale\n",
      "  ORGANISM  Selenipedium aequinoctiale\n",
      "            Eukaryota; Viridiplantae; Streptophyta; Embryophyta; Tracheophyta;\n",
      "            Spermatophyta; Magnoliophyta; Liliopsida; Asparagales; Orchidaceae;\n",
      "            Cypripedioideae; Selenipedium.\n",
      "REFERENCE   1  (bases 1 to 1302)\n",
      "  AUTHORS   Neubig,K.M., Whitten,W.M., Carlsward,B.S., Blanco,M.A., Endara,L.,\n",
      "            Williams,N.H. and Moore,M.\n",
      "  TITLE     Phylogenetic utility of ycf1 in orchids: a plastid gene more\n",
      "            variable than matK\n",
      "  JOURNAL   Plant Syst. Evol. 277 (1-2), 75-84 (2009)\n",
      "REFERENCE   2  (bases 1 to 1302)\n",
      "  AUTHORS   Neubig,K.M., Whitten,W.M., Carlsward,B.S., Blanco,M.A.,\n",
      "            Endara,C.L., Williams,N.H. and Moore,M.J.\n",
      "  TITLE     Direct Submission\n",
      "  JOURNAL   Submitted (14-FEB-2008) Department of Botany, University of\n",
      "            Florida, 220 Bartram Hall, Gainesville, FL 32611-8526, USA\n",
      "FEATURES             Location/Qualifiers\n",
      "     source          1..1302\n",
      "                     /organism=\"Selenipedium aequinoctiale\"\n",
      "                     /organelle=\"plastid:chloroplast\"\n",
      "                     /mol_type=\"genomic DNA\"\n",
      "                     /specimen_voucher=\"FLAS:Blanco 2475\"\n",
      "                     /db_xref=\"taxon:256374\"\n",
      "     gene            <1..>1302\n",
      "                     /gene=\"matK\"\n",
      "     CDS             <1..>1302\n",
      "                     /gene=\"matK\"\n",
      "                     /codon_start=1\n",
      "                     /transl_table=11\n",
      "                     /product=\"maturase K\"\n",
      "                     /protein_id=\"ACC99456.1\"\n",
      "                     /db_xref=\"GI:186972395\"\n",
      "                     /translation=\"IFYEPVEIFGYDNKSSLVLVKRLITRMYQQNFLISSVNDSNQKG\n",
      "                     FWGHKHFFSSHFSSQMVSEGFGVILEIPFSSQLVSSLEEKKIPKYQNLRSIHSIFPFL\n",
      "                     EDKFLHLNYVSDLLIPHPIHLEILVQILQCRIKDVPSLHLLRLLFHEYHNLNSLITSK\n",
      "                     KFIYAFSKRKKRFLWLLYNSYVYECEYLFQFLRKQSSYLRSTSSGVFLERTHLYVKIE\n",
      "                     HLLVVCCNSFQRILCFLKDPFMHYVRYQGKAILASKGTLILMKKWKFHLVNFWQSYFH\n",
      "                     FWSQPYRIHIKQLSNYSFSFLGYFSSVLENHLVVRNQMLENSFIINLLTKKFDTIAPV\n",
      "                     ISLIGSLSKAQFCTVLGHPISKPIWTDFSDSDILDRFCRICRNLCRYHSGSSKKQVLY\n",
      "                     RIKYILRLSCARTLARKHKSTVRTFMRRLGSGLLEEFFMEEE\"\n",
      "ORIGIN      \n",
      "        1 attttttacg aacctgtgga aatttttggt tatgacaata aatctagttt agtacttgtg\n",
      "       61 aaacgtttaa ttactcgaat gtatcaacag aattttttga tttcttcggt taatgattct\n",
      "      121 aaccaaaaag gattttgggg gcacaagcat tttttttctt ctcatttttc ttctcaaatg\n",
      "      181 gtatcagaag gttttggagt cattctggaa attccattct cgtcgcaatt agtatcttct\n",
      "      241 cttgaagaaa aaaaaatacc aaaatatcag aatttacgat ctattcattc aatatttccc\n",
      "      301 tttttagaag acaaattttt acatttgaat tatgtgtcag atctactaat accccatccc\n",
      "      361 atccatctgg aaatcttggt tcaaatcctt caatgccgga tcaaggatgt tccttctttg\n",
      "      421 catttattgc gattgctttt ccacgaatat cataatttga atagtctcat tacttcaaag\n",
      "      481 aaattcattt acgccttttc aaaaagaaag aaaagattcc tttggttact atataattct\n",
      "      541 tatgtatatg aatgcgaata tctattccag tttcttcgta aacagtcttc ttatttacga\n",
      "      601 tcaacatctt ctggagtctt tcttgagcga acacatttat atgtaaaaat agaacatctt\n",
      "      661 ctagtagtgt gttgtaattc ttttcagagg atcctatgct ttctcaagga tcctttcatg\n",
      "      721 cattatgttc gatatcaagg aaaagcaatt ctggcttcaa agggaactct tattctgatg\n",
      "      781 aagaaatgga aatttcatct tgtgaatttt tggcaatctt attttcactt ttggtctcaa\n",
      "      841 ccgtatagga ttcatataaa gcaattatcc aactattcct tctcttttct ggggtatttt\n",
      "      901 tcaagtgtac tagaaaatca tttggtagta agaaatcaaa tgctagagaa ttcatttata\n",
      "      961 ataaatcttc tgactaagaa attcgatacc atagccccag ttatttctct tattggatca\n",
      "     1021 ttgtcgaaag ctcaattttg tactgtattg ggtcatccta ttagtaaacc gatctggacc\n",
      "     1081 gatttctcgg attctgatat tcttgatcga ttttgccgga tatgtagaaa tctttgtcgt\n",
      "     1141 tatcacagcg gatcctcaaa aaaacaggtt ttgtatcgta taaaatatat acttcgactt\n",
      "     1201 tcgtgtgcta gaactttggc acggaaacat aaaagtacag tacgcacttt tatgcgaaga\n",
      "     1261 ttaggttcgg gattattaga agaattcttt atggaagaag aa\n",
      "//\n",
      "\n",
      "\n"
     ]
    }
   ],
   "source": [
    "from Bio import Entrez\n",
    "Entrez.email = \"A.N.Other@example.com\"     # Always tell NCBI who you are\n",
    "handle = Entrez.efetch(db=\"nucleotide\", id=\"186972394\", rettype=\"gb\", retmode=\"text\")\n",
    "print(handle.read())"
   ]
  },
  {
   "cell_type": "markdown",
   "metadata": {},
   "source": [
    "\n",
    "The arguments `rettype=\"gb\"` and `retmode=\"text\"` let us download this\n",
    "record in the GenBank format.\n",
    "\n",
    "Note that until Easter 2009, the Entrez EFetch API let you use “genbank”\n",
    "as the return type, however the NCBI now insist on using the official\n",
    "return types of “gb” or “gbwithparts” (or “gp” for proteins) as\n",
    "described on online. Also not that until Feb 2012, the Entrez EFetch API\n",
    "would default to returning plain text files, but now defaults to XML.\n",
    "\n",
    "Alternatively, you could for example use `rettype=\"fasta\"` to get the\n",
    "Fasta-format; see the [EFetch Sequences Help\n",
    "page](http://www.ncbi.nlm.nih.gov/entrez/query/static/efetchseq_help.html)\n",
    "for other options. Remember – the available formats depend on which\n",
    "database you are downloading from - see the main [EFetch Help\n",
    "page](http://eutils.ncbi.nlm.nih.gov/entrez/query/static/efetch_help.html).\n",
    "\n",
    "If you fetch the record in one of the formats accepted by `Bio.SeqIO`\n",
    "(see Chapter \\[chapter:Bio.SeqIO\\]), you could directly parse it into a\n",
    "`SeqRecord`:\n",
    "\n"
   ]
  },
  {
   "cell_type": "code",
   "execution_count": 2,
   "metadata": {
    "collapsed": false
   },
   "outputs": [
    {
     "name": "stdout",
     "output_type": "stream",
     "text": [
      "ID: EU490707.1\n",
      "Name: EU490707\n",
      "Description: Selenipedium aequinoctiale maturase K (matK) gene, partial cds; chloroplast.\n",
      "Number of features: 3\n",
      "/source=chloroplast Selenipedium aequinoctiale\n",
      "/taxonomy=['Eukaryota', 'Viridiplantae', 'Streptophyta', 'Embryophyta', 'Tracheophyta', 'Spermatophyta', 'Magnoliophyta', 'Liliopsida', 'Asparagales', 'Orchidaceae', 'Cypripedioideae', 'Selenipedium']\n",
      "/sequence_version=1\n",
      "/date=15-JAN-2009\n",
      "/references=[Reference(title='Phylogenetic utility of ycf1 in orchids: a plastid gene more variable than matK', ...), Reference(title='Direct Submission', ...)]\n",
      "/organism=Selenipedium aequinoctiale\n",
      "/gi=186972394\n",
      "/keywords=['']\n",
      "/data_file_division=PLN\n",
      "/accessions=['EU490707']\n",
      "Seq('ATTTTTTACGAACCTGTGGAAATTTTTGGTTATGACAATAAATCTAGTTTAGTA...GAA', IUPACAmbiguousDNA())\n"
     ]
    }
   ],
   "source": [
    "from Bio import Entrez, SeqIO\n",
    "handle = Entrez.efetch(db=\"nucleotide\", id=\"186972394\", rettype=\"gb\", retmode=\"text\")\n",
    "record = SeqIO.read(handle, \"genbank\")\n",
    "handle.close()\n",
    "print(record)"
   ]
  },
  {
   "cell_type": "markdown",
   "metadata": {},
   "source": [
    "\n",
    "Note that a more typical use would be to save the sequence data to a\n",
    "local file, and *then* parse it with `Bio.SeqIO`. This can save you\n",
    "having to re-download the same file repeatedly while working on your\n",
    "script, and places less load on the NCBI’s servers. For example:\n",
    "\n"
   ]
  },
  {
   "cell_type": "code",
   "execution_count": 14,
   "metadata": {
    "collapsed": false
   },
   "outputs": [
    {
     "name": "stdout",
     "output_type": "stream",
     "text": [
      "Parsing...\n",
      "ID: EU490707.1\n",
      "Name: EU490707\n",
      "Description: Selenipedium aequinoctiale maturase K (matK) gene, partial cds; chloroplast.\n",
      "Number of features: 3\n",
      "/references=[Reference(title='Phylogenetic utility of ycf1 in orchids: a plastid gene more variable than matK', ...), Reference(title='Direct Submission', ...)]\n",
      "/organism=Selenipedium aequinoctiale\n",
      "/sequence_version=1\n",
      "/taxonomy=['Eukaryota', 'Viridiplantae', 'Streptophyta', 'Embryophyta', 'Tracheophyta', 'Spermatophyta', 'Magnoliophyta', 'Liliopsida', 'Asparagales', 'Orchidaceae', 'Cypripedioideae', 'Selenipedium']\n",
      "/accessions=['EU490707']\n",
      "/source=chloroplast Selenipedium aequinoctiale\n",
      "/gi=186972394\n",
      "/data_file_division=PLN\n",
      "/keywords=['']\n",
      "/date=15-JAN-2009\n",
      "Seq('ATTTTTTACGAACCTGTGGAAATTTTTGGTTATGACAATAAATCTAGTTTAGTA...GAA', IUPACAmbiguousDNA())\n"
     ]
    }
   ],
   "source": [
    "import os\n",
    "from Bio import SeqIO\n",
    "from Bio import Entrez\n",
    "Entrez.email = \"A.N.Other@example.com\"     # Always tell NCBI who you are\n",
    "filename = \"gi_186972394.gbk\"\n",
    "if not os.path.isfile(filename):\n",
    "    # Downloading...\n",
    "    with Entrez.efetch(db=\"nucleotide\",id=\"186972394\",rettype=\"gb\", retmode=\"text\") as net_handle:\n",
    "        with open(filename, \"w\") as out_handle:\n",
    "            out_handle.write(net_handle.read())\n",
    "        print(\"Saved\")\n",
    "\n",
    "print(\"Parsing...\")\n",
    "record = SeqIO.read(filename, \"genbank\")\n",
    "print(record)"
   ]
  },
  {
   "cell_type": "markdown",
   "metadata": {},
   "source": [
    "\n",
    "To get the output in XML format, which you can parse using the\n",
    "`Bio.Entrez.read()` function, use `retmode=\"xml\"`:\n",
    "\n"
   ]
  },
  {
   "cell_type": "code",
   "execution_count": 20,
   "metadata": {
    "collapsed": false
   },
   "outputs": [
    {
     "data": {
      "text/plain": [
       "'Selenipedium aequinoctiale maturase K (matK) gene, partial cds; chloroplast'"
      ]
     },
     "execution_count": 20,
     "metadata": {},
     "output_type": "execute_result"
    }
   ],
   "source": [
    "from Bio import Entrez\n",
    "handle = Entrez.efetch(db=\"nucleotide\", id=\"186972394\", retmode=\"xml\")\n",
    "record = Entrez.read(handle)\n",
    "handle.close()\n",
    "record[0][\"GBSeq_definition\"]"
   ]
  },
  {
   "cell_type": "code",
   "execution_count": 21,
   "metadata": {
    "collapsed": false
   },
   "outputs": [
    {
     "data": {
      "text/plain": [
       "'chloroplast Selenipedium aequinoctiale'"
      ]
     },
     "execution_count": 21,
     "metadata": {},
     "output_type": "execute_result"
    }
   ],
   "source": [
    "record[0][\"GBSeq_source\"]"
   ]
  },
  {
   "cell_type": "markdown",
   "metadata": {},
   "source": [
    "\n",
    "So, that dealt with sequences. For examples of parsing file formats\n",
    "specific to the other databases (e.g. the `MEDLINE` format used in\n",
    "PubMed), see Section \\[sec:entrez-specialized-parsers\\].\n",
    "\n",
    "If you want to perform a search with `Bio.Entrez.esearch()`, and then\n",
    "download the records with `Bio.Entrez.efetch()`, you should use the\n",
    "WebEnv history feature – see Section \\[sec:entrez-webenv\\].\n",
    "\n",
    "ELink: Searching for related items in NCBI Entrez\n",
    "----------------------------------------------\n",
    "\n",
    "ELink, available from Biopython as `Bio.Entrez.elink()`, can be used to\n",
    "find related items in the NCBI Entrez databases. For example, you can us\n",
    "this to find nucleotide entries for an entry in the gene database, and\n",
    "other cool stuff.\n",
    "\n",
    "Let’s use ELink to find articles related to the Biopython application\n",
    "note published in *Bioinformatics* in 2009. The PubMed ID of this\n",
    "article is 19304878:\n",
    "\n"
   ]
  },
  {
   "cell_type": "code",
   "execution_count": 46,
   "metadata": {
    "collapsed": false
   },
   "outputs": [
    {
     "name": "stdout",
     "output_type": "stream",
     "text": [
      "dict_keys(['IdList', 'DbFrom', 'LinkSetDbHistory', 'ERROR', 'LinkSetDb'])\n",
      "The record is from the pubmed database.\n",
      "The IdList is ['19304878'].\n"
     ]
    }
   ],
   "source": [
    "from Bio import Entrez\n",
    "Entrez.email = \"A.N.Other@example.com\"\n",
    "pmid = \"19304878\"\n",
    "record = Entrez.read(Entrez.elink(dbfrom=\"pubmed\", id=pmid))\n",
    "print(record[0].keys())\n",
    "print('The record is from the {} database.'.format(record[0][\"DbFrom\"]))\n",
    "print('The IdList is {}.'.format(record[0][\"IdList\"]))"
   ]
  },
  {
   "cell_type": "markdown",
   "metadata": {},
   "source": [
    "\n",
    "The `record` variable consists of a Python list, one for each database\n",
    "in which we searched. Since we specified only one PubMed ID to search\n",
    "for, `record` contains only one item. This item is a dictionary\n",
    "containing information about our search term, as well as all the related\n",
    "items that were found:\n",
    "\n"
   ]
  },
  {
   "cell_type": "markdown",
   "metadata": {},
   "source": [
    "\n",
    "The `\"LinkSetDb\"` key contains the search results, stored as a list\n",
    "consisting of one item for each target database. In our search results,\n",
    "we only find hits in the PubMed database (although sub-divided into\n",
    "categories):\n",
    "\n"
   ]
  },
  {
   "cell_type": "code",
   "execution_count": 47,
   "metadata": {
    "collapsed": false
   },
   "outputs": [
    {
     "name": "stdout",
     "output_type": "stream",
     "text": [
      "There are 8 search results\n",
      "pubmed pubmed_pubmed 225\n",
      "pubmed pubmed_pubmed_alsoviewed 3\n",
      "pubmed pubmed_pubmed_citedin 267\n",
      "pubmed pubmed_pubmed_combined 6\n",
      "pubmed pubmed_pubmed_five 6\n",
      "pubmed pubmed_pubmed_refs 17\n",
      "pubmed pubmed_pubmed_reviews 225\n",
      "pubmed pubmed_pubmed_reviews_five 6\n"
     ]
    }
   ],
   "source": [
    "print('There are {} search results'.format(len(record[0][\"LinkSetDb\"])))\n",
    "for linksetdb in record[0][\"LinkSetDb\"]:\n",
    "    print(linksetdb[\"DbTo\"], linksetdb[\"LinkName\"], len(linksetdb[\"Link\"]))"
   ]
  },
  {
   "cell_type": "markdown",
   "metadata": {},
   "source": [
    "\n",
    "The actual search results are stored as under the `\"Link\"` key. In\n",
    "total, 110 items were found under standard search. Let’s now at the\n",
    "first search result:\n",
    "\n"
   ]
  },
  {
   "cell_type": "code",
   "execution_count": 11,
   "metadata": {
    "collapsed": false
   },
   "outputs": [
    {
     "data": {
      "text/plain": [
       "{'Id': '19304878'}"
      ]
     },
     "execution_count": 11,
     "metadata": {},
     "output_type": "execute_result"
    }
   ],
   "source": [
    "record[0][\"LinkSetDb\"][0][\"Link\"][0]"
   ]
  },
  {
   "cell_type": "markdown",
   "metadata": {},
   "source": [
    "\n",
    "This is the article we searched for, which doesn’t help us much, so\n",
    "let’s look at the second search result:\n",
    "\n"
   ]
  },
  {
   "cell_type": "code",
   "execution_count": 12,
   "metadata": {
    "collapsed": false
   },
   "outputs": [
    {
     "data": {
      "text/plain": [
       "{'Id': '14630660'}"
      ]
     },
     "execution_count": 12,
     "metadata": {},
     "output_type": "execute_result"
    }
   ],
   "source": [
    "record[0][\"LinkSetDb\"][0][\"Link\"][1]"
   ]
  },
  {
   "cell_type": "markdown",
   "metadata": {},
   "source": [
    "\n",
    "This paper, with PubMed ID 14630660, is about the Biopython PDB parser.\n",
    "\n",
    "We can use a loop to print out all PubMed IDs:\n",
    "\n"
   ]
  },
  {
   "cell_type": "code",
   "execution_count": 13,
   "metadata": {
    "collapsed": false
   },
   "outputs": [
    {
     "name": "stdout",
     "output_type": "stream",
     "text": [
      "19304878\n",
      "14630660\n",
      "22909249\n",
      "20739307\n",
      "23023984\n",
      "18689808\n",
      "20733063\n",
      "19628504\n",
      "18251993\n",
      "15572471\n",
      "20823319\n",
      "20847218\n",
      "25273102\n",
      "12368254\n",
      "23842806\n",
      "22399473\n",
      "22302572\n",
      "18238804\n",
      "24064416\n",
      "22332238\n",
      "20421198\n",
      "15723693\n",
      "15096277\n",
      "14512356\n",
      "16377612\n",
      "15130828\n",
      "18593718\n",
      "25236461\n",
      "20973958\n",
      "12230038\n",
      "22368248\n",
      "23633579\n",
      "20591906\n",
      "21352538\n",
      "21216774\n",
      "22815363\n",
      "17237069\n",
      "17101041\n",
      "22581176\n",
      "19181685\n",
      "16257987\n",
      "17441614\n",
      "18227118\n",
      "17316423\n",
      "17384428\n",
      "16539535\n",
      "22824207\n",
      "24463182\n",
      "22877863\n",
      "14751976\n",
      "16899494\n",
      "17237072\n",
      "23479348\n",
      "25661541\n",
      "16569235\n",
      "20537149\n",
      "20375454\n",
      "19106120\n",
      "20334363\n",
      "20439314\n",
      "19460889\n",
      "15969769\n",
      "23456039\n",
      "15059834\n",
      "24885957\n",
      "23292976\n",
      "14871861\n",
      "15383216\n",
      "22276101\n",
      "19698094\n",
      "17483505\n",
      "17291351\n",
      "15260898\n",
      "20472540\n",
      "17586821\n",
      "16741236\n",
      "17121776\n",
      "18442177\n",
      "23493324\n",
      "21798964\n",
      "16371163\n",
      "19958528\n",
      "22788675\n",
      "17586553\n",
      "20022974\n",
      "22500002\n",
      "21949271\n",
      "16188925\n",
      "21210984\n",
      "21210978\n",
      "16922600\n",
      "20542914\n",
      "21737439\n",
      "22084254\n",
      "25677125\n",
      "12401134\n",
      "22942023\n",
      "11524374\n",
      "19336443\n",
      "17483515\n",
      "25414366\n",
      "22556367\n",
      "16796559\n",
      "16539540\n",
      "22396485\n",
      "22253821\n",
      "19773334\n",
      "22595207\n",
      "23071651\n",
      "24564380\n",
      "23846743\n",
      "22039207\n",
      "21385461\n",
      "17537750\n",
      "15980476\n",
      "23666736\n",
      "21715385\n",
      "19578173\n",
      "23699471\n",
      "22908215\n",
      "25481009\n",
      "23355290\n",
      "22565567\n",
      "25706687\n",
      "22813356\n",
      "25697819\n",
      "24903418\n",
      "22942017\n",
      "24894501\n",
      "23742983\n",
      "23956303\n",
      "24929426\n",
      "21685053\n",
      "24078714\n",
      "24574118\n",
      "22494792\n",
      "24951946\n",
      "23418185\n",
      "25189778\n",
      "23220574\n",
      "23422340\n",
      "19648141\n",
      "24068901\n",
      "24600386\n",
      "23957210\n",
      "23242262\n",
      "22024252\n",
      "25414364\n",
      "23516352\n",
      "25378466\n",
      "23367449\n",
      "21500218\n",
      "24961236\n",
      "25344496\n",
      "24930138\n",
      "26079347\n",
      "23987304\n",
      "22171336\n",
      "23348786\n",
      "24431986\n",
      "25600941\n",
      "20375445\n",
      "20616382\n",
      "21210977\n",
      "23435069\n",
      "24045775\n",
      "25494900\n",
      "24618462\n",
      "22238272\n",
      "25217575\n",
      "15461798\n",
      "23628689\n",
      "21984743\n",
      "25295002\n",
      "23574738\n",
      "25328913\n",
      "22936991\n",
      "22844241\n",
      "23396756\n",
      "26587054\n",
      "21362187\n",
      "23786315\n",
      "21458441\n",
      "24258321\n",
      "25150250\n",
      "23765606\n",
      "24795618\n",
      "22645166\n",
      "25126069\n",
      "22954632\n",
      "25091065\n",
      "22369160\n",
      "25505088\n",
      "22943297\n",
      "21803787\n",
      "23633576\n",
      "24359023\n",
      "19225577\n",
      "16766564\n",
      "19055766\n",
      "24995036\n",
      "25591752\n",
      "19607723\n",
      "23652425\n",
      "18328109\n",
      "20924230\n",
      "17281649\n",
      "16729046\n",
      "25974373\n",
      "25653001\n",
      "25475079\n",
      "22479120\n",
      "24924300\n",
      "21716279\n",
      "25024921\n",
      "24834575\n",
      "24870127\n",
      "25942442\n",
      "25433467\n",
      "26153621\n",
      "24086295\n",
      "25110777\n",
      "21253560\n",
      "25132841\n",
      "25926788\n"
     ]
    }
   ],
   "source": [
    "for link in record[0][\"LinkSetDb\"][0][\"Link\"]:\n",
    "    print(link[\"Id\"])"
   ]
  },
  {
   "cell_type": "markdown",
   "metadata": {},
   "source": [
    "\n",
    "Now that was nice, but personally I am often more interested to find out\n",
    "if a paper has been cited. Well, ELink can do that too – at least for\n",
    "journals in Pubmed Central (see Section \\[sec:elink-citations\\]).\n",
    "\n",
    "For help on ELink, see the [ELink help\n",
    "page](http://www.ncbi.nlm.nih.gov/entrez/query/static/elink_help.html).\n",
    "There is an entire sub-page just for the [link\n",
    "names](http://eutils.ncbi.nlm.nih.gov/corehtml/query/static/entrezlinks.html),\n",
    "describing how different databases can be cross referenced.\n",
    "\n",
    "EGQuery: Global Query - counts for search terms\n",
    "-----------------------------------------------\n",
    "\n",
    "EGQuery provides counts for a search term in each of the Entrez\n",
    "databases (i.e. a global query). This is particularly useful to find out\n",
    "how many items your search terms would find in each database without\n",
    "actually performing lots of separate searches with ESearch (see the\n",
    "example in \\[subsec:entrez\\_example\\_genbank\\] below).\n",
    "\n",
    "In this example, we use `Bio.Entrez.egquery()` to obtain the counts for\n",
    "“Biopython”:\n",
    "\n"
   ]
  },
  {
   "cell_type": "code",
   "execution_count": 15,
   "metadata": {
    "collapsed": false
   },
   "outputs": [
    {
     "name": "stdout",
     "output_type": "stream",
     "text": [
      "pubmed 21\n",
      "pmc 546\n",
      "mesh 0\n",
      "books 2\n",
      "pubmedhealth 2\n",
      "omim 0\n",
      "ncbisearch 0\n",
      "nuccore 0\n",
      "nucgss 0\n",
      "nucest 0\n",
      "protein 0\n",
      "genome 0\n",
      "structure 0\n",
      "taxonomy 0\n",
      "snp 0\n",
      "dbvar 0\n",
      "epigenomics 0\n",
      "gene 0\n",
      "sra 0\n",
      "biosystems 0\n",
      "unigene 0\n",
      "cdd 0\n",
      "clone 0\n",
      "popset 0\n",
      "geoprofiles 0\n",
      "gds 16\n",
      "homologene 0\n",
      "pccompound 0\n",
      "pcsubstance 0\n",
      "pcassay 0\n",
      "nlmcatalog 0\n",
      "probe 0\n",
      "gap 0\n",
      "proteinclusters 0\n",
      "bioproject 0\n",
      "biosample 0\n"
     ]
    }
   ],
   "source": [
    "from Bio import Entrez\n",
    "Entrez.email = \"A.N.Other@example.com\"     # Always tell NCBI who you are\n",
    "handle = Entrez.egquery(term=\"biopython\")\n",
    "record = Entrez.read(handle)\n",
    "for row in record[\"eGQueryResult\"]:\n",
    "    print(row[\"DbName\"], row[\"Count\"])"
   ]
  },
  {
   "cell_type": "markdown",
   "metadata": {},
   "source": [
    "\n",
    "See the [EGQuery help\n",
    "page](http://www.ncbi.nlm.nih.gov/entrez/query/static/egquery_help.html)\n",
    "for more information.\n",
    "\n",
    "ESpell: Obtaining spelling suggestions\n",
    "--------------------------------------\n",
    "\n",
    "ESpell retrieves spelling suggestions. In this example, we use\n",
    "`Bio.Entrez.espell()` to obtain the correct spelling of Biopython:\n",
    "\n"
   ]
  },
  {
   "cell_type": "code",
   "execution_count": 16,
   "metadata": {
    "collapsed": false
   },
   "outputs": [
    {
     "data": {
      "text/plain": [
       "'biopythooon'"
      ]
     },
     "execution_count": 16,
     "metadata": {},
     "output_type": "execute_result"
    }
   ],
   "source": [
    "from Bio import Entrez\n",
    "Entrez.email = \"A.N.Other@example.com\"     # Always tell NCBI who you are\n",
    "handle = Entrez.espell(term=\"biopythooon\")\n",
    "record = Entrez.read(handle)\n",
    "record[\"Query\"]"
   ]
  },
  {
   "cell_type": "code",
   "execution_count": 17,
   "metadata": {
    "collapsed": false
   },
   "outputs": [
    {
     "data": {
      "text/plain": [
       "'biopython'"
      ]
     },
     "execution_count": 17,
     "metadata": {},
     "output_type": "execute_result"
    }
   ],
   "source": [
    "record[\"CorrectedQuery\"]"
   ]
  },
  {
   "cell_type": "markdown",
   "metadata": {},
   "source": [
    "\n",
    "See the [ESpell help\n",
    "page](http://www.ncbi.nlm.nih.gov/entrez/query/static/espell_help.html)\n",
    "for more information. The main use of this is for GUI tools to provide\n",
    "automatic suggestions for search terms.\n",
    "\n",
    "Parsing huge Entrez XML files\n",
    "-----------------------------\n",
    "\n",
    "The `Entrez.read` function reads the entire XML file returned by Entrez\n",
    "into a single Python object, which is kept in memory. To parse Entrez\n",
    "XML files too large to fit in memory, you can use the function\n",
    "`Entrez.parse`. This is a generator function that reads records in the\n",
    "XML file one by one. This function is only useful if the XML file\n",
    "reflects a Python list object (in other words, if `Entrez.read` on a\n",
    "computer with infinite memory resources would return a Python list).\n",
    "\n",
    "For example, you can download the entire Entrez Gene database for a\n",
    "given organism as a file from NCBI’s ftp site. These files can be very\n",
    "large. As an example, on September 4, 2009, the file\n",
    "`Homo_sapiens.ags.gz`, containing the Entrez Gene database for human,\n",
    "had a size of 116576 kB. This file, which is in the `ASN` format, can be\n",
    "converted into an XML file using NCBI’s `gene2xml` program (see NCBI’s\n",
    "ftp site for more information):\n",
    "\n"
   ]
  },
  {
   "cell_type": "markdown",
   "metadata": {},
   "source": [
    "```\n",
    "gene2xml -b T -i Homo_sapiens.ags -o Homo_sapiens.xml\n",
    "\n",
    "```"
   ]
  },
  {
   "cell_type": "markdown",
   "metadata": {},
   "source": [
    "\n",
    "The resulting XML file has a size of 6.1 GB. Attempting `Entrez.read` on\n",
    "this file will result in a `MemoryError` on many computers.\n",
    "\n",
    "The XML file `Homo_sapiens.xml` consists of a list of Entrez gene\n",
    "records, each corresponding to one Entrez gene in human. `Entrez.parse`\n",
    "retrieves these gene records one by one. You can then print out or store\n",
    "the relevant information in each record by iterating over the records.\n",
    "For example, this script iterates over the Entrez gene records and\n",
    "prints out the gene numbers and names for all current genes:\n",
    "\n"
   ]
  },
  {
   "cell_type": "markdown",
   "metadata": {},
   "source": [
    "<font color='red'>TODO: need alternate example, download option or ...</font>"
   ]
  },
  {
   "cell_type": "markdown",
   "metadata": {
    "collapsed": false
   },
   "source": [
    "```python\n",
    "from Bio import Entrez\n",
    "handle = open(\"Homo_sapiens.xml\")\n",
    "records = Entrez.parse(handle)\n",
    "```"
   ]
  },
  {
   "cell_type": "markdown",
   "metadata": {
    "collapsed": false
   },
   "source": [
    "```python\n",
    "for record in records:\n",
    "    status = record['Entrezgene_track-info']['Gene-track']['Gene-track_status']\n",
    "    if status.attributes['value']=='discontinued':\n",
    "        continue\n",
    "    geneid = record['Entrezgene_track-info']['Gene-track']['Gene-track_geneid']\n",
    "    genename = record['Entrezgene_gene']['Gene-ref']['Gene-ref_locus']\n",
    "    print(geneid, genename)\n",
    "```"
   ]
  },
  {
   "cell_type": "markdown",
   "metadata": {},
   "source": [
    "\n",
    "This will print:\n",
    "\n"
   ]
  },
  {
   "cell_type": "markdown",
   "metadata": {},
   "source": [
    "```\n",
    "1 A1BG\n",
    "2 A2M\n",
    "3 A2MP\n",
    "8 AA\n",
    "9 NAT1\n",
    "10 NAT2\n",
    "11 AACP\n",
    "12 SERPINA3\n",
    "13 AADAC\n",
    "14 AAMP\n",
    "15 AANAT\n",
    "16 AARS\n",
    "17 AAVS1\n",
    "...\n",
    "\n",
    "```"
   ]
  },
  {
   "cell_type": "markdown",
   "metadata": {},
   "source": [
    "\n",
    "Handling errors\n",
    "---------------\n",
    "\n",
    "Three things can go wrong when parsing an XML file:\n",
    "\n",
    "-   The file may not be an XML file to begin with;\n",
    "\n",
    "-   The file may end prematurely or otherwise be corrupted;\n",
    "\n",
    "-   The file may be correct XML, but contain items that are not\n",
    "    represented in the associated DTD.\n",
    "\n",
    "The first case occurs if, for example, you try to parse a Fasta file as\n",
    "if it were an XML file:\n",
    "\n"
   ]
  },
  {
   "cell_type": "code",
   "execution_count": 62,
   "metadata": {
    "collapsed": false
   },
   "outputs": [
    {
     "name": "stdout",
     "output_type": "stream",
     "text": [
      "We are expecting to get NotXMLError\n",
      "Failed to parse the XML data (syntax error: line 1, column 0). Please make sure that the input data are in XML format.\n"
     ]
    }
   ],
   "source": [
    "from Bio import Entrez\n",
    "from Bio.Entrez.Parser import NotXMLError\n",
    "handle = open(\"data/NC_005816.fna\", 'rb') # a Fasta file\n",
    "try:\n",
    "    record = Entrez.read(handle)\n",
    "except NotXMLError as e:\n",
    "    print('We are expecting to get NotXMLError')\n",
    "    print(e)"
   ]
  },
  {
   "cell_type": "markdown",
   "metadata": {},
   "source": [
    "\n",
    "Here, the parser didn’t find the `<?xml ...` tag with which an XML file\n",
    "is supposed to start, and therefore decides (correctly) that the file is\n",
    "not an XML file.\n",
    "\n",
    "When your file is in the XML format but is corrupted (for example, by\n",
    "ending prematurely), the parser will raise a CorruptedXMLError. Here is\n",
    "an example of an XML file that ends prematurely:\n",
    "\n"
   ]
  },
  {
   "cell_type": "markdown",
   "metadata": {},
   "source": [
    "```xml\n",
    "<?xml version=\"1.0\"?>\n",
    "<!DOCTYPE eInfoResult PUBLIC \"-//NLM//DTD eInfoResult, 11 May 2002//EN\" \"http://www.ncbi.nlm.nih.gov/entrez/query/DTD/eInfo_020511.dtd\">\n",
    "<eInfoResult>\n",
    "<DbList>\n",
    "        <DbName>pubmed</DbName>\n",
    "        <DbName>protein</DbName>\n",
    "        <DbName>nucleotide</DbName>\n",
    "        <DbName>nuccore</DbName>\n",
    "        <DbName>nucgss</DbName>\n",
    "        <DbName>nucest</DbName>\n",
    "        <DbName>structure</DbName>\n",
    "        <DbName>genome</DbName>\n",
    "        <DbName>books</DbName>\n",
    "        <DbName>cancerchromosomes</DbName>\n",
    "        <DbName>cdd</DbName>\n",
    "\n",
    "```"
   ]
  },
  {
   "cell_type": "markdown",
   "metadata": {},
   "source": [
    "\n",
    "which will generate the following traceback:\n",
    "\n"
   ]
  },
  {
   "cell_type": "markdown",
   "metadata": {
    "collapsed": false
   },
   "source": [
    "```python\n",
    "---------------------------------------------------------------------------\n",
    "ExpatError                                Traceback (most recent call last)\n",
    "/Users/vincentdavis/anaconda/envs/py35/lib/python3.5/site-packages/Bio/Entrez/Parser.py in read(self, handle)\n",
    "    214         try:\n",
    "--> 215             self.parser.ParseFile(handle)\n",
    "    216         except expat.ExpatError as e:\n",
    "\n",
    "ExpatError: syntax error: line 1, column 0\n",
    "\n",
    "During handling of the above exception, another exception occurred:\n",
    "\n",
    "NotXMLError                               Traceback (most recent call last)\n",
    "<ipython-input-63-ac0523d72453> in <module>()\n",
    "----> 1 Entrez.read(handle)\n",
    "\n",
    "/Users/vincentdavis/anaconda/envs/py35/lib/python3.5/site-packages/Bio/Entrez/__init__.py in read(handle, validate)\n",
    "    419     from .Parser import DataHandler\n",
    "    420     handler = DataHandler(validate)\n",
    "--> 421     record = handler.read(handle)\n",
    "    422     return record\n",
    "    423 \n",
    "\n",
    "/Users/vincentdavis/anaconda/envs/py35/lib/python3.5/site-packages/Bio/Entrez/Parser.py in read(self, handle)\n",
    "    223                 # We have not seen the initial <!xml declaration, so probably\n",
    "    224                 # the input data is not in XML format.\n",
    "--> 225                 raise NotXMLError(e)\n",
    "    226         try:\n",
    "    227             return self.object\n",
    "\n",
    "NotXMLError: Failed to parse the XML data (syntax error: line 1, column 0). Please make sure that the input data are in XML format.\n",
    "```"
   ]
  },
  {
   "cell_type": "markdown",
   "metadata": {},
   "source": [
    "\n",
    "Note that the error message tells you at what point in the XML file the\n",
    "error was detected.\n",
    "\n",
    "The third type of error occurs if the XML file contains tags that do not\n",
    "have a description in the corresponding DTD file. This is an example of\n",
    "such an XML file:\n",
    "\n"
   ]
  },
  {
   "cell_type": "markdown",
   "metadata": {},
   "source": [
    "```xml\n",
    "<?xml version=\"1.0\"?>\n",
    "<!DOCTYPE eInfoResult PUBLIC \"-//NLM//DTD eInfoResult, 11 May 2002//EN\" \"http://www.ncbi.nlm.nih.gov/entrez/query/DTD/eInfo_020511.dtd\">\n",
    "<eInfoResult>\n",
    "        <DbInfo>\n",
    "        <DbName>pubmed</DbName>\n",
    "        <MenuName>PubMed</MenuName>\n",
    "        <Description>PubMed bibliographic record</Description>\n",
    "        <Count>20161961</Count>\n",
    "        <LastUpdate>2010/09/10 04:52</LastUpdate>\n",
    "        <FieldList>\n",
    "                <Field>\n",
    "...\n",
    "                </Field>\n",
    "        </FieldList>\n",
    "        <DocsumList>\n",
    "                <Docsum>\n",
    "                        <DsName>PubDate</DsName>\n",
    "                        <DsType>4</DsType>\n",
    "                        <DsTypeName>string</DsTypeName>\n",
    "                </Docsum>\n",
    "                <Docsum>\n",
    "                        <DsName>EPubDate</DsName>\n",
    "...\n",
    "        </DbInfo>\n",
    "</eInfoResult>\n",
    "\n",
    "```"
   ]
  },
  {
   "cell_type": "markdown",
   "metadata": {},
   "source": [
    "\n",
    "In this file, for some reason the tag `<DocsumList>` (and several\n",
    "others) are not listed in the DTD file `eInfo_020511.dtd`, which is\n",
    "specified on the second line as the DTD for this XML file. By default,\n",
    "the parser will stop and raise a ValidationError if it cannot find some\n",
    "tag in the DTD:\n",
    "\n"
   ]
  },
  {
   "cell_type": "markdown",
   "metadata": {
    "collapsed": false
   },
   "source": [
    "```python\n",
    "from Bio import Entrez\n",
    "handle = open(\"data/einfo3.xml\", 'rb')\n",
    "record = Entrez.read(handle)\n",
    "```"
   ]
  },
  {
   "cell_type": "markdown",
   "metadata": {},
   "source": [
    "```python\n",
    "---------------------------------------------------------------------------\n",
    "ValidationError                           Traceback (most recent call last)\n",
    "<ipython-input-65-cfb96ec3d2ca> in <module>()\n",
    "      1 from Bio import Entrez\n",
    "      2 handle = open(\"data/einfo3.xml\", 'rb')\n",
    "----> 3 record = Entrez.read(handle)\n",
    "\n",
    "/Users/vincentdavis/anaconda/envs/py35/lib/python3.5/site-packages/Bio/Entrez/__init__.py in read(handle, validate)\n",
    "    419     from .Parser import DataHandler\n",
    "    420     handler = DataHandler(validate)\n",
    "--> 421     record = handler.read(handle)\n",
    "    422     return record\n",
    "    423 \n",
    "\n",
    "/Users/vincentdavis/anaconda/envs/py35/lib/python3.5/site-packages/Bio/Entrez/Parser.py in read(self, handle)\n",
    "    213             raise IOError(\"Can't parse a closed handle\")\n",
    "    214         try:\n",
    "--> 215             self.parser.ParseFile(handle)\n",
    "    216         except expat.ExpatError as e:\n",
    "    217             if self.parser.StartElementHandler:\n",
    "\n",
    "-------src-dir--------/Python-3.5.1/Modules/pyexpat.c in StartElement()\n",
    "\n",
    "/Users/vincentdavis/anaconda/envs/py35/lib/python3.5/site-packages/Bio/Entrez/Parser.py in startElementHandler(self, name, attrs)\n",
    "    348             # Element not found in DTD\n",
    "    349             if self.validating:\n",
    "--> 350                 raise ValidationError(name)\n",
    "    351             else:\n",
    "    352                 # this will not be stored in the record\n",
    "\n",
    "ValidationError: Failed to find tag 'DocsumList' in the DTD. To skip all tags that are not represented in the DTD, please call Bio.Entrez.read or Bio.Entrez.parse with validate=False.\n",
    "```"
   ]
  },
  {
   "cell_type": "markdown",
   "metadata": {},
   "source": [
    "\n",
    "Optionally, you can instruct the parser to skip such tags instead of\n",
    "raising a ValidationError. This is done by calling `Entrez.read` or\n",
    "`Entrez.parse` with the argument `validate` equal to False:\n",
    "\n"
   ]
  },
  {
   "cell_type": "code",
   "execution_count": 67,
   "metadata": {
    "collapsed": false
   },
   "outputs": [],
   "source": [
    "from Bio import Entrez\n",
    "handle = open(\"data/einfo3.xml\", 'rb')\n",
    "record = Entrez.read(handle, validate=False)"
   ]
  },
  {
   "cell_type": "markdown",
   "metadata": {},
   "source": [
    "\n",
    "Of course, the information contained in the XML tags that are not in the\n",
    "DTD are not present in the record returned by `Entrez.read`.\n",
    "\n",
    "Specialized parsers\n",
    "------------------\n",
    "\n",
    "The `Bio.Entrez.read()` function can parse most (if not all) XML output\n",
    "returned by Entrez. Entrez typically allows you to retrieve records in\n",
    "other formats, which may have some advantages compared to the XML format\n",
    "in terms of readability (or download size).\n",
    "\n",
    "To request a specific file format from Entrez using\n",
    "`Bio.Entrez.efetch()` requires specifying the `rettype` and/or `retmode`\n",
    "optional arguments. The different combinations are described for each\n",
    "database type on the [NCBI efetch\n",
    "webpage](http://www.ncbi.nlm.nih.gov/entrez/query/static/efetch_help.html).\n",
    "\n",
    "One obvious case is you may prefer to download sequences in the FASTA or\n",
    "GenBank/GenPept plain text formats (which can then be parsed with\n",
    "`Bio.SeqIO`, see Sections \\[sec:SeqIO\\_GenBank\\_Online\\]\n",
    "and [EFetch: Downloading full records from Entrez](#EFetch:-Downloading-full-records-from-Entrez)). For the literature databases, Biopython contains a\n",
    "parser for the `MEDLINE` format used in PubMed.\n",
    "\n",
    "### Parsing Medline records {#subsec:entrez-and-medline}\n",
    "\n",
    "You can find the Medline parser in `Bio.Medline`. Suppose we want to\n",
    "parse the file `pubmed_result1.txt`, containing one Medline record. You\n",
    "can find this file in Biopython’s `Tests\\Medline` directory. The file\n",
    "looks like this:\n",
    "\n"
   ]
  },
  {
   "cell_type": "markdown",
   "metadata": {},
   "source": [
    "```\n",
    "PMID- 12230038\n",
    "OWN - NLM\n",
    "STAT- MEDLINE\n",
    "DA  - 20020916\n",
    "DCOM- 20030606\n",
    "LR  - 20041117\n",
    "PUBM- Print\n",
    "IS  - 1467-5463 (Print)\n",
    "VI  - 3\n",
    "IP  - 3\n",
    "DP  - 2002 Sep\n",
    "TI  - The Bio* toolkits--a brief overview.\n",
    "PG  - 296-302\n",
    "AB  - Bioinformatics research is often difficult to do with commercial software. The\n",
    "      Open Source BioPerl, BioPython and Biojava projects provide toolkits with\n",
    "...\n",
    "\n",
    "```"
   ]
  },
  {
   "cell_type": "markdown",
   "metadata": {},
   "source": [
    "\n",
    "We first open the file and then parse it:\n",
    "\n"
   ]
  },
  {
   "cell_type": "code",
   "execution_count": 68,
   "metadata": {
    "collapsed": false
   },
   "outputs": [],
   "source": [
    "from Bio import Medline\n",
    "with open(\"data/pubmed_result1.txt\") as handle:\n",
    "    record = Medline.read(handle)"
   ]
  },
  {
   "cell_type": "markdown",
   "metadata": {},
   "source": [
    "\n",
    "The `record` now contains the Medline record as a Python dictionary:\n",
    "\n"
   ]
  },
  {
   "cell_type": "code",
   "execution_count": 69,
   "metadata": {
    "collapsed": false
   },
   "outputs": [
    {
     "data": {
      "text/plain": [
       "'12230038'"
      ]
     },
     "execution_count": 69,
     "metadata": {},
     "output_type": "execute_result"
    }
   ],
   "source": [
    "record[\"PMID\"]"
   ]
  },
  {
   "cell_type": "markdown",
   "metadata": {},
   "source": [
    "\n"
   ]
  },
  {
   "cell_type": "code",
   "execution_count": 70,
   "metadata": {
    "collapsed": false
   },
   "outputs": [
    {
     "data": {
      "text/plain": [
       "'Bioinformatics research is often difficult to do with commercial software. The Open Source BioPerl, BioPython and Biojava projects provide toolkits with multiple functionality that make it easier to create customised pipelines or analysis. This review briefly compares the quirks of the underlying languages and the functionality, documentation, utility and relative advantages of the Bio counterparts, particularly from the point of view of the beginning biologist programmer.'"
      ]
     },
     "execution_count": 70,
     "metadata": {},
     "output_type": "execute_result"
    }
   ],
   "source": [
    "record[\"AB\"]"
   ]
  },
  {
   "cell_type": "markdown",
   "metadata": {},
   "source": [
    "\n",
    "The key names used in a Medline record can be rather obscure; use\n",
    "\n"
   ]
  },
  {
   "cell_type": "code",
   "execution_count": 59,
   "metadata": {
    "collapsed": false
   },
   "outputs": [
    {
     "name": "stdout",
     "output_type": "stream",
     "text": [
      "Help on Record in module Bio.Medline object:\n",
      "\n",
      "class Record(builtins.dict)\n",
      " |  A dictionary holding information from a Medline record.\n",
      " |  \n",
      " |  All data are stored under the mnemonic appearing in the Medline\n",
      " |  file. These mnemonics have the following interpretations:\n",
      " |  \n",
      " |  ========= ==============================\n",
      " |  Mnemonic  Description\n",
      " |  --------- ------------------------------\n",
      " |  AB        Abstract\n",
      " |  CI        Copyright Information\n",
      " |  AD        Affiliation\n",
      " |  IRAD      Investigator Affiliation\n",
      " |  AID       Article Identifier\n",
      " |  AU        Author\n",
      " |  FAU       Full Author\n",
      " |  CN        Corporate Author\n",
      " |  DCOM      Date Completed\n",
      " |  DA        Date Created\n",
      " |  LR        Date Last Revised\n",
      " |  DEP       Date of Electronic Publication\n",
      " |  DP        Date of Publication\n",
      " |  EDAT      Entrez Date\n",
      " |  GS        Gene Symbol\n",
      " |  GN        General Note\n",
      " |  GR        Grant Number\n",
      " |  IR        Investigator Name\n",
      " |  FIR       Full Investigator Name\n",
      " |  IS        ISSN\n",
      " |  IP        Issue\n",
      " |  TA        Journal Title Abbreviation\n",
      " |  JT        Journal Title\n",
      " |  LA        Language\n",
      " |  LID       Location Identifier\n",
      " |  MID       Manuscript Identifier\n",
      " |  MHDA      MeSH Date\n",
      " |  MH        MeSH Terms\n",
      " |  JID       NLM Unique ID\n",
      " |  RF        Number of References\n",
      " |  OAB       Other Abstract\n",
      " |  OCI       Other Copyright Information\n",
      " |  OID       Other ID\n",
      " |  OT        Other Term\n",
      " |  OTO       Other Term Owner\n",
      " |  OWN       Owner\n",
      " |  PG        Pagination\n",
      " |  PS        Personal Name as Subject\n",
      " |  FPS       Full Personal Name as Subject\n",
      " |  PL        Place of Publication\n",
      " |  PHST      Publication History Status\n",
      " |  PST       Publication Status\n",
      " |  PT        Publication Type\n",
      " |  PUBM      Publishing Model\n",
      " |  PMC       PubMed Central Identifier\n",
      " |  PMID      PubMed Unique Identifier\n",
      " |  RN        Registry Number/EC Number\n",
      " |  NM        Substance Name\n",
      " |  SI        Secondary Source ID\n",
      " |  SO        Source\n",
      " |  SFM       Space Flight Mission\n",
      " |  STAT      Status\n",
      " |  SB        Subset\n",
      " |  TI        Title\n",
      " |  TT        Transliterated Title\n",
      " |  VI        Volume\n",
      " |  CON       Comment on\n",
      " |  CIN       Comment in\n",
      " |  EIN       Erratum in\n",
      " |  EFR       Erratum for\n",
      " |  CRI       Corrected and Republished in\n",
      " |  CRF       Corrected and Republished from\n",
      " |  PRIN      Partial retraction in\n",
      " |  PROF      Partial retraction of\n",
      " |  RPI       Republished in\n",
      " |  RPF       Republished from\n",
      " |  RIN       Retraction in\n",
      " |  ROF       Retraction of\n",
      " |  UIN       Update in\n",
      " |  UOF       Update of\n",
      " |  SPIN      Summary for patients in\n",
      " |  ORI       Original report in\n",
      " |  ========= ==============================\n",
      " |  \n",
      " |  Method resolution order:\n",
      " |      Record\n",
      " |      builtins.dict\n",
      " |      builtins.object\n",
      " |  \n",
      " |  Data descriptors defined here:\n",
      " |  \n",
      " |  __dict__\n",
      " |      dictionary for instance variables (if defined)\n",
      " |  \n",
      " |  __weakref__\n",
      " |      list of weak references to the object (if defined)\n",
      " |  \n",
      " |  ----------------------------------------------------------------------\n",
      " |  Methods inherited from builtins.dict:\n",
      " |  \n",
      " |  __contains__(self, key, /)\n",
      " |      True if D has a key k, else False.\n",
      " |  \n",
      " |  __delitem__(self, key, /)\n",
      " |      Delete self[key].\n",
      " |  \n",
      " |  __eq__(self, value, /)\n",
      " |      Return self==value.\n",
      " |  \n",
      " |  __ge__(self, value, /)\n",
      " |      Return self>=value.\n",
      " |  \n",
      " |  __getattribute__(self, name, /)\n",
      " |      Return getattr(self, name).\n",
      " |  \n",
      " |  __getitem__(...)\n",
      " |      x.__getitem__(y) <==> x[y]\n",
      " |  \n",
      " |  __gt__(self, value, /)\n",
      " |      Return self>value.\n",
      " |  \n",
      " |  __init__(self, /, *args, **kwargs)\n",
      " |      Initialize self.  See help(type(self)) for accurate signature.\n",
      " |  \n",
      " |  __iter__(self, /)\n",
      " |      Implement iter(self).\n",
      " |  \n",
      " |  __le__(self, value, /)\n",
      " |      Return self<=value.\n",
      " |  \n",
      " |  __len__(self, /)\n",
      " |      Return len(self).\n",
      " |  \n",
      " |  __lt__(self, value, /)\n",
      " |      Return self<value.\n",
      " |  \n",
      " |  __ne__(self, value, /)\n",
      " |      Return self!=value.\n",
      " |  \n",
      " |  __new__(*args, **kwargs) from builtins.type\n",
      " |      Create and return a new object.  See help(type) for accurate signature.\n",
      " |  \n",
      " |  __repr__(self, /)\n",
      " |      Return repr(self).\n",
      " |  \n",
      " |  __setitem__(self, key, value, /)\n",
      " |      Set self[key] to value.\n",
      " |  \n",
      " |  __sizeof__(...)\n",
      " |      D.__sizeof__() -> size of D in memory, in bytes\n",
      " |  \n",
      " |  clear(...)\n",
      " |      D.clear() -> None.  Remove all items from D.\n",
      " |  \n",
      " |  copy(...)\n",
      " |      D.copy() -> a shallow copy of D\n",
      " |  \n",
      " |  fromkeys(iterable, value=None, /) from builtins.type\n",
      " |      Returns a new dict with keys from iterable and values equal to value.\n",
      " |  \n",
      " |  get(...)\n",
      " |      D.get(k[,d]) -> D[k] if k in D, else d.  d defaults to None.\n",
      " |  \n",
      " |  items(...)\n",
      " |      D.items() -> a set-like object providing a view on D's items\n",
      " |  \n",
      " |  keys(...)\n",
      " |      D.keys() -> a set-like object providing a view on D's keys\n",
      " |  \n",
      " |  pop(...)\n",
      " |      D.pop(k[,d]) -> v, remove specified key and return the corresponding value.\n",
      " |      If key is not found, d is returned if given, otherwise KeyError is raised\n",
      " |  \n",
      " |  popitem(...)\n",
      " |      D.popitem() -> (k, v), remove and return some (key, value) pair as a\n",
      " |      2-tuple; but raise KeyError if D is empty.\n",
      " |  \n",
      " |  setdefault(...)\n",
      " |      D.setdefault(k[,d]) -> D.get(k,d), also set D[k]=d if k not in D\n",
      " |  \n",
      " |  update(...)\n",
      " |      D.update([E, ]**F) -> None.  Update D from dict/iterable E and F.\n",
      " |      If E is present and has a .keys() method, then does:  for k in E: D[k] = E[k]\n",
      " |      If E is present and lacks a .keys() method, then does:  for k, v in E: D[k] = v\n",
      " |      In either case, this is followed by: for k in F:  D[k] = F[k]\n",
      " |  \n",
      " |  values(...)\n",
      " |      D.values() -> an object providing a view on D's values\n",
      " |  \n",
      " |  ----------------------------------------------------------------------\n",
      " |  Data and other attributes inherited from builtins.dict:\n",
      " |  \n",
      " |  __hash__ = None\n",
      "\n"
     ]
    }
   ],
   "source": [
    "help(record)"
   ]
  },
  {
   "cell_type": "markdown",
   "metadata": {},
   "source": [
    "\n",
    "for a brief summary.\n",
    "\n",
    "To parse a file containing multiple Medline records, you can use the\n",
    "`parse` function instead:\n",
    "\n"
   ]
  },
  {
   "cell_type": "code",
   "execution_count": 71,
   "metadata": {
    "collapsed": false
   },
   "outputs": [
    {
     "name": "stdout",
     "output_type": "stream",
     "text": [
      "A high level interface to SCOP and ASTRAL implemented in python.\n",
      "GenomeDiagram: a python package for the visualization of large-scale genomic data.\n",
      "Open source clustering software.\n",
      "PDB file parser and structure class implemented in Python.\n"
     ]
    }
   ],
   "source": [
    "from Bio import Medline\n",
    "with open(\"data/pubmed_result2.txt\") as handle:\n",
    "    for record in Medline.parse(handle):\n",
    "        print(record[\"TI\"])"
   ]
  },
  {
   "cell_type": "markdown",
   "metadata": {},
   "source": [
    "\n",
    "Instead of parsing Medline records stored in files, you can also parse\n",
    "Medline records downloaded by `Bio.Entrez.efetch`. For example, let’s\n",
    "look at all Medline records in PubMed related to Biopython:\n",
    "\n"
   ]
  },
  {
   "cell_type": "code",
   "execution_count": 72,
   "metadata": {
    "collapsed": false
   },
   "outputs": [
    {
     "data": {
      "text/plain": [
       "['24929426', '24497503', '24267035', '24194598', '23842806', '23157543', '22909249', '22399473', '21666252', '21210977', '20015970', '19811691', '19773334', '19304878', '18606172', '21585724', '16403221', '16377612', '14871861', '14630660']"
      ]
     },
     "execution_count": 72,
     "metadata": {},
     "output_type": "execute_result"
    }
   ],
   "source": [
    "from Bio import Entrez\n",
    "Entrez.email = \"A.N.Other@example.com\"     # Always tell NCBI who you are\n",
    "handle = Entrez.esearch(db=\"pubmed\", term=\"biopython\")\n",
    "record = Entrez.read(handle)\n",
    "record[\"IdList\"]"
   ]
  },
  {
   "cell_type": "markdown",
   "metadata": {},
   "source": [
    "\n",
    "We now use `Bio.Entrez.efetch` to download these Medline records:\n",
    "\n"
   ]
  },
  {
   "cell_type": "code",
   "execution_count": 73,
   "metadata": {
    "collapsed": true
   },
   "outputs": [],
   "source": [
    "idlist = record[\"IdList\"]\n",
    "handle = Entrez.efetch(db=\"pubmed\", id=idlist, rettype=\"medline\", retmode=\"text\")"
   ]
  },
  {
   "cell_type": "markdown",
   "metadata": {},
   "source": [
    "\n",
    "Here, we specify `rettype=\"medline\", retmode=\"text\"` to obtain the\n",
    "Medline records in plain-text Medline format. Now we use `Bio.Medline`\n",
    "to parse these records:\n",
    "\n"
   ]
  },
  {
   "cell_type": "code",
   "execution_count": 74,
   "metadata": {
    "collapsed": false
   },
   "outputs": [
    {
     "name": "stdout",
     "output_type": "stream",
     "text": [
      "['Waldmann J', 'Gerken J', 'Hankeln W', 'Schweer T', 'Glockner FO']\n",
      "['Mielke CJ', 'Mandarino LJ', 'Dinu V']\n",
      "['Gajda MJ']\n",
      "['Mathelier A', 'Zhao X', 'Zhang AW', 'Parcy F', 'Worsley-Hunt R', 'Arenillas DJ', 'Buchman S', 'Chen CY', 'Chou A', 'Ienasescu H', 'Lim J', 'Shyr C', 'Tan G', 'Zhou M', 'Lenhard B', 'Sandelin A', 'Wasserman WW']\n",
      "['Morales HF', 'Giovambattista G']\n",
      "['Baldwin S', 'Revanna R', 'Thomson S', 'Pither-Joyce M', 'Wright K', 'Crowhurst R', 'Fiers M', 'Chen L', 'Macknight R', 'McCallum JA']\n",
      "['Talevich E', 'Invergo BM', 'Cock PJ', 'Chapman BA']\n",
      "['Prins P', 'Goto N', 'Yates A', 'Gautier L', 'Willis S', 'Fields C', 'Katayama T']\n",
      "['Schmitt T', 'Messina DN', 'Schreiber F', 'Sonnhammer EL']\n",
      "['Antao T']\n",
      "['Cock PJ', 'Fields CJ', 'Goto N', 'Heuer ML', 'Rice PM']\n",
      "['Jankun-Kelly TJ', 'Lindeman AD', 'Bridges SM']\n",
      "['Korhonen J', 'Martinmaki P', 'Pizzi C', 'Rastas P', 'Ukkonen E']\n",
      "['Cock PJ', 'Antao T', 'Chang JT', 'Chapman BA', 'Cox CJ', 'Dalke A', 'Friedberg I', 'Hamelryck T', 'Kauff F', 'Wilczynski B', 'de Hoon MJ']\n",
      "['Munteanu CR', 'Gonzalez-Diaz H', 'Magalhaes AL']\n",
      "['Faircloth BC']\n",
      "['Casbon JA', 'Crooks GE', 'Saqi MA']\n",
      "['Pritchard L', 'White JA', 'Birch PR', 'Toth IK']\n",
      "['de Hoon MJ', 'Imoto S', 'Nolan J', 'Miyano S']\n",
      "['Hamelryck T', 'Manderick B']\n"
     ]
    }
   ],
   "source": [
    "from Bio import Medline\n",
    "records = Medline.parse(handle)\n",
    "for record in records:\n",
    "    print(record[\"AU\"])"
   ]
  },
  {
   "cell_type": "markdown",
   "metadata": {},
   "source": [
    "\n",
    "For comparison, here we show an example using the XML format:\n",
    "\n"
   ]
  },
  {
   "cell_type": "code",
   "execution_count": 66,
   "metadata": {
    "collapsed": false
   },
   "outputs": [
    {
     "ename": "TypeError",
     "evalue": "'generator' object is not subscriptable",
     "output_type": "error",
     "traceback": [
      "\u001b[0;31m---------------------------------------------------------------------------\u001b[0m",
      "\u001b[0;31mTypeError\u001b[0m                                 Traceback (most recent call last)",
      "\u001b[0;32m<ipython-input-66-0a644918d5dd>\u001b[0m in \u001b[0;36m<module>\u001b[0;34m()\u001b[0m\n\u001b[0;32m----> 1\u001b[0;31m \u001b[0midlist\u001b[0m \u001b[0;34m=\u001b[0m \u001b[0mrecords\u001b[0m\u001b[0;34m[\u001b[0m\u001b[0;34m\"IdList\"\u001b[0m\u001b[0;34m]\u001b[0m\u001b[0;34m\u001b[0m\u001b[0m\n\u001b[0m\u001b[1;32m      2\u001b[0m \u001b[0mhandle\u001b[0m \u001b[0;34m=\u001b[0m \u001b[0mEntrez\u001b[0m\u001b[0;34m.\u001b[0m\u001b[0mefetch\u001b[0m\u001b[0;34m(\u001b[0m\u001b[0mdb\u001b[0m\u001b[0;34m=\u001b[0m\u001b[0;34m\"pubmed\"\u001b[0m\u001b[0;34m,\u001b[0m \u001b[0mid\u001b[0m\u001b[0;34m=\u001b[0m\u001b[0midlist\u001b[0m\u001b[0;34m,\u001b[0m \u001b[0mrettype\u001b[0m\u001b[0;34m=\u001b[0m\u001b[0;34m\"medline\"\u001b[0m\u001b[0;34m,\u001b[0m \u001b[0mretmode\u001b[0m\u001b[0;34m=\u001b[0m\u001b[0;34m\"xml\"\u001b[0m\u001b[0;34m)\u001b[0m\u001b[0;34m\u001b[0m\u001b[0m\n\u001b[1;32m      3\u001b[0m \u001b[0mrecords\u001b[0m \u001b[0;34m=\u001b[0m \u001b[0mEntrez\u001b[0m\u001b[0;34m.\u001b[0m\u001b[0mread\u001b[0m\u001b[0;34m(\u001b[0m\u001b[0mhandle\u001b[0m\u001b[0;34m)\u001b[0m\u001b[0;34m\u001b[0m\u001b[0m\n\u001b[1;32m      4\u001b[0m \u001b[0;32mfor\u001b[0m \u001b[0mrecord\u001b[0m \u001b[0;32min\u001b[0m \u001b[0mrecords\u001b[0m\u001b[0;34m:\u001b[0m\u001b[0;34m\u001b[0m\u001b[0m\n\u001b[1;32m      5\u001b[0m     \u001b[0mprint\u001b[0m\u001b[0;34m(\u001b[0m\u001b[0mrecord\u001b[0m\u001b[0;34m[\u001b[0m\u001b[0;34m\"MedlineCitation\"\u001b[0m\u001b[0;34m]\u001b[0m\u001b[0;34m[\u001b[0m\u001b[0;34m\"Article\"\u001b[0m\u001b[0;34m]\u001b[0m\u001b[0;34m[\u001b[0m\u001b[0;34m\"ArticleTitle\"\u001b[0m\u001b[0;34m]\u001b[0m\u001b[0;34m)\u001b[0m\u001b[0;34m\u001b[0m\u001b[0m\n",
      "\u001b[0;31mTypeError\u001b[0m: 'generator' object is not subscriptable"
     ]
    }
   ],
   "source": [
    "idlist = record[\"IdList\"]\n",
    "handle = Entrez.efetch(db=\"pubmed\", id=idlist, rettype=\"medline\", retmode=\"xml\")\n",
    "records = Entrez.read(handle)\n",
    "for record in records:\n",
    "    print(record[\"MedlineCitation\"][\"Article\"][\"ArticleTitle\"])"
   ]
  },
  {
   "cell_type": "markdown",
   "metadata": {},
   "source": [
    "\n",
    "Note that in both of these examples, for simplicity we have naively\n",
    "combined ESearch and EFetch. In this situation, the NCBI would expect\n",
    "you to use their history feature, as illustrated in\n",
    "Section \\[sec:entrez-webenv\\].\n",
    "\n",
    "### Parsing GEO records\n",
    "\n",
    "GEO ([Gene Expression Omnibus](http://www.ncbi.nlm.nih.gov/geo/)) is a\n",
    "data repository of high-throughput gene expression and hybridization\n",
    "array data. The `Bio.Geo` module can be used to parse GEO-formatted\n",
    "data.\n",
    "\n",
    "The following code fragment shows how to parse the example GEO file\n",
    "`GSE16.txt` into a record and print the record:\n",
    "\n"
   ]
  },
  {
   "cell_type": "code",
   "execution_count": 75,
   "metadata": {
    "collapsed": false
   },
   "outputs": [
    {
     "name": "stdout",
     "output_type": "stream",
     "text": [
      "GEO Type: SAMPLE\n",
      "GEO Id: GSM804\n",
      "Sample_author: Antoine,M,Snijders\n",
      "\n",
      "Sample_author: Norma,,Nowak\n",
      "\n",
      "Sample_author: Richard,,Segraves\n",
      "\n",
      "Sample_author: Stephanie,,Blackwood\n",
      "\n",
      "Sample_author: Nils,,Brown\n",
      "\n",
      "Sample_author: Jeffery,,Conroy\n",
      "\n",
      "Sample_author: Greg,,Hamilton\n",
      "\n",
      "Sample_author: Anna,K,Hindle\n",
      "\n",
      "Sample_author: Bing,,Huey\n",
      "\n",
      "Sample_author: Karen,,Kimura\n",
      "\n",
      "Sample_author: Sindy,,Law\n",
      "\n",
      "Sample_author: Ken,,Myambo\n",
      "\n",
      "Sample_author: Joel,,Palmer\n",
      "\n",
      "Sample_author: Bauke,,Ylstra\n",
      "\n",
      "Sample_author: Jingzhu,P,Yue\n",
      "\n",
      "Sample_author: Joe,W,Gray\n",
      "\n",
      "Sample_author: Ajay,N,Jain\n",
      "\n",
      "Sample_author: Daniel,,Pinkel\n",
      "\n",
      "Sample_author: Donna,G,Albertson\n",
      "\n",
      "Sample_description: Coriell Cell Repositories cell line <a h\n",
      "ref=\"http://locus.umdnj.edu/nigms/nigms_cgi/display.cgi?GM05296\">GM05296</a>.\n",
      "\n",
      "Sample_description: Fibroblast cell line derived from a 1 mo\n",
      "nth old female with multiple congenital malformations, dysmorphic features, intr\n",
      "auterine growth retardation, heart murmur, cleft palate, equinovarus deformity, \n",
      "microcephaly, coloboma of right iris, clinodactyly, reduced RBC catalase activit\n",
      "y, and 1 copy of catalase gene.\n",
      "\n",
      "Sample_description: Chromosome abnormalities are present.\n",
      "\n",
      "Sample_description: Karyotype is 46,XX,-11,+der(11)inv ins(1\n",
      "1;10)(11pter> 11p13::10q21>10q24::11p13>11qter)mat\n",
      "\n",
      "Sample_organism: Homo sapiens\n",
      "\n",
      "Sample_platform_id: GPL28\n",
      "\n",
      "Sample_pubmed_id: 11687795\n",
      "\n",
      "Sample_series_id: GSE16\n",
      "\n",
      "Sample_status: Public on Feb 12 2002\n",
      "\n",
      "Sample_submission_date: Jan 17 2002\n",
      "\n",
      "Sample_submitter_city: San Francisco,CA,94143,USA\n",
      "\n",
      "Sample_submitter_department: Comprehensive Cancer Center\n",
      "\n",
      "Sample_submitter_email: albertson@cc.ucsf.edu\n",
      "\n",
      "Sample_submitter_institute: University of California San Francisco\n",
      "\n",
      "Sample_submitter_name: Donna,G,Albertson\n",
      "\n",
      "Sample_submitter_phone: 415 502-8463\n",
      "\n",
      "Sample_target_source1: Cell line GM05296\n",
      "\n",
      "Sample_target_source2: normal male reference genomic DNA\n",
      "\n",
      "Sample_title: CGH_Albertson_GM05296-001218\n",
      "\n",
      "Sample_type: dual channel genomic\n",
      "\n",
      "Column Header Definitions\n",
      "    ID_REF: Unique row identifier, genome position o\n",
      "    rder\n",
      "\n",
      "    LINEAR_RATIO: Mean of replicate Cy3/Cy5 ratios\n",
      "\n",
      "    LOG2STDDEV: Standard deviation of VALUE\n",
      "\n",
      "    NO_REPLICATES: Number of replicate spot measurements\n",
      "\n",
      "    VALUE: aka LOG2RATIO, mean of log base 2 of LIN\n",
      "    EAR_RATIO\n",
      "\n",
      "0: ID_REF\tVALUE\tLINEAR_RATIO\tLOG2STDDEV\tNO_REPLICATES\t\n",
      "1: 1\t\t1.047765\t0.011853\t3\t\n",
      "2: 2\t\t\t\t0\t\n",
      "3: 3\t0.008824\t1.006135\t0.00143\t3\t\n",
      "4: 4\t-0.000894\t0.99938\t0.001454\t3\t\n",
      "5: 5\t0.075875\t1.054\t0.003077\t3\t\n",
      "6: 6\t0.017303\t1.012066\t0.005876\t2\t\n",
      "7: 7\t-0.006766\t0.995321\t0.013881\t3\t\n",
      "8: 8\t0.020755\t1.014491\t0.005506\t3\t\n",
      "9: 9\t-0.094938\t0.936313\t0.012662\t3\t\n",
      "10: 10\t-0.054527\t0.96291\t0.01073\t3\t\n",
      "11: 11\t-0.025057\t0.982782\t0.003855\t3\t\n",
      "12: 12\t\t\t\t0\t\n",
      "13: 13\t0.108454\t1.078072\t0.005196\t3\t\n",
      "14: 14\t0.078633\t1.056017\t0.009165\t3\t\n",
      "15: 15\t0.098571\t1.070712\t0.007834\t3\t\n",
      "16: 16\t0.044048\t1.031003\t0.013651\t3\t\n",
      "17: 17\t0.018039\t1.012582\t0.005471\t3\t\n",
      "18: 18\t-0.088807\t0.9403\t0.010571\t3\t\n",
      "19: 19\t0.016349\t1.011397\t0.007113\t3\t\n",
      "20: 20\t0.030977\t1.021704\t0.016798\t3\t\n",
      "\n"
     ]
    }
   ],
   "source": [
    "from Bio import Geo\n",
    "handle = open(\"data/GSE16.txt\")\n",
    "records = Geo.parse(handle)\n",
    "for record in records:\n",
    "    print(record)"
   ]
  },
  {
   "cell_type": "markdown",
   "metadata": {},
   "source": [
    "\n",
    "You can search the “gds” database (GEO datasets) with ESearch:\n",
    "\n"
   ]
  },
  {
   "cell_type": "code",
   "execution_count": 76,
   "metadata": {
    "collapsed": false
   },
   "outputs": [
    {
     "data": {
      "text/plain": [
       "'27'"
      ]
     },
     "execution_count": 76,
     "metadata": {},
     "output_type": "execute_result"
    }
   ],
   "source": [
    "from Bio import Entrez\n",
    "Entrez.email = \"A.N.Other@example.com\" # Always tell NCBI who you are\n",
    "handle = Entrez.esearch(db=\"gds\", term=\"GSE16\")\n",
    "record = Entrez.read(handle)\n",
    "record[\"Count\"]"
   ]
  },
  {
   "cell_type": "code",
   "execution_count": 71,
   "metadata": {
    "collapsed": false
   },
   "outputs": [
    {
     "data": {
      "text/plain": [
       "['200000016', '100000028', '300000818', '300000817', '300000816', '300000815', '300000814', '300000813', '300000812', '300000811', '300000810', '300000809', '300000808', '300000807', '300000806', '300000805', '300000804', '300000803', '300000802', '300000801']"
      ]
     },
     "execution_count": 71,
     "metadata": {},
     "output_type": "execute_result"
    }
   ],
   "source": [
    "record[\"IdList\"]"
   ]
  },
  {
   "cell_type": "markdown",
   "metadata": {},
   "source": [
    "\n",
    "From the Entrez website, UID “200000016” is GDS16 while the other hit\n",
    "“100000028” is for the associated platform, GPL28. Unfortunately, at the\n",
    "time of writing the NCBI don’t seem to support downloading GEO files\n",
    "using Entrez (not as XML, nor in the *Simple Omnibus Format in Text*\n",
    "(SOFT) format).\n",
    "\n",
    "However, it is actually pretty straight forward to download the GEO\n",
    "files by FTP from <ftp://ftp.ncbi.nih.gov/pub/geo/> instead. In this\n",
    "case you might want\n",
    "<ftp://ftp.ncbi.nih.gov/pub/geo/DATA/SOFT/by_series/GSE16/GSE16_family.soft.gz>\n",
    "(a compressed file, see the Python module gzip).\n",
    "\n",
    "### Parsing UniGene records\n",
    "\n",
    "UniGene is an NCBI database of the transcriptome, with each UniGene\n",
    "record showing the set of transcripts that are associated with a\n",
    "particular gene in a specific organism. A typical UniGene record looks\n",
    "like this:\n",
    "\n"
   ]
  },
  {
   "cell_type": "markdown",
   "metadata": {},
   "source": [
    "```\n",
    "ID          Hs.2\n",
    "TITLE       N-acetyltransferase 2 (arylamine N-acetyltransferase)\n",
    "GENE        NAT2\n",
    "CYTOBAND    8p22\n",
    "GENE_ID     10\n",
    "LOCUSLINK   10\n",
    "HOMOL       YES\n",
    "EXPRESS      bone| connective tissue| intestine| liver| liver tumor| normal| soft tissue/muscle tissue tumor| adult\n",
    "RESTR_EXPR   adult\n",
    "CHROMOSOME  8\n",
    "STS         ACC=PMC310725P3 UNISTS=272646\n",
    "STS         ACC=WIAF-2120 UNISTS=44576\n",
    "STS         ACC=G59899 UNISTS=137181\n",
    "...\n",
    "STS         ACC=GDB:187676 UNISTS=155563\n",
    "PROTSIM     ORG=10090; PROTGI=6754794; PROTID=NP_035004.1; PCT=76.55; ALN=288\n",
    "PROTSIM     ORG=9796; PROTGI=149742490; PROTID=XP_001487907.1; PCT=79.66; ALN=288\n",
    "PROTSIM     ORG=9986; PROTGI=126722851; PROTID=NP_001075655.1; PCT=76.90; ALN=288\n",
    "...\n",
    "PROTSIM     ORG=9598; PROTGI=114619004; PROTID=XP_519631.2; PCT=98.28; ALN=288\n",
    "\n",
    "SCOUNT      38\n",
    "SEQUENCE    ACC=BC067218.1; NID=g45501306; PID=g45501307; SEQTYPE=mRNA\n",
    "SEQUENCE    ACC=NM_000015.2; NID=g116295259; PID=g116295260; SEQTYPE=mRNA\n",
    "SEQUENCE    ACC=D90042.1; NID=g219415; PID=g219416; SEQTYPE=mRNA\n",
    "SEQUENCE    ACC=D90040.1; NID=g219411; PID=g219412; SEQTYPE=mRNA\n",
    "SEQUENCE    ACC=BC015878.1; NID=g16198419; PID=g16198420; SEQTYPE=mRNA\n",
    "SEQUENCE    ACC=CR407631.1; NID=g47115198; PID=g47115199; SEQTYPE=mRNA\n",
    "SEQUENCE    ACC=BG569293.1; NID=g13576946; CLONE=IMAGE:4722596; END=5'; LID=6989; SEQTYPE=EST; TRACE=44157214\n",
    "...\n",
    "SEQUENCE    ACC=AU099534.1; NID=g13550663; CLONE=HSI08034; END=5'; LID=8800; SEQTYPE=EST\n",
    "//\n",
    "\n",
    "```"
   ]
  },
  {
   "cell_type": "markdown",
   "metadata": {},
   "source": [
    "\n",
    "This particular record shows the set of transcripts (shown in the\n",
    "`SEQUENCE` lines) that originate from the human gene NAT2, encoding en\n",
    "N-acetyltransferase. The `PROTSIM` lines show proteins with significant\n",
    "similarity to NAT2, whereas the `STS` lines show the corresponding\n",
    "sequence-tagged sites in the genome.\n",
    "\n",
    "To parse UniGene files, use the `Bio.UniGene` module:\n",
    "\n"
   ]
  },
  {
   "cell_type": "markdown",
   "metadata": {},
   "source": [
    "<font color='red'>TODO: Need a working example</font>"
   ]
  },
  {
   "cell_type": "code",
   "execution_count": 72,
   "metadata": {
    "collapsed": false
   },
   "outputs": [
    {
     "ename": "FileNotFoundError",
     "evalue": "[Errno 2] No such file or directory: 'data/myunigenefile.data'",
     "output_type": "error",
     "traceback": [
      "\u001b[0;31m---------------------------------------------------------------------------\u001b[0m",
      "\u001b[0;31mFileNotFoundError\u001b[0m                         Traceback (most recent call last)",
      "\u001b[0;32m<ipython-input-72-e86c6b27f0bd>\u001b[0m in \u001b[0;36m<module>\u001b[0;34m()\u001b[0m\n\u001b[1;32m      1\u001b[0m \u001b[0;32mfrom\u001b[0m \u001b[0mBio\u001b[0m \u001b[0;32mimport\u001b[0m \u001b[0mUniGene\u001b[0m\u001b[0;34m\u001b[0m\u001b[0m\n\u001b[0;32m----> 2\u001b[0;31m \u001b[0minput\u001b[0m \u001b[0;34m=\u001b[0m \u001b[0mopen\u001b[0m\u001b[0;34m(\u001b[0m\u001b[0;34m\"data/myunigenefile.data\"\u001b[0m\u001b[0;34m)\u001b[0m\u001b[0;34m\u001b[0m\u001b[0m\n\u001b[0m\u001b[1;32m      3\u001b[0m \u001b[0mrecord\u001b[0m \u001b[0;34m=\u001b[0m \u001b[0mUniGene\u001b[0m\u001b[0;34m.\u001b[0m\u001b[0mread\u001b[0m\u001b[0;34m(\u001b[0m\u001b[0minput\u001b[0m\u001b[0;34m)\u001b[0m\u001b[0;34m\u001b[0m\u001b[0m\n",
      "\u001b[0;31mFileNotFoundError\u001b[0m: [Errno 2] No such file or directory: 'data/myunigenefile.data'"
     ]
    }
   ],
   "source": [
    "# from Bio import UniGene\n",
    "# input = open(\"data/myunigenefile.data\")\n",
    "# record = UniGene.read(input)"
   ]
  },
  {
   "cell_type": "markdown",
   "metadata": {},
   "source": [
    "\n",
    "The `record` returned by `UniGene.read` is a Python object with\n",
    "attributes corresponding to the fields in the UniGene record. For\n",
    "example,\n",
    "\n"
   ]
  },
  {
   "cell_type": "code",
   "execution_count": null,
   "metadata": {
    "collapsed": true
   },
   "outputs": [],
   "source": [
    "# record.ID"
   ]
  },
  {
   "cell_type": "code",
   "execution_count": null,
   "metadata": {
    "collapsed": true
   },
   "outputs": [],
   "source": [
    "# record.title"
   ]
  },
  {
   "cell_type": "markdown",
   "metadata": {},
   "source": [
    "\n",
    "The `EXPRESS` and `RESTR_EXPR` lines are stored as Python lists of\n",
    "strings:\n",
    "\n"
   ]
  },
  {
   "cell_type": "markdown",
   "metadata": {},
   "source": [
    "```\n",
    "['bone', 'connective tissue', 'intestine', 'liver', 'liver tumor', 'normal', 'soft tissue/muscle tissue tumor', 'adult']\n",
    "\n",
    "```"
   ]
  },
  {
   "cell_type": "markdown",
   "metadata": {},
   "source": [
    "\n",
    "Specialized objects are returned for the `STS`, `PROTSIM`, and\n",
    "`SEQUENCE` lines, storing the keys shown in each line as attributes:\n",
    "\n"
   ]
  },
  {
   "cell_type": "code",
   "execution_count": null,
   "metadata": {
    "collapsed": true
   },
   "outputs": [],
   "source": [
    "# record.sts[0].acc"
   ]
  },
  {
   "cell_type": "code",
   "execution_count": null,
   "metadata": {
    "collapsed": true
   },
   "outputs": [],
   "source": [
    "# record.sts[0].unists"
   ]
  },
  {
   "cell_type": "markdown",
   "metadata": {},
   "source": [
    "\n",
    "and similarly for the `PROTSIM` and `SEQUENCE` lines.\n",
    "\n",
    "To parse a file containing more than one UniGene record, use the `parse`\n",
    "function in `Bio.UniGene`:\n",
    "\n"
   ]
  },
  {
   "cell_type": "markdown",
   "metadata": {},
   "source": [
    "<font color='red'>TODO: Need a working example</font>"
   ]
  },
  {
   "cell_type": "code",
   "execution_count": 80,
   "metadata": {
    "collapsed": false
   },
   "outputs": [],
   "source": [
    "# from Bio import UniGene\n",
    "# input = open(\"unigenerecords.data\")\n",
    "# records = UniGene.parse(input)\n",
    "# for record in records:\n",
    "#     print(record.ID)"
   ]
  },
  {
   "cell_type": "markdown",
   "metadata": {},
   "source": [
    "\n",
    "Using a proxy\n",
    "-------------\n",
    "\n",
    "Normally you won’t have to worry about using a proxy, but if this is an\n",
    "issue on your network here is how to deal with it. Internally,\n",
    "`Bio.Entrez` uses the standard Python library `urllib` for accessing the\n",
    "NCBI servers. This will check an environment variable called\n",
    "`http_proxy` to configure any simple proxy automatically. Unfortunately\n",
    "this module does not support the use of proxies which require\n",
    "authentication.\n",
    "\n",
    "You may choose to set the `http_proxy` environment variable once (how\n",
    "you do this will depend on your operating system). Alternatively you can\n",
    "set this within Python at the start of your script, for example:\n",
    "\n"
   ]
  },
  {
   "cell_type": "markdown",
   "metadata": {},
   "source": [
    "```\n",
    "import os\n",
    "os.environ[\"http_proxy\"] = \"http://proxyhost.example.com:8080\"\n",
    "\n",
    "```"
   ]
  },
  {
   "cell_type": "markdown",
   "metadata": {},
   "source": [
    "\n",
    "See the [urllib\n",
    "documentation](http://www.python.org/doc/lib/module-urllib.html) for\n",
    "more details.\n",
    "\n",
    "Examples {#sec:entrez_examples}\n",
    "--------\n",
    "\n",
    "### PubMed and Medline {#subsec:pub_med}\n",
    "\n",
    "If you are in the medical field or interested in human issues (and many\n",
    "times even if you are not!), PubMed\n",
    "(<http://www.ncbi.nlm.nih.gov/PubMed/>) is an excellent source of all\n",
    "kinds of goodies. So like other things, we’d like to be able to grab\n",
    "information from it and use it in Python scripts.\n",
    "\n",
    "In this example, we will query PubMed for all articles having to do with\n",
    "orchids (see section \\[sec:orchids\\] for our motivation). We first check\n",
    "how many of such articles there are:\n",
    "\n"
   ]
  },
  {
   "cell_type": "code",
   "execution_count": 81,
   "metadata": {
    "collapsed": false
   },
   "outputs": [
    {
     "name": "stdout",
     "output_type": "stream",
     "text": [
      "1365\n"
     ]
    }
   ],
   "source": [
    "from Bio import Entrez\n",
    "Entrez.email = \"A.N.Other@example.com\"     # Always tell NCBI who you are\n",
    "handle = Entrez.egquery(term=\"orchid\")\n",
    "record = Entrez.read(handle)\n",
    "for row in record[\"eGQueryResult\"]:\n",
    "    if row[\"DbName\"]==\"pubmed\":\n",
    "        print(row[\"Count\"])"
   ]
  },
  {
   "cell_type": "markdown",
   "metadata": {},
   "source": [
    "\n",
    "Now we use the `Bio.Entrez.efetch` function to download the PubMed IDs\n",
    "of these 463 articles:\n",
    "\n"
   ]
  },
  {
   "cell_type": "code",
   "execution_count": 82,
   "metadata": {
    "collapsed": false
   },
   "outputs": [
    {
     "name": "stdout",
     "output_type": "stream",
     "text": [
      "['26667355', '26666122', '26620110', '26619873', '26612222', '26603277', '26602351', '26597968', '26580566', '26574675', '26573208', '26572133', '26571020', '26567856', '26567854', '26567851', '26558895', '26555336', '26548440', '26542829', '26531864', '26523377', '26513609', '26505352', '26493518', '26493226', '26481137', '26481007', '26471909', '26453693', '26452559', '26434147', '26423960', '26416561', '26387873', '26380706', '26372504', '26351150', '26335564', '26314297', '26314032', '26311710', '26311671', '26303983', '26299131', '26286221', '26271118', '26261398', '26260631', '26251157', '26249081', '26244769', '26236906', '26236866', '26224027', '26209365', '26206372', '26205509', '26183369', '26179361', '26162896', '26149997', '26149746', '26140205', '26134675', '26131375', '26125940', '26113634', '26105186', '26105185', '26082878', '26081278', '26079670', '26069956', '26063938', '26054613', '26046143', '26029428', '26025156', '26024358', '26006185', '25987618', '25970572', '25963669', '25959442', '25953040', '25947720', '25943771', '25941020', '25929591', '25917508', '25916981', '25902264', '25902058', '25900746', '25893148', '25886817', '25884020', '25865497', '25861687', '25861675', '25847454', '25844242', '25827410', '25825286', '25821245', '25814059', '25810660', '25801274', '25789487', '25784472', '25771863', '25771507', '25761566', '25756994', '25725112', '25711871', '25706625', '25704464', '25691974', '25678071', '25670973', '25652914', '25652831', '25639293', '25627384', '25627369', '25627364', '25619237', '25614926', '25612936', '25606433', '25600727', '25600397', '25590685', '25587149', '25582733', '25578271', '25567572', '25547596', '25546739', '25546318', '25538109', '25535483', '25526190', '25522604', '25505907', '25501842', '25491556', '25483791', '25482818', '25482794', '25482758', '25481640', '25472757', '25465335', '25463417', '25456430', '25454786', '25451646', '25450442', '25442280', '25438783', '25434107', '25430922', '25423071', '25422945', '25422941', '25421469', '25420146', '25401154', '25397675', '25382492', '25382295', '25380694', '25377920', '25370335', '25365177', '25350549', '25345817', '25320212', '25319065', '25311664', '25309222', '25294871', '25289772', '25284941', '25282501', '25278267', '25270669', '25266169', '25255853', '25250382', '25239559', '25236982', '25233643', '25221736', '25202630', '25202591', '25195836', '25183255', '25174959', '25168766', '25153202', '25141298', '25140872', '25122654', '25117357', '25102662', '25093401', '25089246', '25082140', '25078600', '25068598', '25060609', '25055082', '25034728', '25033767', '25025767', '25006180', '24998243', '24983476', '24980395', '24977213', '24974386', '24962394', '24961116', '24959588', '24952917', '24916060', '24913627', '24911363', '24907253', '24889383', '24845051', '24844664', '24832004', '24830683', '24830247', '24818583', '24817196', '24811734', '24800839', '24792982', '24777596', '24772822', '24772371', '24760407', '24752613', '24747128', '24747003', '24714568', '24697806', '24688055', '24659990', '24659825', '24641918', '24641728', '24635099', '24628585', '24621377', '24617632', '24615110', '24606694', '24571782', '24563211', '24550584', '24532077', '24527666', '24525191', '24520914', '24506021', '24498329', '24494717', '24482765', '24472146', '24471784', '24460947', '24454052', '24444001', '24409313', '24402568', '24392284', '24392013', '26462695', '24370475', '24366109', '24334741', '24325257', '24315348', '24310930', '24310615', '24308648', '24267156', '24265826', '24252216', '24249491', '24237204', '24223974', '24222213', '24218184', '24212691', '24212690', '24204832', '24173913', '24171312', '24169595', '24169591', '24147137', '24146569', '24146369', '24143222', '24136821', '24129175', '24112555', '24108313', '24107684', '24107683', '24106908', '24106667', '24090143', '24081823', '24074296', '24070862', '24065980', '24065668', '24052555', '24026354', '24009198', '24004516', '24001513', '23997231', '23984533', '23970076', '23969851', '23967332', '23956416', '23950085', '23950065', '23949981', '23949668', '23943081', '23939470', '23923483', '23917792', '23917575', '23917565', '23917564', '23917561', '23904568', '23894934', '23887919', '23857506', '23852996', '23841860', '23836678', '23833951', '23815661', '23815657', '23814439', '23812655', '23804617', '23795085', '23795032', '23780616', '23755534', '23751373', '23750181', '23738332', '23734209', '23701535', '23697165', '23692750', '23675685', '23647016', '23640259', '23638361', '23633002', '23618898', '23617896', '23616651', '23599555', '23597078', '23595103', '23593204', '23577161', '23577083', '23575662', '23563702', '23553724', '23545217', '23541634', '25202536', '23538115', '23532045', '23532043', '23526253', '23517677', '23504932', '23460979', '23448889', '25202528', '23440864', '23440505', '23435707', '23432406', '23417646', '23396600', '23396183', '23387843', '23387091', '23380059', '23359109', '23352400', '23347062', '23347020', '23331669', '23330773', '23324169', '23323053', '23315811', '23314755', '23308277', '23292456', '23277396', '23275632', '25366049', '25110576', '24699618', '23271631', '23262337', '23254458', '23251681', '23250404', '23249619', '23228193', '26255391', '23185288', '23136638', '23132617', '23129986', '23129981', '23125404', '23118724', '23117571', '23115134', '23091095', '23089850', '23070138', '23057699', '23055065', '23043621', '23032816', '23025596', '23014841', '23014813', '23008809', '23000275', '22997547', '22991932', '22988976', '22988937', '22967086']\n"
     ]
    }
   ],
   "source": [
    "handle = Entrez.esearch(db=\"pubmed\", term=\"orchid\", retmax=463)\n",
    "record = Entrez.read(handle)\n",
    "idlist = record[\"IdList\"]\n",
    "print(idlist)"
   ]
  },
  {
   "cell_type": "markdown",
   "metadata": {},
   "source": [
    "\n",
    "This returns a Python list containing all of the PubMed IDs of articles\n",
    "related to orchids:\n",
    "\n"
   ]
  },
  {
   "cell_type": "markdown",
   "metadata": {},
   "source": [
    "```\n",
    "['18680603', '18665331', '18661158', '18627489', '18627452', '18612381',\n",
    "'18594007', '18591784', '18589523', '18579475', '18575811', '18575690',\n",
    "...\n",
    "\n",
    "```"
   ]
  },
  {
   "cell_type": "markdown",
   "metadata": {},
   "source": [
    "\n",
    "Now that we’ve got them, we obviously want to get the corresponding\n",
    "Medline records and extract the information from them. Here, we’ll\n",
    "download the Medline records in the Medline flat-file format, and use\n",
    "the `Bio.Medline` module to parse them:\n",
    "\n"
   ]
  },
  {
   "cell_type": "code",
   "execution_count": null,
   "metadata": {
    "collapsed": true
   },
   "outputs": [],
   "source": [
    "from Bio import Medline\n",
    "handle = Entrez.efetch(db=\"pubmed\", id=idlist, rettype=\"medline\","
   ]
  },
  {
   "cell_type": "code",
   "execution_count": null,
   "metadata": {
    "collapsed": true
   },
   "outputs": [],
   "source": [
    "records = Medline.parse(handle)"
   ]
  },
  {
   "cell_type": "markdown",
   "metadata": {},
   "source": [
    "\n",
    "NOTE - We’ve just done a separate search and fetch here, the NCBI much\n",
    "prefer you to take advantage of their history support in this situation.\n",
    "See Section \\[sec:entrez-webenv\\].\n",
    "\n",
    "Keep in mind that `records` is an iterator, so you can iterate through\n",
    "the records only once. If you want to save the records, you can convert\n",
    "them to a list:\n",
    "\n"
   ]
  },
  {
   "cell_type": "code",
   "execution_count": null,
   "metadata": {
    "collapsed": true
   },
   "outputs": [],
   "source": [
    "records = list(records)"
   ]
  },
  {
   "cell_type": "markdown",
   "metadata": {},
   "source": [
    "\n",
    "Let’s now iterate over the records to print out some information about\n",
    "each record:\n",
    "\n"
   ]
  },
  {
   "cell_type": "code",
   "execution_count": null,
   "metadata": {
    "collapsed": true
   },
   "outputs": [],
   "source": [
    "for record in records:\n",
    "    print(\"title:\", record.get(\"TI\", \"?\"))\n",
    "    print(\"authors:\", record.get(\"AU\", \"?\"))\n",
    "    print(\"source:\", record.get(\"SO\", \"?\"))\n",
    "    print(\"\")\n"
   ]
  },
  {
   "cell_type": "markdown",
   "metadata": {},
   "source": [
    "\n",
    "The output for this looks like:\n",
    "\n"
   ]
  },
  {
   "cell_type": "markdown",
   "metadata": {},
   "source": [
    "```\n",
    "title: Sex pheromone mimicry in the early spider orchid (ophrys sphegodes):\n",
    "patterns of hydrocarbons as the key mechanism for pollination by sexual\n",
    "deception [In Process Citation]\n",
    "authors: ['Schiestl FP', 'Ayasse M', 'Paulus HF', 'Lofstedt C', 'Hansson BS',\n",
    "'Ibarra F', 'Francke W']\n",
    "source: J Comp Physiol [A] 2000 Jun;186(6):567-74\n",
    "\n",
    "```"
   ]
  },
  {
   "cell_type": "markdown",
   "metadata": {},
   "source": [
    "\n",
    "Especially interesting to note is the list of authors, which is returned\n",
    "as a standard Python list. This makes it easy to manipulate and search\n",
    "using standard Python tools. For instance, we could loop through a whole\n",
    "bunch of entries searching for a particular author with code like the\n",
    "following:\n",
    "\n"
   ]
  },
  {
   "cell_type": "code",
   "execution_count": 83,
   "metadata": {
    "collapsed": true
   },
   "outputs": [],
   "source": [
    "search_author = \"Waits T\""
   ]
  },
  {
   "cell_type": "code",
   "execution_count": 84,
   "metadata": {
    "collapsed": false
   },
   "outputs": [],
   "source": [
    "for record in records:\n",
    "    if not \"AU\" in record:\n",
    "        continue\n",
    "    if search_author in record[\"AU\"]:\n",
    "        print(\"Author %s found: %s\" % (search_author, record[\"SO\"]))"
   ]
  },
  {
   "cell_type": "markdown",
   "metadata": {},
   "source": [
    "\n",
    "Hopefully this section gave you an idea of the power and flexibility of\n",
    "the Entrez and Medline interfaces and how they can be used together.\n",
    "\n",
    "### Searching, downloading, and parsing Entrez Nucleotide records {#subsec:entrez_example_genbank}\n",
    "\n",
    "Here we’ll show a simple example of performing a remote Entrez query. In\n",
    "section \\[sec:orchids\\] of the parsing examples, we talked about using\n",
    "NCBI’s Entrez website to search the NCBI nucleotide databases for info\n",
    "on Cypripedioideae, our friends the lady slipper orchids. Now, we’ll\n",
    "look at how to automate that process using a Python script. In this\n",
    "example, we’ll just show how to connect, get the results, and parse\n",
    "them, with the Entrez module doing all of the work.\n",
    "\n",
    "First, we use EGQuery to find out the number of results we will get\n",
    "before actually downloading them. EGQuery will tell us how many search\n",
    "results were found in each of the databases, but for this example we are\n",
    "only interested in nucleotides:\n",
    "\n"
   ]
  },
  {
   "cell_type": "code",
   "execution_count": 85,
   "metadata": {
    "collapsed": false
   },
   "outputs": [
    {
     "name": "stdout",
     "output_type": "stream",
     "text": [
      "4247\n"
     ]
    }
   ],
   "source": [
    "from Bio import Entrez\n",
    "Entrez.email = \"A.N.Other@example.com\"     # Always tell NCBI who you are\n",
    "handle = Entrez.egquery(term=\"Cypripedioideae\")\n",
    "record = Entrez.read(handle)\n",
    "for row in record[\"eGQueryResult\"]:\n",
    "    if row[\"DbName\"]==\"nuccore\":\n",
    "        print(row[\"Count\"])"
   ]
  },
  {
   "cell_type": "markdown",
   "metadata": {},
   "source": [
    "\n",
    "So, we expect to find 814 Entrez Nucleotide records (this is the number\n",
    "I obtained in 2008; it is likely to increase in the future). If you find\n",
    "some ridiculously high number of hits, you may want to reconsider if you\n",
    "really want to download all of them, which is our next step:\n",
    "\n"
   ]
  },
  {
   "cell_type": "code",
   "execution_count": 86,
   "metadata": {
    "collapsed": true
   },
   "outputs": [],
   "source": [
    "from Bio import Entrez\n",
    "handle = Entrez.esearch(db=\"nucleotide\", term=\"Cypripedioideae\", retmax=814)\n",
    "record = Entrez.read(handle)"
   ]
  },
  {
   "cell_type": "markdown",
   "metadata": {},
   "source": [
    "\n",
    "Here, `record` is a Python dictionary containing the search results and\n",
    "some auxiliary information. Just for information, let’s look at what is\n",
    "stored in this dictionary:\n",
    "\n"
   ]
  },
  {
   "cell_type": "code",
   "execution_count": 87,
   "metadata": {
    "collapsed": false
   },
   "outputs": [
    {
     "name": "stdout",
     "output_type": "stream",
     "text": [
      "dict_keys(['TranslationStack', 'RetStart', 'IdList', 'QueryTranslation', 'Count', 'TranslationSet', 'RetMax'])\n"
     ]
    }
   ],
   "source": [
    "print(record.keys())"
   ]
  },
  {
   "cell_type": "markdown",
   "metadata": {},
   "source": [
    "\n",
    "First, let’s check how many results were found:\n",
    "\n"
   ]
  },
  {
   "cell_type": "code",
   "execution_count": null,
   "metadata": {
    "collapsed": true
   },
   "outputs": [],
   "source": [
    "print(record[\"Count\"])"
   ]
  },
  {
   "cell_type": "markdown",
   "metadata": {},
   "source": [
    "\n",
    "which is the number we expected. The 814 results are stored in\n",
    "`record['IdList']`:\n",
    "\n"
   ]
  },
  {
   "cell_type": "code",
   "execution_count": null,
   "metadata": {
    "collapsed": true
   },
   "outputs": [],
   "source": [
    "len(record[\"IdList\"])"
   ]
  },
  {
   "cell_type": "markdown",
   "metadata": {},
   "source": [
    "\n",
    "Let’s look at the first five results:\n",
    "\n"
   ]
  },
  {
   "cell_type": "code",
   "execution_count": null,
   "metadata": {
    "collapsed": true
   },
   "outputs": [],
   "source": [
    "record[\"IdList\"][:5]"
   ]
  },
  {
   "cell_type": "markdown",
   "metadata": {},
   "source": [
    "\n",
    "\\[sec:entrez-batched-efetch\\] We can download these records using\n",
    "`efetch`. While you could download these records one by one, to reduce\n",
    "the load on NCBI’s servers, it is better to fetch a bunch of records at\n",
    "the same time, shown below. However, in this situation you should\n",
    "ideally be using the history feature described later in\n",
    "Section \\[sec:entrez-webenv\\].\n",
    "\n"
   ]
  },
  {
   "cell_type": "code",
   "execution_count": null,
   "metadata": {
    "collapsed": true
   },
   "outputs": [],
   "source": [
    "idlist = \",\".join(record[\"IdList\"][:5])\n",
    "print(idlist)"
   ]
  },
  {
   "cell_type": "code",
   "execution_count": null,
   "metadata": {
    "collapsed": true
   },
   "outputs": [],
   "source": [
    "handle = Entrez.efetch(db=\"nucleotide\", id=idlist, retmode=\"xml\")\n",
    "records = Entrez.read(handle)\n",
    "len(records)"
   ]
  },
  {
   "cell_type": "markdown",
   "metadata": {},
   "source": [
    "\n",
    "Each of these records corresponds to one GenBank record.\n",
    "\n"
   ]
  },
  {
   "cell_type": "code",
   "execution_count": null,
   "metadata": {
    "collapsed": true
   },
   "outputs": [],
   "source": [
    "print(records[0].keys())"
   ]
  },
  {
   "cell_type": "code",
   "execution_count": null,
   "metadata": {
    "collapsed": true
   },
   "outputs": [],
   "source": [
    "print(records[0][\"GBSeq_primary-accession\"])"
   ]
  },
  {
   "cell_type": "code",
   "execution_count": null,
   "metadata": {
    "collapsed": true
   },
   "outputs": [],
   "source": [
    "print(records[0][\"GBSeq_other-seqids\"])"
   ]
  },
  {
   "cell_type": "code",
   "execution_count": null,
   "metadata": {
    "collapsed": true
   },
   "outputs": [],
   "source": [
    "print(records[0][\"GBSeq_definition\"])"
   ]
  },
  {
   "cell_type": "code",
   "execution_count": null,
   "metadata": {
    "collapsed": true
   },
   "outputs": [],
   "source": [
    "print(records[0][\"GBSeq_organism\"])"
   ]
  },
  {
   "cell_type": "markdown",
   "metadata": {},
   "source": [
    "\n",
    "You could use this to quickly set up searches – but for heavy usage, see\n",
    "Section \\[sec:entrez-webenv\\].\n",
    "\n",
    "### Searching, downloading, and parsing GenBank records {#sec:entrez-search-fetch-genbank}\n",
    "\n",
    "The GenBank record format is a very popular method of holding\n",
    "information about sequences, sequence features, and other associated\n",
    "sequence information. The format is a good way to get information from\n",
    "the NCBI databases at <http://www.ncbi.nlm.nih.gov/>.\n",
    "\n",
    "In this example we’ll show how to query the NCBI databases,to retrieve\n",
    "the records from the query, and then parse them using `Bio.SeqIO` -\n",
    "something touched on in Section \\[sec:SeqIO\\_GenBank\\_Online\\]. For\n",
    "simplicity, this example *does not* take advantage of the WebEnv history\n",
    "feature – see Section \\[sec:entrez-webenv\\] for this.\n",
    "\n",
    "First, we want to make a query and find out the ids of the records to\n",
    "retrieve. Here we’ll do a quick search for one of our favorite\n",
    "organisms, *Opuntia* (prickly-pear cacti). We can do quick search and\n",
    "get back the GIs (GenBank identifiers) for all of the corresponding\n",
    "records. First we check how many records there are:\n",
    "\n"
   ]
  },
  {
   "cell_type": "code",
   "execution_count": 88,
   "metadata": {
    "collapsed": false
   },
   "outputs": [
    {
     "name": "stdout",
     "output_type": "stream",
     "text": [
      "26\n"
     ]
    }
   ],
   "source": [
    "from Bio import Entrez\n",
    "Entrez.email = \"A.N.Other@example.com\"     # Always tell NCBI who you are\n",
    "handle = Entrez.egquery(term=\"Opuntia AND rpl16\")\n",
    "record = Entrez.read(handle)\n",
    "for row in record[\"eGQueryResult\"]:\n",
    "    if row[\"DbName\"]==\"nuccore\":\n",
    "        print(row[\"Count\"])"
   ]
  },
  {
   "cell_type": "markdown",
   "metadata": {},
   "source": [
    "\n",
    "Now we download the list of GenBank identifiers:\n",
    "\n"
   ]
  },
  {
   "cell_type": "code",
   "execution_count": null,
   "metadata": {
    "collapsed": true
   },
   "outputs": [],
   "source": [
    "handle = Entrez.esearch(db=\"nuccore\", term=\"Opuntia AND rpl16\")\n",
    "record = Entrez.read(handle)\n",
    "gi_list = record[\"IdList\"]\n",
    "gi_list"
   ]
  },
  {
   "cell_type": "markdown",
   "metadata": {},
   "source": [
    "\n",
    "Now we use these GIs to download the GenBank records - note that with\n",
    "older versions of Biopython you had to supply a comma separated list of\n",
    "GI numbers to Entrez, as of Biopython 1.59 you can pass a list and this\n",
    "is converted for you:\n",
    "\n"
   ]
  },
  {
   "cell_type": "code",
   "execution_count": null,
   "metadata": {
    "collapsed": true
   },
   "outputs": [],
   "source": [
    "gi_str = \",\".join(gi_list)\n",
    "handle = Entrez.efetch(db=\"nuccore\", id=gi_str, rettype=\"gb\", retmode=\"text\")"
   ]
  },
  {
   "cell_type": "markdown",
   "metadata": {},
   "source": [
    "\n",
    "If you want to look at the raw GenBank files, you can read from this\n",
    "handle and print out the result:\n",
    "\n"
   ]
  },
  {
   "cell_type": "code",
   "execution_count": null,
   "metadata": {
    "collapsed": true
   },
   "outputs": [],
   "source": [
    "text = handle.read()\n",
    "print(text)"
   ]
  },
  {
   "cell_type": "markdown",
   "metadata": {},
   "source": [
    "\n",
    "In this case, we are just getting the raw records. To get the records in\n",
    "a more Python-friendly form, we can use `Bio.SeqIO` to parse the GenBank\n",
    "data into `SeqRecord` objects, including `SeqFeature` objects (see\n",
    "Chapter \\[chapter:Bio.SeqIO\\]):\n",
    "\n"
   ]
  },
  {
   "cell_type": "code",
   "execution_count": null,
   "metadata": {
    "collapsed": true
   },
   "outputs": [],
   "source": [
    "from Bio import SeqIO\n",
    "handle = Entrez.efetch(db=\"nuccore\", id=gi_str, rettype=\"gb\", retmode=\"text\")\n",
    "records = SeqIO.parse(handle, \"gb\")"
   ]
  },
  {
   "cell_type": "markdown",
   "metadata": {},
   "source": [
    "\n",
    "We can now step through the records and look at the information we are\n",
    "interested in:\n",
    "\n"
   ]
  },
  {
   "cell_type": "code",
   "execution_count": null,
   "metadata": {
    "collapsed": true
   },
   "outputs": [],
   "source": [
    "for record in records:\n",
    "    print(\"%s, length %i, with %i features\" \\\n",
    "    % (record.name, len(record), len(record.features)))"
   ]
  },
  {
   "cell_type": "markdown",
   "metadata": {},
   "source": [
    "\n",
    "Using these automated query retrieval functionality is a big plus over\n",
    "doing things by hand. Although the module should obey the NCBI’s max\n",
    "three queries per second rule, the NCBI have other recommendations like\n",
    "avoiding peak hours. See Section \\[sec:entrez-guidelines\\]. In\n",
    "particular, please note that for simplicity, this example does not use\n",
    "the WebEnv history feature. You should use this for any non-trivial\n",
    "search and download work, see Section \\[sec:entrez-webenv\\].\n",
    "\n",
    "Finally, if plan to repeat your analysis, rather than downloading the\n",
    "files from the NCBI and parsing them immediately (as shown in this\n",
    "example), you should just download the records *once* and save them to\n",
    "your hard disk, and then parse the local file.\n",
    "\n",
    "### Finding the lineage of an organism\n",
    "\n",
    "Staying with a plant example, let’s now find the lineage of the\n",
    "Cypripedioideae orchid family. First, we search the Taxonomy database\n",
    "for Cypripedioideae, which yields exactly one NCBI taxonomy identifier:\n",
    "\n"
   ]
  },
  {
   "cell_type": "code",
   "execution_count": null,
   "metadata": {
    "collapsed": true
   },
   "outputs": [],
   "source": [
    "from Bio import Entrez\n",
    "Entrez.email = \"A.N.Other@example.com\"     # Always tell NCBI who you are\n",
    "handle = Entrez.esearch(db=\"Taxonomy\", term=\"Cypripedioideae\")\n",
    "record = Entrez.read(handle)\n",
    "record[\"IdList\"]\n"
   ]
  },
  {
   "cell_type": "code",
   "execution_count": null,
   "metadata": {
    "collapsed": true
   },
   "outputs": [],
   "source": [
    "record[\"IdList\"][0]\n"
   ]
  },
  {
   "cell_type": "markdown",
   "metadata": {},
   "source": [
    "\n",
    "Now, we use `efetch` to download this entry in the Taxonomy database,\n",
    "and then parse it:\n",
    "\n"
   ]
  },
  {
   "cell_type": "code",
   "execution_count": null,
   "metadata": {
    "collapsed": true
   },
   "outputs": [],
   "source": [
    "handle = Entrez.efetch(db=\"Taxonomy\", id=\"158330\", retmode=\"xml\")\n",
    "records = Entrez.read(handle)\n"
   ]
  },
  {
   "cell_type": "markdown",
   "metadata": {},
   "source": [
    "\n",
    "Again, this record stores lots of information:\n",
    "\n"
   ]
  },
  {
   "cell_type": "code",
   "execution_count": null,
   "metadata": {
    "collapsed": true
   },
   "outputs": [],
   "source": [
    "records[0].keys()\n"
   ]
  },
  {
   "cell_type": "markdown",
   "metadata": {},
   "source": [
    "\n",
    "We can get the lineage directly from this record:\n",
    "\n"
   ]
  },
  {
   "cell_type": "code",
   "execution_count": null,
   "metadata": {
    "collapsed": true
   },
   "outputs": [],
   "source": [
    "records[0][\"Lineage\"]\n"
   ]
  },
  {
   "cell_type": "markdown",
   "metadata": {},
   "source": [
    "\n",
    "The record data contains much more than just the information shown here\n",
    "- for example look under `LineageEx` instead of `Lineage` and you’ll get\n",
    "the NCBI taxon identifiers of the lineage entries too.\n",
    "\n",
    "Using the history and WebEnv {#sec:entrez-webenv}\n",
    "----------------------------\n",
    "\n",
    "Often you will want to make a series of linked queries. Most typically,\n",
    "running a search, perhaps refining the search, and then retrieving\n",
    "detailed search results. You *can* do this by making a series of\n",
    "separate calls to Entrez. However, the NCBI prefer you to take advantage\n",
    "of their history support - for example combining ESearch and EFetch.\n",
    "\n",
    "Another typical use of the history support would be to combine EPost and\n",
    "EFetch. You use EPost to upload a list of identifiers, which starts a\n",
    "new history session. You then download the records with EFetch by\n",
    "referring to the session (instead of the identifiers).\n",
    "\n",
    "### Searching for and downloading sequences using the history\n",
    "\n",
    "Suppose we want to search and download all the *Opuntia* rpl16\n",
    "nucleotide sequences, and store them in a FASTA file. As shown in\n",
    "Section \\[sec:entrez-search-fetch-genbank\\], we can naively combine\n",
    "`Bio.Entrez.esearch()` to get a list of GI numbers, and then call\n",
    "`Bio.Entrez.efetch()` to download them all.\n",
    "\n",
    "However, the approved approach is to run the search with the history\n",
    "feature. Then, we can fetch the results by reference to the search\n",
    "results - which the NCBI can anticipate and cache.\n",
    "\n",
    "To do this, call `Bio.Entrez.esearch()` as normal, but with the\n",
    "additional argument of `usehistory=\"y\"`,\n",
    "\n"
   ]
  },
  {
   "cell_type": "code",
   "execution_count": null,
   "metadata": {
    "collapsed": true
   },
   "outputs": [],
   "source": [
    "from Bio import Entrez\n",
    "Entrez.email = \"history.user@example.com\"\n",
    "search_handle = Entrez.esearch(db=\"nucleotide\",term=\"Opuntia[orgn] and rpl16\",\n"
   ]
  },
  {
   "cell_type": "code",
   "execution_count": null,
   "metadata": {
    "collapsed": true
   },
   "outputs": [],
   "source": [
    "search_results = Entrez.read(search_handle)\n",
    "search_handle.close()\n"
   ]
  },
  {
   "cell_type": "markdown",
   "metadata": {},
   "source": [
    "\n",
    "When you get the XML output back, it will still include the usual search\n",
    "results:\n",
    "\n"
   ]
  },
  {
   "cell_type": "code",
   "execution_count": null,
   "metadata": {
    "collapsed": true
   },
   "outputs": [],
   "source": [
    "gi_list = search_results[\"IdList\"]\n",
    "count = int(search_results[\"Count\"])\n",
    "assert count == len(gi_list)\n"
   ]
  },
  {
   "cell_type": "markdown",
   "metadata": {},
   "source": [
    "\n",
    "However, you also get given two additional pieces of information, the\n",
    "<span>WebEnv</span> session cookie, and the <span>QueryKey</span>:\n",
    "\n"
   ]
  },
  {
   "cell_type": "code",
   "execution_count": null,
   "metadata": {
    "collapsed": true
   },
   "outputs": [],
   "source": [
    "webenv = search_results[\"WebEnv\"]\n",
    "query_key = search_results[\"QueryKey\"]\n"
   ]
  },
  {
   "cell_type": "markdown",
   "metadata": {},
   "source": [
    "\n",
    "Having stored these values in variables <span>session\\_cookie</span> and\n",
    "<span>query\\_key</span> we can use them as parameters to\n",
    "`Bio.Entrez.efetch()` instead of giving the GI numbers as identifiers.\n",
    "\n",
    "While for small searches you might be OK downloading everything at once,\n",
    "it is better to download in batches. You use the <span>retstart</span>\n",
    "and <span>retmax</span> parameters to specify which range of search\n",
    "results you want returned (starting entry using zero-based counting, and\n",
    "maximum number of results to return). Sometimes you will get\n",
    "intermittent errors from Entrez, HTTPError 5XX, we use a try except\n",
    "pause retry block to address this. For example,\n",
    "\n"
   ]
  },
  {
   "cell_type": "markdown",
   "metadata": {},
   "source": [
    "```\n",
    "from Bio import Entrez\n",
    "import time\n",
    "try:\n",
    "    from urllib.error import HTTPError  # for Python 3\n",
    "except ImportError:\n",
    "    from urllib2 import HTTPError  # for Python 2\n",
    "batch_size = 3\n",
    "out_handle = open(\"orchid_rpl16.fasta\", \"w\")\n",
    "for start in range(0, count, batch_size):\n",
    "    end = min(count, start+batch_size)\n",
    "    print(\"Going to download record %i to %i\" % (start+1, end))\n",
    "    attempt = 1\n",
    "    while attempt <= 3:\n",
    "        try:\n",
    "            fetch_handle = Entrez.efetch(db=\"nucleotide\", rettype=\"fasta\", retmode=\"text\",\n",
    "                                         retstart=start, retmax=batch_size,\n",
    "                                         webenv=webenv, query_key=query_key)\n",
    "        except HTTPError as err:\n",
    "            if 500 <= err.code <= 599:\n",
    "                print(\"Received error from server %s\" % err)\n",
    "                print(\"Attempt %i of 3\" % attempt)\n",
    "                attempt += 1\n",
    "                time.sleep(15)\n",
    "            else:\n",
    "                raise\n",
    "    data = fetch_handle.read()\n",
    "    fetch_handle.close()\n",
    "    out_handle.write(data)\n",
    "out_handle.close()\n",
    "\n",
    "```"
   ]
  },
  {
   "cell_type": "markdown",
   "metadata": {},
   "source": [
    "\n",
    "For illustrative purposes, this example downloaded the FASTA records in\n",
    "batches of three. Unless you are downloading genomes or chromosomes, you\n",
    "would normally pick a larger batch size.\n",
    "\n",
    "### Searching for and downloading abstracts using the history\n",
    "\n",
    "Here is another history example, searching for papers published in the\n",
    "last year about the *Opuntia*, and then downloading them into a file in\n",
    "MedLine format:\n",
    "\n"
   ]
  },
  {
   "cell_type": "markdown",
   "metadata": {},
   "source": [
    "```\n",
    "from Bio import Entrez\n",
    "import time\n",
    "try:\n",
    "    from urllib.error import HTTPError  # for Python 3\n",
    "except ImportError:\n",
    "    from urllib2 import HTTPError  # for Python 2\n",
    "Entrez.email = \"history.user@example.com\"\n",
    "search_results = Entrez.read(Entrez.esearch(db=\"pubmed\",\n",
    "                                            term=\"Opuntia[ORGN]\",\n",
    "                                            reldate=365, datetype=\"pdat\",\n",
    "                                            usehistory=\"y\"))\n",
    "count = int(search_results[\"Count\"])\n",
    "print(\"Found %i results\" % count)\n",
    "\n",
    "batch_size = 10\n",
    "out_handle = open(\"recent_orchid_papers.txt\", \"w\")\n",
    "for start in range(0,count,batch_size):\n",
    "    end = min(count, start+batch_size)\n",
    "    print(\"Going to download record %i to %i\" % (start+1, end))\n",
    "    attempt = 1\n",
    "    while attempt <= 3:\n",
    "        try:\n",
    "            fetch_handle = Entrez.efetch(db=\"pubmed\",rettype=\"medline\",\n",
    "                                         retmode=\"text\",retstart=start,\n",
    "                                         retmax=batch_size,\n",
    "                                         webenv=search_results[\"WebEnv\"],\n",
    "                                         query_key=search_results[\"QueryKey\"])\n",
    "        except HTTPError as err:\n",
    "            if 500 <= err.code <= 599:\n",
    "                print(\"Received error from server %s\" % err)\n",
    "                print(\"Attempt %i of 3\" % attempt)\n",
    "                attempt += 1\n",
    "                time.sleep(15)\n",
    "            else:\n",
    "                raise\n",
    "    data = fetch_handle.read()\n",
    "    fetch_handle.close()\n",
    "    out_handle.write(data)\n",
    "out_handle.close()\n",
    "\n",
    "```"
   ]
  },
  {
   "cell_type": "markdown",
   "metadata": {},
   "source": [
    "\n",
    "At the time of writing, this gave 28 matches - but because this is a\n",
    "date dependent search, this will of course vary. As described in\n",
    "Section \\[subsec:entrez-and-medline\\] above, you can then use\n",
    "`Bio.Medline` to parse the saved records.\n",
    "\n",
    "### Searching for citations {#sec:elink-citations}\n",
    "\n",
    "Back in Section \\[sec:elink\\] we mentioned ELink can be used to search\n",
    "for citations of a given paper. Unfortunately this only covers journals\n",
    "indexed for PubMed Central (doing it for all the journals in PubMed\n",
    "would mean a lot more work for the NIH). Let’s try this for the\n",
    "Biopython PDB parser paper, PubMed ID 14630660:\n",
    "\n"
   ]
  },
  {
   "cell_type": "code",
   "execution_count": null,
   "metadata": {
    "collapsed": true
   },
   "outputs": [],
   "source": [
    "from Bio import Entrez\n",
    "Entrez.email = \"A.N.Other@example.com\"\n",
    "pmid = \"14630660\"\n",
    "results = Entrez.read(Entrez.elink(dbfrom=\"pubmed\", db=\"pmc\",\n",
    "LinkName=\"pubmed_pmc_refs\", from_uid=pmid))\n",
    "pmc_ids = [link[\"Id\"] for link in results[0][\"LinkSetDb\"][0][\"Link\"]]\n",
    "pmc_ids\n"
   ]
  },
  {
   "cell_type": "markdown",
   "metadata": {},
   "source": [
    "\n",
    "Great - eleven articles. But why hasn’t the Biopython application note\n",
    "been found (PubMed ID 19304878)? Well, as you might have guessed from\n",
    "the variable names, there are not actually PubMed IDs, but PubMed\n",
    "Central IDs. Our application note is the third citing paper in that\n",
    "list, PMCID 2682512.\n",
    "\n",
    "So, what if (like me) you’d rather get back a list of PubMed IDs? Well\n",
    "we can call ELink again to translate them. This becomes a two step\n",
    "process, so by now you should expect to use the history feature to\n",
    "accomplish it (Section \\[sec:entrez-webenv\\]).\n",
    "\n",
    "But first, taking the more straightforward approach of making a second\n",
    "(separate) call to ELink:\n",
    "\n"
   ]
  },
  {
   "cell_type": "code",
   "execution_count": null,
   "metadata": {
    "collapsed": true
   },
   "outputs": [],
   "source": [
    "results2 = Entrez.read(Entrez.elink(dbfrom=\"pmc\", db=\"pubmed\", LinkName=\"pmc_pubmed\",\n",
    "from_uid=\",\".join(pmc_ids)))\n",
    "pubmed_ids = [link[\"Id\"] for link in results2[0][\"LinkSetDb\"][0][\"Link\"]]\n",
    "pubmed_ids\n"
   ]
  }
 ],
 "metadata": {
  "kernelspec": {
   "display_name": "Python 3",
   "language": "python",
   "name": "python3"
  },
  "language_info": {
   "codemirror_mode": {
    "name": "ipython",
    "version": 3
   },
   "file_extension": ".py",
   "mimetype": "text/x-python",
   "name": "python",
   "nbconvert_exporter": "python",
   "pygments_lexer": "ipython3",
   "version": "3.5.1"
  }
 },
 "nbformat": 4,
 "nbformat_minor": 0
}
