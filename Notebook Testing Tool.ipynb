{
 "cells": [
  {
   "cell_type": "markdown",
   "metadata": {},
   "source": [
    "Basic testing tool for the notebooks.\n",
    "\n",
    "Notebooks must be listed in nblist to be tested."
   ]
  },
  {
   "cell_type": "code",
   "execution_count": 7,
   "metadata": {
    "collapsed": true
   },
   "outputs": [],
   "source": [
    "from nbconvert.preprocessors.execute import ExecutePreprocessor\n",
    "from nbconvert.nbconvertapp import NbConvertApp\n",
    "from nbconvert.preprocessors import ExecutePreprocessor\n",
    "from nbconvert.preprocessors.execute import CellExecutionError\n",
    "import nbformat\n",
    "\n",
    "folder = \"notebooks/\" #include the trailing /\n",
    "nblist = [\"01 - Introduction.ipynb\",\n",
    "          \"02 - Quick Start.ipynb\",\n",
    "          \"03 - Sequence Objects.ipynb\",\n",
    "          \"04 - Sequence Annotation objects.ipynb\",\n",
    "          \"05 - Sequence Input and Output.ipynb\",\n",
    "          \"12 - Bio.PopGen - Population Genetics.ipynb\",\n",
    "          \"13 - Phylogenetics with Bio.Phylo.ipynb\",\n",
    "          \"17 - Graphics including GenomeDiagram.ipynb\",\n",
    "          \"99 - Credits.ipynb\"]"
   ]
  },
  {
   "cell_type": "markdown",
   "metadata": {},
   "source": [
    "Run the tests"
   ]
  },
  {
   "cell_type": "code",
   "execution_count": 20,
   "metadata": {
    "collapsed": false
   },
   "outputs": [
    {
     "name": "stdout",
     "output_type": "stream",
     "text": [
      "Pass: 01 - Introduction.ipynb\n",
      "Fail: 02 - Quick Start.ipynb: \u001b[0;31mAttributeError\u001b[0m: 'Alphabet' object has no attribute 'kjhgkjhhgkh'\n",
      "Fail: 03 - Sequence Objects.ipynb: \u001b[0;31mTypeError\u001b[0m: Incompatible alphabets IUPACProtein() and IUPACUnambiguousDNA()\n",
      "Fail: 04 - Sequence Annotation objects.ipynb: \u001b[0;31mFileNotFoundError\u001b[0m: [Errno 2] No such file or directory: 'data/NC_005816.fna'\n",
      "Fail: 05 - Sequence Input and Output.ipynb: \u001b[0;31mFileNotFoundError\u001b[0m: [Errno 2] No such file or directory: 'data/ls_orchid.fasta'\n",
      "Fail: 12 - Bio.PopGen - Population Genetics.ipynb: \u001b[0;31mFileNotFoundError\u001b[0m: [Errno 2] No such file or directory: 'data/example.gen'\n",
      "Fail: 13 - Phylogenetics with Bio.Phylo.ipynb: \u001b[0;31mFileNotFoundError\u001b[0m: [Errno 2] No such file or directory: 'data/simple.dnd'\n",
      "Fail: 17 - Graphics including GenomeDiagram.ipynb: \u001b[0;31mImportError\u001b[0m: No module named 'reportlab'\n",
      "Pass: 99 - Credits.ipynb\n"
     ]
    }
   ],
   "source": [
    "ex = ExecutePreprocessor()\n",
    "ex.timeout = 30  # seconds\n",
    "ex.interrupt_on_timeout = True\n",
    "\n",
    "for notebook in nblist:\n",
    "    nb = nbformat.read(folder+notebook, as_version=4)\n",
    "    try:\n",
    "        nb_executed, resources = ex.preprocess(nb, resources={})\n",
    "        print('Pass: ' + notebook)\n",
    "    except CellExecutionError as e:\n",
    "        print('Fail: '  + notebook + ': ' + e.traceback[-1])\n"
   ]
  }
 ],
 "metadata": {
  "kernelspec": {
   "display_name": "Python 3",
   "language": "python",
   "name": "python3"
  },
  "language_info": {
   "codemirror_mode": {
    "name": "ipython",
    "version": 3
   },
   "file_extension": ".py",
   "mimetype": "text/x-python",
   "name": "python",
   "nbconvert_exporter": "python",
   "pygments_lexer": "ipython3",
   "version": "3.5.1"
  }
 },
 "nbformat": 4,
 "nbformat_minor": 0
}
