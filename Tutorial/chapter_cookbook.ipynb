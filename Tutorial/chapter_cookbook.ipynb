{
 "cells": [
  {
   "cell_type": "markdown",
   "metadata": {},
   "source": [
    "Cookbook – Cool things to do with it {#chapter:cookbook}\n",
    "====================================\n",
    "\n",
    "Biopython now has two collections of “cookbook” examples – this chapter\n",
    "(which has been included in this tutorial for many years and has\n",
    "gradually grown), and <http://biopython.org/wiki/Category:Cookbook>\n",
    "which is a user contributed collection on our wiki.\n",
    "\n",
    "We’re trying to encourage Biopython users to contribute their own\n",
    "examples to the wiki. In addition to helping the community, one direct\n",
    "benefit of sharing an example like this is that you could also get some\n",
    "feedback on the code from other Biopython users and developers - which\n",
    "could help you improve all your Python code.\n",
    "\n",
    "In the long term, we may end up moving all of the examples in this\n",
    "chapter to the wiki, or elsewhere within the tutorial.\n",
    "\n",
    "Working with sequence files {#seq:cookbook-sequences}\n",
    "---------------------------\n",
    "\n",
    "This section shows some more examples of sequence input/output, using\n",
    "the `Bio.SeqIO` module described in Chapter \\[chapter:Bio.SeqIO\\].\n",
    "\n",
    "### Filtering a sequence file\n",
    "\n",
    "Often you’ll have a large file with many sequences in it (e.g. FASTA\n",
    "file or genes, or a FASTQ or SFF file of reads), a separate shorter list\n",
    "of the IDs for a subset of sequences of interest, and want to make a new\n",
    "sequence file for this subset.\n",
    "\n",
    "Let’s say the list of IDs is in a simple text file, as the first word on\n",
    "each line. This could be a tabular file where the first column is the\n",
    "ID. Try something like this:\n",
    "\n"
   ]
  },
  {
   "cell_type": "markdown",
   "metadata": {},
   "source": [
    "\n",
    "Note that we use a Python `set` rather than a `list`, this makes testing\n",
    "membership faster.\n",
    "\n",
    "### Producing randomised genomes\n",
    "\n",
    "Let’s suppose you are looking at genome sequence, hunting for some\n",
    "sequence feature – maybe extreme local GC% bias, or possible restriction\n",
    "digest sites. Once you’ve got your Python code working on the real\n",
    "genome it may be sensible to try running the same search on randomised\n",
    "versions of the same genome for statistical analysis (after all, any\n",
    "“features” you’ve found could just be there just by chance).\n",
    "\n",
    "For this discussion, we’ll use the GenBank file for the pPCP1 plasmid\n",
    "from *Yersinia pestis biovar Microtus*. The file is included with the\n",
    "Biopython unit tests under the GenBank folder, or you can get it from\n",
    "our website,\n",
    "[`NC_005816.gb`](http://biopython.org/SRC/biopython/Tests/GenBank/NC_005816.gb).\n",
    "This file contains one and only one record, so we can read it in as a\n",
    "`SeqRecord` using the `Bio.SeqIO.read()` function:\n",
    "\n"
   ]
  },
  {
   "cell_type": "code",
   "execution_count": null,
   "metadata": {},
   "outputs": [],
   "source": [
    "from Bio import SeqIO\n",
    "original_rec = SeqIO.read(\"NC_005816.gb\", \"genbank\")\n"
   ]
  },
  {
   "cell_type": "markdown",
   "metadata": {},
   "source": [
    "\n",
    "So, how can we generate a shuffled versions of the original sequence? I\n",
    "would use the built in Python `random` module for this, in particular\n",
    "the function `random.shuffle` – but this works on a Python list. Our\n",
    "sequence is a `Seq` object, so in order to shuffle it we need to turn it\n",
    "into a list:\n",
    "\n"
   ]
  },
  {
   "cell_type": "code",
   "execution_count": null,
   "metadata": {},
   "outputs": [],
   "source": [
    "import random\n",
    "nuc_list = list(original_rec.seq)\n",
    "random.shuffle(nuc_list) #acts in situ!\n"
   ]
  },
  {
   "cell_type": "markdown",
   "metadata": {},
   "source": [
    "\n",
    "Now, in order to use `Bio.SeqIO` to output the shuffled sequence, we\n",
    "need to construct a new `SeqRecord` with a new `Seq` object using this\n",
    "shuffled list. In order to do this, we need to turn the list of\n",
    "nucleotides (single letter strings) into a long string – the standard\n",
    "Python way to do this is with the string object’s join method.\n",
    "\n"
   ]
  },
  {
   "cell_type": "code",
   "execution_count": null,
   "metadata": {},
   "outputs": [],
   "source": [
    "from Bio.Seq import Seq\n",
    "from Bio.SeqRecord import SeqRecord\n",
    "shuffled_rec = SeqRecord(Seq(\"\".join(nuc_list), original_rec.seq.alphabet),\n",
    "id=\"Shuffled\", description=\"Based on %s\" % original_rec.id)\n"
   ]
  },
  {
   "cell_type": "markdown",
   "metadata": {},
   "source": [
    "\n",
    "Let’s put all these pieces together to make a complete Python script\n",
    "which generates a single FASTA file containing 30 randomly shuffled\n",
    "versions of the original sequence.\n",
    "\n",
    "This first version just uses a big for loop and writes out the records\n",
    "one by one (using the `SeqRecord`’s format method described in\n",
    "Section \\[sec:Bio.SeqIO-and-StringIO\\]):\n",
    "\n"
   ]
  },
  {
   "cell_type": "markdown",
   "metadata": {},
   "source": [
    "\n",
    "Personally I prefer the following version using a function to shuffle\n",
    "the record and a generator expression instead of the for loop:\n",
    "\n"
   ]
  },
  {
   "cell_type": "markdown",
   "metadata": {},
   "source": [
    "\n",
    "### Translating a FASTA file of CDS entries {#sec:SeqIO-translate}\n",
    "\n",
    "Suppose you’ve got an input file of CDS entries for some organism, and\n",
    "you want to generate a new FASTA file containing their protein\n",
    "sequences. i.e. Take each nucleotide sequence from the original file,\n",
    "and translate it. Back in Section \\[sec:translation\\] we saw how to use\n",
    "the `Seq` object’s `translate method`, and the optional `cds` argument\n",
    "which enables correct translation of alternative start codons.\n",
    "\n",
    "We can combine this with `Bio.SeqIO` as shown in the reverse complement\n",
    "example in Section \\[sec:SeqIO-reverse-complement\\]. The key point is\n",
    "that for each nucleotide `SeqRecord`, we need to create a protein\n",
    "`SeqRecord` - and take care of naming it.\n",
    "\n",
    "You can write you own function to do this, choosing suitable protein\n",
    "identifiers for your sequences, and the appropriate genetic code. In\n",
    "this example we just use the default table and add a prefix to the\n",
    "identifier:\n",
    "\n"
   ]
  },
  {
   "cell_type": "markdown",
   "metadata": {},
   "source": [
    "\n",
    "We can then use this function to turn the input nucleotide records into\n",
    "protein records ready for output. An elegant way and memory efficient\n",
    "way to do this is with a generator expression:\n",
    "\n"
   ]
  },
  {
   "cell_type": "markdown",
   "metadata": {},
   "source": [
    "\n",
    "This should work on any FASTA file of complete coding sequences. If you\n",
    "are working on partial coding sequences, you may prefer to use\n",
    "`nuc_record.seq.translate(to_stop=True)` in the example above, as this\n",
    "wouldn’t check for a valid start codon etc.\n",
    "\n",
    "### Making the sequences in a FASTA file upper case\n",
    "\n",
    "Often you’ll get data from collaborators as FASTA files, and sometimes\n",
    "the sequences can be in a mixture of upper and lower case. In some cases\n",
    "this is deliberate (e.g. lower case for poor quality regions), but\n",
    "usually it is not important. You may want to edit the file to make\n",
    "everything consistent (e.g. all upper case), and you can do this easily\n",
    "using the `upper()` method of the `SeqRecord` object (added in Biopython\n",
    "1.55):\n",
    "\n"
   ]
  },
  {
   "cell_type": "markdown",
   "metadata": {},
   "source": [
    "\n",
    "How does this work? The first line is just importing the `Bio.SeqIO`\n",
    "module. The second line is the interesting bit – this is a Python\n",
    "generator expression which gives an upper case version of each record\n",
    "parsed from the input file (`mixed.fas`). In the third line we give this\n",
    "generator expression to the `Bio.SeqIO.write()` function and it saves\n",
    "the new upper cases records to our output file (`upper.fas`).\n",
    "\n",
    "The reason we use a generator expression (rather than a list or list\n",
    "comprehension) is this means only one record is kept in memory at a\n",
    "time. This can be really important if you are dealing with large files\n",
    "with millions of entries.\n",
    "\n",
    "### Sorting a sequence file {#sec:SeqIO-sort}\n",
    "\n",
    "Suppose you wanted to sort a sequence file by length (e.g. a set of\n",
    "contigs from an assembly), and you are working with a file format like\n",
    "FASTA or FASTQ which `Bio.SeqIO` can read, write (and index).\n",
    "\n",
    "If the file is small enough, you can load it all into memory at once as\n",
    "a list of `SeqRecord` objects, sort the list, and save it:\n",
    "\n"
   ]
  },
  {
   "cell_type": "markdown",
   "metadata": {},
   "source": [
    "\n",
    "The only clever bit is specifying a comparison function for how to sort\n",
    "the records (here we sort them by length). If you wanted the longest\n",
    "records first, you could flip the comparison or use the reverse\n",
    "argument:\n",
    "\n"
   ]
  },
  {
   "cell_type": "markdown",
   "metadata": {},
   "source": [
    "\n",
    "Now that’s pretty straight forward - but what happens if you have a very\n",
    "large file and you can’t load it all into memory like this? For example,\n",
    "you might have some next-generation sequencing reads to sort by length.\n",
    "This can be solved using the `Bio.SeqIO.index()` function.\n",
    "\n"
   ]
  },
  {
   "cell_type": "markdown",
   "metadata": {},
   "source": [
    "\n",
    "First we scan through the file once using `Bio.SeqIO.parse()`, recording\n",
    "the record identifiers and their lengths in a list of tuples. We then\n",
    "sort this list to get them in length order, and discard the lengths.\n",
    "Using this sorted list of identifiers `Bio.SeqIO.index()` allows us to\n",
    "retrieve the records one by one, and we pass them to `Bio.SeqIO.write()`\n",
    "for output.\n",
    "\n",
    "These examples all use `Bio.SeqIO` to parse the records into `SeqRecord`\n",
    "objects which are output using `Bio.SeqIO.write()`. What if you want to\n",
    "sort a file format which `Bio.SeqIO.write()` doesn’t support, like the\n",
    "plain text SwissProt format? Here is an alternative solution using the\n",
    "`get_raw()` method added to `Bio.SeqIO.index()` in Biopython 1.54 (see\n",
    "Section \\[sec:seqio-index-getraw\\]).\n",
    "\n"
   ]
  },
  {
   "cell_type": "markdown",
   "metadata": {},
   "source": [
    "\n",
    "As a bonus, because it doesn’t parse the data into `SeqRecord` objects a\n",
    "second time it should be faster.\n",
    "\n",
    "### Simple quality filtering for FASTQ files {#sec:FASTQ-filtering-example}\n",
    "\n",
    "The FASTQ file format was introduced at Sanger and is now widely used\n",
    "for holding nucleotide sequencing reads together with their quality\n",
    "scores. FASTQ files (and the related QUAL files) are an excellent\n",
    "example of per-letter-annotation, because for each nucleotide in the\n",
    "sequence there is an associated quality score. Any per-letter-annotation\n",
    "is held in a `SeqRecord` in the `letter_annotations` dictionary as a\n",
    "list, tuple or string (with the same number of elements as the sequence\n",
    "length).\n",
    "\n",
    "One common task is taking a large set of sequencing reads and filtering\n",
    "them (or cropping them) based on their quality scores. The following\n",
    "example is very simplistic, but should illustrate the basics of working\n",
    "with quality data in a `SeqRecord` object. All we are going to do here\n",
    "is read in a file of FASTQ data, and filter it to pick out only those\n",
    "records whose PHRED quality scores are all above some threshold (here\n",
    "20).\n",
    "\n",
    "For this example we’ll use some real data downloaded from the ENA\n",
    "sequence read archive,\n",
    "<ftp://ftp.sra.ebi.ac.uk/vol1/fastq/SRR020/SRR020192/SRR020192.fastq.gz>\n",
    "(2MB) which unzips to a 19MB file `SRR020192.fastq`. This is some Roche\n",
    "454 GS FLX single end data from virus infected California sea lions (see\n",
    "<http://www.ebi.ac.uk/ena/data/view/SRS004476> for details).\n",
    "\n",
    "First, let’s count the reads:\n",
    "\n"
   ]
  },
  {
   "cell_type": "markdown",
   "metadata": {},
   "source": [
    "\n",
    "Now let’s do a simple filtering for a minimum PHRED quality of 20:\n",
    "\n"
   ]
  },
  {
   "cell_type": "markdown",
   "metadata": {},
   "source": [
    "\n",
    "This pulled out only $14580$ reads out of the $41892$ present. A more\n",
    "sensible thing to do would be to quality trim the reads, but this is\n",
    "intended as an example only.\n",
    "\n",
    "FASTQ files can contain millions of entries, so it is best to avoid\n",
    "loading them all into memory at once. This example uses a generator\n",
    "expression, which means only one `SeqRecord` is created at a time -\n",
    "avoiding any memory limitations.\n",
    "\n",
    "### Trimming off primer sequences {#sec:FASTQ-slicing-off-primer}\n",
    "\n",
    "For this example we’re going to pretend that `GATGACGGTGT` is a 5’\n",
    "primer sequence we want to look for in some FASTQ formatted read data.\n",
    "As in the example above, we’ll use the `SRR020192.fastq` file downloaded\n",
    "from the ENA\n",
    "(<ftp://ftp.sra.ebi.ac.uk/vol1/fastq/SRR020/SRR020192/SRR020192.fastq.gz>).\n",
    "The same approach would work with any other supported file format (e.g.\n",
    "FASTA files).\n",
    "\n",
    "This code uses `Bio.SeqIO` with a generator expression (to avoid loading\n",
    "all the sequences into memory at once), and the `Seq` object’s\n",
    "`startswith` method to see if the read starts with the primer sequence:\n",
    "\n"
   ]
  },
  {
   "cell_type": "markdown",
   "metadata": {},
   "source": [
    "\n",
    "That should find $13819$ reads from `SRR014849.fastq` and save them to a\n",
    "new FASTQ file, `with_primer.fastq`.\n",
    "\n",
    "Now suppose that instead you wanted to make a FASTQ file containing\n",
    "these reads but with the primer sequence removed? That’s just a small\n",
    "change as we can slice the `SeqRecord` (see\n",
    "Section \\[sec:SeqRecord-slicing\\]) to remove the first eleven letters\n",
    "(the length of our primer):\n",
    "\n"
   ]
  },
  {
   "cell_type": "markdown",
   "metadata": {},
   "source": [
    "\n",
    "Again, that should pull out the $13819$ reads from `SRR020192.fastq`,\n",
    "but this time strip off the first ten characters, and save them to\n",
    "another new FASTQ file, `with_primer_trimmed.fastq`.\n",
    "\n",
    "Finally, suppose you want to create a new FASTQ file where these reads\n",
    "have their primer removed, but all the other reads are kept as they\n",
    "were? If we want to still use a generator expression, it is probably\n",
    "clearest to define our own trim function:\n",
    "\n"
   ]
  },
  {
   "cell_type": "markdown",
   "metadata": {},
   "source": [
    "\n",
    "This takes longer, as this time the output file contains all $41892$\n",
    "reads. Again, we’re used a generator expression to avoid any memory\n",
    "problems. You could alternatively use a generator function rather than a\n",
    "generator expression.\n",
    "\n"
   ]
  },
  {
   "cell_type": "markdown",
   "metadata": {},
   "source": [
    "\n",
    "This form is more flexible if you want to do something more complicated\n",
    "where only some of the records are retained – as shown in the next\n",
    "example.\n",
    "\n",
    "### Trimming off adaptor sequences {#sec:FASTQ-slicing-off-adaptor}\n",
    "\n",
    "This is essentially a simple extension to the previous example. We are\n",
    "going to going to pretend `GATGACGGTGT` is an adaptor sequence in some\n",
    "FASTQ formatted read data, again the `SRR020192.fastq` file from the\n",
    "NCBI\n",
    "(<ftp://ftp.sra.ebi.ac.uk/vol1/fastq/SRR020/SRR020192/SRR020192.fastq.gz>).\n",
    "\n",
    "This time however, we will look for the sequence *anywhere* in the\n",
    "reads, not just at the very beginning:\n",
    "\n"
   ]
  },
  {
   "cell_type": "markdown",
   "metadata": {},
   "source": [
    "\n",
    "Because we are using a FASTQ input file in this example, the `SeqRecord`\n",
    "objects have per-letter-annotation for the quality scores. By slicing\n",
    "the `SeqRecord` object the appropriate scores are used on the trimmed\n",
    "records, so we can output them as a FASTQ file too.\n",
    "\n",
    "Compared to the output of the previous example where we only looked for\n",
    "a primer/adaptor at the start of each read, you may find some of the\n",
    "trimmed reads are quite short after trimming (e.g. if the adaptor was\n",
    "found in the middle rather than near the start). So, let’s add a minimum\n",
    "length requirement as well:\n",
    "\n"
   ]
  },
  {
   "cell_type": "markdown",
   "metadata": {},
   "source": [
    "\n",
    "By changing the format names, you could apply this to FASTA files\n",
    "instead. This code also could be extended to do a fuzzy match instead of\n",
    "an exact match (maybe using a pairwise alignment, or taking into account\n",
    "the read quality scores), but that will be much slower.\n",
    "\n",
    "### Converting FASTQ files {#sec:SeqIO-fastq-conversion}\n",
    "\n",
    "Back in Section \\[sec:SeqIO-conversion\\] we showed how to use\n",
    "`Bio.SeqIO` to convert between two file formats. Here we’ll go into a\n",
    "little more detail regarding FASTQ files which are used in second\n",
    "generation DNA sequencing. Please refer to Cock *et al.* (2009)\n",
    "@cock2010 for a longer description. FASTQ files store both the DNA\n",
    "sequence (as a string) and the associated read qualities.\n",
    "\n",
    "PHRED scores (used in most FASTQ files, and also in QUAL files, ACE\n",
    "files and SFF files) have become a *de facto* standard for representing\n",
    "the probability of a sequencing error (here denoted by $P_e$) at a given\n",
    "base using a simple base ten log transformation:\n",
    "\n",
    "$$Q_{\\textrm{PHRED}} = - 10 \\times \\textrm{log}_{10} ( P_e )$$\n",
    "\n",
    "This means a wrong read ($P_e = 1$) gets a PHRED quality of $0$, while a\n",
    "very good read like $P_e = 0.00001$ gets a PHRED quality of $50$. While\n",
    "for raw sequencing data qualities higher than this are rare, with post\n",
    "processing such as read mapping or assembly, qualities of up to about\n",
    "$90$ are possible (indeed, the MAQ tool allows for PHRED scores in the\n",
    "range 0 to 93 inclusive).\n",
    "\n",
    "The FASTQ format has the potential to become a *de facto* standard for\n",
    "storing the letters and quality scores for a sequencing read in a single\n",
    "plain text file. The only fly in the ointment is that there are at least\n",
    "three versions of the FASTQ format which are incompatible and difficult\n",
    "to distinguish...\n",
    "\n",
    "1.  The original Sanger FASTQ format uses PHRED qualities encoded with\n",
    "    an ASCII offset of 33. The NCBI are using this format in their Short\n",
    "    Read Archive. We call this the `fastq` (or `fastq-sanger`) format in\n",
    "    `Bio.SeqIO`.\n",
    "\n",
    "2.  Solexa (later bought by Illumina) introduced their own version using\n",
    "    Solexa qualities encoded with an ASCII offset of 64. We call this\n",
    "    the `fastq-solexa` format.\n",
    "\n",
    "3.  Illumina pipeline 1.3 onwards produces FASTQ files with PHRED\n",
    "    qualities (which is more consistent), but encoded with an ASCII\n",
    "    offset of 64. We call this the `fastq-illumina` format.\n",
    "\n",
    "The Solexa quality scores are defined using a different log\n",
    "transformation:\n",
    "\n",
    "$$Q_{\\textrm{Solexa}} = - 10 \\times \\textrm{log}_{10} \\left( \\frac{P_e}{1-P_e} \\right)$$\n",
    "\n",
    "Given Solexa/Illumina have now moved to using PHRED scores in version\n",
    "1.3 of their pipeline, the Solexa quality scores will gradually fall out\n",
    "of use. If you equate the error estimates ($P_e$) these two equations\n",
    "allow conversion between the two scoring systems - and Biopython\n",
    "includes functions to do this in the `Bio.SeqIO.QualityIO` module, which\n",
    "are called if you use `Bio.SeqIO` to convert an old Solexa/Illumina file\n",
    "into a standard Sanger FASTQ file:\n",
    "\n"
   ]
  },
  {
   "cell_type": "markdown",
   "metadata": {},
   "source": [
    "\n",
    "If you want to convert a new Illumina 1.3+ FASTQ file, all that gets\n",
    "changed is the ASCII offset because although encoded differently the\n",
    "scores are all PHRED qualities:\n",
    "\n"
   ]
  },
  {
   "cell_type": "markdown",
   "metadata": {},
   "source": [
    "\n",
    "Note that using `Bio.SeqIO.convert()` like this is *much* faster than\n",
    "combining `Bio.SeqIO.parse()` and `Bio.SeqIO.write()` because optimised\n",
    "code is used for converting between FASTQ variants (and also for FASTQ\n",
    "to FASTA conversion).\n",
    "\n",
    "For good quality reads, PHRED and Solexa scores are approximately equal,\n",
    "which means since both the `fasta-solexa` and `fastq-illumina` formats\n",
    "use an ASCII offset of 64 the files are almost the same. This was a\n",
    "deliberate design choice by Illumina, meaning applications expecting the\n",
    "old `fasta-solexa` style files will probably be OK using the newer\n",
    "`fastq-illumina` files (on good data). Of course, both variants are very\n",
    "different from the original FASTQ standard as used by Sanger, the NCBI,\n",
    "and elsewhere (format name `fastq` or `fastq-sanger`).\n",
    "\n",
    "For more details, see the built in help (also\n",
    "[online](http://www.biopython.org/DIST/docs/api/Bio.SeqIO.QualityIO-module.html)):\n",
    "\n"
   ]
  },
  {
   "cell_type": "code",
   "execution_count": null,
   "metadata": {},
   "outputs": [],
   "source": [
    "from Bio.SeqIO import QualityIO\n",
    "help(QualityIO)\n"
   ]
  },
  {
   "cell_type": "markdown",
   "metadata": {},
   "source": [
    "\n",
    "### Converting FASTA and QUAL files into FASTQ files {#sec:SeqIO-fasta-qual-conversion}\n",
    "\n",
    "FASTQ files hold *both* sequences and their quality strings. FASTA files\n",
    "hold *just* sequences, while QUAL files hold *just* the qualities.\n",
    "Therefore a single FASTQ file can be converted to or from *paired* FASTA\n",
    "and QUAL files.\n",
    "\n",
    "Going from FASTQ to FASTA is easy:\n",
    "\n"
   ]
  },
  {
   "cell_type": "markdown",
   "metadata": {},
   "source": [
    "\n",
    "Going from FASTQ to QUAL is also easy:\n",
    "\n"
   ]
  },
  {
   "cell_type": "markdown",
   "metadata": {},
   "source": [
    "\n",
    "However, the reverse is a little more tricky. You can use\n",
    "`Bio.SeqIO.parse()` to iterate over the records in a *single* file, but\n",
    "in this case we have two input files. There are several strategies\n",
    "possible, but assuming that the two files are really paired the most\n",
    "memory efficient way is to loop over both together. The code is a little\n",
    "fiddly, so we provide a function called `PairedFastaQualIterator` in the\n",
    "`Bio.SeqIO.QualityIO` module to do this. This takes two handles (the\n",
    "FASTA file and the QUAL file) and returns a `SeqRecord` iterator:\n",
    "\n"
   ]
  },
  {
   "cell_type": "markdown",
   "metadata": {},
   "source": [
    "\n",
    "This function will check that the FASTA and QUAL files are consistent\n",
    "(e.g. the records are in the same order, and have the same sequence\n",
    "length). You can combine this with the `Bio.SeqIO.write()` function to\n",
    "convert a pair of FASTA and QUAL files into a single FASTQ files:\n",
    "\n"
   ]
  },
  {
   "cell_type": "markdown",
   "metadata": {},
   "source": [
    "\n",
    "### Indexing a FASTQ file {#sec:fastq-indexing}\n",
    "\n",
    "FASTQ files are often very large, with millions of reads in them. Due to\n",
    "the sheer amount of data, you can’t load all the records into memory at\n",
    "once. This is why the examples above (filtering and trimming) iterate\n",
    "over the file looking at just one `SeqRecord` at a time.\n",
    "\n",
    "However, sometimes you can’t use a big loop or an iterator - you may\n",
    "need random access to the reads. Here the `Bio.SeqIO.index()` function\n",
    "may prove very helpful, as it allows you to access any read in the FASTQ\n",
    "file by its name (see Section \\[sec:SeqIO-index\\]).\n",
    "\n",
    "Again we’ll use the `SRR020192.fastq` file from the ENA\n",
    "(<ftp://ftp.sra.ebi.ac.uk/vol1/fastq/SRR020/SRR020192/SRR020192.fastq.gz>),\n",
    "although this is actually quite a small FASTQ file with less than\n",
    "$50,000$ reads:\n",
    "\n"
   ]
  },
  {
   "cell_type": "code",
   "execution_count": null,
   "metadata": {},
   "outputs": [],
   "source": [
    "from Bio import SeqIO\n",
    "fq_dict = SeqIO.index(\"SRR020192.fastq\", \"fastq\")\n",
    "len(fq_dict)\n"
   ]
  },
  {
   "cell_type": "code",
   "execution_count": null,
   "metadata": {},
   "outputs": [],
   "source": [
    "fq_dict.keys()[:4]\n"
   ]
  },
  {
   "cell_type": "code",
   "execution_count": null,
   "metadata": {},
   "outputs": [],
   "source": [
    "fq_dict[\"SRR020192.23186\"].seq\n"
   ]
  },
  {
   "cell_type": "markdown",
   "metadata": {},
   "source": [
    "\n",
    "When testing this on a FASTQ file with seven million reads, indexing\n",
    "took about a minute, but record access was almost instant.\n",
    "\n",
    "The example in Section \\[sec:SeqIO-sort\\] show how you can use the\n",
    "`Bio.SeqIO.index()` function to sort a large FASTA file – this could\n",
    "also be used on FASTQ files.\n",
    "\n",
    "### Converting SFF files {#sec:SeqIO-sff-conversion}\n",
    "\n",
    "If you work with 454 (Roche) sequence data, you will probably have\n",
    "access to the raw data as a Standard Flowgram Format (SFF) file. This\n",
    "contains the sequence reads (called bases) with quality scores and the\n",
    "original flow information.\n",
    "\n",
    "A common task is to convert from SFF to a pair of FASTA and QUAL files,\n",
    "or to a single FASTQ file. These operations are trivial using the\n",
    "`Bio.SeqIO.convert()` function (see Section \\[sec:SeqIO-conversion\\]):\n",
    "\n"
   ]
  },
  {
   "cell_type": "code",
   "execution_count": null,
   "metadata": {},
   "outputs": [],
   "source": [
    "from Bio import SeqIO\n",
    "SeqIO.convert(\"E3MFGYR02_random_10_reads.sff\", \"sff\", \"reads.fasta\", \"fasta\")\n"
   ]
  },
  {
   "cell_type": "code",
   "execution_count": null,
   "metadata": {},
   "outputs": [],
   "source": [
    "SeqIO.convert(\"E3MFGYR02_random_10_reads.sff\", \"sff\", \"reads.qual\", \"qual\")\n"
   ]
  },
  {
   "cell_type": "code",
   "execution_count": null,
   "metadata": {},
   "outputs": [],
   "source": [
    "SeqIO.convert(\"E3MFGYR02_random_10_reads.sff\", \"sff\", \"reads.fastq\", \"fastq\")\n"
   ]
  },
  {
   "cell_type": "markdown",
   "metadata": {},
   "source": [
    "\n",
    "Remember the convert function returns the number of records, in this\n",
    "example just ten. This will give you the *untrimmed* reads, where the\n",
    "leading and trailing poor quality sequence or adaptor will be in lower\n",
    "case. If you want the *trimmed* reads (using the clipping information\n",
    "recorded within the SFF file) use this:\n",
    "\n"
   ]
  },
  {
   "cell_type": "code",
   "execution_count": null,
   "metadata": {},
   "outputs": [],
   "source": [
    "from Bio import SeqIO\n",
    "SeqIO.convert(\"E3MFGYR02_random_10_reads.sff\", \"sff-trim\", \"trimmed.fasta\", \"fasta\")\n"
   ]
  },
  {
   "cell_type": "code",
   "execution_count": null,
   "metadata": {},
   "outputs": [],
   "source": [
    "SeqIO.convert(\"E3MFGYR02_random_10_reads.sff\", \"sff-trim\", \"trimmed.qual\", \"qual\")\n"
   ]
  },
  {
   "cell_type": "code",
   "execution_count": null,
   "metadata": {},
   "outputs": [],
   "source": [
    "SeqIO.convert(\"E3MFGYR02_random_10_reads.sff\", \"sff-trim\", \"trimmed.fastq\", \"fastq\")\n"
   ]
  },
  {
   "cell_type": "markdown",
   "metadata": {},
   "source": [
    "\n",
    "If you run Linux, you could ask Roche for a copy of their “off\n",
    "instrument” tools (often referred to as the Newbler tools). This offers\n",
    "an alternative way to do SFF to FASTA or QUAL conversion at the command\n",
    "line (but currently FASTQ output is not supported), e.g.\n",
    "\n"
   ]
  },
  {
   "cell_type": "markdown",
   "metadata": {},
   "source": [
    "\n",
    "The way Biopython uses mixed case sequence strings to represent the\n",
    "trimming points deliberately mimics what the Roche tools do.\n",
    "\n",
    "For more information on the Biopython SFF support, consult the built in\n",
    "help:\n",
    "\n"
   ]
  },
  {
   "cell_type": "code",
   "execution_count": null,
   "metadata": {},
   "outputs": [],
   "source": [
    "from Bio.SeqIO import SffIO\n",
    "help(SffIO)\n"
   ]
  },
  {
   "cell_type": "markdown",
   "metadata": {},
   "source": [
    "\n",
    "### Identifying open reading frames\n",
    "\n",
    "A very simplistic first step at identifying possible genes is to look\n",
    "for open reading frames (ORFs). By this we mean look in all six frames\n",
    "for long regions without stop codons – an ORF is just a region of\n",
    "nucleotides with no in frame stop codons.\n",
    "\n",
    "Of course, to find a gene you would also need to worry about locating a\n",
    "start codon, possible promoters – and in Eukaryotes there are introns to\n",
    "worry about too. However, this approach is still useful in viruses and\n",
    "Prokaryotes.\n",
    "\n",
    "To show how you might approach this with Biopython, we’ll need a\n",
    "sequence to search, and as an example we’ll again use the bacterial\n",
    "plasmid – although this time we’ll start with a plain FASTA file with no\n",
    "pre-marked genes:\n",
    "[`NC_005816.fna`](http://biopython.org/SRC/biopython/Tests/GenBank/NC_005816.fna).\n",
    "This is a bacterial sequence, so we’ll want to use NCBI codon table 11\n",
    "(see Section \\[sec:translation\\] about translation).\n",
    "\n"
   ]
  },
  {
   "cell_type": "code",
   "execution_count": null,
   "metadata": {},
   "outputs": [],
   "source": [
    "from Bio import SeqIO\n",
    "record = SeqIO.read(\"NC_005816.fna\", \"fasta\")\n",
    "table = 11\n",
    "min_pro_len = 100\n"
   ]
  },
  {
   "cell_type": "markdown",
   "metadata": {},
   "source": [
    "\n",
    "Here is a neat trick using the `Seq` object’s `split` method to get a\n",
    "list of all the possible ORF translations in the six reading frames:\n",
    "\n"
   ]
  },
  {
   "cell_type": "code",
   "execution_count": null,
   "metadata": {},
   "outputs": [],
   "source": [
    "for strand, nuc in [(+1, record.seq), (-1, record.seq.reverse_complement())]:\n",
    "for frame in range(3):\n",
    "length = 3 * ((len(record)-frame) // 3) #Multiple of three\n",
    "for pro in nuc[frame:frame+length].translate(table).split(\"*\"):\n",
    "if len(pro) >= min_pro_len:\n",
    "print(\"%s...%s - length %i, strand %i, frame %i\" \\\n",
    "% (pro[:30], pro[-3:], len(pro), strand, frame))\n"
   ]
  },
  {
   "cell_type": "markdown",
   "metadata": {},
   "source": [
    "\n",
    "Note that here we are counting the frames from the 5’ end (start) of\n",
    "*each* strand. It is sometimes easier to always count from the 5’ end\n",
    "(start) of the *forward* strand.\n",
    "\n",
    "You could easily edit the above loop based code to build up a list of\n",
    "the candidate proteins, or convert this to a list comprehension. Now,\n",
    "one thing this code doesn’t do is keep track of where the proteins are.\n",
    "\n",
    "You could tackle this in several ways. For example, the following code\n",
    "tracks the locations in terms of the protein counting, and converts back\n",
    "to the parent sequence by multiplying by three, then adjusting for the\n",
    "frame and strand:\n",
    "\n"
   ]
  },
  {
   "cell_type": "markdown",
   "metadata": {},
   "source": [
    "\n",
    "And the output:\n",
    "\n"
   ]
  },
  {
   "cell_type": "markdown",
   "metadata": {},
   "source": [
    "\n",
    "If you comment out the sort statement, then the protein sequences will\n",
    "be shown in the same order as before, so you can check this is doing the\n",
    "same thing. Here we have sorted them by location to make it easier to\n",
    "compare to the actual annotation in the GenBank file (as visualised in\n",
    "Section \\[sec:gd\\_nice\\_example\\]).\n",
    "\n",
    "If however all you want to find are the locations of the open reading\n",
    "frames, then it is a waste of time to translate every possible codon,\n",
    "including doing the reverse complement to search the reverse strand too.\n",
    "All you need to do is search for the possible stop codons (and their\n",
    "reverse complements). Using regular expressions is an obvious approach\n",
    "here (see the Python module `re`). These are an extremely powerful (but\n",
    "rather complex) way of describing search strings, which are supported in\n",
    "lots of programming languages and also command line tools like `grep` as\n",
    "well). You can find whole books about this topic!\n",
    "\n",
    "Sequence parsing plus simple plots {#seq:sequence-parsing-plus-pylab}\n",
    "----------------------------------\n",
    "\n",
    "This section shows some more examples of sequence parsing, using the\n",
    "`Bio.SeqIO` module described in Chapter \\[chapter:Bio.SeqIO\\], plus the\n",
    "Python library matplotlib’s `pylab` plotting interface (see [the\n",
    "matplotlib website for a tutorial](http://matplotlib.sourceforge.net/)).\n",
    "Note that to follow these examples you will need matplotlib installed -\n",
    "but without it you can still try the data parsing bits.\n",
    "\n",
    "### Histogram of sequence lengths\n",
    "\n",
    "There are lots of times when you might want to visualise the\n",
    "distribution of sequence lengths in a dataset – for example the range of\n",
    "contig sizes in a genome assembly project. In this example we’ll reuse\n",
    "our orchid FASTA file\n",
    "[ls\\_orchid.fasta](http://biopython.org/DIST/docs/tutorial/examples/ls_orchid.fasta)\n",
    "which has only 94 sequences.\n",
    "\n",
    "First of all, we will use `Bio.SeqIO` to parse the FASTA file and\n",
    "compile a list of all the sequence lengths. You could do this with a for\n",
    "loop, but I find a list comprehension more pleasing:\n",
    "\n"
   ]
  },
  {
   "cell_type": "code",
   "execution_count": null,
   "metadata": {},
   "outputs": [],
   "source": [
    "from Bio import SeqIO\n",
    "sizes = [len(rec) for rec in SeqIO.parse(\"ls_orchid.fasta\", \"fasta\")]\n",
    "len(sizes), min(sizes), max(sizes)\n"
   ]
  },
  {
   "cell_type": "code",
   "execution_count": null,
   "metadata": {},
   "outputs": [],
   "source": [
    "sizes\n"
   ]
  },
  {
   "cell_type": "markdown",
   "metadata": {},
   "source": [
    "\n",
    "Now that we have the lengths of all the genes (as a list of integers),\n",
    "we can use the matplotlib histogram function to display it.\n",
    "\n"
   ]
  },
  {
   "cell_type": "markdown",
   "metadata": {},
   "source": [
    "\n",
    "That should pop up a new window containing the following graph:\n",
    "\n",
    "![Histogram of orchid sequence lengths.<span\n",
    "data-label=\"fig:seq-len-hist\"></span>](images/hist_plot.png)\n",
    "\n",
    "That should pop up a new window containing the graph shown in\n",
    "Figure \\[fig:seq-len-hist\\].\n",
    "\n",
    "Notice that most of these orchid sequences are about $740$ bp long, and\n",
    "there could be two distinct classes of sequence here with a subset of\n",
    "shorter sequences.\n",
    "\n",
    "*Tip:* Rather than using `pylab.show()` to show the plot in a window,\n",
    "you can also use `pylab.savefig(...)` to save the figure to a file (e.g.\n",
    "as a PNG or PDF).\n",
    "\n",
    "### Plot of sequence GC%\n",
    "\n",
    "Another easily calculated quantity of a nucleotide sequence is the GC%.\n",
    "You might want to look at the GC% of all the genes in a bacterial genome\n",
    "for example, and investigate any outliers which could have been recently\n",
    "acquired by horizontal gene transfer. Again, for this example we’ll\n",
    "reuse our orchid FASTA file\n",
    "[ls\\_orchid.fasta](http://biopython.org/DIST/docs/tutorial/examples/ls_orchid.fasta).\n",
    "\n",
    "First of all, we will use `Bio.SeqIO` to parse the FASTA file and\n",
    "compile a list of all the GC percentages. Again, you could do this with\n",
    "a for loop, but I prefer this:\n",
    "\n"
   ]
  },
  {
   "cell_type": "markdown",
   "metadata": {},
   "source": [
    "\n",
    "Having read in each sequence and calculated the GC%, we then sorted them\n",
    "into ascending order. Now we’ll take this list of floating point values\n",
    "and plot them with matplotlib:\n",
    "\n"
   ]
  },
  {
   "cell_type": "markdown",
   "metadata": {},
   "source": [
    "\n",
    "As in the previous example, that should pop up a new window containing a\n",
    "graph:\n",
    "\n",
    "![Histogram of orchid sequence lengths.<span\n",
    "data-label=\"fig:seq-gc-plot\"></span>](images/gc_plot.png)\n",
    "\n",
    "As in the previous example, that should pop up a new window with the\n",
    "graph shown in Figure \\[fig:seq-gc-plot\\].\n",
    "\n",
    "If you tried this on the full set of genes from one organism, you’d\n",
    "probably get a much smoother plot than this.\n",
    "\n",
    "### Nucleotide dot plots\n",
    "\n",
    "A dot plot is a way of visually comparing two nucleotide sequences for\n",
    "similarity to each other. A sliding window is used to compare short\n",
    "sub-sequences to each other, often with a mis-match threshold. Here for\n",
    "simplicity we’ll only look for perfect matches (shown in black\n",
    "\n",
    "in Figure \\[fig:nuc-dot-plot\\]).\n",
    "\n",
    "in the plot below).\n",
    "\n",
    "![Nucleotide dot plot of two orchid sequence lengths (using pylab’s\n",
    "imshow function).<span\n",
    "data-label=\"fig:nuc-dot-plot\"></span>](images/dot_plot.png)\n",
    "\n",
    "To start off, we’ll need two sequences. For the sake of argument, we’ll\n",
    "just take the first two from our orchid FASTA file\n",
    "[ls\\_orchid.fasta](http://biopython.org/DIST/docs/tutorial/examples/ls_orchid.fasta):\n",
    "\n"
   ]
  },
  {
   "cell_type": "markdown",
   "metadata": {},
   "source": [
    "\n",
    "We’re going to show two approaches. Firstly, a simple naive\n",
    "implementation which compares all the window sized sub-sequences to each\n",
    "other to compiles a similarity matrix. You could construct a matrix or\n",
    "array object, but here we just use a list of lists of booleans created\n",
    "with a nested list comprehension:\n",
    "\n"
   ]
  },
  {
   "cell_type": "markdown",
   "metadata": {},
   "source": [
    "\n",
    "Note that we have *not* checked for reverse complement matches here. Now\n",
    "we’ll use the matplotlib’s `pylab.imshow()` function to display this\n",
    "data, first requesting the gray color scheme so this is done in black\n",
    "and white:\n",
    "\n"
   ]
  },
  {
   "cell_type": "markdown",
   "metadata": {},
   "source": [
    "\n",
    "That should pop up a new window containing a graph like this:\n",
    "\n",
    "That should pop up a new window showing the graph in\n",
    "Figure \\[fig:nuc-dot-plot\\].\n",
    "\n",
    "As you might have expected, these two sequences are very similar with a\n",
    "partial line of window sized matches along the diagonal. There are no\n",
    "off diagonal matches which would be indicative of inversions or other\n",
    "interesting events.\n",
    "\n",
    "The above code works fine on small examples, but there are two problems\n",
    "applying this to larger sequences, which we will address below. First\n",
    "off all, this brute force approach to the all against all comparisons is\n",
    "very slow. Instead, we’ll compile dictionaries mapping the window sized\n",
    "sub-sequences to their locations, and then take the set intersection to\n",
    "find those sub-sequences found in both sequences. This uses more memory,\n",
    "but is *much* faster. Secondly, the `pylab.imshow()` function is limited\n",
    "in the size of matrix it can display. As an alternative, we’ll use the\n",
    "`pylab.scatter()` function.\n",
    "\n",
    "We start by creating dictionaries mapping the window-sized sub-sequences\n",
    "to locations:\n",
    "\n"
   ]
  },
  {
   "cell_type": "markdown",
   "metadata": {},
   "source": [
    "\n",
    "In order to use the `pylab.scatter()` we need separate lists for the $x$\n",
    "and $y$ co-ordinates:\n",
    "\n"
   ]
  },
  {
   "cell_type": "markdown",
   "metadata": {},
   "source": [
    "\n",
    "We are now ready to draw the revised dot plot as a scatter plot:\n",
    "\n"
   ]
  },
  {
   "cell_type": "markdown",
   "metadata": {},
   "source": [
    "\n",
    "That should pop up a new window containing a graph like this:\n",
    "\n",
    "That should pop up a new window showing the graph in\n",
    "Figure \\[fig:nuc-dot-plot-scatter\\].\n",
    "\n",
    "![Nucleotide dot plot of two orchid sequence lengths (using pylab’s\n",
    "scatter function).<span\n",
    "data-label=\"fig:nuc-dot-plot-scatter\"></span>](images/dot_plot_scatter.png)\n",
    "\n",
    "Personally I find this second plot much easier to read! Again note that\n",
    "we have *not* checked for reverse complement matches here – you could\n",
    "extend this example to do this, and perhaps plot the forward matches in\n",
    "one color and the reverse matches in another.\n",
    "\n",
    "### Plotting the quality scores of sequencing read data\n",
    "\n",
    "If you are working with second generation sequencing data, you may want\n",
    "to try plotting the quality data. Here is an example using two FASTQ\n",
    "files containing paired end reads, `SRR001666_1.fastq` for the forward\n",
    "reads, and `SRR001666_2.fastq` for the reverse reads. These were\n",
    "downloaded from the ENA sequence read archive FTP site\n",
    "(<ftp://ftp.sra.ebi.ac.uk/vol1/fastq/SRR001/SRR001666/SRR001666_1.fastq.gz>\n",
    "and\n",
    "<ftp://ftp.sra.ebi.ac.uk/vol1/fastq/SRR001/SRR001666/SRR001666_2.fastq.gz>),\n",
    "and are from *E. coli* – see\n",
    "<http://www.ebi.ac.uk/ena/data/view/SRR001666> for details. In the\n",
    "following code the `pylab.subplot(...)` function is used in order to\n",
    "show the forward and reverse qualities on two subplots, side by side.\n",
    "There is also a little bit of code to only plot the first fifty reads.\n",
    "\n"
   ]
  },
  {
   "cell_type": "markdown",
   "metadata": {},
   "source": [
    "\n",
    "You should note that we are using the `Bio.SeqIO` format name `fastq`\n",
    "here because the NCBI has saved these reads using the standard Sanger\n",
    "FASTQ format with PHRED scores. However, as you might guess from the\n",
    "read lengths, this data was from an Illumina Genome Analyzer and was\n",
    "probably originally in one of the two Solexa/Illumina FASTQ variant file\n",
    "formats instead.\n",
    "\n",
    "This example uses the `pylab.savefig(...)` function instead of\n",
    "`pylab.show(...)`, but as mentioned before both are useful.\n",
    "\n",
    "![Quality plot for some paired end reads.<span\n",
    "data-label=\"fig:paired-end-qual-plot\"></span>](images/SRR001666.png)\n",
    "\n",
    "The result is shown in Figure \\[fig:paired-end-qual-plot\\].\n",
    "\n",
    "Here is the result:\n",
    "\n",
    "Dealing with alignments\n",
    "-----------------------\n",
    "\n",
    "This section can been seen as a follow on to\n",
    "Chapter \\[chapter:Bio.AlignIO\\].\n",
    "\n",
    "### Calculating summary information {#sec:summary_info}\n",
    "\n",
    "Once you have an alignment, you are very likely going to want to find\n",
    "out information about it. Instead of trying to have all of the functions\n",
    "that can generate information about an alignment in the alignment object\n",
    "itself, we’ve tried to separate out the functionality into separate\n",
    "classes, which act on the alignment.\n",
    "\n",
    "Getting ready to calculate summary information about an object is quick\n",
    "to do. Let’s say we’ve got an alignment object called `alignment`, for\n",
    "example read in using `Bio.AlignIO.read(...)` as described in\n",
    "Chapter \\[chapter:Bio.AlignIO\\]. All we need to do to get an object that\n",
    "will calculate summary information is:\n",
    "\n"
   ]
  },
  {
   "cell_type": "markdown",
   "metadata": {},
   "source": [
    "\n",
    "The `summary_align` object is very useful, and will do the following\n",
    "neat things for you:\n",
    "\n",
    "1.  Calculate a quick consensus sequence – see section \\[sec:consensus\\]\n",
    "\n",
    "2.  Get a position specific score matrix for the alignment – see\n",
    "    section \\[sec:pssm\\]\n",
    "\n",
    "3.  Calculate the information content for the alignment – see\n",
    "    section \\[sec:getting\\_info\\_content\\]\n",
    "\n",
    "4.  Generate information on substitutions in the alignment –\n",
    "    section \\[sec:sub\\_matrix\\] details using this to generate a\n",
    "    substitution matrix.\n",
    "\n",
    "### Calculating a quick consensus sequence {#sec:consensus}\n",
    "\n",
    "The `SummaryInfo` object, described in section \\[sec:summary\\_info\\],\n",
    "provides functionality to calculate a quick consensus of an alignment.\n",
    "Assuming we’ve got a `SummaryInfo` object called `summary_align` we can\n",
    "calculate a consensus by doing:\n",
    "\n"
   ]
  },
  {
   "cell_type": "markdown",
   "metadata": {},
   "source": [
    "\n",
    "As the name suggests, this is a really simple consensus calculator, and\n",
    "will just add up all of the residues at each point in the consensus, and\n",
    "if the most common value is higher than some threshold value will add\n",
    "the common residue to the consensus. If it doesn’t reach the threshold,\n",
    "it adds an ambiguity character to the consensus. The returned consensus\n",
    "object is Seq object whose alphabet is inferred from the alphabets of\n",
    "the sequences making up the consensus. So doing a `print consensus`\n",
    "would give:\n",
    "\n"
   ]
  },
  {
   "cell_type": "markdown",
   "metadata": {},
   "source": [
    "\n",
    "You can adjust how `dumb_consensus` works by passing optional\n",
    "parameters:\n",
    "\n",
    "the threshold\n",
    "\n",
    ":   This is the threshold specifying how common a particular residue has\n",
    "    to be at a position before it is added. The default is $0.7$\n",
    "    (meaning $70\\%$).\n",
    "\n",
    "the ambiguous character\n",
    "\n",
    ":   This is the ambiguity character to use. The default is ’N’.\n",
    "\n",
    "the consensus alphabet\n",
    "\n",
    ":   This is the alphabet to use for the consensus sequence. If an\n",
    "    alphabet is not specified than we will try to guess the alphabet\n",
    "    based on the alphabets of the sequences in the alignment.\n",
    "\n",
    "### Position Specific Score Matrices {#sec:pssm}\n",
    "\n",
    "Position specific score matrices (PSSMs) summarize the alignment\n",
    "information in a different way than a consensus, and may be useful for\n",
    "different tasks. Basically, a PSSM is a count matrix. For each column in\n",
    "the alignment, the number of each alphabet letters is counted and\n",
    "totaled. The totals are displayed relative to some representative\n",
    "sequence along the left axis. This sequence may be the consesus\n",
    "sequence, but can also be any sequence in the alignment. For instance\n",
    "for the alignment,\n",
    "\n"
   ]
  },
  {
   "cell_type": "markdown",
   "metadata": {},
   "source": [
    "\n",
    "the PSSM is:\n",
    "\n"
   ]
  },
  {
   "cell_type": "markdown",
   "metadata": {},
   "source": [
    "\n",
    "Let’s assume we’ve got an alignment object called `c_align`. To get a\n",
    "PSSM with the consensus sequence along the side we first get a summary\n",
    "object and calculate the consensus sequence:\n",
    "\n"
   ]
  },
  {
   "cell_type": "markdown",
   "metadata": {},
   "source": [
    "\n",
    "Now, we want to make the PSSM, but ignore any `N` ambiguity residues\n",
    "when calculating this:\n",
    "\n"
   ]
  },
  {
   "cell_type": "markdown",
   "metadata": {},
   "source": [
    "\n",
    "Two notes should be made about this:\n",
    "\n",
    "1.  To maintain strictness with the alphabets, you can only include\n",
    "    characters along the top of the PSSM that are in the alphabet of the\n",
    "    alignment object. Gaps are not included along the top axis of\n",
    "    the PSSM.\n",
    "\n",
    "2.  The sequence passed to be displayed along the left side of the axis\n",
    "    does not need to be the consensus. For instance, if you wanted to\n",
    "    display the second sequence in the alignment along this axis, you\n",
    "    would need to do:\n",
    "\n"
   ]
  },
  {
   "cell_type": "markdown",
   "metadata": {},
   "source": [
    "\n",
    "The command above returns a `PSSM` object. To print out the PSSM as\n",
    "shown above, we simply need to do a `print(my_pssm)`, which gives:\n",
    "\n"
   ]
  },
  {
   "cell_type": "markdown",
   "metadata": {},
   "source": [
    "\n",
    "You can access any element of the PSSM by subscripting like\n",
    "`your_pssm[sequence_number][residue_count_name]`. For instance, to get\n",
    "the counts for the ’A’ residue in the second element of the above PSSM\n",
    "you would do:\n",
    "\n"
   ]
  },
  {
   "cell_type": "code",
   "execution_count": null,
   "metadata": {},
   "outputs": [],
   "source": [
    "print(my_pssm[1][\"A\"])\n"
   ]
  },
  {
   "cell_type": "markdown",
   "metadata": {},
   "source": [
    "\n",
    "The structure of the PSSM class hopefully makes it easy both to access\n",
    "elements and to pretty print the matrix.\n",
    "\n",
    "### Information Content {#sec:getting_info_content}\n",
    "\n",
    "A potentially useful measure of evolutionary conservation is the\n",
    "information content of a sequence.\n",
    "\n",
    "A useful introduction to information theory targeted towards molecular\n",
    "biologists can be found at\n",
    "<http://www.lecb.ncifcrf.gov/~toms/paper/primer/>. For our purposes, we\n",
    "will be looking at the information content of a consesus sequence, or a\n",
    "portion of a consensus sequence. We calculate information content at a\n",
    "particular column in a multiple sequence alignment using the following\n",
    "formula:\n",
    "\n",
    "$$IC_{j} = \\sum_{i=1}^{N_{a}} P_{ij} \\mathrm{log}\\left(\\frac{P_{ij}}{Q_{i}}\\right)$$\n",
    "\n",
    "where:\n",
    "\n",
    "-   $IC_{j}$ – The information content for the $j$-th column in\n",
    "    an alignment.\n",
    "\n",
    "-   $N_{a}$ – The number of letters in the alphabet.\n",
    "\n",
    "-   $P_{ij}$ – The frequency of a particular letter $i$ in the $j$-th\n",
    "    column (i. e. if G occurred 3 out of 6 times in an aligment column,\n",
    "    this would be 0.5)\n",
    "\n",
    "-   $Q_{i}$ – The expected frequency of a letter $i$. This is an\n",
    "    optional argument, usage of which is left at the user’s discretion.\n",
    "    By default, it is automatically assigned to $0.05 = 1/20$ for a\n",
    "    protein alphabet, and $0.25 = 1/4$ for a nucleic acid alphabet. This\n",
    "    is for geting the information content without any assumption of\n",
    "    prior distributions. When assuming priors, or when using a\n",
    "    non-standard alphabet, you should supply the values for $Q_{i}$.\n",
    "\n",
    "Well, now that we have an idea what information content is being\n",
    "calculated in Biopython, let’s look at how to get it for a particular\n",
    "region of the alignment.\n",
    "\n",
    "First, we need to use our alignment to get an alignment summary object,\n",
    "which we’ll assume is called `summary_align` (see\n",
    "section \\[sec:summary\\_info\\]) for instructions on how to get this. Once\n",
    "we’ve got this object, calculating the information content for a region\n",
    "is as easy as:\n",
    "\n"
   ]
  },
  {
   "cell_type": "markdown",
   "metadata": {},
   "source": [
    "\n",
    "Wow, that was much easier then the formula above made it look! The\n",
    "variable `info_content` now contains a float value specifying the\n",
    "information content over the specified region (from 5 to 30 of the\n",
    "alignment). We specifically ignore the ambiguity residue ’N’ when\n",
    "calculating the information content, since this value is not included in\n",
    "our alphabet (so we shouldn’t be interested in looking at it!).\n",
    "\n",
    "As mentioned above, we can also calculate relative information content\n",
    "by supplying the expected frequencies:\n",
    "\n"
   ]
  },
  {
   "cell_type": "markdown",
   "metadata": {},
   "source": [
    "\n",
    "The expected should not be passed as a raw dictionary, but instead by\n",
    "passed as a `SubsMat.FreqTable` object (see section \\[sec:freq\\_table\\]\n",
    "for more information about FreqTables). The FreqTable object provides a\n",
    "standard for associating the dictionary with an Alphabet, similar to how\n",
    "the Biopython Seq class works.\n",
    "\n",
    "To create a FreqTable object, from the frequency dictionary you just\n",
    "need to do:\n",
    "\n"
   ]
  },
  {
   "cell_type": "markdown",
   "metadata": {},
   "source": [
    "\n",
    "Now that we’ve got that, calculating the relative information content\n",
    "for our region of the alignment is as simple as:\n",
    "\n"
   ]
  },
  {
   "cell_type": "markdown",
   "metadata": {},
   "source": [
    "\n",
    "Now, `info_content` will contain the relative information content over\n",
    "the region in relation to the expected frequencies.\n",
    "\n",
    "The value return is calculated using base 2 as the logarithm base in the\n",
    "formula above. You can modify this by passing the parameter `log_base`\n",
    "as the base you want:\n",
    "\n"
   ]
  },
  {
   "cell_type": "markdown",
   "metadata": {},
   "source": [
    "\n",
    "Well, now you are ready to calculate information content. If you want to\n",
    "try applying this to some real life problems, it would probably be best\n",
    "to dig into the literature on information content to get an idea of how\n",
    "it is used. Hopefully your digging won’t reveal any mistakes made in\n",
    "coding this function!\n",
    "\n",
    "Substitution Matrices {#sec:sub_matrix}\n",
    "---------------------\n",
    "\n",
    "Substitution matrices are an extremely important part of everyday\n",
    "bioinformatics work. They provide the scoring terms for classifying how\n",
    "likely two different residues are to substitute for each other. This is\n",
    "essential in doing sequence comparisons. The book “Biological Sequence\n",
    "Analysis” by Durbin et al. provides a really nice introduction to\n",
    "Substitution Matrices and their uses. Some famous substitution matrices\n",
    "are the PAM and BLOSUM series of matrices.\n",
    "\n",
    "Biopython provides a ton of common substitution matrices, and also\n",
    "provides functionality for creating your own substitution matrices.\n",
    "\n",
    "### Using common substitution matrices\n",
    "\n",
    "### Creating your own substitution matrix from an alignment {#sec:subs_mat_ex}\n",
    "\n",
    "A very cool thing that you can do easily with the substitution matrix\n",
    "classes is to create your own substitution matrix from an alignment. In\n",
    "practice, this is normally done with protein alignments. In this\n",
    "example, we’ll first get a Biopython alignment object and then get a\n",
    "summary object to calculate info about the alignment. The file\n",
    "containing [protein.aln](examples/protein.aln) (also available online\n",
    "[here](http://biopython.org/DIST/docs/tutorial/examples/protein.aln))\n",
    "contains the Clustalw alignment output.\n",
    "\n"
   ]
  },
  {
   "cell_type": "code",
   "execution_count": null,
   "metadata": {},
   "outputs": [],
   "source": [
    "from Bio import AlignIO\n",
    "from Bio import Alphabet\n",
    "from Bio.Alphabet import IUPAC\n",
    "from Bio.Align import AlignInfo\n",
    "filename = \"protein.aln\"\n",
    "alpha = Alphabet.Gapped(IUPAC.protein)\n",
    "c_align = AlignIO.read(filename, \"clustal\", alphabet=alpha)\n",
    "summary_align = AlignInfo.SummaryInfo(c_align)\n"
   ]
  },
  {
   "cell_type": "markdown",
   "metadata": {},
   "source": [
    "\n",
    "Sections \\[sec:align\\_clustal\\] and \\[sec:summary\\_info\\] contain more\n",
    "information on doing this.\n",
    "\n",
    "Now that we’ve got our `summary_align` object, we want to use it to find\n",
    "out the number of times different residues substitute for each other. To\n",
    "make the example more readable, we’ll focus on only amino acids with\n",
    "polar charged side chains. Luckily, this can be done easily when\n",
    "generating a replacement dictionary, by passing in all of the characters\n",
    "that should be ignored. Thus we’ll create a dictionary of replacements\n",
    "for only charged polar amino acids using:\n",
    "\n"
   ]
  },
  {
   "cell_type": "code",
   "execution_count": null,
   "metadata": {},
   "outputs": [],
   "source": [
    "replace_info = summary_align.replacement_dictionary([\"G\", \"A\", \"V\", \"L\", \"I\",\n",
    "\"M\", \"P\", \"F\", \"W\", \"S\",\n",
    "\"T\", \"N\", \"Q\", \"Y\", \"C\"])\n"
   ]
  },
  {
   "cell_type": "markdown",
   "metadata": {},
   "source": [
    "\n",
    "This information about amino acid replacements is represented as a\n",
    "python dictionary which will look something like (the order can vary):\n",
    "\n"
   ]
  },
  {
   "cell_type": "markdown",
   "metadata": {},
   "source": [
    "\n",
    "This information gives us our accepted number of replacements, or how\n",
    "often we expect different things to substitute for each other. It turns\n",
    "out, amazingly enough, that this is all of the information we need to go\n",
    "ahead and create a substitution matrix. First, we use the replacement\n",
    "dictionary information to create an Accepted Replacement Matrix (ARM):\n",
    "\n"
   ]
  },
  {
   "cell_type": "code",
   "execution_count": null,
   "metadata": {},
   "outputs": [],
   "source": [
    "from Bio import SubsMat\n",
    "my_arm = SubsMat.SeqMat(replace_info)\n"
   ]
  },
  {
   "cell_type": "markdown",
   "metadata": {},
   "source": [
    "\n",
    "With this accepted replacement matrix, we can go right ahead and create\n",
    "our log odds matrix (i. e. a standard type Substitution Matrix):\n",
    "\n"
   ]
  },
  {
   "cell_type": "code",
   "execution_count": null,
   "metadata": {},
   "outputs": [],
   "source": [
    "my_lom = SubsMat.make_log_odds_matrix(my_arm)\n"
   ]
  },
  {
   "cell_type": "markdown",
   "metadata": {},
   "source": [
    "\n",
    "The log odds matrix you create is customizable with the following\n",
    "optional arguments:\n",
    "\n",
    "-   `exp_freq_table` – You can pass a table of expected frequencies for\n",
    "    each alphabet. If supplied, this will be used instead of the passed\n",
    "    accepted replacement matrix when calculate expected replacments.\n",
    "\n",
    "-   `logbase` - The base of the logarithm taken to create the log\n",
    "    odd matrix. Defaults to base 10.\n",
    "\n",
    "-   `factor` - The factor to multiply each matrix entry by. This\n",
    "    defaults to 10, which normally makes the matrix numbers easy to\n",
    "    work with.\n",
    "\n",
    "-   `round_digit` - The digit to round to in the matrix. This defaults\n",
    "    to 0 (i. e. no digits).\n",
    "\n",
    "Once you’ve got your log odds matrix, you can display it prettily using\n",
    "the function `print_mat`. Doing this on our created matrix gives:\n",
    "\n"
   ]
  },
  {
   "cell_type": "code",
   "execution_count": null,
   "metadata": {},
   "outputs": [],
   "source": [
    "my_lom.print_mat()\n"
   ]
  }
 ],
 "metadata": {},
 "nbformat": 4,
 "nbformat_minor": 0
}