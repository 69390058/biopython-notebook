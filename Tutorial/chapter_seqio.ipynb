{
 "cells": [
  {
   "cell_type": "markdown",
   "metadata": {},
   "source": [
    "Sequence Input/Output {#chapter:Bio.SeqIO}\n",
    "=====================\n",
    "\n",
    "In this chapter we’ll discuss in more detail the `Bio.SeqIO` module,\n",
    "which was briefly introduced in Chapter \\[chapter:quick-start\\] and also\n",
    "used in Chapter \\[chapter:SeqRecord\\]. This aims to provide a simple\n",
    "interface for working with assorted sequence file formats in a uniform\n",
    "way. See also the `Bio.SeqIO` wiki page\n",
    "(<http://biopython.org/wiki/SeqIO>), and the built in documentation\n",
    "(also\n",
    "[online](http://biopython.org/DIST/docs/api/Bio.SeqIO-module.html)):\n",
    "\n"
   ]
  },
  {
   "cell_type": "code",
   "execution_count": null,
   "metadata": {},
   "outputs": [],
   "source": [
    "from Bio import SeqIO\n",
    "help(SeqIO)\n"
   ]
  },
  {
   "cell_type": "markdown",
   "metadata": {},
   "source": [
    "\n",
    "The “catch” is that you have to work with `SeqRecord` objects (see\n",
    "Chapter \\[chapter:SeqRecord\\]), which contain a `Seq` object (see\n",
    "Chapter \\[chapter:Bio.Seq\\]) plus annotation like an identifier and\n",
    "description.\n",
    "\n",
    "Parsing or Reading Sequences {#sec:Bio.SeqIO-input}\n",
    "----------------------------\n",
    "\n",
    "The workhorse function `Bio.SeqIO.parse()` is used to read in sequence\n",
    "data as SeqRecord objects. This function expects two arguments:\n",
    "\n",
    "1.  The first argument is a <span>*handle*</span> to read the data from,\n",
    "    or a filename. A handle is typically a file opened for reading, but\n",
    "    could be the output from a command line program, or data downloaded\n",
    "    from the internet (see Section \\[sec:SeqIO\\_Online\\]). See\n",
    "    Section \\[sec:appendix-handles\\] for more about handles.\n",
    "\n",
    "2.  The second argument is a lower case string specifying sequence\n",
    "    format – we don’t try and guess the file format for you! See\n",
    "    <http://biopython.org/wiki/SeqIO> for a full listing of\n",
    "    supported formats.\n",
    "\n",
    "There is an optional argument `alphabet` to specify the alphabet to be\n",
    "used. This is useful for file formats like FASTA where otherwise\n",
    "`Bio.SeqIO` will default to a generic alphabet.\n",
    "\n",
    "The `Bio.SeqIO.parse()` function returns an <span>*iterator*</span>\n",
    "which gives `SeqRecord` objects. Iterators are typically used in a for\n",
    "loop as shown below.\n",
    "\n",
    "Sometimes you’ll find yourself dealing with files which contain only a\n",
    "single record. For this situation use the function `Bio.SeqIO.read()`\n",
    "which takes the same arguments. Provided there is one and only one\n",
    "record in the file, this is returned as a `SeqRecord` object. Otherwise\n",
    "an exception is raised.\n",
    "\n",
    "### Reading Sequence Files\n",
    "\n",
    "In general `Bio.SeqIO.parse()` is used to read in sequence files as\n",
    "`SeqRecord` objects, and is typically used with a for loop like this:\n",
    "\n"
   ]
  },
  {
   "cell_type": "markdown",
   "metadata": {},
   "source": [
    "\n",
    "The above example is repeated from the introduction in\n",
    "Section \\[sec:sequence-parsing\\], and will load the orchid DNA sequences\n",
    "in the FASTA format file\n",
    "[ls\\_orchid.fasta](http://biopython.org/DIST/docs/tutorial/examples/ls_orchid.fasta).\n",
    "If instead you wanted to load a GenBank format file like\n",
    "[ls\\_orchid.gbk](http://biopython.org/DIST/docs/tutorial/examples/ls_orchid.gbk)\n",
    "then all you need to do is change the filename and the format string:\n",
    "\n"
   ]
  },
  {
   "cell_type": "markdown",
   "metadata": {},
   "source": [
    "\n",
    "Similarly, if you wanted to read in a file in another file format, then\n",
    "assuming `Bio.SeqIO.parse()` supports it you would just need to change\n",
    "the format string as appropriate, for example “swiss” for SwissProt\n",
    "files or “embl” for EMBL text files. There is a full listing on the wiki\n",
    "page (<http://biopython.org/wiki/SeqIO>) and in the built in\n",
    "documentation (also\n",
    "[online](http://biopython.org/DIST/docs/api/Bio.SeqIO-module.html)).\n",
    "\n",
    "Another very common way to use a Python iterator is within a list\n",
    "comprehension (or a generator expression). For example, if all you\n",
    "wanted to extract from the file was a list of the record identifiers we\n",
    "can easily do this with the following list comprehension:\n",
    "\n"
   ]
  },
  {
   "cell_type": "code",
   "execution_count": null,
   "metadata": {},
   "outputs": [],
   "source": [
    "from Bio import SeqIO\n",
    "identifiers = [seq_record.id for seq_record in SeqIO.parse(\"ls_orchid.gbk\", \"genbank\")]\n",
    "identifiers\n"
   ]
  },
  {
   "cell_type": "markdown",
   "metadata": {},
   "source": [
    "\n",
    "There are more examples using `SeqIO.parse()` in a list comprehension\n",
    "like this in Section \\[seq:sequence-parsing-plus-pylab\\] (e.g. for\n",
    "plotting sequence lengths or GC%).\n",
    "\n",
    "### Iterating over the records in a sequence file\n",
    "\n",
    "In the above examples, we have usually used a for loop to iterate over\n",
    "all the records one by one. You can use the for loop with all sorts of\n",
    "Python objects (including lists, tuples and strings) which support the\n",
    "iteration interface.\n",
    "\n",
    "The object returned by `Bio.SeqIO` is actually an iterator which returns\n",
    "`SeqRecord` objects. You get to see each record in turn, but once and\n",
    "only once. The plus point is that an iterator can save you memory when\n",
    "dealing with large files.\n",
    "\n",
    "Instead of using a for loop, can also use the `next()` function on an\n",
    "iterator to step through the entries, like this:\n",
    "\n"
   ]
  },
  {
   "cell_type": "markdown",
   "metadata": {},
   "source": [
    "\n",
    "Note that if you try to use `next()` and there are no more results,\n",
    "you’ll get the special `StopIteration` exception.\n",
    "\n",
    "One special case to consider is when your sequence files have multiple\n",
    "records, but you only want the first one. In this situation the\n",
    "following code is very concise:\n",
    "\n"
   ]
  },
  {
   "cell_type": "markdown",
   "metadata": {},
   "source": [
    "\n",
    "A word of warning here – using the `next()` function like this will\n",
    "silently ignore any additional records in the file. If your files have\n",
    "<span>*one and only one*</span> record, like some of the online examples\n",
    "later in this chapter, or a GenBank file for a single chromosome, then\n",
    "use the new `Bio.SeqIO.read()` function instead. This will check there\n",
    "are no extra unexpected records present.\n",
    "\n",
    "### Getting a list of the records in a sequence file\n",
    "\n",
    "In the previous section we talked about the fact that\n",
    "`Bio.SeqIO.parse()` gives you a `SeqRecord` iterator, and that you get\n",
    "the records one by one. Very often you need to be able to access the\n",
    "records in any order. The Python `list` data type is perfect for this,\n",
    "and we can turn the record iterator into a list of `SeqRecord` objects\n",
    "using the built-in Python function `list()` like so:\n",
    "\n"
   ]
  },
  {
   "cell_type": "markdown",
   "metadata": {},
   "source": [
    "\n",
    "Giving:\n",
    "\n"
   ]
  },
  {
   "cell_type": "markdown",
   "metadata": {},
   "source": [
    "\n",
    "You can of course still use a for loop with a list of `SeqRecord`\n",
    "objects. Using a list is much more flexible than an iterator (for\n",
    "example, you can determine the number of records from the length of the\n",
    "list), but does need more memory because it will hold all the records in\n",
    "memory at once.\n",
    "\n",
    "### Extracting data\n",
    "\n",
    "The `SeqRecord` object and its annotation structures are described more\n",
    "fully in Chapter \\[chapter:SeqRecord\\]. As an example of how annotations\n",
    "are stored, we’ll look at the output from parsing the first record in\n",
    "the GenBank file\n",
    "[ls\\_orchid.gbk](http://biopython.org/DIST/docs/tutorial/examples/ls_orchid.gbk).\n",
    "\n"
   ]
  },
  {
   "cell_type": "markdown",
   "metadata": {},
   "source": [
    "\n",
    "That should give something like this:\n",
    "\n"
   ]
  },
  {
   "cell_type": "markdown",
   "metadata": {},
   "source": [
    "\n",
    "This gives a human readable summary of most of the annotation data for\n",
    "the `SeqRecord`. For this example we’re going to use the `.annotations`\n",
    "attribute which is just a Python dictionary. The contents of this\n",
    "annotations dictionary were shown when we printed the record above. You\n",
    "can also print them out directly:\n",
    "\n"
   ]
  },
  {
   "cell_type": "markdown",
   "metadata": {},
   "source": [
    "\n",
    "Like any Python dictionary, you can easily get a list of the keys:\n",
    "\n"
   ]
  },
  {
   "cell_type": "markdown",
   "metadata": {},
   "source": [
    "\n",
    "or values:\n",
    "\n"
   ]
  },
  {
   "cell_type": "markdown",
   "metadata": {},
   "source": [
    "\n",
    "In general, the annotation values are strings, or lists of strings. One\n",
    "special case is any references in the file get stored as reference\n",
    "objects.\n",
    "\n",
    "Suppose you wanted to extract a list of the species from the\n",
    "[ls\\_orchid.gbk](http://biopython.org/DIST/docs/tutorial/examples/ls_orchid.gbk)\n",
    "GenBank file. The information we want, *Cypripedium irapeanum*, is held\n",
    "in the annotations dictionary under ‘source’ and ‘organism’, which we\n",
    "can access like this:\n",
    "\n"
   ]
  },
  {
   "cell_type": "code",
   "execution_count": null,
   "metadata": {},
   "outputs": [],
   "source": [
    "print(first_record.annotations[\"source\"])\n"
   ]
  },
  {
   "cell_type": "markdown",
   "metadata": {},
   "source": [
    "\n",
    "or:\n",
    "\n"
   ]
  },
  {
   "cell_type": "code",
   "execution_count": null,
   "metadata": {},
   "outputs": [],
   "source": [
    "print(first_record.annotations[\"organism\"])\n"
   ]
  },
  {
   "cell_type": "markdown",
   "metadata": {},
   "source": [
    "\n",
    "In general, ‘organism’ is used for the scientific name (in Latin, e.g.\n",
    "*Arabidopsis thaliana*), while ‘source’ will often be the common name\n",
    "(e.g. thale cress). In this example, as is often the case, the two\n",
    "fields are identical.\n",
    "\n",
    "Now let’s go through all the records, building up a list of the species\n",
    "each orchid sequence is from:\n",
    "\n"
   ]
  },
  {
   "cell_type": "markdown",
   "metadata": {},
   "source": [
    "\n",
    "Another way of writing this code is to use a list comprehension:\n",
    "\n"
   ]
  },
  {
   "cell_type": "markdown",
   "metadata": {},
   "source": [
    "\n",
    "In either case, the result is:\n",
    "\n"
   ]
  },
  {
   "cell_type": "markdown",
   "metadata": {},
   "source": [
    "\n",
    "Great. That was pretty easy because GenBank files are annotated in a\n",
    "standardised way.\n",
    "\n",
    "Now, let’s suppose you wanted to extract a list of the species from a\n",
    "FASTA file, rather than the GenBank file. The bad news is you will have\n",
    "to write some code to extract the data you want from the record’s\n",
    "description line - if the information is in the file in the first place!\n",
    "Our example FASTA format file\n",
    "[ls\\_orchid.fasta](http://biopython.org/DIST/docs/tutorial/examples/ls_orchid.fasta)\n",
    "starts like this:\n",
    "\n"
   ]
  },
  {
   "cell_type": "markdown",
   "metadata": {},
   "source": [
    "\n",
    "You can check by hand, but for every record the species name is in the\n",
    "description line as the second word. This means if we break up each\n",
    "record’s `.description` at the spaces, then the species is there as\n",
    "field number one (field zero is the record identifier). That means we\n",
    "can do this:\n",
    "\n"
   ]
  },
  {
   "cell_type": "markdown",
   "metadata": {},
   "source": [
    "\n",
    "This gives:\n",
    "\n"
   ]
  },
  {
   "cell_type": "markdown",
   "metadata": {},
   "source": [
    "\n",
    "The concise alternative using list comprehensions would be:\n",
    "\n"
   ]
  },
  {
   "cell_type": "markdown",
   "metadata": {},
   "source": [
    "\n",
    "In general, extracting information from the FASTA description line is\n",
    "not very nice. If you can get your sequences in a well annotated file\n",
    "format like GenBank or EMBL, then this sort of annotation information is\n",
    "much easier to deal with.\n",
    "\n",
    "Parsing sequences from compressed files {#sec:SeqIO_compressed}\n",
    "---------------------------------------\n",
    "\n",
    "In the previous section, we looked at parsing sequence data from a file.\n",
    "Instead of using a filename, you can give `Bio.SeqIO` a handle (see\n",
    "Section \\[sec:appendix-handles\\]), and in this section we’ll use handles\n",
    "to parse sequence from compressed files.\n",
    "\n",
    "As you’ll have seen above, we can use `Bio.SeqIO.read()` or\n",
    "`Bio.SeqIO.parse()` with a filename - for instance this quick example\n",
    "calculates the total length of the sequences in a multiple record\n",
    "GenBank file using a generator expression:\n",
    "\n"
   ]
  },
  {
   "cell_type": "code",
   "execution_count": null,
   "metadata": {},
   "outputs": [],
   "source": [
    "from Bio import SeqIO\n",
    "print(sum(len(r) for r in SeqIO.parse(\"ls_orchid.gbk\", \"gb\")))\n"
   ]
  },
  {
   "cell_type": "markdown",
   "metadata": {},
   "source": [
    "\n",
    "Here we use a file handle instead, using the `with` statement to close\n",
    "the handle automatically:\n",
    "\n"
   ]
  },
  {
   "cell_type": "code",
   "execution_count": null,
   "metadata": {},
   "outputs": [],
   "source": [
    "from Bio import SeqIO\n",
    "with open(\"ls_orchid.gbk\") as handle:\n",
    "print(sum(len(r) for r in SeqIO.parse(handle, \"gb\")))\n"
   ]
  },
  {
   "cell_type": "markdown",
   "metadata": {},
   "source": [
    "\n",
    "Or, the old fashioned way where you manually close the handle:\n",
    "\n"
   ]
  },
  {
   "cell_type": "code",
   "execution_count": null,
   "metadata": {},
   "outputs": [],
   "source": [
    "from Bio import SeqIO\n",
    "handle = open(\"ls_orchid.gbk\")\n",
    "print(sum(len(r) for r in SeqIO.parse(handle, \"gb\")))\n"
   ]
  },
  {
   "cell_type": "code",
   "execution_count": null,
   "metadata": {},
   "outputs": [],
   "source": [
    "handle.close()\n"
   ]
  },
  {
   "cell_type": "markdown",
   "metadata": {},
   "source": [
    "\n",
    "Now, suppose we have a gzip compressed file instead? These are very\n",
    "commonly used on Linux. We can use Python’s `gzip` module to open the\n",
    "compressed file for reading - which gives us a handle object:\n",
    "\n"
   ]
  },
  {
   "cell_type": "code",
   "execution_count": null,
   "metadata": {},
   "outputs": [],
   "source": [
    "import gzip\n",
    "from Bio import SeqIO\n",
    "handle = gzip.open(\"ls_orchid.gbk.gz\", \"r\")\n",
    "print(sum(len(r) for r in SeqIO.parse(handle, \"gb\")))\n"
   ]
  },
  {
   "cell_type": "code",
   "execution_count": null,
   "metadata": {},
   "outputs": [],
   "source": [
    "handle.close()\n"
   ]
  },
  {
   "cell_type": "markdown",
   "metadata": {},
   "source": [
    "\n",
    "Similarly if we had a bzip2 compressed file (sadly the function name\n",
    "isn’t quite as consistent):\n",
    "\n"
   ]
  },
  {
   "cell_type": "code",
   "execution_count": null,
   "metadata": {},
   "outputs": [],
   "source": [
    "import bz2\n",
    "from Bio import SeqIO\n",
    "handle = bz2.BZ2File(\"ls_orchid.gbk.bz2\", \"r\")\n",
    "print(sum(len(r) for r in SeqIO.parse(handle, \"gb\")))\n"
   ]
  },
  {
   "cell_type": "code",
   "execution_count": null,
   "metadata": {},
   "outputs": [],
   "source": [
    "handle.close()\n"
   ]
  },
  {
   "cell_type": "markdown",
   "metadata": {},
   "source": [
    "\n",
    "If you are using Python 2.7 or later, the `with`-version works for gzip\n",
    "and bz2 as well. Unfortunately this is broken on older versions of\n",
    "Python ([Issue 3860](http://bugs.python.org/issue3860)) and you’d get an\n",
    "`AttributeError` about `__exit__` being missing.\n",
    "\n",
    "There is a gzip (GNU Zip) variant called BGZF (Blocked GNU Zip Format),\n",
    "which can be treated like an ordinary gzip file for reading, but has\n",
    "advantages for random access later which we’ll talk about later in\n",
    "Section \\[sec:SeqIO-index-bgzf\\].\n",
    "\n",
    "Parsing sequences from the net {#sec:SeqIO_Online}\n",
    "------------------------------\n",
    "\n",
    "In the previous sections, we looked at parsing sequence data from a file\n",
    "(using a filename or handle), and from compressed files (using a\n",
    "handle). Here we’ll use `Bio.SeqIO` with another type of handle, a\n",
    "network connection, to download and parse sequences from the internet.\n",
    "\n",
    "Note that just because you *can* download sequence data and parse it\n",
    "into a `SeqRecord` object in one go doesn’t mean this is a good idea. In\n",
    "general, you should probably download sequences *once* and save them to\n",
    "a file for reuse.\n",
    "\n",
    "### Parsing GenBank records from the net {#sec:SeqIO_GenBank_Online}\n",
    "\n",
    "Section \\[sec:efetch\\] talks about the Entrez EFetch interface in more\n",
    "detail, but for now let’s just connect to the NCBI and get a few\n",
    "*Opuntia* (prickly-pear) sequences from GenBank using their GI numbers.\n",
    "\n",
    "First of all, let’s fetch just one record. If you don’t care about the\n",
    "annotations and features downloading a FASTA file is a good choice as\n",
    "these are compact. Now remember, when you expect the handle to contain\n",
    "one and only one record, use the `Bio.SeqIO.read()` function:\n",
    "\n"
   ]
  },
  {
   "cell_type": "markdown",
   "metadata": {},
   "source": [
    "\n",
    "Expected output:\n",
    "\n"
   ]
  },
  {
   "cell_type": "markdown",
   "metadata": {},
   "source": [
    "\n",
    "The NCBI will also let you ask for the file in other formats, in\n",
    "particular as a GenBank file. Until Easter 2009, the Entrez EFetch API\n",
    "let you use “genbank” as the return type, however the NCBI now insist on\n",
    "using the official return types of “gb” (or “gp” for proteins) as\n",
    "described on [EFetch for Sequence and other Molecular Biology\n",
    "Databases](http://www.ncbi.nlm.nih.gov/entrez/query/static/efetchseq_help.html).\n",
    "As a result, in Biopython 1.50 onwards, we support “gb” as an alias for\n",
    "“genbank” in `Bio.SeqIO`.\n",
    "\n"
   ]
  },
  {
   "cell_type": "markdown",
   "metadata": {},
   "source": [
    "\n",
    "The expected output of this example is:\n",
    "\n"
   ]
  },
  {
   "cell_type": "markdown",
   "metadata": {},
   "source": [
    "\n",
    "Notice this time we have three features.\n",
    "\n",
    "Now let’s fetch several records. This time the handle contains multiple\n",
    "records, so we must use the `Bio.SeqIO.parse()` function:\n",
    "\n"
   ]
  },
  {
   "cell_type": "markdown",
   "metadata": {},
   "source": [
    "\n",
    "That should give the following output:\n",
    "\n"
   ]
  },
  {
   "cell_type": "markdown",
   "metadata": {},
   "source": [
    "\n",
    "See Chapter \\[chapter:entrez\\] for more about the `Bio.Entrez` module,\n",
    "and make sure to read about the NCBI guidelines for using Entrez\n",
    "(Section \\[sec:entrez-guidelines\\]).\n",
    "\n",
    "### Parsing SwissProt sequences from the net {#sec:SeqIO_ExPASy_and_SwissProt}\n",
    "\n",
    "Now let’s use a handle to download a SwissProt file from ExPASy,\n",
    "something covered in more depth in Chapter \\[chapter:swiss\\_prot\\]. As\n",
    "mentioned above, when you expect the handle to contain one and only one\n",
    "record, use the `Bio.SeqIO.read()` function:\n",
    "\n"
   ]
  },
  {
   "cell_type": "markdown",
   "metadata": {},
   "source": [
    "\n",
    "Assuming your network connection is OK, you should get back:\n",
    "\n"
   ]
  },
  {
   "cell_type": "markdown",
   "metadata": {},
   "source": [
    "\n",
    "Sequence files as Dictionaries\n",
    "------------------------------\n",
    "\n",
    "We’re now going to introduce three related functions in the `Bio.SeqIO`\n",
    "module which allow dictionary like random access to a multi-sequence\n",
    "file. There is a trade off here between flexibility and memory usage. In\n",
    "summary:\n",
    "\n",
    "-   `Bio.SeqIO.to_dict()` is the most flexible but also the most memory\n",
    "    demanding option (see Section \\[SeqIO:to\\_dict\\]). This is basically\n",
    "    a helper function to build a normal Python `dictionary` with each\n",
    "    entry held as a `SeqRecord` object in memory, allowing you to modify\n",
    "    the records.\n",
    "\n",
    "-   `Bio.SeqIO.index()` is a useful middle ground, acting like a read\n",
    "    only dictionary and parsing sequences into `SeqRecord` objects on\n",
    "    demand (see Section \\[sec:SeqIO-index\\]).\n",
    "\n",
    "-   `Bio.SeqIO.index_db()` also acts like a read only dictionary but\n",
    "    stores the identifiers and file offsets in a file on disk (as an\n",
    "    SQLite3 database), meaning it has very low memory requirements (see\n",
    "    Section \\[sec:SeqIO-index-db\\]), but will be a little bit slower.\n",
    "\n",
    "See the discussion for an broad overview\n",
    "(Section \\[sec:SeqIO-indexing-discussion\\]).\n",
    "\n",
    "### Sequence files as Dictionaries – In memory {#SeqIO:to_dict}\n",
    "\n",
    "The next thing that we’ll do with our ubiquitous orchid files is to show\n",
    "how to index them and access them like a database using the Python\n",
    "`dictionary` data type (like a hash in Perl). This is very useful for\n",
    "moderately large files where you only need to access certain elements of\n",
    "the file, and makes for a nice quick ’n dirty database. For dealing with\n",
    "larger files where memory becomes a problem, see\n",
    "Section \\[sec:SeqIO-index\\] below.\n",
    "\n",
    "You can use the function `Bio.SeqIO.to_dict()` to make a SeqRecord\n",
    "dictionary (in memory). By default this will use each record’s\n",
    "identifier (i.e. the `.id` attribute) as the key. Let’s try this using\n",
    "our GenBank file:\n",
    "\n"
   ]
  },
  {
   "cell_type": "code",
   "execution_count": null,
   "metadata": {},
   "outputs": [],
   "source": [
    "from Bio import SeqIO\n",
    "orchid_dict = SeqIO.to_dict(SeqIO.parse(\"ls_orchid.gbk\", \"genbank\"))\n"
   ]
  },
  {
   "cell_type": "markdown",
   "metadata": {},
   "source": [
    "\n",
    "There is just one required argument for `Bio.SeqIO.to_dict()`, a list or\n",
    "generator giving `SeqRecord` objects. Here we have just used the output\n",
    "from the `SeqIO.parse` function. As the name suggests, this returns a\n",
    "Python dictionary.\n",
    "\n",
    "Since this variable `orchid_dict` is an ordinary Python dictionary, we\n",
    "can look at all of the keys we have available:\n",
    "\n"
   ]
  },
  {
   "cell_type": "code",
   "execution_count": null,
   "metadata": {},
   "outputs": [],
   "source": [
    "len(orchid_dict)\n"
   ]
  },
  {
   "cell_type": "markdown",
   "metadata": {},
   "source": [
    "\n"
   ]
  },
  {
   "cell_type": "code",
   "execution_count": null,
   "metadata": {},
   "outputs": [],
   "source": [
    "list(orchid_dict.keys())\n"
   ]
  },
  {
   "cell_type": "markdown",
   "metadata": {},
   "source": [
    "\n",
    "You can leave out the \\`\\`list(...)\\`\\` bit if you are still using\n",
    "Python 2. Under Python 3 the dictionary methods like \\`\\`.keys()\\`\\` and\n",
    "\\`\\`.values()\\`\\` are iterators rather than lists.\n",
    "\n",
    "If you really want to, you can even look at all the records at once:\n",
    "\n"
   ]
  },
  {
   "cell_type": "code",
   "execution_count": null,
   "metadata": {},
   "outputs": [],
   "source": [
    "list(orchid_dict.values()) #lots of output!\n"
   ]
  },
  {
   "cell_type": "markdown",
   "metadata": {},
   "source": [
    "\n",
    "We can access a single `SeqRecord` object via the keys and manipulate\n",
    "the object as normal:\n",
    "\n"
   ]
  },
  {
   "cell_type": "code",
   "execution_count": null,
   "metadata": {},
   "outputs": [],
   "source": [
    "seq_record = orchid_dict[\"Z78475.1\"]\n",
    "print(seq_record.description)\n"
   ]
  },
  {
   "cell_type": "code",
   "execution_count": null,
   "metadata": {},
   "outputs": [],
   "source": [
    "print(repr(seq_record.seq))\n"
   ]
  },
  {
   "cell_type": "markdown",
   "metadata": {},
   "source": [
    "\n",
    "So, it is very easy to create an in memory “database” of our GenBank\n",
    "records. Next we’ll try this for the FASTA file instead.\n",
    "\n",
    "Note that those of you with prior Python experience should all be able\n",
    "to construct a dictionary like this “by hand”. However, typical\n",
    "dictionary construction methods will not deal with the case of repeated\n",
    "keys very nicely. Using the `Bio.SeqIO.to_dict()` will explicitly check\n",
    "for duplicate keys, and raise an exception if any are found.\n",
    "\n",
    "#### Specifying the dictionary keys {#seq:seqio-todict-functionkey}\n",
    "\n",
    "Using the same code as above, but for the FASTA file instead:\n",
    "\n"
   ]
  },
  {
   "cell_type": "markdown",
   "metadata": {},
   "source": [
    "\n",
    "This time the keys are:\n",
    "\n"
   ]
  },
  {
   "cell_type": "markdown",
   "metadata": {},
   "source": [
    "\n",
    "You should recognise these strings from when we parsed the FASTA file\n",
    "earlier in Section \\[sec:fasta-parsing\\]. Suppose you would rather have\n",
    "something else as the keys - like the accession numbers. This brings us\n",
    "nicely to `SeqIO.to_dict()`’s optional argument `key_function`, which\n",
    "lets you define what to use as the dictionary key for your records.\n",
    "\n",
    "First you must write your own function to return the key you want (as a\n",
    "string) when given a `SeqRecord` object. In general, the details of\n",
    "function will depend on the sort of input records you are dealing with.\n",
    "But for our orchids, we can just split up the record’s identifier using\n",
    "the “pipe” character (the vertical line) and return the fourth entry\n",
    "(field three):\n",
    "\n"
   ]
  },
  {
   "cell_type": "markdown",
   "metadata": {},
   "source": [
    "\n",
    "Then we can give this function to the `SeqIO.to_dict()` function to use\n",
    "in building the dictionary:\n",
    "\n"
   ]
  },
  {
   "cell_type": "markdown",
   "metadata": {},
   "source": [
    "\n",
    "Finally, as desired, the new dictionary keys:\n",
    "\n"
   ]
  },
  {
   "cell_type": "code",
   "execution_count": null,
   "metadata": {},
   "outputs": [],
   "source": [
    "print(orchid_dict.keys())\n"
   ]
  },
  {
   "cell_type": "markdown",
   "metadata": {},
   "source": [
    "\n",
    "Not too complicated, I hope!\n",
    "\n",
    "#### Indexing a dictionary using the SEGUID checksum\n",
    "\n",
    "To give another example of working with dictionaries of `SeqRecord`\n",
    "objects, we’ll use the SEGUID checksum function. This is a relatively\n",
    "recent checksum, and collisions should be very rare (i.e. two different\n",
    "sequences with the same checksum), an improvement on the CRC64 checksum.\n",
    "\n",
    "Once again, working with the orchids GenBank file:\n",
    "\n"
   ]
  },
  {
   "cell_type": "markdown",
   "metadata": {},
   "source": [
    "\n",
    "This should give:\n",
    "\n"
   ]
  },
  {
   "cell_type": "markdown",
   "metadata": {},
   "source": [
    "\n",
    "Now, recall the `Bio.SeqIO.to_dict()` function’s `key_function` argument\n",
    "expects a function which turns a `SeqRecord` into a string. We can’t use\n",
    "the `seguid()` function directly because it expects to be given a `Seq`\n",
    "object (or a string). However, we can use Python’s `lambda` feature to\n",
    "create a “one off” function to give to `Bio.SeqIO.to_dict()` instead:\n",
    "\n"
   ]
  },
  {
   "cell_type": "code",
   "execution_count": null,
   "metadata": {},
   "outputs": [],
   "source": [
    "from Bio import SeqIO\n",
    "from Bio.SeqUtils.CheckSum import seguid\n",
    "seguid_dict = SeqIO.to_dict(SeqIO.parse(\"ls_orchid.gbk\", \"genbank\"),\n",
    "lambda rec : seguid(rec.seq))\n",
    "record = seguid_dict[\"MN/s0q9zDoCVEEc+k/IFwCNF2pY\"]\n",
    "print(record.id)\n"
   ]
  },
  {
   "cell_type": "code",
   "execution_count": null,
   "metadata": {},
   "outputs": [],
   "source": [
    "print(record.description)\n"
   ]
  },
  {
   "cell_type": "markdown",
   "metadata": {},
   "source": [
    "\n",
    "That should have retrieved the record <span>Z78532.1</span>, the second\n",
    "entry in the file.\n",
    "\n",
    "### Sequence files as Dictionaries – Indexed files {#sec:SeqIO-index}\n",
    "\n",
    "As the previous couple of examples tried to illustrate, using\n",
    "`Bio.SeqIO.to_dict()` is very flexible. However, because it holds\n",
    "everything in memory, the size of file you can work with is limited by\n",
    "your computer’s RAM. In general, this will only work on small to medium\n",
    "files.\n",
    "\n",
    "For larger files you should consider `Bio.SeqIO.index()`, which works a\n",
    "little differently. Although it still returns a dictionary like object,\n",
    "this does *not* keep *everything* in memory. Instead, it just records\n",
    "where each record is within the file – when you ask for a particular\n",
    "record, it then parses it on demand.\n",
    "\n",
    "As an example, let’s use the same GenBank file as before:\n",
    "\n"
   ]
  },
  {
   "cell_type": "code",
   "execution_count": null,
   "metadata": {},
   "outputs": [],
   "source": [
    "from Bio import SeqIO\n",
    "orchid_dict = SeqIO.index(\"ls_orchid.gbk\", \"genbank\")\n",
    "len(orchid_dict)\n"
   ]
  },
  {
   "cell_type": "markdown",
   "metadata": {},
   "source": [
    "\n"
   ]
  },
  {
   "cell_type": "code",
   "execution_count": null,
   "metadata": {},
   "outputs": [],
   "source": [
    "orchid_dict.keys()\n"
   ]
  },
  {
   "cell_type": "markdown",
   "metadata": {},
   "source": [
    "\n"
   ]
  },
  {
   "cell_type": "code",
   "execution_count": null,
   "metadata": {},
   "outputs": [],
   "source": [
    "seq_record = orchid_dict[\"Z78475.1\"]\n",
    "print(seq_record.description)\n"
   ]
  },
  {
   "cell_type": "code",
   "execution_count": null,
   "metadata": {},
   "outputs": [],
   "source": [
    "seq_record.seq\n"
   ]
  },
  {
   "cell_type": "code",
   "execution_count": null,
   "metadata": {},
   "outputs": [],
   "source": [
    "orchid_dict.close()\n"
   ]
  },
  {
   "cell_type": "markdown",
   "metadata": {},
   "source": [
    "\n",
    "Note that `Bio.SeqIO.index()` won’t take a handle, but only a filename.\n",
    "There are good reasons for this, but it is a little technical. The\n",
    "second argument is the file format (a lower case string as used in the\n",
    "other `Bio.SeqIO` functions). You can use many other simple file\n",
    "formats, including FASTA and FASTQ files (see the example in\n",
    "Section \\[sec:fastq-indexing\\]). However, alignment formats like PHYLIP\n",
    "or Clustal are not supported. Finally as an optional argument you can\n",
    "supply an alphabet, or a key function.\n",
    "\n",
    "Here is the same example using the FASTA file - all we change is the\n",
    "filename and the format name:\n",
    "\n"
   ]
  },
  {
   "cell_type": "code",
   "execution_count": null,
   "metadata": {},
   "outputs": [],
   "source": [
    "from Bio import SeqIO\n",
    "orchid_dict = SeqIO.index(\"ls_orchid.fasta\", \"fasta\")\n",
    "len(orchid_dict)\n"
   ]
  },
  {
   "cell_type": "code",
   "execution_count": null,
   "metadata": {},
   "outputs": [],
   "source": [
    "orchid_dict.keys()\n"
   ]
  },
  {
   "cell_type": "markdown",
   "metadata": {},
   "source": [
    "\n",
    "#### Specifying the dictionary keys {#seq:seqio-index-functionkey}\n",
    "\n",
    "Suppose you want to use the same keys as before? Much like with the\n",
    "`Bio.SeqIO.to_dict()` example in\n",
    "Section \\[seq:seqio-todict-functionkey\\], you’ll need to write a tiny\n",
    "function to map from the FASTA identifier (as a string) to the key you\n",
    "want:\n",
    "\n"
   ]
  },
  {
   "cell_type": "markdown",
   "metadata": {},
   "source": [
    "\n",
    "Then we can give this function to the `Bio.SeqIO.index()` function to\n",
    "use in building the dictionary:\n",
    "\n"
   ]
  },
  {
   "cell_type": "code",
   "execution_count": null,
   "metadata": {},
   "outputs": [],
   "source": [
    "from Bio import SeqIO\n",
    "orchid_dict = SeqIO.index(\"ls_orchid.fasta\", \"fasta\", key_function=get_acc)\n",
    "print(orchid_dict.keys())\n"
   ]
  },
  {
   "cell_type": "markdown",
   "metadata": {},
   "source": [
    "\n",
    "Easy when you know how?\n",
    "\n",
    "#### Getting the raw data for a record {#sec:seqio-index-getraw}\n",
    "\n",
    "The dictionary-like object from `Bio.SeqIO.index()` gives you each entry\n",
    "as a `SeqRecord` object. However, it is sometimes useful to be able to\n",
    "get the original raw data straight from the file. For this use the\n",
    "`get_raw()` method which takes a single argument (the record identifier)\n",
    "and returns a string (extracted from the file without modification).\n",
    "\n",
    "A motivating example is extracting a subset of a records from a large\n",
    "file where either `Bio.SeqIO.write()` does not (yet) support the output\n",
    "file format (e.g. the plain text SwissProt file format) or where you\n",
    "need to preserve the text exactly (e.g. GenBank or EMBL output from\n",
    "Biopython does not yet preserve every last bit of annotation).\n",
    "\n",
    "Let’s suppose you have download the whole of UniProt in the plain text\n",
    "SwissPort file format from their FTP site\n",
    "(<ftp://ftp.uniprot.org/pub/databases/uniprot/current_release/knowledgebase/complete/uniprot_sprot.dat.gz>)\n",
    "and uncompressed it as the file `uniprot_sprot.dat`, and you want to\n",
    "extract just a few records from it:\n",
    "\n"
   ]
  },
  {
   "cell_type": "code",
   "execution_count": null,
   "metadata": {},
   "outputs": [],
   "source": [
    "from Bio import SeqIO\n",
    "uniprot = SeqIO.index(\"uniprot_sprot.dat\", \"swiss\")\n",
    "handle = open(\"selected.dat\", \"w\")\n",
    "for acc in [\"P33487\", \"P19801\", \"P13689\", \"Q8JZQ5\", \"Q9TRC7\"]:\n",
    "handle.write(uniprot.get_raw(acc))\n",
    "handle.close()\n"
   ]
  },
  {
   "cell_type": "markdown",
   "metadata": {},
   "source": [
    "\n",
    "There is a longer example in Section \\[sec:SeqIO-sort\\] using the\n",
    "`SeqIO.index()` function to sort a large sequence file (without loading\n",
    "everything into memory at once).\n",
    "\n",
    "### Sequence files as Dictionaries – Database indexed files {#sec:SeqIO-index-db}\n",
    "\n",
    "Biopython 1.57 introduced an alternative, `Bio.SeqIO.index_db()`, which\n",
    "can work on even extremely large files since it stores the record\n",
    "information as a file on disk (using an SQLite3 database) rather than in\n",
    "memory. Also, you can index multiple files together (providing all the\n",
    "record identifiers are unique).\n",
    "\n",
    "The `Bio.SeqIO.index()` function takes three required arguments:\n",
    "\n",
    "-   Index filename, we suggest using something ending `.idx`. This index\n",
    "    file is actually an SQLite3 database.\n",
    "\n",
    "-   List of sequence filenames to index (or a single filename)\n",
    "\n",
    "-   File format (lower case string as used in the rest of the\n",
    "    `SeqIO` module).\n",
    "\n",
    "As an example, consider the GenBank flat file releases from the NCBI FTP\n",
    "site, <ftp://ftp.ncbi.nih.gov/genbank/>, which are gzip compressed\n",
    "GenBank files. As of GenBank release $182$, there are $16$ files making\n",
    "up the viral sequences, `gbvrl1.seq`, …, `gbvrl16.seq`, containing in\n",
    "total almost one million records. You can index them like this:\n",
    "\n"
   ]
  },
  {
   "cell_type": "code",
   "execution_count": null,
   "metadata": {},
   "outputs": [],
   "source": [
    "from Bio import SeqIO\n",
    "files = [\"gbvrl%i.seq\" % (i+1) for i in range(16)]\n",
    "gb_vrl = SeqIO.index_db(\"gbvrl.idx\", files, \"genbank\")\n",
    "print(\"%i sequences indexed\" % len(gb_vrl))\n"
   ]
  },
  {
   "cell_type": "markdown",
   "metadata": {},
   "source": [
    "\n",
    "That takes about two minutes to run on my machine. If you rerun it then\n",
    "the index file (here `gbvrl.idx`) is reloaded in under a second. You can\n",
    "use the index as a read only Python dictionary - without having to worry\n",
    "about which file the sequence comes from, e.g.\n",
    "\n"
   ]
  },
  {
   "cell_type": "code",
   "execution_count": null,
   "metadata": {},
   "outputs": [],
   "source": [
    "print(gb_vrl[\"GQ333173.1\"].description)\n"
   ]
  },
  {
   "cell_type": "markdown",
   "metadata": {},
   "source": [
    "\n",
    "#### Getting the raw data for a record {#getting-the-raw-data-for-a-record}\n",
    "\n",
    "Just as with the `Bio.SeqIO.index()` function discussed above in\n",
    "Section \\[sec:seqio-index-getraw\\], the dictionary like object also lets\n",
    "you get at the raw text of each record:\n",
    "\n"
   ]
  },
  {
   "cell_type": "code",
   "execution_count": null,
   "metadata": {},
   "outputs": [],
   "source": [
    "print(gb_vrl.get_raw(\"GQ333173.1\"))\n"
   ]
  },
  {
   "cell_type": "markdown",
   "metadata": {},
   "source": [
    "\n",
    "### Indexing compressed files {#sec:SeqIO-index-bgzf}\n",
    "\n",
    "Very often when you are indexing a sequence file it can be quite large –\n",
    "so you may want to compress it on disk. Unfortunately efficient random\n",
    "access is difficult with the more common file formats like gzip and\n",
    "bzip2. In this setting, BGZF (Blocked GNU Zip Format) can be very\n",
    "helpful. This is a variant of gzip (and can be decompressed using\n",
    "standard gzip tools) popularised by the BAM file format,\n",
    "[samtools](http://samtools.sourceforge.net/), and\n",
    "[tabix](http://samtools.sourceforge.net/tabix.shtml).\n",
    "\n",
    "To create a BGZF compressed file you can use the command line tool\n",
    "`bgzip` which comes with samtools. In our examples we use a filename\n",
    "extension `*.bgz`, so they can be distinguished from normal gzipped\n",
    "files (named `*.gz`). You can also use the `Bio.bgzf` module to read and\n",
    "write BGZF files from within Python.\n",
    "\n",
    "The `Bio.SeqIO.index()` and `Bio.SeqIO.index_db()` can both be used with\n",
    "BGZF compressed files. For example, if you started with an uncompressed\n",
    "GenBank file:\n",
    "\n"
   ]
  },
  {
   "cell_type": "code",
   "execution_count": null,
   "metadata": {},
   "outputs": [],
   "source": [
    "from Bio import SeqIO\n",
    "orchid_dict = SeqIO.index(\"ls_orchid.gbk\", \"genbank\")\n",
    "len(orchid_dict)\n"
   ]
  },
  {
   "cell_type": "code",
   "execution_count": null,
   "metadata": {},
   "outputs": [],
   "source": [
    "orchid_dict.close()\n"
   ]
  },
  {
   "cell_type": "markdown",
   "metadata": {},
   "source": [
    "\n",
    "You could compress this (while keeping the original file) at the command\n",
    "line using the following command – but don’t worry, the compressed file\n",
    "is already included with the other example files:\n",
    "\n"
   ]
  },
  {
   "cell_type": "markdown",
   "metadata": {},
   "source": [
    "\n",
    "You can use the compressed file in exactly the same way:\n",
    "\n"
   ]
  },
  {
   "cell_type": "code",
   "execution_count": null,
   "metadata": {},
   "outputs": [],
   "source": [
    "from Bio import SeqIO\n",
    "orchid_dict = SeqIO.index(\"ls_orchid.gbk.bgz\", \"genbank\")\n",
    "len(orchid_dict)\n"
   ]
  },
  {
   "cell_type": "code",
   "execution_count": null,
   "metadata": {},
   "outputs": [],
   "source": [
    "orchid_dict.close()\n"
   ]
  },
  {
   "cell_type": "markdown",
   "metadata": {},
   "source": [
    "\n",
    "or:\n",
    "\n"
   ]
  },
  {
   "cell_type": "code",
   "execution_count": null,
   "metadata": {},
   "outputs": [],
   "source": [
    "from Bio import SeqIO\n",
    "orchid_dict = SeqIO.index_db(\"ls_orchid.gbk.bgz.idx\", \"ls_orchid.gbk.bgz\", \"genbank\")\n",
    "len(orchid_dict)\n"
   ]
  },
  {
   "cell_type": "code",
   "execution_count": null,
   "metadata": {},
   "outputs": [],
   "source": [
    "orchid_dict.close()\n"
   ]
  },
  {
   "cell_type": "markdown",
   "metadata": {},
   "source": [
    "\n",
    "The `SeqIO` indexing automatically detects the BGZF compression. Note\n",
    "that you can’t use the same index file for the uncompressed and\n",
    "compressed files.\n",
    "\n",
    "### Discussion {#sec:SeqIO-indexing-discussion}\n",
    "\n",
    "So, which of these methods should you use and why? It depends on what\n",
    "you are trying to do (and how much data you are dealing with). However,\n",
    "in general picking `Bio.SeqIO.index()` is a good starting point. If you\n",
    "are dealing with millions of records, multiple files, or repeated\n",
    "analyses, then look at `Bio.SeqIO.index_db()`.\n",
    "\n",
    "Reasons to choose `Bio.SeqIO.to_dict()` over either `Bio.SeqIO.index()`\n",
    "or `Bio.SeqIO.index_db()` boil down to a need for flexibility despite\n",
    "its high memory needs. The advantage of storing the `SeqRecord` objects\n",
    "in memory is they can be changed, added to, or removed at will. In\n",
    "addition to the downside of high memory consumption, indexing can also\n",
    "take longer because all the records must be fully parsed.\n",
    "\n",
    "Both `Bio.SeqIO.index()` and `Bio.SeqIO.index_db()` only parse records\n",
    "on demand. When indexing, they scan the file once looking for the start\n",
    "of each record and do as little work as possible to extract the\n",
    "identifier.\n",
    "\n",
    "Reasons to choose `Bio.SeqIO.index()` over `Bio.SeqIO.index_db()`\n",
    "include:\n",
    "\n",
    "-   Faster to build the index (more noticeable in simple file formats)\n",
    "\n",
    "-   Slightly faster access as SeqRecord objects (but the difference is\n",
    "    only really noticeable for simple to parse file formats).\n",
    "\n",
    "-   Can use any immutable Python object as the dictionary keys (e.g. a\n",
    "    tuple of strings, or a frozen set) not just strings.\n",
    "\n",
    "-   Don’t need to worry about the index database being out of date if\n",
    "    the sequence file being indexed has changed.\n",
    "\n",
    "Reasons to choose `Bio.SeqIO.index_db()` over `Bio.SeqIO.index()`\n",
    "include:\n",
    "\n",
    "-   Not memory limited – this is already important with files from\n",
    "    second generation sequencing where 10s of millions of sequences are\n",
    "    common, and using `Bio.SeqIO.index()` can require more than 4GB of\n",
    "    RAM and therefore a 64bit version of Python.\n",
    "\n",
    "-   Because the index is kept on disk, it can be reused. Although\n",
    "    building the index database file takes longer, if you have a script\n",
    "    which will be rerun on the same datafiles in future, this could save\n",
    "    time in the long run.\n",
    "\n",
    "-   Indexing multiple files together\n",
    "\n",
    "-   The `get_raw()` method can be much faster, since for most file\n",
    "    formats the length of each record is stored as well as its offset.\n",
    "\n",
    "Writing Sequence Files\n",
    "----------------------\n",
    "\n",
    "We’ve talked about using `Bio.SeqIO.parse()` for sequence input (reading\n",
    "files), and now we’ll look at `Bio.SeqIO.write()` which is for sequence\n",
    "output (writing files). This is a function taking three arguments: some\n",
    "`SeqRecord` objects, a handle or filename to write to, and a sequence\n",
    "format.\n",
    "\n",
    "Here is an example, where we start by creating a few `SeqRecord` objects\n",
    "the hard way (by hand, rather than by loading them from a file):\n",
    "\n"
   ]
  },
  {
   "cell_type": "markdown",
   "metadata": {},
   "source": [
    "\n",
    "Now we have a list of `SeqRecord` objects, we’ll write them to a FASTA\n",
    "format file:\n",
    "\n"
   ]
  },
  {
   "cell_type": "markdown",
   "metadata": {},
   "source": [
    "\n",
    "And if you open this file in your favourite text editor it should look\n",
    "like this:\n",
    "\n"
   ]
  },
  {
   "cell_type": "markdown",
   "metadata": {},
   "source": [
    "\n",
    "Suppose you wanted to know how many records the `Bio.SeqIO.write()`\n",
    "function wrote to the handle? If your records were in a list you could\n",
    "just use `len(my_records)`, however you can’t do that when your records\n",
    "come from a generator/iterator. The `Bio.SeqIO.write()` function returns\n",
    "the number of `SeqRecord` objects written to the file.\n",
    "\n",
    "*Note* - If you tell the `Bio.SeqIO.write()` function to write to a file\n",
    "that already exists, the old file will be overwritten without any\n",
    "warning.\n",
    "\n",
    "### Round trips\n",
    "\n",
    "Some people like their parsers to be “round-tripable”, meaning if you\n",
    "read in a file and write it back out again it is unchanged. This\n",
    "requires that the parser must extract enough information to reproduce\n",
    "the original file *exactly*. `Bio.SeqIO` does *not* aim to do this.\n",
    "\n",
    "As a trivial example, any line wrapping of the sequence data in FASTA\n",
    "files is allowed. An identical `SeqRecord` would be given from parsing\n",
    "the following two examples which differ only in their line breaks:\n",
    "\n"
   ]
  },
  {
   "cell_type": "markdown",
   "metadata": {},
   "source": [
    "\n",
    "To make a round-tripable FASTA parser you would need to keep track of\n",
    "where the sequence line breaks occurred, and this extra information is\n",
    "usually pointless. Instead Biopython uses a default line wrapping of\n",
    "$60$ characters on output. The same problem with white space applies in\n",
    "many other file formats too. Another issue in some cases is that\n",
    "Biopython does not (yet) preserve every last bit of annotation (e.g.\n",
    "GenBank and EMBL).\n",
    "\n",
    "Occasionally preserving the original layout (with any quirks it may\n",
    "have) is important. See Section \\[sec:seqio-index-getraw\\] about the\n",
    "`get_raw()` method of the `Bio.SeqIO.index()` dictionary-like object for\n",
    "one potential solution.\n",
    "\n",
    "### Converting between sequence file formats {#sec:SeqIO-conversion}\n",
    "\n",
    "In previous example we used a list of `SeqRecord` objects as input to\n",
    "the `Bio.SeqIO.write()` function, but it will also accept a `SeqRecord`\n",
    "iterator like we get from `Bio.SeqIO.parse()` – this lets us do file\n",
    "conversion by combining these two functions.\n",
    "\n",
    "For this example we’ll read in the GenBank format file\n",
    "[ls\\_orchid.gbk](http://biopython.org/DIST/docs/tutorial/examples/ls_orchid.gbk)\n",
    "and write it out in FASTA format:\n",
    "\n"
   ]
  },
  {
   "cell_type": "markdown",
   "metadata": {},
   "source": [
    "\n",
    "Still, that is a little bit complicated. So, because file conversion is\n",
    "such a common task, there is a helper function letting you replace that\n",
    "with just:\n",
    "\n"
   ]
  },
  {
   "cell_type": "markdown",
   "metadata": {},
   "source": [
    "\n",
    "The `Bio.SeqIO.convert()` function will take handles *or* filenames.\n",
    "Watch out though – if the output file already exists, it will overwrite\n",
    "it! To find out more, see the built in help:\n",
    "\n"
   ]
  },
  {
   "cell_type": "code",
   "execution_count": null,
   "metadata": {},
   "outputs": [],
   "source": [
    "from Bio import SeqIO\n",
    "help(SeqIO.convert)\n"
   ]
  },
  {
   "cell_type": "markdown",
   "metadata": {},
   "source": [
    "\n",
    "In principle, just by changing the filenames and the format names, this\n",
    "code could be used to convert between any file formats available in\n",
    "Biopython. However, writing some formats requires information (e.g.\n",
    "quality scores) which other files formats don’t contain. For example,\n",
    "while you can turn a FASTQ file into a FASTA file, you can’t do the\n",
    "reverse. See also Sections \\[sec:SeqIO-fastq-conversion\\]\n",
    "and \\[sec:SeqIO-fasta-qual-conversion\\] in the cookbook chapter which\n",
    "looks at inter-converting between different FASTQ formats.\n",
    "\n",
    "Finally, as an added incentive for using the `Bio.SeqIO.convert()`\n",
    "function (on top of the fact your code will be shorter), doing it this\n",
    "way may also be faster! The reason for this is the convert function can\n",
    "take advantage of several file format specific optimisations and tricks.\n",
    "\n",
    "### Converting a file of sequences to their reverse complements {#sec:SeqIO-reverse-complement}\n",
    "\n",
    "Suppose you had a file of nucleotide sequences, and you wanted to turn\n",
    "it into a file containing their reverse complement sequences. This time\n",
    "a little bit of work is required to transform the `SeqRecord` objects we\n",
    "get from our input file into something suitable for saving to our output\n",
    "file.\n",
    "\n",
    "To start with, we’ll use `Bio.SeqIO.parse()` to load some nucleotide\n",
    "sequences from a file, then print out their reverse complements using\n",
    "the `Seq` object’s built in `.reverse_complement()` method (see\n",
    "Section \\[sec:seq-reverse-complement\\]):\n",
    "\n"
   ]
  },
  {
   "cell_type": "code",
   "execution_count": null,
   "metadata": {},
   "outputs": [],
   "source": [
    "from Bio import SeqIO\n",
    "for record in SeqIO.parse(\"ls_orchid.gbk\", \"genbank\"):\n",
    "print(record.id)\n",
    "print(record.seq.reverse_complement())\n"
   ]
  },
  {
   "cell_type": "markdown",
   "metadata": {},
   "source": [
    "\n",
    "Now, if we want to save these reverse complements to a file, we’ll need\n",
    "to make `SeqRecord` objects. We can use the `SeqRecord` object’s built\n",
    "in `.reverse_complement()` method (see\n",
    "Section \\[sec:SeqRecord-reverse-complement\\]) but we must decide how to\n",
    "name our new records.\n",
    "\n",
    "This is an excellent place to demonstrate the power of list\n",
    "comprehensions which make a list in memory:\n",
    "\n"
   ]
  },
  {
   "cell_type": "code",
   "execution_count": null,
   "metadata": {},
   "outputs": [],
   "source": [
    "from Bio import SeqIO\n",
    "records = [rec.reverse_complement(id=\"rc_\"+rec.id, description = \"reverse complement\") \\\n",
    "for rec in SeqIO.parse(\"ls_orchid.fasta\", \"fasta\")]\n",
    "len(records)\n"
   ]
  },
  {
   "cell_type": "markdown",
   "metadata": {},
   "source": [
    "\n",
    "Now list comprehensions have a nice trick up their sleeves, you can add\n",
    "a conditional statement:\n",
    "\n"
   ]
  },
  {
   "cell_type": "code",
   "execution_count": null,
   "metadata": {},
   "outputs": [],
   "source": [
    "records = [rec.reverse_complement(id=\"rc_\"+rec.id, description = \"reverse complement\") \\\n",
    "for rec in SeqIO.parse(\"ls_orchid.fasta\", \"fasta\") if len(rec)<700]\n",
    "len(records)\n"
   ]
  },
  {
   "cell_type": "markdown",
   "metadata": {},
   "source": [
    "\n",
    "That would create an in memory list of reverse complement records where\n",
    "the sequence length was under 700 base pairs. However, we can do exactly\n",
    "the same with a generator expression - but with the advantage that this\n",
    "does not create a list of all the records in memory at once:\n",
    "\n"
   ]
  },
  {
   "cell_type": "code",
   "execution_count": null,
   "metadata": {},
   "outputs": [],
   "source": [
    "records = (rec.reverse_complement(id=\"rc_\"+rec.id, description = \"reverse complement\") \\\n",
    "for rec in SeqIO.parse(\"ls_orchid.fasta\", \"fasta\") if len(rec)<700)\n"
   ]
  },
  {
   "cell_type": "markdown",
   "metadata": {},
   "source": [
    "\n",
    "As a complete example:\n",
    "\n"
   ]
  },
  {
   "cell_type": "code",
   "execution_count": null,
   "metadata": {},
   "outputs": [],
   "source": [
    "from Bio import SeqIO\n",
    "records = (rec.reverse_complement(id=\"rc_\"+rec.id, description = \"reverse complement\") \\\n",
    "for rec in SeqIO.parse(\"ls_orchid.fasta\", \"fasta\") if len(rec)<700)\n",
    "SeqIO.write(records, \"rev_comp.fasta\", \"fasta\")\n"
   ]
  },
  {
   "cell_type": "markdown",
   "metadata": {},
   "source": [
    "\n",
    "There is a related example in Section \\[sec:SeqIO-translate\\],\n",
    "translating each record in a FASTA file from nucleotides to amino acids.\n",
    "\n",
    "### Getting your SeqRecord objects as formatted strings {#sec:Bio.SeqIO-and-StringIO}\n",
    "\n",
    "Suppose that you don’t really want to write your records to a file or\n",
    "handle – instead you want a string containing the records in a\n",
    "particular file format. The `Bio.SeqIO` interface is based on handles,\n",
    "but Python has a useful built in module which provides a string based\n",
    "handle.\n",
    "\n",
    "For an example of how you might use this, let’s load in a bunch of\n",
    "`SeqRecord` objects from our orchids GenBank file, and create a string\n",
    "containing the records in FASTA format:\n",
    "\n"
   ]
  },
  {
   "cell_type": "markdown",
   "metadata": {},
   "source": [
    "\n",
    "This isn’t entirely straightforward the first time you see it! On the\n",
    "bright side, for the special case where you would like a string\n",
    "containing a *single* record in a particular file format, use the the\n",
    "`SeqRecord` class’ `format()` method (see\n",
    "Section \\[sec:SeqRecord-format\\]).\n",
    "\n",
    "Note that although we don’t encourage it, you *can* use the `format()`\n",
    "method to write to a file, for example something like this:\n",
    "\n"
   ]
  },
  {
   "cell_type": "markdown",
   "metadata": {},
   "source": [
    "\n",
    "While this style of code will work for a simple sequential file format\n",
    "like FASTA or the simple tab separated format used here, it will *not*\n",
    "work for more complex or interlaced file formats. This is why we still\n",
    "recommend using `Bio.SeqIO.write()`, as in the following example:\n",
    "\n"
   ]
  }
 ],
 "metadata": {},
 "nbformat": 4,
 "nbformat_minor": 0
}