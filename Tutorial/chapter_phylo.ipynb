{
 "cells": [
  {
   "cell_type": "markdown",
   "metadata": {},
   "source": [
    "Phylogenetics with Bio.Phylo {#sec:Phylo}\n",
    "============================\n",
    "\n",
    "The Bio.Phylo module was introduced in Biopython 1.54. Following the\n",
    "lead of SeqIO and AlignIO, it aims to provide a common way to work with\n",
    "phylogenetic trees independently of the source data format, as well as a\n",
    "consistent API for I/O operations.\n",
    "\n",
    "Bio.Phylo is described in an open-access journal article @talevich2012\n",
    "[Talevich *et al.*, 2012], which you might also find helpful.\n",
    "\n",
    "Demo: What’s in a Tree?\n",
    "-----------------------\n",
    "\n",
    "To get acquainted with the module, let’s start with a tree that we’ve\n",
    "already constructed, and inspect it a few different ways. Then we’ll\n",
    "colorize the branches, to use a special phyloXML feature, and finally\n",
    "save it.\n",
    "\n",
    "Create a simple Newick file named `simple.dnd` using your favorite text\n",
    "editor, or use\n",
    "[`simple.dnd`](http://biopython.org/SRC/biopython/Doc/examples/simple.dnd)\n",
    "provided with the Biopython source code:\n",
    "\n"
   ]
  },
  {
   "cell_type": "markdown",
   "metadata": {},
   "source": [
    "\n",
    "This tree has no branch lengths, only a topology and labelled terminals.\n",
    "(If you have a real tree file available, you can follow this demo using\n",
    "that instead.)\n",
    "\n",
    "Launch the Python interpreter of your choice:\n",
    "\n"
   ]
  },
  {
   "cell_type": "markdown",
   "metadata": {},
   "source": [
    "\n",
    "For interactive work, launching the IPython interpreter with the\n",
    "`-pylab` flag enables **matplotlib** integration, so graphics will pop\n",
    "up automatically. We’ll use that during this demo.\n",
    "\n",
    "Now, within Python, read the tree file, giving the file name and the\n",
    "name of the format.\n",
    "\n"
   ]
  },
  {
   "cell_type": "code",
   "execution_count": null,
   "metadata": {},
   "outputs": [],
   "source": [
    "from Bio import Phylo\n",
    "tree = Phylo.read(\"simple.dnd\", \"newick\")\n"
   ]
  },
  {
   "cell_type": "markdown",
   "metadata": {},
   "source": [
    "\n",
    "Printing the tree object as a string gives us a look at the entire\n",
    "object hierarchy.\n",
    "\n"
   ]
  },
  {
   "cell_type": "code",
   "execution_count": null,
   "metadata": {},
   "outputs": [],
   "source": [
    "print(tree)\n"
   ]
  },
  {
   "cell_type": "markdown",
   "metadata": {},
   "source": [
    "\n",
    "The `Tree` object contains global information about the tree, such as\n",
    "whether it’s rooted or unrooted. It has one root clade, and under that,\n",
    "it’s nested lists of clades all the way down to the tips.\n",
    "\n",
    "The function `draw_ascii` creates a simple ASCII-art (plain text)\n",
    "dendrogram. This is a convenient visualization for interactive\n",
    "exploration, in case better graphical tools aren’t available.\n",
    "\n"
   ]
  },
  {
   "cell_type": "code",
   "execution_count": null,
   "metadata": {},
   "outputs": [],
   "source": [
    "from Bio import Phylo\n",
    "tree = Phylo.read(\"simple.dnd\", \"newick\")\n",
    "Phylo.draw_ascii(tree)\n"
   ]
  },
  {
   "cell_type": "markdown",
   "metadata": {},
   "source": [
    "\n",
    "If you have **matplotlib** or **pylab** installed, you can create a\n",
    "graphic using the `draw` function (see Fig. \\[fig:phylo-simple-draw\\]):\n",
    "\n"
   ]
  },
  {
   "cell_type": "code",
   "execution_count": null,
   "metadata": {},
   "outputs": [],
   "source": [
    "tree.rooted = True\n",
    "Phylo.draw(tree)\n"
   ]
  },
  {
   "cell_type": "markdown",
   "metadata": {},
   "source": [
    "\n",
    "\\[fig:phylo-simple-draw\\]\n",
    "\n",
    "![A rooted tree drawn with <span>Phylo.draw</span>.<span\n",
    "data-label=\"fig:phylo-simple-draw\"></span>](images/phylo-simple-draw.png)\n",
    "\n",
    "### Coloring branches within a tree\n",
    "\n",
    "The functions `draw` and `draw_graphviz` support the display of\n",
    "different colors and branch widths in a tree. As of Biopython 1.59, the\n",
    "`color` and `width` attributes are available on the basic Clade object\n",
    "and there’s nothing extra required to use them. Both attributes refer to\n",
    "the branch leading the given clade, and apply recursively, so all\n",
    "descendent branches will also inherit the assigned width and color\n",
    "values during display.\n",
    "\n",
    "In earlier versions of Biopython, these were special features of\n",
    "PhyloXML trees, and using the attributes required first converting the\n",
    "tree to a subclass of the basic tree object called Phylogeny, from the\n",
    "Bio.Phylo.PhyloXML module.\n",
    "\n",
    "In Biopython 1.55 and later, this is a convenient tree method:\n",
    "\n"
   ]
  },
  {
   "cell_type": "code",
   "execution_count": null,
   "metadata": {},
   "outputs": [],
   "source": [
    "tree = tree.as_phyloxml()\n"
   ]
  },
  {
   "cell_type": "markdown",
   "metadata": {},
   "source": [
    "\n",
    "In Biopython 1.54, you can accomplish the same thing with one extra\n",
    "import:\n",
    "\n"
   ]
  },
  {
   "cell_type": "code",
   "execution_count": null,
   "metadata": {},
   "outputs": [],
   "source": [
    "from Bio.Phylo.PhyloXML import Phylogeny\n",
    "tree = Phylogeny.from_tree(tree)\n"
   ]
  },
  {
   "cell_type": "markdown",
   "metadata": {},
   "source": [
    "\n",
    "Note that the file formats Newick and Nexus don’t support branch colors\n",
    "or widths, so if you use these attributes in Bio.Phylo, you will only be\n",
    "able to save the values in PhyloXML format. (You can still save a tree\n",
    "as Newick or Nexus, but the color and width values will be skipped in\n",
    "the output file.)\n",
    "\n",
    "Now we can begin assigning colors. First, we’ll color the root clade\n",
    "gray. We can do that by assigning the 24-bit color value as an RGB\n",
    "triple, an HTML-style hex string, or the name of one of the predefined\n",
    "colors.\n",
    "\n"
   ]
  },
  {
   "cell_type": "code",
   "execution_count": null,
   "metadata": {},
   "outputs": [],
   "source": [
    "tree.root.color = (128, 128, 128)\n"
   ]
  },
  {
   "cell_type": "markdown",
   "metadata": {},
   "source": [
    "\n",
    "Or:\n",
    "\n"
   ]
  },
  {
   "cell_type": "code",
   "execution_count": null,
   "metadata": {},
   "outputs": [],
   "source": [
    "tree.root.color = \"#808080\"\n"
   ]
  },
  {
   "cell_type": "markdown",
   "metadata": {},
   "source": [
    "\n",
    "Or:\n",
    "\n"
   ]
  },
  {
   "cell_type": "code",
   "execution_count": null,
   "metadata": {},
   "outputs": [],
   "source": [
    "tree.root.color = \"gray\"\n"
   ]
  },
  {
   "cell_type": "markdown",
   "metadata": {},
   "source": [
    "\n",
    "Colors for a clade are treated as cascading down through the entire\n",
    "clade, so when we colorize the root here, it turns the whole tree gray.\n",
    "We can override that by assigning a different color lower down on the\n",
    "tree.\n",
    "\n",
    "Let’s target the most recent common ancestor (MRCA) of the nodes named\n",
    "“E” and “F”. The `common_ancestor` method returns a reference to that\n",
    "clade in the original tree, so when we color that clade “salmon”, the\n",
    "color will show up in the original tree.\n",
    "\n"
   ]
  },
  {
   "cell_type": "code",
   "execution_count": null,
   "metadata": {},
   "outputs": [],
   "source": [
    "mrca = tree.common_ancestor({\"name\": \"E\"}, {\"name\": \"F\"})\n",
    "mrca.color = \"salmon\"\n"
   ]
  },
  {
   "cell_type": "markdown",
   "metadata": {},
   "source": [
    "\n",
    "If we happened to know exactly where a certain clade is in the tree, in\n",
    "terms of nested list entries, we can jump directly to that position in\n",
    "the tree by indexing it. Here, the index `[0,1]` refers to the second\n",
    "child of the first child of the root.\n",
    "\n"
   ]
  },
  {
   "cell_type": "code",
   "execution_count": null,
   "metadata": {},
   "outputs": [],
   "source": [
    "tree.clade[0, 1].color = \"blue\"\n"
   ]
  },
  {
   "cell_type": "markdown",
   "metadata": {},
   "source": [
    "\n",
    "Finally, show our work (see Fig. \\[fig:phylo-color-draw\\]):\n",
    "\n"
   ]
  },
  {
   "cell_type": "code",
   "execution_count": null,
   "metadata": {},
   "outputs": [],
   "source": [
    "Phylo.draw(tree)\n"
   ]
  },
  {
   "cell_type": "markdown",
   "metadata": {},
   "source": [
    "\n",
    "\\[fig:phylo-color-draw\\]\n",
    "\n",
    "![A colorized tree drawn with <span>Phylo.draw</span>.<span\n",
    "data-label=\"fig:phylo-color-draw\"></span>](images/phylo-color-draw.png)\n",
    "\n",
    "Note that a clade’s color includes the branch leading to that clade, as\n",
    "well as its descendents. The common ancestor of E and F turns out to be\n",
    "just under the root, and with this coloring we can see exactly where the\n",
    "root of the tree is.\n",
    "\n",
    "My, we’ve accomplished a lot! Let’s take a break here and save our work.\n",
    "Call the `write` function with a file name or handle — here we use\n",
    "standard output, to see what would be written — and the format\n",
    "`phyloxml`. PhyloXML saves the colors we assigned, so you can open this\n",
    "phyloXML file in another tree viewer like Archaeopteryx, and the colors\n",
    "will show up there, too.\n",
    "\n"
   ]
  },
  {
   "cell_type": "code",
   "execution_count": null,
   "metadata": {},
   "outputs": [],
   "source": [
    "import sys\n",
    "Phylo.write(tree, sys.stdout, \"phyloxml\")\n"
   ]
  },
  {
   "cell_type": "markdown",
   "metadata": {},
   "source": [
    "\n",
    "The rest of this chapter covers the core functionality of Bio.Phylo in\n",
    "greater detail. For more examples of using Bio.Phylo, see the cookbook\n",
    "page on Biopython.org:\n",
    "\n",
    "<http://biopython.org/wiki/Phylo_cookbook>\n",
    "\n",
    "I/O functions\n",
    "-------------\n",
    "\n",
    "Like SeqIO and AlignIO, Phylo handles file input and output through four\n",
    "functions: `parse`, `read`, `write` and `convert`, all of which support\n",
    "the tree file formats Newick, NEXUS, phyloXML and NeXML, as well as the\n",
    "Comparative Data Analysis Ontology (CDAO).\n",
    "\n",
    "The `read` function parses a single tree in the given file and returns\n",
    "it. Careful; it will raise an error if the file contains more than one\n",
    "tree, or no trees.\n",
    "\n"
   ]
  },
  {
   "cell_type": "code",
   "execution_count": null,
   "metadata": {},
   "outputs": [],
   "source": [
    "from Bio import Phylo\n",
    "tree = Phylo.read(\"Tests/Nexus/int_node_labels.nwk\", \"newick\")\n",
    "print(tree)\n"
   ]
  },
  {
   "cell_type": "markdown",
   "metadata": {},
   "source": [
    "\n",
    "(Example files are available in the `Tests/Nexus/` and `Tests/PhyloXML/`\n",
    "directories of the Biopython distribution.)\n",
    "\n",
    "To handle multiple (or an unknown number of) trees, use the `parse`\n",
    "function iterates through each of the trees in the given file:\n",
    "\n"
   ]
  },
  {
   "cell_type": "code",
   "execution_count": null,
   "metadata": {},
   "outputs": [],
   "source": [
    "trees = Phylo.parse(\"../../Tests/PhyloXML/phyloxml_examples.xml\", \"phyloxml\")\n",
    "for tree in trees:\n",
    "print(tree)\n"
   ]
  },
  {
   "cell_type": "markdown",
   "metadata": {},
   "source": [
    "\n",
    "Write a tree or iterable of trees back to file with the `write`\n",
    "function:\n",
    "\n"
   ]
  },
  {
   "cell_type": "code",
   "execution_count": null,
   "metadata": {},
   "outputs": [],
   "source": [
    "trees = list(Phylo.parse(\"../../Tests/PhyloXML/phyloxml_examples.xml\", \"phyloxml\"))\n",
    "tree1 = trees[0]\n",
    "others = trees[1:]\n",
    "Phylo.write(tree1, \"tree1.nwk\", \"newick\")\n"
   ]
  },
  {
   "cell_type": "code",
   "execution_count": null,
   "metadata": {},
   "outputs": [],
   "source": [
    "Phylo.write(others, \"other_trees.nwk\", \"newick\")\n"
   ]
  },
  {
   "cell_type": "markdown",
   "metadata": {},
   "source": [
    "\n",
    "Convert files between any of the supported formats with the `convert`\n",
    "function:\n",
    "\n"
   ]
  },
  {
   "cell_type": "code",
   "execution_count": null,
   "metadata": {},
   "outputs": [],
   "source": [
    "Phylo.convert(\"tree1.nwk\", \"newick\", \"tree1.xml\", \"nexml\")\n"
   ]
  },
  {
   "cell_type": "code",
   "execution_count": null,
   "metadata": {},
   "outputs": [],
   "source": [
    "Phylo.convert(\"other_trees.xml\", \"phyloxml\", \"other_trees.nex\", \"nexus\")\n"
   ]
  },
  {
   "cell_type": "markdown",
   "metadata": {},
   "source": [
    "\n",
    "To use strings as input or output instead of actual files, use\n",
    "`StringIO` as you would with SeqIO and AlignIO:\n",
    "\n"
   ]
  },
  {
   "cell_type": "code",
   "execution_count": null,
   "metadata": {},
   "outputs": [],
   "source": [
    "from Bio import Phylo\n",
    "from StringIO import StringIO\n",
    "handle = StringIO(\"(((A,B),(C,D)),(E,F,G));\")\n",
    "tree = Phylo.read(handle, \"newick\")\n"
   ]
  },
  {
   "cell_type": "markdown",
   "metadata": {},
   "source": [
    "\n",
    "View and export trees\n",
    "---------------------\n",
    "\n",
    "The simplest way to get an overview of a `Tree` object is to `print` it:\n",
    "\n"
   ]
  },
  {
   "cell_type": "code",
   "execution_count": null,
   "metadata": {},
   "outputs": [],
   "source": [
    "from Bio import Phylo\n",
    "tree = Phylo.read(\"PhyloXML/example.xml\", \"phyloxml\")\n",
    "print(tree)\n"
   ]
  },
  {
   "cell_type": "markdown",
   "metadata": {},
   "source": [
    "\n",
    "This is essentially an outline of the object hierarchy Biopython uses to\n",
    "represent a tree. But more likely, you’d want to see a drawing of the\n",
    "tree. There are three functions to do this.\n",
    "\n",
    "As we saw in the demo, `draw_ascii` prints an ascii-art drawing of the\n",
    "tree (a rooted phylogram) to standard output, or an open file handle if\n",
    "given. Not all of the available information about the tree is shown, but\n",
    "it provides a way to quickly view the tree without relying on any\n",
    "external dependencies.\n",
    "\n"
   ]
  },
  {
   "cell_type": "code",
   "execution_count": null,
   "metadata": {},
   "outputs": [],
   "source": [
    "tree = Phylo.read(\"example.xml\", \"phyloxml\")\n",
    "Phylo.draw_ascii(tree)\n"
   ]
  },
  {
   "cell_type": "markdown",
   "metadata": {},
   "source": [
    "\n",
    "The `draw` function draws a more attractive image using the matplotlib\n",
    "library. See the API documentation for details on the arguments it\n",
    "accepts to customize the output.\n",
    "\n"
   ]
  },
  {
   "cell_type": "code",
   "execution_count": null,
   "metadata": {},
   "outputs": [],
   "source": [
    "tree = Phylo.read(\"example.xml\", \"phyloxml\")\n",
    "Phylo.draw(tree, branch_labels=lambda c: c.branch_length)\n"
   ]
  },
  {
   "cell_type": "markdown",
   "metadata": {},
   "source": [
    "\n",
    "\\[fig:phylo-draw-example\\]\n",
    "\n",
    "![A simple rooted tree plotted with the <span>draw</span> function.<span\n",
    "data-label=\"fig:phylo-draw-example\"></span>](images/phylo-draw-example.png)\n",
    "\n",
    "`draw_graphviz` draws an unrooted cladogram, but requires that you have\n",
    "Graphviz, PyDot or PyGraphviz, NetworkX, and matplotlib (or pylab)\n",
    "installed. Using the same example as above, and the `dot` program\n",
    "included with Graphviz, let’s draw a rooted tree (see\n",
    "Fig. \\[fig:phylo-dot\\]):\n",
    "\n"
   ]
  },
  {
   "cell_type": "code",
   "execution_count": null,
   "metadata": {},
   "outputs": [],
   "source": [
    "tree = Phylo.read(\"example.xml\", \"phyloxml\")\n",
    "Phylo.draw_graphviz(tree, prog='dot')\n",
    "import pylab\n",
    "pylab.show()                    # Displays the tree in an interactive viewer\n",
    "pylab.savefig('phylo-dot.png')  # Creates a PNG file of the same graphic\n"
   ]
  },
  {
   "cell_type": "markdown",
   "metadata": {},
   "source": [
    "\n",
    "\\[fig:phylo-dot\\]\n",
    "\n",
    "![A simple rooted tree drawn with <span>draw\\_graphviz</span>, using\n",
    "<span>dot</span> for node layout.<span\n",
    "data-label=\"fig:phylo-dot\"></span>](images/phylo-dot.png)\n",
    "\n",
    "(Tip: If you execute IPython with the `-pylab` option, calling\n",
    "`draw_graphviz` causes the matplotlib viewer to launch automatically\n",
    "without manually calling `show()`.)\n",
    "\n",
    "This exports the tree object to a NetworkX graph, uses Graphviz to lay\n",
    "out the nodes, and displays it using matplotlib. There are a number of\n",
    "keyword arguments that can modify the resulting diagram, including most\n",
    "of those accepted by the NetworkX functions `networkx.draw` and\n",
    "`networkx.draw_graphviz`.\n",
    "\n",
    "The display is also affected by the `rooted` attribute of the given tree\n",
    "object. Rooted trees are shown with a “head” on each branch indicating\n",
    "direction (see Fig. \\[fig:phylo-rooted\\]):\n",
    "\n"
   ]
  },
  {
   "cell_type": "code",
   "execution_count": null,
   "metadata": {},
   "outputs": [],
   "source": [
    "tree = Phylo.read(\"simple.dnd\", \"newick\")\n",
    "tree.rooted = True\n",
    "Phylo.draw_graphviz(tree)\n"
   ]
  },
  {
   "cell_type": "markdown",
   "metadata": {},
   "source": [
    "\n",
    "\\[fig:phylo-rooted\\]\n",
    "\n",
    "The “prog” argument specifies the Graphviz engine used for layout. The\n",
    "default, `twopi`, behaves well for any size tree, reliably avoiding\n",
    "crossed branches. The `neato` program may draw more attractive\n",
    "moderately-sized trees, but sometimes will cross branches (see\n",
    "Fig. \\[fig:phylo-color\\]). The `dot` program may be useful with small\n",
    "trees, but tends to do surprising things with the layout of larger\n",
    "trees.\n",
    "\n",
    "![A rooted tree drawn with <span>draw\\_graphviz</span>. Since we rooted\n",
    "the tree, we can see the root must be along the branch with two\n",
    "directional “heads”. <span\n",
    "data-label=\"fig:phylo-rooted\"></span>](images/phylo-rooted.png)\n",
    "\n",
    "![A colorized tree drawn with <span>draw\\_graphviz</span>, using\n",
    "<span>neato</span> for node layout.<span\n",
    "data-label=\"fig:phylo-color\"></span>](images/phylo-color.png)\n",
    "\n"
   ]
  },
  {
   "cell_type": "code",
   "execution_count": null,
   "metadata": {},
   "outputs": [],
   "source": [
    "Phylo.draw_graphviz(tree, prog=\"neato\")\n"
   ]
  },
  {
   "cell_type": "markdown",
   "metadata": {},
   "source": [
    "\n",
    "\\[fig:phylo-color\\]\n",
    "\n",
    "This viewing mode is particularly handy for exploring larger trees,\n",
    "because the matplotlib viewer can zoom in on a selected region, thinning\n",
    "out a cluttered graphic.\n",
    "\n",
    "(See Figs. \\[fig:phylo-apaf\\], \\[fig:phylo-apaf-zoom\\]).\n",
    "\n"
   ]
  },
  {
   "cell_type": "code",
   "execution_count": null,
   "metadata": {},
   "outputs": [],
   "source": [
    "tree = Phylo.read(\"apaf.xml\", \"phyloxml\")\n",
    "Phylo.draw_graphviz(tree, prog=\"neato\", node_size=0)\n"
   ]
  },
  {
   "cell_type": "markdown",
   "metadata": {},
   "source": [
    "\n",
    "\\[fig:phylo-apaf\\] \\[fig:phylo-apaf-zoom\\]\n",
    "\n",
    "![A larger tree, using <span>neato</span> for layout.<span\n",
    "data-label=\"fig:phylo-apaf\"></span>](images/phylo-apaf.png \"fig:\")\\\n",
    "\n",
    "![A zoomed-in portion of the same tree as Fig. \\[fig:phylo-apaf\\].<span\n",
    "data-label=\"fig:phylo-apaf-zoom\"></span>](images/phylo-apaf-zoom.png)\n",
    "\n",
    "Note that branch lengths are not displayed accurately, because Graphviz\n",
    "ignores them when creating the node layouts. The branch lengths are\n",
    "retained when exporting a tree as a NetworkX graph object\n",
    "(`to_networkx`), however.\n",
    "\n",
    "See the Phylo page on the Biopython wiki\n",
    "(<http://biopython.org/wiki/Phylo>) for descriptions and examples of the\n",
    "more advanced functionality in `draw_ascii`, `draw_graphviz` and\n",
    "`to_networkx`.\n",
    "\n",
    "Using Tree and Clade objects\n",
    "----------------------------\n",
    "\n",
    "The `Tree` objects produced by `parse` and `read` are containers for\n",
    "recursive sub-trees, attached to the `Tree` object at the `root`\n",
    "attribute (whether or not the phylogenic tree is actually considered\n",
    "rooted). A `Tree` has globally applied information for the phylogeny,\n",
    "such as rootedness, and a reference to a single `Clade`; a `Clade` has\n",
    "node- and clade-specific information, such as branch length, and a list\n",
    "of its own descendent `Clade` instances, attached at the `clades`\n",
    "attribute.\n",
    "\n",
    "So there is a distinction between `tree` and `tree.root`. In practice,\n",
    "though, you rarely need to worry about it. To smooth over the\n",
    "difference, both `Tree` and `Clade` inherit from `TreeMixin`, which\n",
    "contains the implementations for methods that would be commonly used to\n",
    "search, inspect or modify a tree or any of its clades. This means that\n",
    "almost all of the methods supported by `tree` are also available on\n",
    "`tree.root` and any clade below it. (`Clade` also has a `root` property,\n",
    "which returns the clade object itself.)\n",
    "\n",
    "### Search and traversal methods\n",
    "\n",
    "For convenience, we provide a couple of simplified methods that return\n",
    "all external or internal nodes directly as a list:\n",
    "\n",
    "`get_terminals`\n",
    "\n",
    ":   makes a list of all of this tree’s terminal (leaf) nodes.\n",
    "\n",
    "`get_nonterminals`\n",
    "\n",
    ":   makes a list of all of this tree’s nonterminal (internal) nodes.\n",
    "\n",
    "These both wrap a method with full control over tree traversal,\n",
    "`find_clades`. Two more traversal methods, `find_elements` and\n",
    "`find_any`, rely on the same core functionality and accept the same\n",
    "arguments, which we’ll call a “target specification” for lack of a\n",
    "better description. These specify which objects in the tree will be\n",
    "matched and returned during iteration. The first argument can be any of\n",
    "the following types:\n",
    "\n",
    "-   A **TreeElement instance**, which tree elements will match by\n",
    "    identity — so searching with a Clade instance as the target will\n",
    "    find that clade in the tree;\n",
    "\n",
    "-   A **string**, which matches tree elements’ string representation —\n",
    "    in particular, a clade’s `name` *(added in Biopython 1.56)*;\n",
    "\n",
    "-   A **class** or **type**, where every tree element of the same type\n",
    "    (or sub-type) will be matched;\n",
    "\n",
    "-   A **dictionary** where keys are tree element attributes and values\n",
    "    are matched to the corresponding attribute of each tree element.\n",
    "    This one gets even more elaborate:\n",
    "\n",
    "    -   If an `int` is given, it matches numerically equal\n",
    "        attributes, e.g. 1 will match 1 or 1.0\n",
    "\n",
    "    -   If a boolean is given (True or False), the corresponding\n",
    "        attribute value is evaluated as a boolean and checked for the\n",
    "        same\n",
    "\n",
    "    -   `None` matches `None`\n",
    "\n",
    "    -   If a string is given, the value is treated as a regular\n",
    "        expression (which must match the whole string in the\n",
    "        corresponding element attribute, not just a prefix). A given\n",
    "        string without special regex characters will match string\n",
    "        attributes exactly, so if you don’t use regexes, don’t worry\n",
    "        about it. For example, in a tree with clade names Foo1, Foo2 and\n",
    "        Foo3, `tree.find_clades({\"name\": \"Foo1\"})` matches Foo1,\n",
    "        `{\"name\": \"Foo.*\"}` matches all three clades, and\n",
    "        `{\"name\": \"Foo\"}` doesn’t match anything.\n",
    "\n",
    "    Since floating-point arithmetic can produce some strange behavior,\n",
    "    we don’t support matching `float`s directly. Instead, use the\n",
    "    boolean `True` to match every element with a nonzero value in the\n",
    "    specified attribute, then filter on that attribute manually with an\n",
    "    inequality (or exact number, if you like living dangerously).\n",
    "\n",
    "    If the dictionary contains multiple entries, a matching element must\n",
    "    match each of the given attribute values — think “and”, not “or”.\n",
    "\n",
    "-   A **function** taking a single argument (it will be applied to each\n",
    "    element in the tree), returning True or False. For convenience,\n",
    "    LookupError, AttributeError and ValueError are silenced, so this\n",
    "    provides another safe way to search for floating-point values in the\n",
    "    tree, or some more complex characteristic.\n",
    "\n",
    "After the target, there are two optional keyword arguments:\n",
    "\n",
    "terminal\n",
    "\n",
    ":   — A boolean value to select for or against terminal clades (a.k.a.\n",
    "    leaf nodes): True searches for only terminal clades, False for\n",
    "    non-terminal (internal) clades, and the default, None, searches both\n",
    "    terminal and non-terminal clades, as well as any tree elements\n",
    "    lacking the `is_terminal` method.\n",
    "\n",
    "order\n",
    "\n",
    ":   — Tree traversal order: `preorder` (default) is depth-first search,\n",
    "    `postorder` is DFS with child nodes preceding parents, and `level`\n",
    "    is breadth-first search.\n",
    "\n",
    "Finally, the methods accept arbitrary keyword arguments which are\n",
    "treated the same way as a dictionary target specification: keys indicate\n",
    "the name of the element attribute to search for, and the argument value\n",
    "(string, integer, None or boolean) is compared to the value of each\n",
    "attribute found. If no keyword arguments are given, then any TreeElement\n",
    "types are matched. The code for this is generally shorter than passing a\n",
    "dictionary as the target specification:\n",
    "`tree.find_clades({\"name\": \"Foo1\"})` can be shortened to\n",
    "`tree.find_clades(name=\"Foo1\")`.\n",
    "\n",
    "(In Biopython 1.56 or later, this can be even shorter:\n",
    "`tree.find_clades(\"Foo1\")`)\n",
    "\n",
    "Now that we’ve mastered target specifications, here are the methods used\n",
    "to traverse a tree:\n",
    "\n",
    "`find_clades`\n",
    "\n",
    ":   Find each clade containing a matching element. That is, find each\n",
    "    element as with `find_elements`, but return the corresponding\n",
    "    clade object. (This is usually what you want.)\n",
    "\n",
    "    The result is an iterable through all matching objects, searching\n",
    "    depth-first by default. This is not necessarily the same order as\n",
    "    the elements appear in the Newick, Nexus or XML source file!\n",
    "\n",
    "`find_elements`\n",
    "\n",
    ":   Find all tree elements matching the given attributes, and return the\n",
    "    matching elements themselves. Simple Newick trees don’t have complex\n",
    "    sub-elements, so this behaves the same as `find_clades` on them.\n",
    "    PhyloXML trees often do have complex objects attached to clades, so\n",
    "    this method is useful for extracting those.\n",
    "\n",
    "`find_any`\n",
    "\n",
    ":   Return the first element found by `find_elements()`, or None. This\n",
    "    is also useful for checking whether any matching element exists in\n",
    "    the tree, and can be used in a conditional.\n",
    "\n",
    "Two more methods help navigating between nodes in the tree:\n",
    "\n",
    "`get_path`\n",
    "\n",
    ":   List the clades directly between the tree root (or current clade)\n",
    "    and the given target. Returns a list of all clade objects along this\n",
    "    path, ending with the given target, but excluding the root clade.\n",
    "\n",
    "`trace`\n",
    "\n",
    ":   List of all clade object between two targets in this tree. Excluding\n",
    "    start, including finish.\n",
    "\n",
    "### Information methods\n",
    "\n",
    "These methods provide information about the whole tree (or any clade).\n",
    "\n",
    "`common_ancestor`\n",
    "\n",
    ":   Find the most recent common ancestor of all the given targets. (This\n",
    "    will be a Clade object). If no target is given, returns the root of\n",
    "    the current clade (the one this method is called from); if 1 target\n",
    "    is given, this returns the target itself. However, if any of the\n",
    "    specified targets are not found in the current tree (or clade), an\n",
    "    exception is raised.\n",
    "\n",
    "`count_terminals`\n",
    "\n",
    ":   Counts the number of terminal (leaf) nodes within the tree.\n",
    "\n",
    "`depths`\n",
    "\n",
    ":   Create a mapping of tree clades to depths. The result is a\n",
    "    dictionary where the keys are all of the Clade instances in the\n",
    "    tree, and the values are the distance from the root to each clade\n",
    "    (including terminals). By default the distance is the cumulative\n",
    "    branch length leading to the clade, but with the\n",
    "    `unit_branch_lengths=True` option, only the number of branches\n",
    "    (levels in the tree) is counted.\n",
    "\n",
    "`distance`\n",
    "\n",
    ":   Calculate the sum of the branch lengths between two targets. If only\n",
    "    one target is specified, the other is the root of this tree.\n",
    "\n",
    "`total_branch_length`\n",
    "\n",
    ":   Calculate the sum of all the branch lengths in this tree. This is\n",
    "    usually just called the “length” of the tree in phylogenetics, but\n",
    "    we use a more explicit name to avoid confusion with\n",
    "    Python terminology.\n",
    "\n",
    "The rest of these methods are boolean checks:\n",
    "\n",
    "`is_bifurcating`\n",
    "\n",
    ":   True if the tree is strictly bifurcating; i.e. all nodes have either\n",
    "    2 or 0 children (internal or external, respectively). The root may\n",
    "    have 3 descendents and still be considered part of a\n",
    "    bifurcating tree.\n",
    "\n",
    "`is_monophyletic`\n",
    "\n",
    ":   Test if all of the given targets comprise a complete subclade —\n",
    "    i.e., there exists a clade such that its terminals are the same set\n",
    "    as the given targets. The targets should be terminals of the tree.\n",
    "    For convenience, this method returns the common ancestor (MCRA) of\n",
    "    the targets if they are monophyletic (instead of the value `True`),\n",
    "    and `False` otherwise.\n",
    "\n",
    "`is_parent_of`\n",
    "\n",
    ":   True if target is a descendent of this tree — not required to be a\n",
    "    direct descendent. To check direct descendents of a clade, simply\n",
    "    use list membership testing: `if subclade in clade: ...`\n",
    "\n",
    "`is_preterminal`\n",
    "\n",
    ":   True if all direct descendents are terminal; False if any direct\n",
    "    descendent is not terminal.\n",
    "\n",
    "### Modification methods\n",
    "\n",
    "These methods modify the tree in-place. If you want to keep the original\n",
    "tree intact, make a complete copy of the tree first, using Python’s\n",
    "`copy` module:\n",
    "\n"
   ]
  },
  {
   "cell_type": "markdown",
   "metadata": {},
   "source": [
    "\n",
    "`collapse`\n",
    "\n",
    ":   Deletes the target from the tree, relinking its children to\n",
    "    its parent.\n",
    "\n",
    "`collapse_all`\n",
    "\n",
    ":   Collapse all the descendents of this tree, leaving only terminals.\n",
    "    Branch lengths are preserved, i.e. the distance to each terminal\n",
    "    stays the same. With a target specification (see above), collapses\n",
    "    only the internal nodes matching the specification.\n",
    "\n",
    "`ladderize`\n",
    "\n",
    ":   Sort clades in-place according to the number of terminal nodes.\n",
    "    Deepest clades are placed last by default. Use `reverse=True` to\n",
    "    sort clades deepest-to-shallowest.\n",
    "\n",
    "`prune`\n",
    "\n",
    ":   Prunes a terminal clade from the tree. If taxon is from a\n",
    "    bifurcation, the connecting node will be collapsed and its branch\n",
    "    length added to remaining terminal node. This might no longer be a\n",
    "    meaningful value.\n",
    "\n",
    "`root_with_outgroup`\n",
    "\n",
    ":   Reroot this tree with the outgroup clade containing the given\n",
    "    targets, i.e. the common ancestor of the outgroup. This method is\n",
    "    only available on Tree objects, not Clades.\n",
    "\n",
    "    If the outgroup is identical to self.root, no change occurs. If the\n",
    "    outgroup clade is terminal (e.g. a single terminal node is given as\n",
    "    the outgroup), a new bifurcating root clade is created with a\n",
    "    0-length branch to the given outgroup. Otherwise, the internal node\n",
    "    at the base of the outgroup becomes a trifurcating root for the\n",
    "    whole tree. If the original root was bifurcating, it is dropped from\n",
    "    the tree.\n",
    "\n",
    "    In all cases, the total branch length of the tree stays the same.\n",
    "\n",
    "`root_at_midpoint`\n",
    "\n",
    ":   Reroot this tree at the calculated midpoint between the two most\n",
    "    distant tips of the tree. (This uses `root_with_outgroup` under\n",
    "    the hood.)\n",
    "\n",
    "`split`\n",
    "\n",
    ":   Generate *n* (default 2) new descendants. In a species tree, this is\n",
    "    a speciation event. New clades have the given `branch_length` and\n",
    "    the same name as this clade’s root plus an integer suffix (counting\n",
    "    from 0) — for example, splitting a clade named “A” produces the\n",
    "    sub-clades “A0” and “A1”.\n",
    "\n",
    "See the Phylo page on the Biopython wiki\n",
    "(<http://biopython.org/wiki/Phylo>) for more examples of using the\n",
    "available methods.\n",
    "\n",
    "### Features of PhyloXML trees {#sec:PhyloXML}\n",
    "\n",
    "The phyloXML file format includes fields for annotating trees with\n",
    "additional data types and visual cues.\n",
    "\n",
    "See the PhyloXML page on the Biopython wiki\n",
    "(<http://biopython.org/wiki/PhyloXML>) for descriptions and examples of\n",
    "using the additional annotation features provided by PhyloXML.\n",
    "\n",
    "Running external applications {#sec:PhyloApps}\n",
    "-----------------------------\n",
    "\n",
    "While Bio.Phylo doesn’t infer trees from alignments itself, there are\n",
    "third-party programs available that do. These are supported through the\n",
    "module `Bio.Phylo.Applications`, using the same general framework as\n",
    "`Bio.Emboss.Applications`, `Bio.Align.Applications` and others.\n",
    "\n",
    "Biopython 1.58 introduced a wrapper for PhyML\n",
    "(<http://www.atgc-montpellier.fr/phyml/>). The program accepts an input\n",
    "alignment in `phylip-relaxed` format (that’s Phylip format, but without\n",
    "the 10-character limit on taxon names) and a variety of options. A quick\n",
    "example:\n",
    "\n"
   ]
  },
  {
   "cell_type": "code",
   "execution_count": null,
   "metadata": {},
   "outputs": [],
   "source": [
    "from Bio import Phylo\n",
    "from Bio.Phylo.Applications import PhymlCommandline\n",
    "cmd = PhymlCommandline(input='Tests/Phylip/random.phy')\n",
    "out_log, err_log = cmd()\n"
   ]
  },
  {
   "cell_type": "markdown",
   "metadata": {},
   "source": [
    "\n",
    "This generates a tree file and a stats file with the names\n",
    "\\[*input filename*\\]`_phyml_tree.txt` and\n",
    "\\[*input filename*\\]`_phyml_stats.txt`. The tree file is in Newick\n",
    "format:\n",
    "\n"
   ]
  },
  {
   "cell_type": "code",
   "execution_count": null,
   "metadata": {},
   "outputs": [],
   "source": [
    "tree = Phylo.read('Tests/Phylip/random.phy_phyml_tree.txt', 'newick')\n",
    "Phylo.draw_ascii(tree)\n"
   ]
  },
  {
   "cell_type": "markdown",
   "metadata": {},
   "source": [
    "\n",
    "A similar wrapper for RAxML\n",
    "(<http://sco.h-its.org/exelixis/software.html>) was added in Biopython\n",
    "1.60, and FastTree (<http://www.microbesonline.org/fasttree/>) in\n",
    "Biopython 1.62.\n",
    "\n",
    "Note that some popular Phylip programs, including `dnaml` and `protml`,\n",
    "are already available through the EMBOSS wrappers in\n",
    "`Bio.Emboss.Applications` if you have the Phylip extensions to EMBOSS\n",
    "installed on your system. See Section \\[sec:alignment-tools\\] for some\n",
    "examples and clues on how to use programs like these.\n",
    "\n",
    "PAML integration {#sec:PhyloPAML}\n",
    "----------------\n",
    "\n",
    "Biopython 1.58 brought support for PAML\n",
    "(<http://abacus.gene.ucl.ac.uk/software/paml.html>), a suite of programs\n",
    "for phylogenetic analysis by maximum likelihood. Currently the programs\n",
    "codeml, baseml and yn00 are implemented. Due to PAML’s usage of control\n",
    "files rather than command line arguments to control runtime options,\n",
    "usage of this wrapper strays from the format of other application\n",
    "wrappers in Biopython.\n",
    "\n",
    "A typical workflow would be to initialize a PAML object, specifying an\n",
    "alignment file, a tree file, an output file and a working directory.\n",
    "Next, runtime options are set via the `set_options()` method or by\n",
    "reading an existing control file. Finally, the program is run via the\n",
    "`run()` method and the output file is automatically parsed to a results\n",
    "dictionary.\n",
    "\n",
    "Here is an example of typical usage of codeml:\n",
    "\n"
   ]
  },
  {
   "cell_type": "code",
   "execution_count": null,
   "metadata": {},
   "outputs": [],
   "source": [
    "from Bio.Phylo.PAML import codeml\n",
    "cml = codeml.Codeml()\n",
    "cml.alignment = \"Tests/PAML/alignment.phylip\"\n",
    "cml.tree = \"Tests/PAML/species.tree\"\n",
    "cml.out_file = \"results.out\"\n",
    "cml.working_dir = \"./scratch\"\n",
    "cml.set_options(seqtype=1,\n",
    "verbose=0,\n",
    "noisy=0,\n",
    "RateAncestor=0,\n",
    "model=0,\n",
    "NSsites=[0, 1, 2],\n",
    "CodonFreq=2,\n",
    "cleandata=1,\n",
    "fix_alpha=1,\n",
    "kappa=4.54006)\n",
    "results = cml.run()\n",
    "ns_sites = results.get(\"NSsites\")\n",
    "m0 = ns_sites.get(0)\n",
    "m0_params = m0.get(\"parameters\")\n",
    "print(m0_params.get(\"omega\"))\n"
   ]
  },
  {
   "cell_type": "markdown",
   "metadata": {},
   "source": [
    "\n",
    "Existing output files may be parsed as well using a module’s `read()`\n",
    "function:\n",
    "\n"
   ]
  },
  {
   "cell_type": "code",
   "execution_count": null,
   "metadata": {},
   "outputs": [],
   "source": [
    "results = codeml.read(\"Tests/PAML/Results/codeml/codeml_NSsites_all.out\")\n",
    "print(results.get(\"lnL max\"))\n"
   ]
  }
 ],
 "metadata": {},
 "nbformat": 4,
 "nbformat_minor": 0
}