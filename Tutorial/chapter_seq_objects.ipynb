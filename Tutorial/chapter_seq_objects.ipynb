{
 "cells": [
  {
   "cell_type": "markdown",
   "metadata": {},
   "source": [
    "Sequence objects {#chapter:Bio.Seq}\n",
    "================\n",
    "\n",
    "Biological sequences are arguably the central object in Bioinformatics,\n",
    "and in this chapter we’ll introduce the Biopython mechanism for dealing\n",
    "with sequences, the `Seq` object. Chapter \\[chapter:SeqRecord\\] will\n",
    "introduce the related `SeqRecord` object, which combines the sequence\n",
    "information with any annotation, used again in\n",
    "Chapter \\[chapter:Bio.SeqIO\\] for Sequence Input/Output.\n",
    "\n",
    "Sequences are essentially strings of letters like `AGTACACTGGT`, which\n",
    "seems very natural since this is the most common way that sequences are\n",
    "seen in biological file formats.\n",
    "\n",
    "There are two important differences between `Seq` objects and standard\n",
    "Python strings. First of all, they have different methods. Although the\n",
    "`Seq` object supports many of the same methods as a plain string, its\n",
    "`translate()` method differs by doing biological translation, and there\n",
    "are also additional biologically relevant methods like\n",
    "`reverse_complement()`. Secondly, the `Seq` object has an important\n",
    "attribute, `alphabet`, which is an object describing what the individual\n",
    "characters making up the sequence string “mean”, and how they should be\n",
    "interpreted. For example, is `AGTACACTGGT` a DNA sequence, or just a\n",
    "protein sequence that happens to be rich in Alanines, Glycines,\n",
    "Cysteines and Threonines?\n",
    "\n",
    "Sequences and Alphabets\n",
    "-----------------------\n",
    "\n",
    "The alphabet object is perhaps the important thing that makes the `Seq`\n",
    "object more than just a string. The currently available alphabets for\n",
    "Biopython are defined in the `Bio.Alphabet` module. We’ll use the IUPAC\n",
    "alphabets (<http://www.chem.qmw.ac.uk/iupac/>) here to deal with some of\n",
    "our favorite objects: DNA, RNA and Proteins.\n",
    "\n",
    "`Bio.Alphabet.IUPAC` provides basic definitions for proteins, DNA and\n",
    "RNA, but additionally provides the ability to extend and customize the\n",
    "basic definitions. For instance, for proteins, there is a basic\n",
    "IUPACProtein class, but there is an additional ExtendedIUPACProtein\n",
    "class providing for the additional elements “U” (or “Sec” for\n",
    "selenocysteine) and “O” (or “Pyl” for pyrrolysine), plus the ambiguous\n",
    "symbols “B” (or “Asx” for asparagine or aspartic acid), “Z” (or “Glx”\n",
    "for glutamine or glutamic acid), “J” (or “Xle” for leucine isoleucine)\n",
    "and “X” (or “Xxx” for an unknown amino acid). For DNA you’ve got choices\n",
    "of IUPACUnambiguousDNA, which provides for just the basic letters,\n",
    "IUPACAmbiguousDNA (which provides for ambiguity letters for every\n",
    "possible situation) and ExtendedIUPACDNA, which allows letters for\n",
    "modified bases. Similarly, RNA can be represented by IUPACAmbiguousRNA\n",
    "or IUPACUnambiguousRNA.\n",
    "\n",
    "The advantages of having an alphabet class are two fold. First, this\n",
    "gives an idea of the type of information the Seq object contains.\n",
    "Secondly, this provides a means of constraining the information, as a\n",
    "means of type checking.\n",
    "\n",
    "Now that we know what we are dealing with, let’s look at how to utilize\n",
    "this class to do interesting work. You can create an ambiguous sequence\n",
    "with the default generic alphabet like this:\n",
    "\n"
   ]
  },
  {
   "cell_type": "code",
   "execution_count": null,
   "metadata": {},
   "outputs": [],
   "source": [
    "from Bio.Seq import Seq\n",
    "my_seq = Seq(\"AGTACACTGGT\")\n",
    "my_seq\n"
   ]
  },
  {
   "cell_type": "code",
   "execution_count": null,
   "metadata": {},
   "outputs": [],
   "source": [
    "my_seq.alphabet\n"
   ]
  },
  {
   "cell_type": "markdown",
   "metadata": {},
   "source": [
    "\n",
    "However, where possible you should specify the alphabet explicitly when\n",
    "creating your sequence objects - in this case an unambiguous DNA\n",
    "alphabet object:\n",
    "\n"
   ]
  },
  {
   "cell_type": "code",
   "execution_count": null,
   "metadata": {},
   "outputs": [],
   "source": [
    "from Bio.Seq import Seq\n",
    "from Bio.Alphabet import IUPAC\n",
    "my_seq = Seq(\"AGTACACTGGT\", IUPAC.unambiguous_dna)\n",
    "my_seq\n"
   ]
  },
  {
   "cell_type": "code",
   "execution_count": null,
   "metadata": {},
   "outputs": [],
   "source": [
    "my_seq.alphabet\n"
   ]
  },
  {
   "cell_type": "markdown",
   "metadata": {},
   "source": [
    "\n",
    "Unless of course, this really is an amino acid sequence:\n",
    "\n"
   ]
  },
  {
   "cell_type": "code",
   "execution_count": null,
   "metadata": {},
   "outputs": [],
   "source": [
    "from Bio.Seq import Seq\n",
    "from Bio.Alphabet import IUPAC\n",
    "my_prot = Seq(\"AGTACACTGGT\", IUPAC.protein)\n",
    "my_prot\n"
   ]
  },
  {
   "cell_type": "code",
   "execution_count": null,
   "metadata": {},
   "outputs": [],
   "source": [
    "my_prot.alphabet\n"
   ]
  },
  {
   "cell_type": "markdown",
   "metadata": {},
   "source": [
    "\n",
    "Sequences act like strings\n",
    "--------------------------\n",
    "\n",
    "In many ways, we can deal with Seq objects as if they were normal Python\n",
    "strings, for example getting the length, or iterating over the elements:\n",
    "\n"
   ]
  },
  {
   "cell_type": "code",
   "execution_count": null,
   "metadata": {},
   "outputs": [],
   "source": [
    "from Bio.Seq import Seq\n",
    "from Bio.Alphabet import IUPAC\n",
    "my_seq = Seq(\"GATCG\", IUPAC.unambiguous_dna)\n",
    "for index, letter in enumerate(my_seq):\n",
    "print(\"%i %s\" % (index, letter))\n"
   ]
  },
  {
   "cell_type": "code",
   "execution_count": null,
   "metadata": {},
   "outputs": [],
   "source": [
    "print(len(my_seq))\n"
   ]
  },
  {
   "cell_type": "markdown",
   "metadata": {},
   "source": [
    "\n",
    "You can access elements of the sequence in the same way as for strings\n",
    "(but remember, Python counts from zero!):\n",
    "\n"
   ]
  },
  {
   "cell_type": "code",
   "execution_count": null,
   "metadata": {},
   "outputs": [],
   "source": [
    "print(my_seq[0]) #first letter\n"
   ]
  },
  {
   "cell_type": "code",
   "execution_count": null,
   "metadata": {},
   "outputs": [],
   "source": [
    "print(my_seq[2]) #third letter\n"
   ]
  },
  {
   "cell_type": "code",
   "execution_count": null,
   "metadata": {},
   "outputs": [],
   "source": [
    "print(my_seq[-1]) #last letter\n"
   ]
  },
  {
   "cell_type": "markdown",
   "metadata": {},
   "source": [
    "\n",
    "The `Seq` object has a `.count()` method, just like a string. Note that\n",
    "this means that like a Python string, this gives a *non-overlapping*\n",
    "count:\n",
    "\n"
   ]
  },
  {
   "cell_type": "code",
   "execution_count": null,
   "metadata": {},
   "outputs": [],
   "source": [
    "from Bio.Seq import Seq\n",
    "\"AAAA\".count(\"AA\")\n"
   ]
  },
  {
   "cell_type": "code",
   "execution_count": null,
   "metadata": {},
   "outputs": [],
   "source": [
    "Seq(\"AAAA\").count(\"AA\")\n"
   ]
  },
  {
   "cell_type": "markdown",
   "metadata": {},
   "source": [
    "\n",
    "For some biological uses, you may actually want an overlapping count\n",
    "(i.e. $3$ in this trivial example). When searching for single letters,\n",
    "this makes no difference:\n",
    "\n"
   ]
  },
  {
   "cell_type": "code",
   "execution_count": null,
   "metadata": {},
   "outputs": [],
   "source": [
    "from Bio.Seq import Seq\n",
    "from Bio.Alphabet import IUPAC\n",
    "my_seq = Seq('GATCGATGGGCCTATATAGGATCGAAAATCGC', IUPAC.unambiguous_dna)\n",
    "len(my_seq)\n"
   ]
  },
  {
   "cell_type": "code",
   "execution_count": null,
   "metadata": {},
   "outputs": [],
   "source": [
    "my_seq.count(\"G\")\n"
   ]
  },
  {
   "cell_type": "code",
   "execution_count": null,
   "metadata": {},
   "outputs": [],
   "source": [
    "100 * float(my_seq.count(\"G\") + my_seq.count(\"C\")) / len(my_seq)\n"
   ]
  },
  {
   "cell_type": "markdown",
   "metadata": {},
   "source": [
    "\n",
    "While you could use the above snippet of code to calculate a GC%, note\n",
    "that the `Bio.SeqUtils` module has several GC functions already built.\n",
    "For example:\n",
    "\n"
   ]
  },
  {
   "cell_type": "code",
   "execution_count": null,
   "metadata": {},
   "outputs": [],
   "source": [
    "from Bio.Seq import Seq\n",
    "from Bio.Alphabet import IUPAC\n",
    "from Bio.SeqUtils import GC\n",
    "my_seq = Seq('GATCGATGGGCCTATATAGGATCGAAAATCGC', IUPAC.unambiguous_dna)\n",
    "GC(my_seq)\n"
   ]
  },
  {
   "cell_type": "markdown",
   "metadata": {},
   "source": [
    "\n",
    "Note that using the `Bio.SeqUtils.GC()` function should automatically\n",
    "cope with mixed case sequences and the ambiguous nucleotide S which\n",
    "means G or C.\n",
    "\n",
    "Also note that just like a normal Python string, the `Seq` object is in\n",
    "some ways “read-only”. If you need to edit your sequence, for example\n",
    "simulating a point mutation, look at the Section \\[sec:mutable-seq\\]\n",
    "below which talks about the `MutableSeq` object.\n",
    "\n",
    "Slicing a sequence\n",
    "------------------\n",
    "\n",
    "A more complicated example, let’s get a slice of the sequence:\n",
    "\n"
   ]
  },
  {
   "cell_type": "code",
   "execution_count": null,
   "metadata": {},
   "outputs": [],
   "source": [
    "from Bio.Seq import Seq\n",
    "from Bio.Alphabet import IUPAC\n",
    "my_seq = Seq(\"GATCGATGGGCCTATATAGGATCGAAAATCGC\", IUPAC.unambiguous_dna)\n",
    "my_seq[4:12]\n"
   ]
  },
  {
   "cell_type": "markdown",
   "metadata": {},
   "source": [
    "\n",
    "Two things are interesting to note. First, this follows the normal\n",
    "conventions for Python strings. So the first element of the sequence is\n",
    "0 (which is normal for computer science, but not so normal for biology).\n",
    "When you do a slice the first item is included (i.e. 4 in this case) and\n",
    "the last is excluded (12 in this case), which is the way things work in\n",
    "Python, but of course not necessarily the way everyone in the world\n",
    "would expect. The main goal is to stay consistent with what Python does.\n",
    "\n",
    "The second thing to notice is that the slice is performed on the\n",
    "sequence data string, but the new object produced is another `Seq`\n",
    "object which retains the alphabet information from the original `Seq`\n",
    "object.\n",
    "\n",
    "Also like a Python string, you can do slices with a start, stop and\n",
    "*stride* (the step size, which defaults to one). For example, we can get\n",
    "the first, second and third codon positions of this DNA sequence:\n",
    "\n"
   ]
  },
  {
   "cell_type": "code",
   "execution_count": null,
   "metadata": {},
   "outputs": [],
   "source": [
    "my_seq[0::3]\n"
   ]
  },
  {
   "cell_type": "code",
   "execution_count": null,
   "metadata": {},
   "outputs": [],
   "source": [
    "my_seq[1::3]\n"
   ]
  },
  {
   "cell_type": "code",
   "execution_count": null,
   "metadata": {},
   "outputs": [],
   "source": [
    "my_seq[2::3]\n"
   ]
  },
  {
   "cell_type": "markdown",
   "metadata": {},
   "source": [
    "\n",
    "Another stride trick you might have seen with a Python string is the use\n",
    "of a -1 stride to reverse the string. You can do this with a `Seq`\n",
    "object too:\n",
    "\n"
   ]
  },
  {
   "cell_type": "code",
   "execution_count": null,
   "metadata": {},
   "outputs": [],
   "source": [
    "my_seq[::-1]\n"
   ]
  },
  {
   "cell_type": "markdown",
   "metadata": {},
   "source": [
    "\n",
    "Turning Seq objects into strings {#sec:seq-to-string}\n",
    "--------------------------------\n",
    "\n",
    "If you really do just need a plain string, for example to write to a\n",
    "file, or insert into a database, then this is very easy to get:\n",
    "\n"
   ]
  },
  {
   "cell_type": "code",
   "execution_count": null,
   "metadata": {},
   "outputs": [],
   "source": [
    "str(my_seq)\n"
   ]
  },
  {
   "cell_type": "markdown",
   "metadata": {},
   "source": [
    "\n",
    "Since calling `str()` on a `Seq` object returns the full sequence as a\n",
    "string, you often don’t actually have to do this conversion explicitly.\n",
    "Python does this automatically in the print function (and the print\n",
    "statement under Python 2):\n",
    "\n"
   ]
  },
  {
   "cell_type": "code",
   "execution_count": null,
   "metadata": {},
   "outputs": [],
   "source": [
    "print(my_seq)\n"
   ]
  },
  {
   "cell_type": "markdown",
   "metadata": {},
   "source": [
    "\n",
    "You can also use the `Seq` object directly with a `%s` placeholder when\n",
    "using the Python string formatting or interpolation operator (`%`):\n",
    "\n"
   ]
  },
  {
   "cell_type": "code",
   "execution_count": null,
   "metadata": {},
   "outputs": [],
   "source": [
    "fasta_format_string = \">Name\\n%s\\n\" % my_seq\n",
    "print(fasta_format_string)\n"
   ]
  },
  {
   "cell_type": "markdown",
   "metadata": {},
   "source": [
    "\n",
    "This line of code constructs a simple FASTA format record (without\n",
    "worrying about line wrapping). Section \\[sec:SeqRecord-format\\]\n",
    "describes a neat way to get a FASTA formatted string from a `SeqRecord`\n",
    "object, while the more general topic of reading and writing FASTA format\n",
    "sequence files is covered in Chapter \\[chapter:Bio.SeqIO\\].\n",
    "\n"
   ]
  },
  {
   "cell_type": "code",
   "execution_count": null,
   "metadata": {},
   "outputs": [],
   "source": [
    "str(my_seq)\n"
   ]
  },
  {
   "cell_type": "markdown",
   "metadata": {},
   "source": [
    "\n",
    "Concatenating or adding sequences\n",
    "---------------------------------\n",
    "\n",
    "Naturally, you can in principle add any two Seq objects together - just\n",
    "like you can with Python strings to concatenate them. However, you can’t\n",
    "add sequences with incompatible alphabets, such as a protein sequence\n",
    "and a DNA sequence:\n",
    "\n"
   ]
  },
  {
   "cell_type": "code",
   "execution_count": null,
   "metadata": {},
   "outputs": [],
   "source": [
    "from Bio.Alphabet import IUPAC\n",
    "from Bio.Seq import Seq\n",
    "protein_seq = Seq(\"EVRNAK\", IUPAC.protein)\n",
    "dna_seq = Seq(\"ACGT\", IUPAC.unambiguous_dna)\n",
    "protein_seq + dna_seq\n"
   ]
  },
  {
   "cell_type": "markdown",
   "metadata": {},
   "source": [
    "\n",
    "If you *really* wanted to do this, you’d have to first give both\n",
    "sequences generic alphabets:\n",
    "\n"
   ]
  },
  {
   "cell_type": "code",
   "execution_count": null,
   "metadata": {},
   "outputs": [],
   "source": [
    "from Bio.Alphabet import generic_alphabet\n",
    "protein_seq.alphabet = generic_alphabet\n",
    "dna_seq.alphabet = generic_alphabet\n",
    "protein_seq + dna_seq\n"
   ]
  },
  {
   "cell_type": "markdown",
   "metadata": {},
   "source": [
    "\n",
    "Here is an example of adding a generic nucleotide sequence to an\n",
    "unambiguous IUPAC DNA sequence, resulting in an ambiguous nucleotide\n",
    "sequence:\n",
    "\n"
   ]
  },
  {
   "cell_type": "code",
   "execution_count": null,
   "metadata": {},
   "outputs": [],
   "source": [
    "from Bio.Seq import Seq\n",
    "from Bio.Alphabet import generic_nucleotide\n",
    "from Bio.Alphabet import IUPAC\n",
    "nuc_seq = Seq(\"GATCGATGC\", generic_nucleotide)\n",
    "dna_seq = Seq(\"ACGT\", IUPAC.unambiguous_dna)\n",
    "nuc_seq\n"
   ]
  },
  {
   "cell_type": "code",
   "execution_count": null,
   "metadata": {},
   "outputs": [],
   "source": [
    "dna_seq\n"
   ]
  },
  {
   "cell_type": "code",
   "execution_count": null,
   "metadata": {},
   "outputs": [],
   "source": [
    "nuc_seq + dna_seq\n"
   ]
  },
  {
   "cell_type": "markdown",
   "metadata": {},
   "source": [
    "\n",
    "You may often have many sequences to add together, which can be done\n",
    "with a for loop like this:\n",
    "\n"
   ]
  },
  {
   "cell_type": "code",
   "execution_count": null,
   "metadata": {},
   "outputs": [],
   "source": [
    "from Bio.Seq import Seq\n",
    "from Bio.Alphabet import generic_dna\n",
    "list_of_seqs = [Seq(\"ACGT\", generic_dna), Seq(\"AACC\", generic_dna), Seq(\"GGTT\", generic_dna)]\n",
    "concatenated = Seq(\"\", generic_dna)\n",
    "for s in list_of_seqs:\n",
    "concatenated += s\n"
   ]
  },
  {
   "cell_type": "code",
   "execution_count": null,
   "metadata": {},
   "outputs": [],
   "source": [
    "concatenated\n"
   ]
  },
  {
   "cell_type": "markdown",
   "metadata": {},
   "source": [
    "\n",
    "Or, a more elegant approach is to the use built in `sum` function with\n",
    "its optional start value argument (which otherwise defaults to zero):\n",
    "\n"
   ]
  },
  {
   "cell_type": "code",
   "execution_count": null,
   "metadata": {},
   "outputs": [],
   "source": [
    "from Bio.Seq import Seq\n",
    "from Bio.Alphabet import generic_dna\n",
    "list_of_seqs = [Seq(\"ACGT\", generic_dna), Seq(\"AACC\", generic_dna), Seq(\"GGTT\", generic_dna)]\n",
    "sum(list_of_seqs, Seq(\"\", generic_dna))\n"
   ]
  },
  {
   "cell_type": "markdown",
   "metadata": {},
   "source": [
    "\n",
    "Unlike the Python string, the Biopython `Seq` does not (currently) have\n",
    "a `.join` method.\n",
    "\n",
    "Changing case\n",
    "-------------\n",
    "\n",
    "Python strings have very useful `upper` and `lower` methods for changing\n",
    "the case. As of Biopython 1.53, the `Seq` object gained similar methods\n",
    "which are alphabet aware. For example,\n",
    "\n"
   ]
  },
  {
   "cell_type": "code",
   "execution_count": null,
   "metadata": {},
   "outputs": [],
   "source": [
    "from Bio.Seq import Seq\n",
    "from Bio.Alphabet import generic_dna\n",
    "dna_seq = Seq(\"acgtACGT\", generic_dna)\n",
    "dna_seq\n"
   ]
  },
  {
   "cell_type": "code",
   "execution_count": null,
   "metadata": {},
   "outputs": [],
   "source": [
    "dna_seq.upper()\n"
   ]
  },
  {
   "cell_type": "code",
   "execution_count": null,
   "metadata": {},
   "outputs": [],
   "source": [
    "dna_seq.lower()\n"
   ]
  },
  {
   "cell_type": "markdown",
   "metadata": {},
   "source": [
    "\n",
    "These are useful for doing case insensitive matching:\n",
    "\n"
   ]
  },
  {
   "cell_type": "code",
   "execution_count": null,
   "metadata": {},
   "outputs": [],
   "source": [
    "\"GTAC\" in dna_seq\n"
   ]
  },
  {
   "cell_type": "code",
   "execution_count": null,
   "metadata": {},
   "outputs": [],
   "source": [
    "\"GTAC\" in dna_seq.upper()\n"
   ]
  },
  {
   "cell_type": "markdown",
   "metadata": {},
   "source": [
    "\n",
    "Note that strictly speaking the IUPAC alphabets are for upper case\n",
    "sequences only, thus:\n",
    "\n"
   ]
  },
  {
   "cell_type": "code",
   "execution_count": null,
   "metadata": {},
   "outputs": [],
   "source": [
    "from Bio.Seq import Seq\n",
    "from Bio.Alphabet import IUPAC\n",
    "dna_seq = Seq(\"ACGT\", IUPAC.unambiguous_dna)\n",
    "dna_seq\n"
   ]
  },
  {
   "cell_type": "code",
   "execution_count": null,
   "metadata": {},
   "outputs": [],
   "source": [
    "dna_seq.lower()\n"
   ]
  },
  {
   "cell_type": "markdown",
   "metadata": {},
   "source": [
    "\n",
    "Nucleotide sequences and (reverse) complements {#sec:seq-reverse-complement}\n",
    "----------------------------------------------\n",
    "\n",
    "For nucleotide sequences, you can easily obtain the complement or\n",
    "reverse complement of a `Seq` object using its built-in methods:\n",
    "\n"
   ]
  },
  {
   "cell_type": "code",
   "execution_count": null,
   "metadata": {},
   "outputs": [],
   "source": [
    "from Bio.Seq import Seq\n",
    "from Bio.Alphabet import IUPAC\n",
    "my_seq = Seq(\"GATCGATGGGCCTATATAGGATCGAAAATCGC\", IUPAC.unambiguous_dna)\n",
    "my_seq\n"
   ]
  },
  {
   "cell_type": "code",
   "execution_count": null,
   "metadata": {},
   "outputs": [],
   "source": [
    "my_seq.complement()\n"
   ]
  },
  {
   "cell_type": "code",
   "execution_count": null,
   "metadata": {},
   "outputs": [],
   "source": [
    "my_seq.reverse_complement()\n"
   ]
  },
  {
   "cell_type": "markdown",
   "metadata": {},
   "source": [
    "\n",
    "As mentioned earlier, an easy way to just reverse a `Seq` object (or a\n",
    "Python string) is slice it with -1 step:\n",
    "\n"
   ]
  },
  {
   "cell_type": "code",
   "execution_count": null,
   "metadata": {},
   "outputs": [],
   "source": [
    "my_seq[::-1]\n"
   ]
  },
  {
   "cell_type": "markdown",
   "metadata": {},
   "source": [
    "\n",
    "In all of these operations, the alphabet property is maintained. This is\n",
    "very useful in case you accidentally end up trying to do something weird\n",
    "like take the (reverse)complement of a protein sequence:\n",
    "\n"
   ]
  },
  {
   "cell_type": "code",
   "execution_count": null,
   "metadata": {},
   "outputs": [],
   "source": [
    "from Bio.Seq import Seq\n",
    "from Bio.Alphabet import IUPAC\n",
    "protein_seq = Seq(\"EVRNAK\", IUPAC.protein)\n",
    "protein_seq.complement()\n"
   ]
  },
  {
   "cell_type": "markdown",
   "metadata": {},
   "source": [
    "\n",
    "The example in Section \\[sec:SeqIO-reverse-complement\\] combines the\n",
    "`Seq` object’s reverse complement method with `Bio.SeqIO` for sequence\n",
    "input/output.\n",
    "\n",
    "Transcription\n",
    "-------------\n",
    "\n",
    "Before talking about transcription, I want to try to clarify the strand\n",
    "issue. Consider the following (made up) stretch of double stranded DNA\n",
    "which encodes a short peptide:\n",
    "\n",
    "<span>rcl</span>\\\n",
    "& <span>DNA coding strand (aka Crick strand, strand $+1$)</span> &\\\n",
    "5’ & `ATGGCCATTGTAATGGGCCGCTGAAAGGGTGCCCGATAG` & 3’\\\n",
    "& `|||||||||||||||||||||||||||||||||||||||` &\\\n",
    "3’ & `TACCGGTAACATTACCCGGCGACTTTCCCACGGGCTATC` & 5’\\\n",
    "& <span>DNA template strand (aka Watson strand, strand $-1$)</span> &\\\n",
    "\\\n",
    "& <span>$|$</span> &\\\n",
    "& Transcription &\\\n",
    "& <span>$\\downarrow$</span> &\\\n",
    "\\\n",
    "5’ & `AUGGCCAUUGUAAUGGGCCGCUGAAAGGGUGCCCGAUAG` & 3’\\\n",
    "& <span>Single stranded messenger RNA</span> &\\\n",
    "\\\n",
    "\n",
    "The actual biological transcription process works from the template\n",
    "strand, doing a reverse complement (TCAG $\\rightarrow$ CUGA) to give the\n",
    "mRNA. However, in Biopython and bioinformatics in general, we typically\n",
    "work directly with the coding strand because this means we can get the\n",
    "mRNA sequence just by switching T $\\rightarrow$ U.\n",
    "\n",
    "Now let’s actually get down to doing a transcription in Biopython.\n",
    "First, let’s create `Seq` objects for the coding and template DNA\n",
    "strands:\n",
    "\n"
   ]
  },
  {
   "cell_type": "code",
   "execution_count": null,
   "metadata": {},
   "outputs": [],
   "source": [
    "from Bio.Seq import Seq\n",
    "from Bio.Alphabet import IUPAC\n",
    "coding_dna = Seq(\"ATGGCCATTGTAATGGGCCGCTGAAAGGGTGCCCGATAG\", IUPAC.unambiguous_dna)\n",
    "coding_dna\n"
   ]
  },
  {
   "cell_type": "code",
   "execution_count": null,
   "metadata": {},
   "outputs": [],
   "source": [
    "template_dna = coding_dna.reverse_complement()\n",
    "template_dna\n"
   ]
  },
  {
   "cell_type": "markdown",
   "metadata": {},
   "source": [
    "\n",
    "These should match the figure above - remember by convention nucleotide\n",
    "sequences are normally read from the 5’ to 3’ direction, while in the\n",
    "figure the template strand is shown reversed.\n",
    "\n",
    "Now let’s transcribe the coding strand into the corresponding mRNA,\n",
    "using the `Seq` object’s built in `transcribe` method:\n",
    "\n"
   ]
  },
  {
   "cell_type": "code",
   "execution_count": null,
   "metadata": {},
   "outputs": [],
   "source": [
    "coding_dna\n"
   ]
  },
  {
   "cell_type": "code",
   "execution_count": null,
   "metadata": {},
   "outputs": [],
   "source": [
    "messenger_rna = coding_dna.transcribe()\n",
    "messenger_rna\n"
   ]
  },
  {
   "cell_type": "markdown",
   "metadata": {},
   "source": [
    "\n",
    "As you can see, all this does is switch T $\\rightarrow$ U, and adjust\n",
    "the alphabet.\n",
    "\n",
    "If you do want to do a true biological transcription starting with the\n",
    "template strand, then this becomes a two-step process:\n",
    "\n"
   ]
  },
  {
   "cell_type": "code",
   "execution_count": null,
   "metadata": {},
   "outputs": [],
   "source": [
    "template_dna.reverse_complement().transcribe()\n"
   ]
  },
  {
   "cell_type": "markdown",
   "metadata": {},
   "source": [
    "\n",
    "The `Seq` object also includes a back-transcription method for going\n",
    "from the mRNA to the coding strand of the DNA. Again, this is a simple U\n",
    "$\\rightarrow$ T substitution and associated change of alphabet:\n",
    "\n"
   ]
  },
  {
   "cell_type": "code",
   "execution_count": null,
   "metadata": {},
   "outputs": [],
   "source": [
    "from Bio.Seq import Seq\n",
    "from Bio.Alphabet import IUPAC\n",
    "messenger_rna = Seq(\"AUGGCCAUUGUAAUGGGCCGCUGAAAGGGUGCCCGAUAG\", IUPAC.unambiguous_rna)\n",
    "messenger_rna\n"
   ]
  },
  {
   "cell_type": "code",
   "execution_count": null,
   "metadata": {},
   "outputs": [],
   "source": [
    "messenger_rna.back_transcribe()\n"
   ]
  },
  {
   "cell_type": "markdown",
   "metadata": {},
   "source": [
    "\n",
    "*Note:* The `Seq` object’s `transcribe` and `back_transcribe` methods\n",
    "were added in Biopython 1.49. For older releases you would have to use\n",
    "the `Bio.Seq` module’s functions instead, see\n",
    "Section \\[sec:seq-module-functions\\].\n",
    "\n",
    "Translation {#sec:translation}\n",
    "-----------\n",
    "\n",
    "Sticking with the same example discussed in the transcription section\n",
    "above, now let’s translate this mRNA into the corresponding protein\n",
    "sequence - again taking advantage of one of the `Seq` object’s\n",
    "biological methods:\n",
    "\n"
   ]
  },
  {
   "cell_type": "code",
   "execution_count": null,
   "metadata": {},
   "outputs": [],
   "source": [
    "from Bio.Seq import Seq\n",
    "from Bio.Alphabet import IUPAC\n",
    "messenger_rna = Seq(\"AUGGCCAUUGUAAUGGGCCGCUGAAAGGGUGCCCGAUAG\", IUPAC.unambiguous_rna)\n",
    "messenger_rna\n"
   ]
  },
  {
   "cell_type": "code",
   "execution_count": null,
   "metadata": {},
   "outputs": [],
   "source": [
    "messenger_rna.translate()\n"
   ]
  },
  {
   "cell_type": "markdown",
   "metadata": {},
   "source": [
    "\n",
    "You can also translate directly from the coding strand DNA sequence:\n",
    "\n"
   ]
  },
  {
   "cell_type": "code",
   "execution_count": null,
   "metadata": {},
   "outputs": [],
   "source": [
    "from Bio.Seq import Seq\n",
    "from Bio.Alphabet import IUPAC\n",
    "coding_dna = Seq(\"ATGGCCATTGTAATGGGCCGCTGAAAGGGTGCCCGATAG\", IUPAC.unambiguous_dna)\n",
    "coding_dna\n"
   ]
  },
  {
   "cell_type": "code",
   "execution_count": null,
   "metadata": {},
   "outputs": [],
   "source": [
    "coding_dna.translate()\n"
   ]
  },
  {
   "cell_type": "markdown",
   "metadata": {},
   "source": [
    "\n",
    "You should notice in the above protein sequences that in addition to the\n",
    "end stop character, there is an internal stop as well. This was a\n",
    "deliberate choice of example, as it gives an excuse to talk about some\n",
    "optional arguments, including different translation tables (Genetic\n",
    "Codes).\n",
    "\n",
    "The translation tables available in Biopython are based on those [from\n",
    "the NCBI](http://www.ncbi.nlm.nih.gov/Taxonomy/Utils/wprintgc.cgi) (see\n",
    "the next section of this tutorial). By default, translation will use the\n",
    "*standard* genetic code (NCBI table id 1). Suppose we are dealing with a\n",
    "mitochondrial sequence. We need to tell the translation function to use\n",
    "the relevant genetic code instead:\n",
    "\n"
   ]
  },
  {
   "cell_type": "code",
   "execution_count": null,
   "metadata": {},
   "outputs": [],
   "source": [
    "coding_dna.translate(table=\"Vertebrate Mitochondrial\")\n"
   ]
  },
  {
   "cell_type": "markdown",
   "metadata": {},
   "source": [
    "\n",
    "You can also specify the table using the NCBI table number which is\n",
    "shorter, and often included in the feature annotation of GenBank files:\n",
    "\n"
   ]
  },
  {
   "cell_type": "code",
   "execution_count": null,
   "metadata": {},
   "outputs": [],
   "source": [
    "coding_dna.translate(table=2)\n"
   ]
  },
  {
   "cell_type": "markdown",
   "metadata": {},
   "source": [
    "\n",
    "Now, you may want to translate the nucleotides up to the first in frame\n",
    "stop codon, and then stop (as happens in nature):\n",
    "\n"
   ]
  },
  {
   "cell_type": "code",
   "execution_count": null,
   "metadata": {},
   "outputs": [],
   "source": [
    "coding_dna.translate()\n"
   ]
  },
  {
   "cell_type": "code",
   "execution_count": null,
   "metadata": {},
   "outputs": [],
   "source": [
    "coding_dna.translate(to_stop=True)\n"
   ]
  },
  {
   "cell_type": "code",
   "execution_count": null,
   "metadata": {},
   "outputs": [],
   "source": [
    "coding_dna.translate(table=2)\n"
   ]
  },
  {
   "cell_type": "code",
   "execution_count": null,
   "metadata": {},
   "outputs": [],
   "source": [
    "coding_dna.translate(table=2, to_stop=True)\n"
   ]
  },
  {
   "cell_type": "markdown",
   "metadata": {},
   "source": [
    "\n",
    "Notice that when you use the `to_stop` argument, the stop codon itself\n",
    "is not translated - and the stop symbol is not included at the end of\n",
    "your protein sequence.\n",
    "\n",
    "You can even specify the stop symbol if you don’t like the default\n",
    "asterisk:\n",
    "\n"
   ]
  },
  {
   "cell_type": "code",
   "execution_count": null,
   "metadata": {},
   "outputs": [],
   "source": [
    "coding_dna.translate(table=2, stop_symbol=\"@\")\n"
   ]
  },
  {
   "cell_type": "markdown",
   "metadata": {},
   "source": [
    "\n",
    "Now, suppose you have a complete coding sequence CDS, which is to say a\n",
    "nucleotide sequence (e.g. mRNA – after any splicing) which is a whole\n",
    "number of codons (i.e. the length is a multiple of three), commences\n",
    "with a start codon, ends with a stop codon, and has no internal in-frame\n",
    "stop codons. In general, given a complete CDS, the default translate\n",
    "method will do what you want (perhaps with the `to_stop` option).\n",
    "However, what if your sequence uses a non-standard start codon? This\n",
    "happens a lot in bacteria – for example the gene yaaX in `E. coli` K12:\n",
    "\n"
   ]
  },
  {
   "cell_type": "code",
   "execution_count": null,
   "metadata": {},
   "outputs": [],
   "source": [
    "from Bio.Seq import Seq\n",
    "from Bio.Alphabet import generic_dna\n",
    "gene = Seq(\"GTGAAAAAGATGCAATCTATCGTACTCGCACTTTCCCTGGTTCTGGTCGCTCCCATGGCA\" + \\\n",
    "\"GCACAGGCTGCGGAAATTACGTTAGTCCCGTCAGTAAAATTACAGATAGGCGATCGTGAT\" + \\\n",
    "\"AATCGTGGCTATTACTGGGATGGAGGTCACTGGCGCGACCACGGCTGGTGGAAACAACAT\" + \\\n",
    "\"TATGAATGGCGAGGCAATCGCTGGCACCTACACGGACCGCCGCCACCGCCGCGCCACCAT\" + \\\n",
    "\"AAGAAAGCTCCTCATGATCATCACGGCGGTCATGGTCCAGGCAAACATCACCGCTAA\",\n",
    "generic_dna)\n",
    "gene.translate(table=\"Bacterial\")\n"
   ]
  },
  {
   "cell_type": "code",
   "execution_count": null,
   "metadata": {},
   "outputs": [],
   "source": [
    "gene.translate(table=\"Bacterial\", to_stop=True)\n"
   ]
  },
  {
   "cell_type": "markdown",
   "metadata": {},
   "source": [
    "\n",
    "In the bacterial genetic code `GTG` is a valid start codon, and while it\n",
    "does *normally* encode Valine, if used as a start codon it should be\n",
    "translated as methionine. This happens if you tell Biopython your\n",
    "sequence is a complete CDS:\n",
    "\n"
   ]
  },
  {
   "cell_type": "code",
   "execution_count": null,
   "metadata": {},
   "outputs": [],
   "source": [
    "gene.translate(table=\"Bacterial\", cds=True)\n"
   ]
  },
  {
   "cell_type": "markdown",
   "metadata": {},
   "source": [
    "\n",
    "In addition to telling Biopython to translate an alternative start codon\n",
    "as methionine, using this option also makes sure your sequence really is\n",
    "a valid CDS (you’ll get an exception if not).\n",
    "\n",
    "The example in Section \\[sec:SeqIO-translate\\] combines the `Seq`\n",
    "object’s translate method with `Bio.SeqIO` for sequence input/output.\n",
    "\n",
    "Translation Tables\n",
    "------------------\n",
    "\n",
    "In the previous sections we talked about the `Seq` object translation\n",
    "method (and mentioned the equivalent function in the `Bio.Seq` module –\n",
    "see Section \\[sec:seq-module-functions\\]). Internally these use codon\n",
    "table objects derived from the NCBI information at\n",
    "<ftp://ftp.ncbi.nlm.nih.gov/entrez/misc/data/gc.prt>, also shown on\n",
    "<http://www.ncbi.nlm.nih.gov/Taxonomy/Utils/wprintgc.cgi> in a much more\n",
    "readable layout.\n",
    "\n",
    "As before, let’s just focus on two choices: the Standard translation\n",
    "table, and the translation table for Vertebrate Mitochondrial DNA.\n",
    "\n"
   ]
  },
  {
   "cell_type": "code",
   "execution_count": null,
   "metadata": {},
   "outputs": [],
   "source": [
    "from Bio.Data import CodonTable\n",
    "standard_table = CodonTable.unambiguous_dna_by_name[\"Standard\"]\n",
    "mito_table = CodonTable.unambiguous_dna_by_name[\"Vertebrate Mitochondrial\"]\n"
   ]
  },
  {
   "cell_type": "markdown",
   "metadata": {},
   "source": [
    "\n",
    "Alternatively, these tables are labeled with ID numbers 1 and 2,\n",
    "respectively:\n",
    "\n"
   ]
  },
  {
   "cell_type": "code",
   "execution_count": null,
   "metadata": {},
   "outputs": [],
   "source": [
    "from Bio.Data import CodonTable\n",
    "standard_table = CodonTable.unambiguous_dna_by_id[1]\n",
    "mito_table = CodonTable.unambiguous_dna_by_id[2]\n"
   ]
  },
  {
   "cell_type": "markdown",
   "metadata": {},
   "source": [
    "\n",
    "You can compare the actual tables visually by printing them:\n",
    "\n"
   ]
  },
  {
   "cell_type": "code",
   "execution_count": null,
   "metadata": {},
   "outputs": [],
   "source": [
    "print(standard_table)\n"
   ]
  },
  {
   "cell_type": "markdown",
   "metadata": {},
   "source": [
    "\n",
    "and:\n",
    "\n"
   ]
  },
  {
   "cell_type": "code",
   "execution_count": null,
   "metadata": {},
   "outputs": [],
   "source": [
    "print(mito_table)\n"
   ]
  },
  {
   "cell_type": "markdown",
   "metadata": {},
   "source": [
    "\n",
    "You may find these following properties useful – for example if you are\n",
    "trying to do your own gene finding:\n",
    "\n"
   ]
  },
  {
   "cell_type": "code",
   "execution_count": null,
   "metadata": {},
   "outputs": [],
   "source": [
    "mito_table.stop_codons\n"
   ]
  },
  {
   "cell_type": "code",
   "execution_count": null,
   "metadata": {},
   "outputs": [],
   "source": [
    "mito_table.start_codons\n"
   ]
  },
  {
   "cell_type": "code",
   "execution_count": null,
   "metadata": {},
   "outputs": [],
   "source": [
    "mito_table.forward_table[\"ACG\"]\n"
   ]
  },
  {
   "cell_type": "markdown",
   "metadata": {},
   "source": [
    "\n",
    "Comparing Seq objects {#sec:seq-comparison}\n",
    "---------------------\n",
    "\n",
    "Sequence comparison is actually a very complicated topic, and there is\n",
    "no easy way to decide if two sequences are equal. The basic problem is\n",
    "the meaning of the letters in a sequence are context dependent - the\n",
    "letter “A” could be part of a DNA, RNA or protein sequence. Biopython\n",
    "uses alphabet objects as part of each `Seq` object to try to capture\n",
    "this information - so comparing two `Seq` objects could mean considering\n",
    "both the sequence strings *and* the alphabets.\n",
    "\n",
    "For example, you might argue that the two DNA `Seq` objects\n",
    "`Seq(ACGT, IUPAC.unambiguous_dna)` and `Seq(ACGT, IUPAC.ambiguous_dna)`\n",
    "should be equal, even though they do have different alphabets. Depending\n",
    "on the context this could be important.\n",
    "\n",
    "This gets worse – suppose you think `Seq(ACGT, IUPAC.unambiguous_dna)`\n",
    "and `Seq(ACGT)` (i.e. the default generic alphabet) should be equal.\n",
    "Then, logically, `Seq(ACGT, IUPAC.protein)` and `Seq(ACGT)` should also\n",
    "be equal. Now, in logic if $A=B$ and $B=C$, by transitivity we expect\n",
    "$A=C$. So for logical consistency we’d require\n",
    "`Seq(ACGT, IUPAC.unambiguous_dna)` and `Seq(ACGT, IUPAC.protein)` to be\n",
    "equal – which most people would agree is just not right. This\n",
    "transitivity also has implications for using `Seq` objects as Python\n",
    "dictionary keys.\n",
    "\n",
    "Now, in everyday use, your sequences will probably all have the same\n",
    "alphabet, or at least all be the same type of sequence (all DNA, all\n",
    "RNA, or all protein). What you probably want is to just compare the\n",
    "sequences as strings – which you can do explicitly:\n",
    "\n"
   ]
  },
  {
   "cell_type": "code",
   "execution_count": null,
   "metadata": {},
   "outputs": [],
   "source": [
    "from Bio.Seq import Seq\n",
    "from Bio.Alphabet import IUPAC\n",
    "seq1 = Seq(\"ACGT\", IUPAC.unambiguous_dna)\n",
    "seq2 = Seq(\"ACGT\", IUPAC.ambiguous_dna)\n",
    "str(seq1) == str(seq2)\n"
   ]
  },
  {
   "cell_type": "code",
   "execution_count": null,
   "metadata": {},
   "outputs": [],
   "source": [
    "str(seq1) == str(seq1)\n"
   ]
  },
  {
   "cell_type": "markdown",
   "metadata": {},
   "source": [
    "\n",
    "So, what does Biopython do? Well, as of Biopython 1.65, sequence\n",
    "comparison only looks at the sequence, essentially ignoring the\n",
    "alphabet:\n",
    "\n"
   ]
  },
  {
   "cell_type": "code",
   "execution_count": null,
   "metadata": {},
   "outputs": [],
   "source": [
    "seq1 == seq2\n"
   ]
  },
  {
   "cell_type": "code",
   "execution_count": null,
   "metadata": {},
   "outputs": [],
   "source": [
    "seq1 == \"ACGT\"\n"
   ]
  },
  {
   "cell_type": "markdown",
   "metadata": {},
   "source": [
    "\n",
    "As an extension to this, using sequence objects as keys in a Python\n",
    "dictionary is now equivalent to using the sequence as a plain string for\n",
    "the key. See also Section \\[sec:seq-to-string\\].\n",
    "\n",
    "Note if you compare sequences with incompatible alphabets (e.g. DNA vs\n",
    "RNA, or nucleotide versus protein), then you will get a warning but for\n",
    "the comparison itself only the string of letters in the sequence is\n",
    "used:\n",
    "\n"
   ]
  },
  {
   "cell_type": "code",
   "execution_count": null,
   "metadata": {},
   "outputs": [],
   "source": [
    "from Bio.Seq import Seq\n",
    "from Bio.Alphabet import generic_dna, generic_protein\n",
    "dna_seq = Seq(\"ACGT\", generic_dna)\n",
    "prot_seq = Seq(``ACGT'', generic_protein)\n",
    "dna_seq == prot_seq\n"
   ]
  },
  {
   "cell_type": "markdown",
   "metadata": {},
   "source": [
    "\n",
    "*WARNING:* Older versions of Biopython instead used to check if the\n",
    "`Seq` objects were the same object in memory. This is important if you\n",
    "need to support scripts on both old and new versions of Biopython. Here\n",
    "make the comparison explicit by wrapping your sequence objects with\n",
    "either `str(...)` for string based comparison or `id(...)` for object\n",
    "instance based comparison.\n",
    "\n",
    "MutableSeq objects {#sec:mutable-seq}\n",
    "------------------\n",
    "\n",
    "Just like the normal Python string, the `Seq` object is “read only”, or\n",
    "in Python terminology, immutable. Apart from wanting the `Seq` object to\n",
    "act like a string, this is also a useful default since in many\n",
    "biological applications you want to ensure you are not changing your\n",
    "sequence data:\n",
    "\n"
   ]
  },
  {
   "cell_type": "code",
   "execution_count": null,
   "metadata": {},
   "outputs": [],
   "source": [
    "from Bio.Seq import Seq\n",
    "from Bio.Alphabet import IUPAC\n",
    "my_seq = Seq(\"GCCATTGTAATGGGCCGCTGAAAGGGTGCCCGA\", IUPAC.unambiguous_dna)\n"
   ]
  },
  {
   "cell_type": "markdown",
   "metadata": {},
   "source": [
    "\n",
    "Observe what happens if you try to edit the sequence:\n",
    "\n"
   ]
  },
  {
   "cell_type": "code",
   "execution_count": null,
   "metadata": {},
   "outputs": [],
   "source": [
    "my_seq[5] = \"G\"\n"
   ]
  },
  {
   "cell_type": "markdown",
   "metadata": {},
   "source": [
    "\n",
    "However, you can convert it into a mutable sequence (a `MutableSeq`\n",
    "object) and do pretty much anything you want with it:\n",
    "\n"
   ]
  },
  {
   "cell_type": "code",
   "execution_count": null,
   "metadata": {},
   "outputs": [],
   "source": [
    "mutable_seq = my_seq.tomutable()\n",
    "mutable_seq\n"
   ]
  },
  {
   "cell_type": "markdown",
   "metadata": {},
   "source": [
    "\n",
    "Alternatively, you can create a `MutableSeq` object directly from a\n",
    "string:\n",
    "\n"
   ]
  },
  {
   "cell_type": "code",
   "execution_count": null,
   "metadata": {},
   "outputs": [],
   "source": [
    "from Bio.Seq import MutableSeq\n",
    "from Bio.Alphabet import IUPAC\n",
    "mutable_seq = MutableSeq(\"GCCATTGTAATGGGCCGCTGAAAGGGTGCCCGA\", IUPAC.unambiguous_dna)\n"
   ]
  },
  {
   "cell_type": "markdown",
   "metadata": {},
   "source": [
    "\n",
    "Either way will give you a sequence object which can be changed:\n",
    "\n"
   ]
  },
  {
   "cell_type": "code",
   "execution_count": null,
   "metadata": {},
   "outputs": [],
   "source": [
    "mutable_seq\n"
   ]
  },
  {
   "cell_type": "code",
   "execution_count": null,
   "metadata": {},
   "outputs": [],
   "source": [
    "mutable_seq[5] = \"C\"\n",
    "mutable_seq\n"
   ]
  },
  {
   "cell_type": "code",
   "execution_count": null,
   "metadata": {},
   "outputs": [],
   "source": [
    "mutable_seq.remove(\"T\")\n",
    "mutable_seq\n"
   ]
  },
  {
   "cell_type": "code",
   "execution_count": null,
   "metadata": {},
   "outputs": [],
   "source": [
    "mutable_seq.reverse()\n",
    "mutable_seq\n"
   ]
  },
  {
   "cell_type": "markdown",
   "metadata": {},
   "source": [
    "\n",
    "Do note that unlike the `Seq` object, the `MutableSeq` object’s methods\n",
    "like `reverse_complement()` and `reverse()` act in-situ!\n",
    "\n",
    "An important technical difference between mutable and immutable objects\n",
    "in Python means that you can’t use a `MutableSeq` object as a dictionary\n",
    "key, but you can use a Python string or a `Seq` object in this way.\n",
    "\n",
    "Once you have finished editing your a `MutableSeq` object, it’s easy to\n",
    "get back to a read-only `Seq` object should you need to:\n",
    "\n"
   ]
  },
  {
   "cell_type": "code",
   "execution_count": null,
   "metadata": {},
   "outputs": [],
   "source": [
    "new_seq = mutable_seq.toseq()\n",
    "new_seq\n"
   ]
  },
  {
   "cell_type": "markdown",
   "metadata": {},
   "source": [
    "\n",
    "You can also get a string from a `MutableSeq` object just like from a\n",
    "`Seq` object (Section \\[sec:seq-to-string\\]).\n",
    "\n",
    "UnknownSeq objects\n",
    "------------------\n",
    "\n",
    "The `UnknownSeq` object is a subclass of the basic `Seq` object and its\n",
    "purpose is to represent a sequence where we know the length, but not the\n",
    "actual letters making it up. You could of course use a normal `Seq`\n",
    "object in this situation, but it wastes rather a lot of memory to hold a\n",
    "string of a million “N” characters when you could just store a single\n",
    "letter “N” and the desired length as an integer.\n",
    "\n"
   ]
  },
  {
   "cell_type": "code",
   "execution_count": null,
   "metadata": {},
   "outputs": [],
   "source": [
    "from Bio.Seq import UnknownSeq\n",
    "unk = UnknownSeq(20)\n",
    "unk\n"
   ]
  },
  {
   "cell_type": "code",
   "execution_count": null,
   "metadata": {},
   "outputs": [],
   "source": [
    "print(unk)\n"
   ]
  },
  {
   "cell_type": "code",
   "execution_count": null,
   "metadata": {},
   "outputs": [],
   "source": [
    "len(unk)\n"
   ]
  },
  {
   "cell_type": "markdown",
   "metadata": {},
   "source": [
    "\n",
    "You can of course specify an alphabet, meaning for nucleotide sequences\n",
    "the letter defaults to “N” and for proteins “X”, rather than just “?”.\n",
    "\n"
   ]
  },
  {
   "cell_type": "code",
   "execution_count": null,
   "metadata": {},
   "outputs": [],
   "source": [
    "from Bio.Seq import UnknownSeq\n",
    "from Bio.Alphabet import IUPAC\n",
    "unk_dna = UnknownSeq(20, alphabet=IUPAC.ambiguous_dna)\n",
    "unk_dna\n"
   ]
  },
  {
   "cell_type": "code",
   "execution_count": null,
   "metadata": {},
   "outputs": [],
   "source": [
    "print(unk_dna)\n"
   ]
  },
  {
   "cell_type": "markdown",
   "metadata": {},
   "source": [
    "\n",
    "You can use all the usual `Seq` object methods too, note these give back\n",
    "memory saving `UnknownSeq` objects where appropriate as you might\n",
    "expect:\n",
    "\n"
   ]
  },
  {
   "cell_type": "code",
   "execution_count": null,
   "metadata": {},
   "outputs": [],
   "source": [
    "unk_dna\n"
   ]
  },
  {
   "cell_type": "code",
   "execution_count": null,
   "metadata": {},
   "outputs": [],
   "source": [
    "unk_dna.complement()\n"
   ]
  },
  {
   "cell_type": "code",
   "execution_count": null,
   "metadata": {},
   "outputs": [],
   "source": [
    "unk_dna.reverse_complement()\n"
   ]
  },
  {
   "cell_type": "code",
   "execution_count": null,
   "metadata": {},
   "outputs": [],
   "source": [
    "unk_dna.transcribe()\n"
   ]
  },
  {
   "cell_type": "code",
   "execution_count": null,
   "metadata": {},
   "outputs": [],
   "source": [
    "unk_protein = unk_dna.translate()\n",
    "unk_protein\n"
   ]
  },
  {
   "cell_type": "code",
   "execution_count": null,
   "metadata": {},
   "outputs": [],
   "source": [
    "print(unk_protein)\n"
   ]
  },
  {
   "cell_type": "code",
   "execution_count": null,
   "metadata": {},
   "outputs": [],
   "source": [
    "len(unk_protein)\n"
   ]
  },
  {
   "cell_type": "markdown",
   "metadata": {},
   "source": [
    "\n",
    "You may be able to find a use for the `UnknownSeq` object in your own\n",
    "code, but it is more likely that you will first come across them in a\n",
    "`SeqRecord` object created by `Bio.SeqIO` (see\n",
    "Chapter \\[chapter:Bio.SeqIO\\]). Some sequence file formats don’t always\n",
    "include the actual sequence, for example GenBank and EMBL files may\n",
    "include a list of features but for the sequence just present the contig\n",
    "information. Alternatively, the QUAL files used in sequencing work hold\n",
    "quality scores but they *never* contain a sequence – instead there is a\n",
    "partner FASTA file which *does* have the sequence.\n",
    "\n",
    "Working with strings directly {#sec:seq-module-functions}\n",
    "-----------------------------\n",
    "\n",
    "To close this chapter, for those you who *really* don’t want to use the\n",
    "sequence objects (or who prefer a functional programming style to an\n",
    "object orientated one), there are module level functions in `Bio.Seq`\n",
    "will accept plain Python strings, `Seq` objects (including `UnknownSeq`\n",
    "objects) or `MutableSeq` objects:\n",
    "\n"
   ]
  },
  {
   "cell_type": "code",
   "execution_count": null,
   "metadata": {},
   "outputs": [],
   "source": [
    "from Bio.Seq import reverse_complement, transcribe, back_transcribe, translate\n",
    "my_string = \"GCTGTTATGGGTCGTTGGAAGGGTGGTCGTGCTGCTGGTTAG\"\n",
    "reverse_complement(my_string)\n"
   ]
  },
  {
   "cell_type": "code",
   "execution_count": null,
   "metadata": {},
   "outputs": [],
   "source": [
    "transcribe(my_string)\n"
   ]
  },
  {
   "cell_type": "code",
   "execution_count": null,
   "metadata": {},
   "outputs": [],
   "source": [
    "back_transcribe(my_string)\n"
   ]
  },
  {
   "cell_type": "code",
   "execution_count": null,
   "metadata": {},
   "outputs": [],
   "source": [
    "translate(my_string)\n"
   ]
  }
 ],
 "metadata": {},
 "nbformat": 4,
 "nbformat_minor": 0
}