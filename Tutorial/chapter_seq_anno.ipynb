{
 "cells": [
  {
   "cell_type": "markdown",
   "metadata": {},
   "source": [
    "Sequence annotation objects {#chapter:SeqRecord}\n",
    "===========================\n",
    "\n",
    "Chapter \\[chapter:Bio.Seq\\] introduced the sequence classes. Immediately\n",
    "“above” the `Seq` class is the Sequence Record or `SeqRecord` class,\n",
    "defined in the `Bio.SeqRecord` module. This class allows higher level\n",
    "features such as identifiers and features (as `SeqFeature` objects) to\n",
    "be associated with the sequence, and is used throughout the sequence\n",
    "input/output interface `Bio.SeqIO` described fully in\n",
    "Chapter \\[chapter:Bio.SeqIO\\].\n",
    "\n",
    "If you are only going to be working with simple data like FASTA files,\n",
    "you can probably skip this chapter for now. If on the other hand you are\n",
    "going to be using richly annotated sequence data, say from GenBank or\n",
    "EMBL files, this information is quite important.\n",
    "\n",
    "While this chapter should cover most things to do with the `SeqRecord`\n",
    "and `SeqFeature` objects in this chapter, you may also want to read the\n",
    "`SeqRecord` wiki page (<http://biopython.org/wiki/SeqRecord>), and the\n",
    "built in documentation (also online –\n",
    "[SeqRecord](http://biopython.org/DIST/docs/api/Bio.SeqRecord.SeqRecord-class.html)\n",
    "and\n",
    "[SeqFeature](http://biopython.org/DIST/docs/api/Bio.SeqFeature.SeqFeature-class.html)):\n",
    "\n"
   ]
  },
  {
   "cell_type": "code",
   "execution_count": null,
   "metadata": {},
   "outputs": [],
   "source": [
    "from Bio.SeqRecord import SeqRecord\n",
    "help(SeqRecord)\n"
   ]
  },
  {
   "cell_type": "markdown",
   "metadata": {},
   "source": [
    "\n",
    "The SeqRecord object {#sec:SeqRecord}\n",
    "--------------------\n",
    "\n",
    "The `SeqRecord` (Sequence Record) class is defined in the\n",
    "`Bio.SeqRecord` module. This class allows higher level features such as\n",
    "identifiers and features to be associated with a sequence (see\n",
    "Chapter \\[chapter:Bio.Seq\\]), and is the basic data type for the\n",
    "`Bio.SeqIO` sequence input/output interface (see\n",
    "Chapter \\[chapter:Bio.SeqIO\\]).\n",
    "\n",
    "The `SeqRecord` class itself is quite simple, and offers the following\n",
    "information as attributes:\n",
    "\n",
    ".seq\n",
    "\n",
    ":   – The sequence itself, typically a `Seq` object.\n",
    "\n",
    ".id\n",
    "\n",
    ":   – The primary ID used to identify the sequence – a string. In most\n",
    "    cases this is something like an accession number.\n",
    "\n",
    ".name\n",
    "\n",
    ":   – A “common” name/id for the sequence – a string. In some cases this\n",
    "    will be the same as the accession number, but it could also be a\n",
    "    clone name. I think of this as being analogous to the LOCUS id in a\n",
    "    GenBank record.\n",
    "\n",
    ".description\n",
    "\n",
    ":   – A human readable description or expressive name for the sequence –\n",
    "    a string.\n",
    "\n",
    ".letter\\_annotations\n",
    "\n",
    ":   – Holds per-letter-annotations using a (restricted) dictionary of\n",
    "    additional information about the letters in the sequence. The keys\n",
    "    are the name of the information, and the information is contained in\n",
    "    the value as a Python sequence (i.e. a list, tuple or string) with\n",
    "    the same length as the sequence itself. This is often used for\n",
    "    quality scores (e.g. Section \\[sec:FASTQ-filtering-example\\]) or\n",
    "    secondary structure information (e.g. from Stockholm/PFAM\n",
    "    alignment files).\n",
    "\n",
    ".annotations\n",
    "\n",
    ":   – A dictionary of additional information about the sequence. The\n",
    "    keys are the name of the information, and the information is\n",
    "    contained in the value. This allows the addition of more\n",
    "    “unstructured” information to the sequence.\n",
    "\n",
    ".features\n",
    "\n",
    ":   – A list of `SeqFeature` objects with more structured information\n",
    "    about the features on a sequence (e.g. position of genes on a\n",
    "    genome, or domains on a protein sequence). The structure of sequence\n",
    "    features is described below in Section \\[sec:seq\\_features\\].\n",
    "\n",
    ".dbxrefs\n",
    "\n",
    ":   - A list of database cross-references as strings.\n",
    "\n",
    "Creating a SeqRecord\n",
    "--------------------\n",
    "\n",
    "Using a `SeqRecord` object is not very complicated, since all of the\n",
    "information is presented as attributes of the class. Usually you won’t\n",
    "create a `SeqRecord` “by hand”, but instead use `Bio.SeqIO` to read in a\n",
    "sequence file for you (see Chapter \\[chapter:Bio.SeqIO\\] and the\n",
    "examples below). However, creating `SeqRecord` can be quite simple.\n",
    "\n",
    "### SeqRecord objects from scratch\n",
    "\n",
    "To create a `SeqRecord` at a minimum you just need a `Seq` object:\n",
    "\n"
   ]
  },
  {
   "cell_type": "code",
   "execution_count": null,
   "metadata": {},
   "outputs": [],
   "source": [
    "from Bio.Seq import Seq\n",
    "simple_seq = Seq(\"GATC\")\n",
    "from Bio.SeqRecord import SeqRecord\n",
    "simple_seq_r = SeqRecord(simple_seq)\n"
   ]
  },
  {
   "cell_type": "markdown",
   "metadata": {},
   "source": [
    "\n",
    "Additionally, you can also pass the id, name and description to the\n",
    "initialization function, but if not they will be set as strings\n",
    "indicating they are unknown, and can be modified subsequently:\n",
    "\n"
   ]
  },
  {
   "cell_type": "code",
   "execution_count": null,
   "metadata": {},
   "outputs": [],
   "source": [
    "simple_seq_r.id\n"
   ]
  },
  {
   "cell_type": "code",
   "execution_count": null,
   "metadata": {},
   "outputs": [],
   "source": [
    "simple_seq_r.id = \"AC12345\"\n",
    "simple_seq_r.description = \"Made up sequence I wish I could write a paper about\"\n",
    "print(simple_seq_r.description)\n"
   ]
  },
  {
   "cell_type": "code",
   "execution_count": null,
   "metadata": {},
   "outputs": [],
   "source": [
    "simple_seq_r.seq\n"
   ]
  },
  {
   "cell_type": "markdown",
   "metadata": {},
   "source": [
    "\n",
    "Including an identifier is very important if you want to output your\n",
    "`SeqRecord` to a file. You would normally include this when creating the\n",
    "object:\n",
    "\n"
   ]
  },
  {
   "cell_type": "code",
   "execution_count": null,
   "metadata": {},
   "outputs": [],
   "source": [
    "from Bio.Seq import Seq\n",
    "simple_seq = Seq(\"GATC\")\n",
    "from Bio.SeqRecord import SeqRecord\n",
    "simple_seq_r = SeqRecord(simple_seq, id=\"AC12345\")\n"
   ]
  },
  {
   "cell_type": "markdown",
   "metadata": {},
   "source": [
    "\n",
    "As mentioned above, the `SeqRecord` has an dictionary attribute\n",
    "`annotations`. This is used for any miscellaneous annotations that\n",
    "doesn’t fit under one of the other more specific attributes. Adding\n",
    "annotations is easy, and just involves dealing directly with the\n",
    "annotation dictionary:\n",
    "\n"
   ]
  },
  {
   "cell_type": "code",
   "execution_count": null,
   "metadata": {},
   "outputs": [],
   "source": [
    "simple_seq_r.annotations[\"evidence\"] = \"None. I just made it up.\"\n",
    "print(simple_seq_r.annotations)\n"
   ]
  },
  {
   "cell_type": "code",
   "execution_count": null,
   "metadata": {},
   "outputs": [],
   "source": [
    "print(simple_seq_r.annotations[\"evidence\"])\n"
   ]
  },
  {
   "cell_type": "markdown",
   "metadata": {},
   "source": [
    "\n",
    "Working with per-letter-annotations is similar, `letter_annotations` is\n",
    "a dictionary like attribute which will let you assign any Python\n",
    "sequence (i.e. a string, list or tuple) which has the same length as the\n",
    "sequence:\n",
    "\n"
   ]
  },
  {
   "cell_type": "code",
   "execution_count": null,
   "metadata": {},
   "outputs": [],
   "source": [
    "simple_seq_r.letter_annotations[\"phred_quality\"] = [40, 40, 38, 30]\n",
    "print(simple_seq_r.letter_annotations)\n"
   ]
  },
  {
   "cell_type": "code",
   "execution_count": null,
   "metadata": {},
   "outputs": [],
   "source": [
    "print(simple_seq_r.letter_annotations[\"phred_quality\"])\n"
   ]
  },
  {
   "cell_type": "markdown",
   "metadata": {},
   "source": [
    "\n",
    "The `dbxrefs` and `features` attributes are just Python lists, and\n",
    "should be used to store strings and `SeqFeature` objects (discussed\n",
    "later in this chapter) respectively.\n",
    "\n",
    "### SeqRecord objects from FASTA files\n",
    "\n",
    "This example uses a fairly large FASTA file containing the whole\n",
    "sequence for *Yersinia pestis biovar Microtus* str. 91001 plasmid pPCP1,\n",
    "originally downloaded from the NCBI. This file is included with the\n",
    "Biopython unit tests under the GenBank folder, or online\n",
    "[`NC_005816.fna`](http://biopython.org/SRC/biopython/Tests/GenBank/NC_005816.fna)\n",
    "from our website.\n",
    "\n",
    "The file starts like this - and you can check there is only one record\n",
    "present (i.e. only one line starting with a greater than symbol):\n",
    "\n"
   ]
  },
  {
   "cell_type": "code",
   "execution_count": null,
   "metadata": {},
   "outputs": [],
   "source": [
    "gi|45478711|ref|NC_005816.1| Yersinia pestis biovar Microtus ... pPCP1, complete sequence\n"
   ]
  },
  {
   "cell_type": "markdown",
   "metadata": {},
   "source": [
    "\n",
    "Back in Chapter \\[chapter:quick-start\\] you will have seen the function\n",
    "`Bio.SeqIO.parse(...)` used to loop over all the records in a file as\n",
    "`SeqRecord` objects. The `Bio.SeqIO` module has a sister function for\n",
    "use on files which contain just one record which we’ll use here (see\n",
    "Chapter \\[chapter:Bio.SeqIO\\] for details):\n",
    "\n"
   ]
  },
  {
   "cell_type": "code",
   "execution_count": null,
   "metadata": {},
   "outputs": [],
   "source": [
    "from Bio import SeqIO\n",
    "record = SeqIO.read(\"NC_005816.fna\", \"fasta\")\n",
    "record\n"
   ]
  },
  {
   "cell_type": "code",
   "execution_count": null,
   "metadata": {},
   "outputs": [],
   "source": [
    "description='gi|45478711|ref|NC_005816.1| Yersinia pestis biovar Microtus ... sequence',\n"
   ]
  },
  {
   "cell_type": "markdown",
   "metadata": {},
   "source": [
    "\n",
    "Now, let’s have a look at the key attributes of this `SeqRecord`\n",
    "individually – starting with the `seq` attribute which gives you a `Seq`\n",
    "object:\n",
    "\n"
   ]
  },
  {
   "cell_type": "code",
   "execution_count": null,
   "metadata": {},
   "outputs": [],
   "source": [
    "record.seq\n"
   ]
  },
  {
   "cell_type": "markdown",
   "metadata": {},
   "source": [
    "\n",
    "Here `Bio.SeqIO` has defaulted to a generic alphabet, rather than\n",
    "guessing that this is DNA. If you know in advance what kind of sequence\n",
    "your FASTA file contains, you can tell `Bio.SeqIO` which alphabet to use\n",
    "(see Chapter \\[chapter:Bio.SeqIO\\]).\n",
    "\n",
    "Next, the identifiers and description:\n",
    "\n"
   ]
  },
  {
   "cell_type": "code",
   "execution_count": null,
   "metadata": {},
   "outputs": [],
   "source": [
    "record.id\n"
   ]
  },
  {
   "cell_type": "code",
   "execution_count": null,
   "metadata": {},
   "outputs": [],
   "source": [
    "record.name\n"
   ]
  },
  {
   "cell_type": "code",
   "execution_count": null,
   "metadata": {},
   "outputs": [],
   "source": [
    "record.description\n",
    "'gi|45478711|ref|NC_005816.1| Yersinia pestis biovar Microtus ... pPCP1, complete sequence'\n"
   ]
  },
  {
   "cell_type": "markdown",
   "metadata": {},
   "source": [
    "\n",
    "As you can see above, the first word of the FASTA record’s title line\n",
    "(after removing the greater than symbol) is used for both the `id` and\n",
    "`name` attributes. The whole title line (after removing the greater than\n",
    "symbol) is used for the record description. This is deliberate, partly\n",
    "for backwards compatibility reasons, but it also makes sense if you have\n",
    "a FASTA file like this:\n",
    "\n"
   ]
  },
  {
   "cell_type": "markdown",
   "metadata": {},
   "source": [
    "\n",
    "Note that none of the other annotation attributes get populated when\n",
    "reading a FASTA file:\n",
    "\n"
   ]
  },
  {
   "cell_type": "code",
   "execution_count": null,
   "metadata": {},
   "outputs": [],
   "source": [
    "record.dbxrefs\n"
   ]
  },
  {
   "cell_type": "code",
   "execution_count": null,
   "metadata": {},
   "outputs": [],
   "source": [
    "record.annotations\n"
   ]
  },
  {
   "cell_type": "code",
   "execution_count": null,
   "metadata": {},
   "outputs": [],
   "source": [
    "record.letter_annotations\n"
   ]
  },
  {
   "cell_type": "code",
   "execution_count": null,
   "metadata": {},
   "outputs": [],
   "source": [
    "record.features\n"
   ]
  },
  {
   "cell_type": "markdown",
   "metadata": {},
   "source": [
    "\n",
    "In this case our example FASTA file was from the NCBI, and they have a\n",
    "fairly well defined set of conventions for formatting their FASTA lines.\n",
    "This means it would be possible to parse this information and extract\n",
    "the GI number and accession for example. However, FASTA files from other\n",
    "sources vary, so this isn’t possible in general.\n",
    "\n",
    "### SeqRecord objects from GenBank files\n",
    "\n",
    "As in the previous example, we’re going to look at the whole sequence\n",
    "for *Yersinia pestis biovar Microtus* str. 91001 plasmid pPCP1,\n",
    "originally downloaded from the NCBI, but this time as a GenBank file.\n",
    "Again, this file is included with the Biopython unit tests under the\n",
    "GenBank folder, or online\n",
    "[`NC_005816.gb`](http://biopython.org/SRC/biopython/Tests/GenBank/NC_005816.gb)\n",
    "from our website.\n",
    "\n",
    "This file contains a single record (i.e. only one LOCUS line) and\n",
    "starts:\n",
    "\n"
   ]
  },
  {
   "cell_type": "markdown",
   "metadata": {},
   "source": [
    "\n",
    "Again, we’ll use `Bio.SeqIO` to read this file in, and the code is\n",
    "almost identical to that for used above for the FASTA file (see\n",
    "Chapter \\[chapter:Bio.SeqIO\\] for details):\n",
    "\n"
   ]
  },
  {
   "cell_type": "code",
   "execution_count": null,
   "metadata": {},
   "outputs": [],
   "source": [
    "from Bio import SeqIO\n",
    "record = SeqIO.read(\"NC_005816.gb\", \"genbank\")\n",
    "record\n"
   ]
  },
  {
   "cell_type": "markdown",
   "metadata": {},
   "source": [
    "\n",
    "You should be able to spot some differences already! But taking the\n",
    "attributes individually, the sequence string is the same as before, but\n",
    "this time `Bio.SeqIO` has been able to automatically assign a more\n",
    "specific alphabet (see Chapter \\[chapter:Bio.SeqIO\\] for details):\n",
    "\n"
   ]
  },
  {
   "cell_type": "code",
   "execution_count": null,
   "metadata": {},
   "outputs": [],
   "source": [
    "record.seq\n"
   ]
  },
  {
   "cell_type": "markdown",
   "metadata": {},
   "source": [
    "\n",
    "The `name` comes from the LOCUS line, while the `id` includes the\n",
    "version suffix. The description comes from the DEFINITION line:\n",
    "\n"
   ]
  },
  {
   "cell_type": "code",
   "execution_count": null,
   "metadata": {},
   "outputs": [],
   "source": [
    "record.id\n"
   ]
  },
  {
   "cell_type": "code",
   "execution_count": null,
   "metadata": {},
   "outputs": [],
   "source": [
    "record.name\n"
   ]
  },
  {
   "cell_type": "code",
   "execution_count": null,
   "metadata": {},
   "outputs": [],
   "source": [
    "record.description\n"
   ]
  },
  {
   "cell_type": "markdown",
   "metadata": {},
   "source": [
    "\n",
    "GenBank files don’t have any per-letter annotations:\n",
    "\n"
   ]
  },
  {
   "cell_type": "code",
   "execution_count": null,
   "metadata": {},
   "outputs": [],
   "source": [
    "record.letter_annotations\n"
   ]
  },
  {
   "cell_type": "markdown",
   "metadata": {},
   "source": [
    "\n",
    "Most of the annotations information gets recorded in the `annotations`\n",
    "dictionary, for example:\n",
    "\n"
   ]
  },
  {
   "cell_type": "code",
   "execution_count": null,
   "metadata": {},
   "outputs": [],
   "source": [
    "len(record.annotations)\n"
   ]
  },
  {
   "cell_type": "code",
   "execution_count": null,
   "metadata": {},
   "outputs": [],
   "source": [
    "record.annotations[\"source\"]\n"
   ]
  },
  {
   "cell_type": "markdown",
   "metadata": {},
   "source": [
    "\n",
    "The `dbxrefs` list gets populated from any PROJECT or DBLINK lines:\n",
    "\n"
   ]
  },
  {
   "cell_type": "code",
   "execution_count": null,
   "metadata": {},
   "outputs": [],
   "source": [
    "record.dbxrefs\n"
   ]
  },
  {
   "cell_type": "markdown",
   "metadata": {},
   "source": [
    "\n",
    "Finally, and perhaps most interestingly, all the entries in the features\n",
    "table (e.g. the genes or CDS features) get recorded as `SeqFeature`\n",
    "objects in the `features` list.\n",
    "\n"
   ]
  },
  {
   "cell_type": "code",
   "execution_count": null,
   "metadata": {},
   "outputs": [],
   "source": [
    "len(record.features)\n"
   ]
  },
  {
   "cell_type": "markdown",
   "metadata": {},
   "source": [
    "\n",
    "We’ll talk about `SeqFeature` objects next, in\n",
    "Section \\[sec:seq\\_features\\].\n",
    "\n",
    "Feature, location and position objects {#sec:seq_features}\n",
    "--------------------------------------\n",
    "\n",
    "### SeqFeature objects\n",
    "\n",
    "Sequence features are an essential part of describing a sequence. Once\n",
    "you get beyond the sequence itself, you need some way to organize and\n",
    "easily get at the more “abstract” information that is known about the\n",
    "sequence. While it is probably impossible to develop a general sequence\n",
    "feature class that will cover everything, the Biopython `SeqFeature`\n",
    "class attempts to encapsulate as much of the information about the\n",
    "sequence as possible. The design is heavily based on the GenBank/EMBL\n",
    "feature tables, so if you understand how they look, you’ll probably have\n",
    "an easier time grasping the structure of the Biopython classes.\n",
    "\n",
    "The key idea about each `SeqFeature` object is to describe a region on a\n",
    "parent sequence, typically a `SeqRecord` object. That region is\n",
    "described with a location object, typically a range between two\n",
    "positions (see Section \\[sec:locations\\] below).\n",
    "\n",
    "The `SeqFeature` class has a number of attributes, so first we’ll list\n",
    "them and their general features, and then later in the chapter work\n",
    "through examples to show how this applies to a real life example. The\n",
    "attributes of a SeqFeature are:\n",
    "\n",
    ".type\n",
    "\n",
    ":   – This is a textual description of the type of feature (for\n",
    "    instance, this will be something like ‘CDS’ or ‘gene’).\n",
    "\n",
    ".location\n",
    "\n",
    ":   – The location of the `SeqFeature` on the sequence that you are\n",
    "    dealing with, see Section \\[sec:locations\\] below. The `SeqFeature`\n",
    "    delegates much of its functionality to the location object, and\n",
    "    includes a number of shortcut attributes for properties of the\n",
    "    location:\n",
    "\n",
    "    .ref\n",
    "\n",
    "    :   – shorthand for `.location.ref` – any (different) reference\n",
    "        sequence the location is referring to. Usually just None.\n",
    "\n",
    "    .ref\\_db\n",
    "\n",
    "    :   – shorthand for `.location.ref_db` – specifies the database any\n",
    "        identifier in `.ref` refers to. Usually just None.\n",
    "\n",
    "    .strand\n",
    "\n",
    "    :   – shorthand for `.location.strand` – the strand on the sequence\n",
    "        that the feature is located on. For double stranded nucleotide\n",
    "        sequence this may either be $1$ for the top strand, $-1$ for the\n",
    "        bottom strand, $0$ if the strand is important but is unknown, or\n",
    "        `None` if it doesn’t matter. This is None for proteins, or\n",
    "        single stranded sequences.\n",
    "\n",
    ".qualifiers\n",
    "\n",
    ":   – This is a Python dictionary of additional information about\n",
    "    the feature. The key is some kind of terse one-word description of\n",
    "    what the information contained in the value is about, and the value\n",
    "    is the actual information. For example, a common key for a qualifier\n",
    "    might be “evidence” and the value might be\n",
    "    “computational (non-experimental).” This is just a way to let the\n",
    "    person who is looking at the feature know that it has not be\n",
    "    experimentally (i. e. in a wet lab) confirmed. Note that other the\n",
    "    value will be a list of strings (even when there is only\n",
    "    one string). This is a reflection of the feature tables in\n",
    "    GenBank/EMBL files.\n",
    "\n",
    ".sub\\_features\n",
    "\n",
    ":   – This used to be used to represent features with complicated\n",
    "    locations like ‘joins’ in GenBank/EMBL files. This has been\n",
    "    deprecated with the introduction of the `CompoundLocation` object,\n",
    "    and should now be ignored.\n",
    "\n",
    "### Positions and locations {#sec:locations}\n",
    "\n",
    "The key idea about each `SeqFeature` object is to describe a region on a\n",
    "parent sequence, for which we use a location object, typically\n",
    "describing a range between two positions. Two try to clarify the\n",
    "terminology we’re using:\n",
    "\n",
    "position\n",
    "\n",
    ":   – This refers to a single position on a sequence, which may be fuzzy\n",
    "    or not. For instance, 5, 20, `<100` and `>200` are all positions.\n",
    "\n",
    "location\n",
    "\n",
    ":   – A location is region of sequence bounded by some positions. For\n",
    "    instance 5..20 (i. e. 5 to 20) is a location.\n",
    "\n",
    "I just mention this because sometimes I get confused between the two.\n",
    "\n",
    "#### FeatureLocation object\n",
    "\n",
    "Unless you work with eukaryotic genes, most `SeqFeature` locations are\n",
    "extremely simple - you just need start and end coordinates and a strand.\n",
    "That’s essentially all the basic `FeatureLocation` object does.\n",
    "\n",
    "In practise of course, things can be more complicated. First of all we\n",
    "have to handle compound locations made up of several regions. Secondly,\n",
    "the positions themselves may be fuzzy (inexact).\n",
    "\n",
    "#### CompoundLocation object\n",
    "\n",
    "Biopython 1.62 introduced the `CompoundLocation` as part of a\n",
    "restructuring of how complex locations made up of multiple regions are\n",
    "represented. The main usage is for handling ‘join’ locations in\n",
    "EMBL/GenBank files.\n",
    "\n",
    "#### Fuzzy Positions\n",
    "\n",
    "So far we’ve only used simple positions. One complication in dealing\n",
    "with feature locations comes in the positions themselves. In biology\n",
    "many times things aren’t entirely certain (as much as us wet lab\n",
    "biologists try to make them certain!). For instance, you might do a\n",
    "dinucleotide priming experiment and discover that the start of mRNA\n",
    "transcript starts at one of two sites. This is very useful information,\n",
    "but the complication comes in how to represent this as a position. To\n",
    "help us deal with this, we have the concept of fuzzy positions.\n",
    "Basically there are several types of fuzzy positions, so we have five\n",
    "classes do deal with them:\n",
    "\n",
    "ExactPosition\n",
    "\n",
    ":   – As its name suggests, this class represents a position which is\n",
    "    specified as exact along the sequence. This is represented as just a\n",
    "    number, and you can get the position by looking at the `position`\n",
    "    attribute of the object.\n",
    "\n",
    "BeforePosition\n",
    "\n",
    ":   – This class represents a fuzzy position that occurs prior to some\n",
    "    specified site. In GenBank/EMBL notation, this is represented as\n",
    "    something like `` `<13' ``, signifying that the real position is\n",
    "    located somewhere less than 13. To get the specified upper boundary,\n",
    "    look at the `position` attribute of the object.\n",
    "\n",
    "AfterPosition\n",
    "\n",
    ":   – Contrary to `BeforePosition`, this class represents a position\n",
    "    that occurs after some specified site. This is represented in\n",
    "    GenBank as `` `>13' ``, and like `BeforePosition`, you get the\n",
    "    boundary number by looking at the `position` attribute of\n",
    "    the object.\n",
    "\n",
    "WithinPosition\n",
    "\n",
    ":   – Occasionally used for GenBank/EMBL locations, this class models a\n",
    "    position which occurs somewhere between two specified nucleotides.\n",
    "    In GenBank/EMBL notation, this would be represented as ‘(1.5)’, to\n",
    "    represent that the position is somewhere within the range 1 to 5. To\n",
    "    get the information in this class you have to look at\n",
    "    two attributes. The `position` attribute specifies the lower\n",
    "    boundary of the range we are looking at, so in our example case this\n",
    "    would be one. The `extension` attribute specifies the range to the\n",
    "    higher boundary, so in this case it would be 4. So `object.position`\n",
    "    is the lower boundary and `object.position + object.extension` is\n",
    "    the upper boundary.\n",
    "\n",
    "OneOfPosition\n",
    "\n",
    ":   – Occasionally used for GenBank/EMBL locations, this class deals\n",
    "    with a position where several possible values exist, for instance\n",
    "    you could use this if the start codon was unclear and there where\n",
    "    two candidates for the start of the gene. Alternatively, that might\n",
    "    be handled explicitly as two related gene features.\n",
    "\n",
    "UnknownPosition\n",
    "\n",
    ":   – This class deals with a position of unknown location. This is not\n",
    "    used in GenBank/EMBL, but corresponds to the ‘?’ feature coordinate\n",
    "    used in UniProt.\n",
    "\n",
    "Here’s an example where we create a location with fuzzy end points:\n",
    "\n"
   ]
  },
  {
   "cell_type": "code",
   "execution_count": null,
   "metadata": {},
   "outputs": [],
   "source": [
    "from Bio import SeqFeature\n",
    "start_pos = SeqFeature.AfterPosition(5)\n",
    "end_pos = SeqFeature.BetweenPosition(9, left=8, right=9)\n",
    "my_location = SeqFeature.FeatureLocation(start_pos, end_pos)\n"
   ]
  },
  {
   "cell_type": "markdown",
   "metadata": {},
   "source": [
    "\n",
    "Note that the details of some of the fuzzy-locations changed in\n",
    "Biopython 1.59, in particular for BetweenPosition and WithinPosition you\n",
    "must now make it explicit which integer position should be used for\n",
    "slicing etc. For a start position this is generally the lower (left)\n",
    "value, while for an end position this would generally be the higher\n",
    "(right) value.\n",
    "\n",
    "If you print out a `FeatureLocation` object, you can get a nice\n",
    "representation of the information:\n",
    "\n"
   ]
  },
  {
   "cell_type": "code",
   "execution_count": null,
   "metadata": {},
   "outputs": [],
   "source": [
    "print(my_location)\n"
   ]
  },
  {
   "cell_type": "markdown",
   "metadata": {},
   "source": [
    "\n",
    "We can access the fuzzy start and end positions using the start and end\n",
    "attributes of the location:\n",
    "\n"
   ]
  },
  {
   "cell_type": "code",
   "execution_count": null,
   "metadata": {},
   "outputs": [],
   "source": [
    "my_location.start\n"
   ]
  },
  {
   "cell_type": "code",
   "execution_count": null,
   "metadata": {},
   "outputs": [],
   "source": [
    "print(my_location.start)\n"
   ]
  },
  {
   "cell_type": "code",
   "execution_count": null,
   "metadata": {},
   "outputs": [],
   "source": [
    "my_location.end\n"
   ]
  },
  {
   "cell_type": "code",
   "execution_count": null,
   "metadata": {},
   "outputs": [],
   "source": [
    "print(my_location.end)\n"
   ]
  },
  {
   "cell_type": "markdown",
   "metadata": {},
   "source": [
    "\n",
    "If you don’t want to deal with fuzzy positions and just want numbers,\n",
    "they are actually subclasses of integers so should work like integers:\n",
    "\n"
   ]
  },
  {
   "cell_type": "code",
   "execution_count": null,
   "metadata": {},
   "outputs": [],
   "source": [
    "int(my_location.start)\n"
   ]
  },
  {
   "cell_type": "code",
   "execution_count": null,
   "metadata": {},
   "outputs": [],
   "source": [
    "int(my_location.end)\n"
   ]
  },
  {
   "cell_type": "markdown",
   "metadata": {},
   "source": [
    "\n",
    "For compatibility with older versions of Biopython you can ask for the\n",
    "`nofuzzy_start` and `nofuzzy_end` attributes of the location which are\n",
    "plain integers:\n",
    "\n"
   ]
  },
  {
   "cell_type": "code",
   "execution_count": null,
   "metadata": {},
   "outputs": [],
   "source": [
    "my_location.nofuzzy_start\n"
   ]
  },
  {
   "cell_type": "code",
   "execution_count": null,
   "metadata": {},
   "outputs": [],
   "source": [
    "my_location.nofuzzy_end\n"
   ]
  },
  {
   "cell_type": "markdown",
   "metadata": {},
   "source": [
    "\n",
    "Notice that this just gives you back the position attributes of the\n",
    "fuzzy locations.\n",
    "\n",
    "Similarly, to make it easy to create a position without worrying about\n",
    "fuzzy positions, you can just pass in numbers to the `FeaturePosition`\n",
    "constructors, and you’ll get back out `ExactPosition` objects:\n",
    "\n"
   ]
  },
  {
   "cell_type": "code",
   "execution_count": null,
   "metadata": {},
   "outputs": [],
   "source": [
    "exact_location = SeqFeature.FeatureLocation(5, 9)\n",
    "print(exact_location)\n"
   ]
  },
  {
   "cell_type": "code",
   "execution_count": null,
   "metadata": {},
   "outputs": [],
   "source": [
    "exact_location.start\n"
   ]
  },
  {
   "cell_type": "code",
   "execution_count": null,
   "metadata": {},
   "outputs": [],
   "source": [
    "int(exact_location.start)\n"
   ]
  },
  {
   "cell_type": "code",
   "execution_count": null,
   "metadata": {},
   "outputs": [],
   "source": [
    "exact_location.nofuzzy_start\n"
   ]
  },
  {
   "cell_type": "markdown",
   "metadata": {},
   "source": [
    "\n",
    "That is most of the nitty gritty about dealing with fuzzy positions in\n",
    "Biopython. It has been designed so that dealing with fuzziness is not\n",
    "that much more complicated than dealing with exact positions, and\n",
    "hopefully you find that true!\n",
    "\n",
    "#### Location testing\n",
    "\n",
    "You can use the Python keyword `in` with a `SeqFeature` or location\n",
    "object to see if the base/residue for a parent coordinate is within the\n",
    "feature/location or not.\n",
    "\n",
    "For example, suppose you have a SNP of interest and you want to know\n",
    "which features this SNP is within, and lets suppose this SNP is at index\n",
    "4350 (Python counting!). Here is a simple brute force solution where we\n",
    "just check all the features one by one in a loop:\n",
    "\n"
   ]
  },
  {
   "cell_type": "code",
   "execution_count": null,
   "metadata": {},
   "outputs": [],
   "source": [
    "from Bio import SeqIO\n",
    "my_snp = 4350\n",
    "record = SeqIO.read(\"NC_005816.gb\", \"genbank\")\n",
    "for feature in record.features:\n",
    "if my_snp in feature:\n",
    "print(\"%s %s\" % (feature.type, feature.qualifiers.get('db_xref')))\n"
   ]
  },
  {
   "cell_type": "markdown",
   "metadata": {},
   "source": [
    "\n",
    "Note that gene and CDS features from GenBank or EMBL files defined with\n",
    "joins are the union of the exons – they do not cover any introns.\n",
    "\n",
    "### Sequence described by a feature or location\n",
    "\n",
    "A `SeqFeature` or location object doesn’t directly contain a sequence,\n",
    "instead the location (see Section \\[sec:locations\\]) describes how to\n",
    "get this from the parent sequence. For example consider a (short) gene\n",
    "sequence with location 5:18 on the reverse strand, which in GenBank/EMBL\n",
    "notation using 1-based counting would be `complement(6..18)`, like this:\n",
    "\n"
   ]
  },
  {
   "cell_type": "code",
   "execution_count": null,
   "metadata": {},
   "outputs": [],
   "source": [
    "from Bio.Seq import Seq\n",
    "from Bio.SeqFeature import SeqFeature, FeatureLocation\n",
    "example_parent = Seq(\"ACCGAGACGGCAAAGGCTAGCATAGGTATGAGACTTCCTTCCTGCCAGTGCTGAGGAACTGGGAGCCTAC\")\n",
    "example_feature = SeqFeature(FeatureLocation(5, 18), type=\"gene\", strand=-1)\n"
   ]
  },
  {
   "cell_type": "markdown",
   "metadata": {},
   "source": [
    "\n",
    "You could take the parent sequence, slice it to extract 5:18, and then\n",
    "take the reverse complement. If you are using Biopython 1.59 or later,\n",
    "the feature location’s start and end are integer like so this works:\n",
    "\n"
   ]
  },
  {
   "cell_type": "code",
   "execution_count": null,
   "metadata": {},
   "outputs": [],
   "source": [
    "feature_seq = example_parent[example_feature.location.start:example_feature.location.end].reverse_complement()\n",
    "print(feature_seq)\n"
   ]
  },
  {
   "cell_type": "markdown",
   "metadata": {},
   "source": [
    "\n",
    "This is a simple example so this isn’t too bad – however once you have\n",
    "to deal with compound features (joins) this is rather messy. Instead,\n",
    "the `SeqFeature` object has an `extract` method to take care of all\n",
    "this:\n",
    "\n"
   ]
  },
  {
   "cell_type": "code",
   "execution_count": null,
   "metadata": {},
   "outputs": [],
   "source": [
    "feature_seq = example_feature.extract(example_parent)\n",
    "print(feature_seq)\n"
   ]
  },
  {
   "cell_type": "markdown",
   "metadata": {},
   "source": [
    "\n",
    "The length of a `SeqFeature` or location matches that of the region of\n",
    "sequence it describes.\n",
    "\n"
   ]
  },
  {
   "cell_type": "code",
   "execution_count": null,
   "metadata": {},
   "outputs": [],
   "source": [
    "print(example_feature.extract(example_parent))\n"
   ]
  },
  {
   "cell_type": "code",
   "execution_count": null,
   "metadata": {},
   "outputs": [],
   "source": [
    "print(len(example_feature.extract(example_parent)))\n"
   ]
  },
  {
   "cell_type": "code",
   "execution_count": null,
   "metadata": {},
   "outputs": [],
   "source": [
    "print(len(example_feature))\n"
   ]
  },
  {
   "cell_type": "code",
   "execution_count": null,
   "metadata": {},
   "outputs": [],
   "source": [
    "print(len(example_feature.location))\n"
   ]
  },
  {
   "cell_type": "markdown",
   "metadata": {},
   "source": [
    "\n",
    "For simple `FeatureLocation` objects the length is just the difference\n",
    "between the start and end positions. However, for a `CompoundLocation`\n",
    "the length is the sum of the constituent regions.\n",
    "\n",
    "Comparison\n",
    "----------\n",
    "\n",
    "The `SeqRecord` objects can be very complex, but here’s a simple\n",
    "example:\n",
    "\n"
   ]
  },
  {
   "cell_type": "code",
   "execution_count": null,
   "metadata": {},
   "outputs": [],
   "source": [
    "from Bio.Seq import Seq\n",
    "from Bio.SeqRecord import SeqRecord\n",
    "record1 = SeqRecord(Seq(\"ACGT\"), id=\"test\")\n",
    "record2 = SeqRecord(Seq(\"ACGT\"), id=\"test\")\n"
   ]
  },
  {
   "cell_type": "markdown",
   "metadata": {},
   "source": [
    "\n",
    "What happens when you try to compare these “identical” records?\n",
    "\n"
   ]
  },
  {
   "cell_type": "code",
   "execution_count": null,
   "metadata": {},
   "outputs": [],
   "source": [
    "record1 == record2\n"
   ]
  },
  {
   "cell_type": "markdown",
   "metadata": {},
   "source": [
    "\n",
    "Perhaps surprisingly older versions of Biopython would use Python’s\n",
    "default object comparison for the `SeqRecord`, meaning\n",
    "`record1 == record2` would only return `True` if these variables pointed\n",
    "at the same object in memory. In this example, `record1 == record2`\n",
    "would have returned `False` here!\n",
    "\n"
   ]
  },
  {
   "cell_type": "code",
   "execution_count": null,
   "metadata": {},
   "outputs": [],
   "source": [
    "record1 == record2  # on old versions of Biopython!\n"
   ]
  },
  {
   "cell_type": "markdown",
   "metadata": {},
   "source": [
    "\n",
    "As of Biopython 1.67, `SeqRecord` comparison like `record1 == record2`\n",
    "will instead raise an explicit error to avoid people being caught out by\n",
    "this:\n",
    "\n"
   ]
  },
  {
   "cell_type": "code",
   "execution_count": null,
   "metadata": {},
   "outputs": [],
   "source": [
    "record1 == record2\n"
   ]
  },
  {
   "cell_type": "markdown",
   "metadata": {},
   "source": [
    "\n",
    "Instead you should check the attributes you are interested in, for\n",
    "example the identifier and the sequence:\n",
    "\n"
   ]
  },
  {
   "cell_type": "code",
   "execution_count": null,
   "metadata": {},
   "outputs": [],
   "source": [
    "record1.id == record2.id\n"
   ]
  },
  {
   "cell_type": "code",
   "execution_count": null,
   "metadata": {},
   "outputs": [],
   "source": [
    "record1.seq == record2.seq\n"
   ]
  },
  {
   "cell_type": "markdown",
   "metadata": {},
   "source": [
    "\n",
    "Beware that comparing complex objects quickly gets complicated (see also\n",
    "Section \\[sec:seq-comparison\\]).\n",
    "\n",
    "References\n",
    "----------\n",
    "\n",
    "Another common annotation related to a sequence is a reference to a\n",
    "journal or other published work dealing with the sequence. We have a\n",
    "fairly simple way of representing a Reference in Biopython – we have a\n",
    "`Bio.SeqFeature.Reference` class that stores the relevant information\n",
    "about a reference as attributes of an object.\n",
    "\n",
    "The attributes include things that you would expect to see in a\n",
    "reference like `journal`, `title` and `authors`. Additionally, it also\n",
    "can hold the `medline_id` and `pubmed_id` and a `comment` about the\n",
    "reference. These are all accessed simply as attributes of the object.\n",
    "\n",
    "A reference also has a `location` object so that it can specify a\n",
    "particular location on the sequence that the reference refers to. For\n",
    "instance, you might have a journal that is dealing with a particular\n",
    "gene located on a BAC, and want to specify that it only refers to this\n",
    "position exactly. The `location` is a potentially fuzzy location, as\n",
    "described in section \\[sec:locations\\].\n",
    "\n",
    "Any reference objects are stored as a list in the `SeqRecord` object’s\n",
    "`annotations` dictionary under the key “references”. That’s all there is\n",
    "too it. References are meant to be easy to deal with, and hopefully\n",
    "general enough to cover lots of usage cases.\n",
    "\n",
    "The format method {#sec:SeqRecord-format}\n",
    "-----------------\n",
    "\n",
    "The `format()` method of the `SeqRecord` class gives a string containing\n",
    "your record formatted using one of the output file formats supported by\n",
    "`Bio.SeqIO`, such as FASTA:\n",
    "\n"
   ]
  },
  {
   "cell_type": "markdown",
   "metadata": {},
   "source": [
    "\n",
    "which should give:\n",
    "\n"
   ]
  },
  {
   "cell_type": "markdown",
   "metadata": {},
   "source": [
    "\n",
    "This `format` method takes a single mandatory argument, a lower case\n",
    "string which is supported by `Bio.SeqIO` as an output format (see\n",
    "Chapter \\[chapter:Bio.SeqIO\\]). However, some of the file formats\n",
    "`Bio.SeqIO` can write to *require* more than one record (typically the\n",
    "case for multiple sequence alignment formats), and thus won’t work via\n",
    "this `format()` method. See also Section \\[sec:Bio.SeqIO-and-StringIO\\].\n",
    "\n",
    "Slicing a SeqRecord {#sec:SeqRecord-slicing}\n",
    "-------------------\n",
    "\n",
    "You can slice a `SeqRecord`, to give you a new `SeqRecord` covering just\n",
    "part of the sequence. What is important here is that any per-letter\n",
    "annotations are also sliced, and any features which fall completely\n",
    "within the new sequence are preserved (with their locations adjusted).\n",
    "\n",
    "For example, taking the same GenBank file used earlier:\n",
    "\n"
   ]
  },
  {
   "cell_type": "code",
   "execution_count": null,
   "metadata": {},
   "outputs": [],
   "source": [
    "from Bio import SeqIO\n",
    "record = SeqIO.read(\"NC_005816.gb\", \"genbank\")\n"
   ]
  },
  {
   "cell_type": "markdown",
   "metadata": {},
   "source": [
    "\n"
   ]
  },
  {
   "cell_type": "code",
   "execution_count": null,
   "metadata": {},
   "outputs": [],
   "source": [
    "record\n"
   ]
  },
  {
   "cell_type": "markdown",
   "metadata": {},
   "source": [
    "\n"
   ]
  },
  {
   "cell_type": "code",
   "execution_count": null,
   "metadata": {},
   "outputs": [],
   "source": [
    "len(record)\n"
   ]
  },
  {
   "cell_type": "code",
   "execution_count": null,
   "metadata": {},
   "outputs": [],
   "source": [
    "len(record.features)\n"
   ]
  },
  {
   "cell_type": "markdown",
   "metadata": {},
   "source": [
    "\n",
    "For this example we’re going to focus in on the `pim` gene, `YP_pPCP05`.\n",
    "If you have a look at the GenBank file directly you’ll find this\n",
    "gene/CDS has location string `4343..4780`, or in Python counting\n",
    "`4342:4780`. From looking at the file you can work out that these are\n",
    "the twelfth and thirteenth entries in the file, so in Python zero-based\n",
    "counting they are entries $11$ and $12$ in the `features` list:\n",
    "\n"
   ]
  },
  {
   "cell_type": "code",
   "execution_count": null,
   "metadata": {},
   "outputs": [],
   "source": [
    "print(record.features[20])\n"
   ]
  },
  {
   "cell_type": "markdown",
   "metadata": {},
   "source": [
    "\n"
   ]
  },
  {
   "cell_type": "code",
   "execution_count": null,
   "metadata": {},
   "outputs": [],
   "source": [
    "print(record.features[21])\n"
   ]
  },
  {
   "cell_type": "markdown",
   "metadata": {},
   "source": [
    "\n",
    "Let’s slice this parent record from 4300 to 4800 (enough to include the\n",
    "`pim` gene/CDS), and see how many features we get:\n",
    "\n"
   ]
  },
  {
   "cell_type": "code",
   "execution_count": null,
   "metadata": {},
   "outputs": [],
   "source": [
    "sub_record = record[4300:4800]\n"
   ]
  },
  {
   "cell_type": "markdown",
   "metadata": {},
   "source": [
    "\n"
   ]
  },
  {
   "cell_type": "code",
   "execution_count": null,
   "metadata": {},
   "outputs": [],
   "source": [
    "sub_record\n"
   ]
  },
  {
   "cell_type": "markdown",
   "metadata": {},
   "source": [
    "\n"
   ]
  },
  {
   "cell_type": "code",
   "execution_count": null,
   "metadata": {},
   "outputs": [],
   "source": [
    "len(sub_record)\n"
   ]
  },
  {
   "cell_type": "code",
   "execution_count": null,
   "metadata": {},
   "outputs": [],
   "source": [
    "len(sub_record.features)\n"
   ]
  },
  {
   "cell_type": "markdown",
   "metadata": {},
   "source": [
    "\n",
    "Our sub-record just has two features, the gene and CDS entries for\n",
    "`YP_pPCP05`:\n",
    "\n"
   ]
  },
  {
   "cell_type": "code",
   "execution_count": null,
   "metadata": {},
   "outputs": [],
   "source": [
    "print(sub_record.features[0])\n"
   ]
  },
  {
   "cell_type": "markdown",
   "metadata": {},
   "source": [
    "\n"
   ]
  },
  {
   "cell_type": "code",
   "execution_count": null,
   "metadata": {},
   "outputs": [],
   "source": [
    "print(sub_record.features[20])\n"
   ]
  },
  {
   "cell_type": "markdown",
   "metadata": {},
   "source": [
    "\n",
    "Notice that their locations have been adjusted to reflect the new parent\n",
    "sequence!\n",
    "\n",
    "While Biopython has done something sensible and hopefully intuitive with\n",
    "the features (and any per-letter annotation), for the other annotation\n",
    "it is impossible to know if this still applies to the sub-sequence or\n",
    "not. To avoid guessing, the `annotations` and `dbxrefs` are omitted from\n",
    "the sub-record, and it is up to you to transfer any relevant information\n",
    "as appropriate.\n",
    "\n"
   ]
  },
  {
   "cell_type": "code",
   "execution_count": null,
   "metadata": {},
   "outputs": [],
   "source": [
    "sub_record.annotations\n"
   ]
  },
  {
   "cell_type": "code",
   "execution_count": null,
   "metadata": {},
   "outputs": [],
   "source": [
    "sub_record.dbxrefs\n"
   ]
  },
  {
   "cell_type": "markdown",
   "metadata": {},
   "source": [
    "\n",
    "The same point could be made about the record `id`, `name` and\n",
    "`description`, but for practicality these are preserved:\n",
    "\n"
   ]
  },
  {
   "cell_type": "code",
   "execution_count": null,
   "metadata": {},
   "outputs": [],
   "source": [
    "sub_record.id\n"
   ]
  },
  {
   "cell_type": "code",
   "execution_count": null,
   "metadata": {},
   "outputs": [],
   "source": [
    "sub_record.name\n"
   ]
  },
  {
   "cell_type": "code",
   "execution_count": null,
   "metadata": {},
   "outputs": [],
   "source": [
    "sub_record.description\n"
   ]
  },
  {
   "cell_type": "markdown",
   "metadata": {},
   "source": [
    "\n",
    "This illustrates the problem nicely though, our new sub-record is *not*\n",
    "the complete sequence of the plasmid, so the description is wrong! Let’s\n",
    "fix this and then view the sub-record as a reduced GenBank file using\n",
    "the `format` method described above in Section \\[sec:SeqRecord-format\\]:\n",
    "\n"
   ]
  },
  {
   "cell_type": "code",
   "execution_count": null,
   "metadata": {},
   "outputs": [],
   "source": [
    "sub_record.description = \"Yersinia pestis biovar Microtus str. 91001 plasmid pPCP1, partial.\"\n",
    "print(sub_record.format(\"genbank\"))\n"
   ]
  },
  {
   "cell_type": "markdown",
   "metadata": {},
   "source": [
    "\n",
    "See Sections \\[sec:FASTQ-slicing-off-primer\\]\n",
    "and \\[sec:FASTQ-slicing-off-adaptor\\] for some FASTQ examples where the\n",
    "per-letter annotations (the read quality scores) are also sliced.\n",
    "\n",
    "Adding SeqRecord objects {#sec:SeqRecord-addition}\n",
    "------------------------\n",
    "\n",
    "You can add `SeqRecord` objects together, giving a new `SeqRecord`. What\n",
    "is important here is that any common per-letter annotations are also\n",
    "added, all the features are preserved (with their locations adjusted),\n",
    "and any other common annotation is also kept (like the id, name and\n",
    "description).\n",
    "\n",
    "For an example with per-letter annotation, we’ll use the first record in\n",
    "a FASTQ file. Chapter \\[chapter:Bio.SeqIO\\] will explain the `SeqIO`\n",
    "functions:\n",
    "\n"
   ]
  },
  {
   "cell_type": "code",
   "execution_count": null,
   "metadata": {},
   "outputs": [],
   "source": [
    "from Bio import SeqIO\n",
    "record = next(SeqIO.parse(\"example.fastq\", \"fastq\"))\n",
    "len(record)\n"
   ]
  },
  {
   "cell_type": "code",
   "execution_count": null,
   "metadata": {},
   "outputs": [],
   "source": [
    "print(record.seq)\n"
   ]
  },
  {
   "cell_type": "markdown",
   "metadata": {},
   "source": [
    "\n"
   ]
  },
  {
   "cell_type": "code",
   "execution_count": null,
   "metadata": {},
   "outputs": [],
   "source": [
    "print(record.letter_annotations[\"phred_quality\"])\n"
   ]
  },
  {
   "cell_type": "markdown",
   "metadata": {},
   "source": [
    "\n",
    "Let’s suppose this was Roche 454 data, and that from other information\n",
    "you think the `TTT` should be only `TT`. We can make a new edited record\n",
    "by first slicing the `SeqRecord` before and after the “extra” third `T`:\n",
    "\n"
   ]
  },
  {
   "cell_type": "code",
   "execution_count": null,
   "metadata": {},
   "outputs": [],
   "source": [
    "left = record[:20]\n",
    "print(left.seq)\n"
   ]
  },
  {
   "cell_type": "code",
   "execution_count": null,
   "metadata": {},
   "outputs": [],
   "source": [
    "print(left.letter_annotations[\"phred_quality\"])\n"
   ]
  },
  {
   "cell_type": "code",
   "execution_count": null,
   "metadata": {},
   "outputs": [],
   "source": [
    "right = record[21:]\n",
    "print(right.seq)\n"
   ]
  },
  {
   "cell_type": "code",
   "execution_count": null,
   "metadata": {},
   "outputs": [],
   "source": [
    "print(right.letter_annotations[\"phred_quality\"])\n"
   ]
  },
  {
   "cell_type": "markdown",
   "metadata": {},
   "source": [
    "\n",
    "Now add the two parts together:\n",
    "\n"
   ]
  },
  {
   "cell_type": "code",
   "execution_count": null,
   "metadata": {},
   "outputs": [],
   "source": [
    "edited = left + right\n",
    "len(edited)\n"
   ]
  },
  {
   "cell_type": "code",
   "execution_count": null,
   "metadata": {},
   "outputs": [],
   "source": [
    "print(edited.seq)\n"
   ]
  },
  {
   "cell_type": "markdown",
   "metadata": {},
   "source": [
    "\n"
   ]
  },
  {
   "cell_type": "code",
   "execution_count": null,
   "metadata": {},
   "outputs": [],
   "source": [
    "print(edited.letter_annotations[\"phred_quality\"])\n"
   ]
  },
  {
   "cell_type": "markdown",
   "metadata": {},
   "source": [
    "\n",
    "Easy and intuitive? We hope so! You can make this shorter with just:\n",
    "\n"
   ]
  },
  {
   "cell_type": "code",
   "execution_count": null,
   "metadata": {},
   "outputs": [],
   "source": [
    "edited = record[:20] + record[21:]\n"
   ]
  },
  {
   "cell_type": "markdown",
   "metadata": {},
   "source": [
    "\n",
    "Now, for an example with features, we’ll use a GenBank file. Suppose you\n",
    "have a circular genome:\n",
    "\n"
   ]
  },
  {
   "cell_type": "code",
   "execution_count": null,
   "metadata": {},
   "outputs": [],
   "source": [
    "from Bio import SeqIO\n",
    "record = SeqIO.read(\"NC_005816.gb\", \"genbank\")\n"
   ]
  },
  {
   "cell_type": "markdown",
   "metadata": {},
   "source": [
    "\n"
   ]
  },
  {
   "cell_type": "code",
   "execution_count": null,
   "metadata": {},
   "outputs": [],
   "source": [
    "record\n"
   ]
  },
  {
   "cell_type": "markdown",
   "metadata": {},
   "source": [
    "\n"
   ]
  },
  {
   "cell_type": "code",
   "execution_count": null,
   "metadata": {},
   "outputs": [],
   "source": [
    "len(record)\n"
   ]
  },
  {
   "cell_type": "code",
   "execution_count": null,
   "metadata": {},
   "outputs": [],
   "source": [
    "len(record.features)\n"
   ]
  },
  {
   "cell_type": "code",
   "execution_count": null,
   "metadata": {},
   "outputs": [],
   "source": [
    "record.dbxrefs\n"
   ]
  },
  {
   "cell_type": "markdown",
   "metadata": {},
   "source": [
    "\n"
   ]
  },
  {
   "cell_type": "code",
   "execution_count": null,
   "metadata": {},
   "outputs": [],
   "source": [
    "record.annotations.keys()\n"
   ]
  },
  {
   "cell_type": "markdown",
   "metadata": {},
   "source": [
    "\n",
    "You can shift the origin like this:\n",
    "\n"
   ]
  },
  {
   "cell_type": "code",
   "execution_count": null,
   "metadata": {},
   "outputs": [],
   "source": [
    "shifted = record[2000:] + record[:2000]\n"
   ]
  },
  {
   "cell_type": "markdown",
   "metadata": {},
   "source": [
    "\n"
   ]
  },
  {
   "cell_type": "code",
   "execution_count": null,
   "metadata": {},
   "outputs": [],
   "source": [
    "shifted\n"
   ]
  },
  {
   "cell_type": "markdown",
   "metadata": {},
   "source": [
    "\n"
   ]
  },
  {
   "cell_type": "code",
   "execution_count": null,
   "metadata": {},
   "outputs": [],
   "source": [
    "len(shifted)\n"
   ]
  },
  {
   "cell_type": "markdown",
   "metadata": {},
   "source": [
    "\n",
    "Note that this isn’t perfect in that some annotation like the database\n",
    "cross references and one of the features (the source feature) have been\n",
    "lost:\n",
    "\n"
   ]
  },
  {
   "cell_type": "code",
   "execution_count": null,
   "metadata": {},
   "outputs": [],
   "source": [
    "len(shifted.features)\n"
   ]
  },
  {
   "cell_type": "code",
   "execution_count": null,
   "metadata": {},
   "outputs": [],
   "source": [
    "shifted.dbxrefs\n"
   ]
  },
  {
   "cell_type": "code",
   "execution_count": null,
   "metadata": {},
   "outputs": [],
   "source": [
    "shifted.annotations.keys()\n"
   ]
  },
  {
   "cell_type": "markdown",
   "metadata": {},
   "source": [
    "\n",
    "This is because the `SeqRecord` slicing step is cautious in what\n",
    "annotation it preserves (erroneously propagating annotation can cause\n",
    "major problems). If you want to keep the database cross references or\n",
    "the annotations dictionary, this must be done explicitly:\n",
    "\n"
   ]
  },
  {
   "cell_type": "code",
   "execution_count": null,
   "metadata": {},
   "outputs": [],
   "source": [
    "shifted.dbxrefs = record.dbxrefs[:]\n",
    "shifted.annotations = record.annotations.copy()\n",
    "shifted.dbxrefs\n"
   ]
  },
  {
   "cell_type": "code",
   "execution_count": null,
   "metadata": {},
   "outputs": [],
   "source": [
    "shifted.annotations.keys()\n"
   ]
  },
  {
   "cell_type": "markdown",
   "metadata": {},
   "source": [
    "\n",
    "Also note that in an example like this, you should probably change the\n",
    "record identifiers since the NCBI references refer to the *original*\n",
    "unmodified sequence.\n",
    "\n",
    "Reverse-complementing SeqRecord objects {#sec:SeqRecord-reverse-complement}\n",
    "---------------------------------------\n",
    "\n",
    "One of the new features in Biopython 1.57 was the `SeqRecord` object’s\n",
    "`reverse_complement` method. This tries to balance easy of use with\n",
    "worries about what to do with the annotation in the reverse complemented\n",
    "record.\n",
    "\n",
    "For the sequence, this uses the Seq object’s reverse complement method.\n",
    "Any features are transferred with the location and strand recalculated.\n",
    "Likewise any per-letter-annotation is also copied but reversed (which\n",
    "makes sense for typical examples like quality scores). However, transfer\n",
    "of most annotation is problematical.\n",
    "\n",
    "For instance, if the record ID was an accession, that accession should\n",
    "not really apply to the reverse complemented sequence, and transferring\n",
    "the identifier by default could easily cause subtle data corruption in\n",
    "downstream analysis. Therefore by default, the `SeqRecord`’s id, name,\n",
    "description, annotations and database cross references are all *not*\n",
    "transferred by default.\n",
    "\n",
    "The `SeqRecord` object’s `reverse_complement` method takes a number of\n",
    "optional arguments corresponding to properties of the record. Setting\n",
    "these arguments to `True` means copy the old values, while `False` means\n",
    "drop the old values and use the default value. You can alternatively\n",
    "provide the new desired value instead.\n",
    "\n",
    "Consider this example record:\n",
    "\n"
   ]
  },
  {
   "cell_type": "code",
   "execution_count": null,
   "metadata": {},
   "outputs": [],
   "source": [
    "from Bio import SeqIO\n",
    "record = SeqIO.read(\"NC_005816.gb\", \"genbank\")\n",
    "print(\"%s %i %i %i %i\" % (record.id, len(record), len(record.features), len(record.dbxrefs), len(record.annotations)))\n"
   ]
  },
  {
   "cell_type": "markdown",
   "metadata": {},
   "source": [
    "\n",
    "Here we take the reverse complement and specify a new identifier – but\n",
    "notice how most of the annotation is dropped (but not the features):\n",
    "\n"
   ]
  },
  {
   "cell_type": "code",
   "execution_count": null,
   "metadata": {},
   "outputs": [],
   "source": [
    "rc = record.reverse_complement(id=\"TESTING\")\n",
    "print(\"%s %i %i %i %i\" % (rc.id, len(rc), len(rc.features), len(rc.dbxrefs), len(rc.annotations)))\n"
   ]
  }
 ],
 "metadata": {},
 "nbformat": 4,
 "nbformat_minor": 0
}